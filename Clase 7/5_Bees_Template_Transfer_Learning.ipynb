{
  "cells": [
    {
      "cell_type": "markdown",
      "metadata": {
        "id": "view-in-github",
        "colab_type": "text"
      },
      "source": [
        "<a href=\"https://colab.research.google.com/github/MarianoChic09/MSc-ORT-Deep-Learning/blob/main/Clase%207/5_Bees_Template_Transfer_Learning.ipynb\" target=\"_parent\"><img src=\"https://colab.research.google.com/assets/colab-badge.svg\" alt=\"Open In Colab\"/></a>"
      ]
    },
    {
      "cell_type": "markdown",
      "metadata": {
        "_uuid": "63fa02cc6f3a2593013a53dcd20bdd9c54533efb",
        "id": "oXG5S-HzQwoO"
      },
      "source": [
        "# 1. Setup"
      ]
    },
    {
      "cell_type": "code",
      "source": [
        "from google.colab import drive\n",
        "drive.mount('/content/drive')"
      ],
      "metadata": {
        "id": "gcslBjUDpjKD"
      },
      "execution_count": null,
      "outputs": []
    },
    {
      "cell_type": "code",
      "source": [
        "%cd /content/drive/MyDrive/Colab Notebooks/Datasets/bees_dataset"
      ],
      "metadata": {
        "id": "C9KlTE3AplvE"
      },
      "execution_count": null,
      "outputs": []
    },
    {
      "cell_type": "markdown",
      "metadata": {
        "id": "btT_fGOXQwoR"
      },
      "source": [
        "## 1.1 Imports"
      ]
    },
    {
      "cell_type": "code",
      "execution_count": null,
      "metadata": {
        "_cell_guid": "b1076dfc-b9ad-4769-8c92-a6c4dae69d19",
        "_uuid": "8f2839f25d086af736a60e9eeb907d3b93b6e0e5",
        "id": "Yic6kH-SQwoS"
      },
      "outputs": [],
      "source": [
        "import numpy as np\n",
        "\n",
        "from tensorflow.keras.models import Sequential\n",
        "from tensorflow.keras.layers import Dense, Conv2D, Flatten, MaxPool2D, Dropout\n",
        "import tensorflow as tf\n",
        "\n",
        "import utils"
      ]
    },
    {
      "cell_type": "markdown",
      "metadata": {
        "_cell_guid": "b1076dfc-b9ad-4769-8c92-a6c4dae69d19",
        "_uuid": "8f2839f25d086af736a60e9eeb907d3b93b6e0e5",
        "id": "JVhe3EdPQwoT"
      },
      "source": [
        "## 1.2 Set random seeds"
      ]
    },
    {
      "cell_type": "code",
      "execution_count": null,
      "metadata": {
        "_cell_guid": "b1076dfc-b9ad-4769-8c92-a6c4dae69d19",
        "_uuid": "8f2839f25d086af736a60e9eeb907d3b93b6e0e5",
        "id": "d0TwKBKOQwoU"
      },
      "outputs": [],
      "source": [
        "np.random.seed(117)\n",
        "tf.random.set_seed(117)"
      ]
    },
    {
      "cell_type": "markdown",
      "metadata": {
        "_cell_guid": "b1076dfc-b9ad-4769-8c92-a6c4dae69d19",
        "_uuid": "8f2839f25d086af736a60e9eeb907d3b93b6e0e5",
        "id": "acLb2jV1QwoU"
      },
      "source": [
        "## 1.3 Global variables"
      ]
    },
    {
      "cell_type": "code",
      "execution_count": null,
      "metadata": {
        "_cell_guid": "b1076dfc-b9ad-4769-8c92-a6c4dae69d19",
        "_uuid": "8f2839f25d086af736a60e9eeb907d3b93b6e0e5",
        "id": "0EsGQ0FmQwoU"
      },
      "outputs": [],
      "source": [
        "img_width = 100\n",
        "img_height = 100\n",
        "img_channels = 3"
      ]
    },
    {
      "cell_type": "markdown",
      "metadata": {
        "_cell_guid": "79c7e3d0-c299-4dcb-8224-4455121ee9b0",
        "_uuid": "d629ff2d2480ee46fbb7e2d37f6b5fab8052498a",
        "id": "P4hOjJYvQwoV"
      },
      "source": [
        "# 2. Carga de datos"
      ]
    },
    {
      "cell_type": "code",
      "execution_count": null,
      "metadata": {
        "_uuid": "5d69ff10797c793abb7c5a05594f8d3463769995",
        "id": "nsyETEZTQwoW"
      },
      "outputs": [],
      "source": [
        "bees, bees_test_for_evaluation = utils.read_data()"
      ]
    },
    {
      "cell_type": "code",
      "execution_count": null,
      "metadata": {
        "_uuid": "5d69ff10797c793abb7c5a05594f8d3463769995",
        "id": "jRWzKiHKQwoX",
        "scrolled": true
      },
      "outputs": [],
      "source": [
        "bees.head()"
      ]
    },
    {
      "cell_type": "code",
      "execution_count": null,
      "metadata": {
        "id": "aUn4HwxSQwoY"
      },
      "outputs": [],
      "source": [
        "bees_test_for_evaluation.head()"
      ]
    },
    {
      "cell_type": "markdown",
      "metadata": {
        "_uuid": "1419a5e71da60223177d900fd0e432e46bfa67a0",
        "id": "x26--BG5QwoY"
      },
      "source": [
        "# 3. Análisis exploratorio de datos"
      ]
    },
    {
      "cell_type": "markdown",
      "metadata": {
        "id": "TfOPjLlkQwoY"
      },
      "source": [
        "## 3.1 Análisis descriptivo: Distribuciones, Scatterplots, Barplots..."
      ]
    },
    {
      "cell_type": "code",
      "execution_count": null,
      "metadata": {
        "id": "gC-lKAZDQwoZ"
      },
      "outputs": [],
      "source": [
        "utils.value_counts(bees, 'subspecies')"
      ]
    },
    {
      "cell_type": "markdown",
      "metadata": {
        "_uuid": "d750593ed655926232fabd8653ebadde62b19b31",
        "id": "gBvzXNbXQwoZ"
      },
      "source": [
        "## 3.2 Ver imágenes"
      ]
    },
    {
      "cell_type": "code",
      "execution_count": null,
      "metadata": {
        "id": "7CVFVFzeQwoZ"
      },
      "outputs": [],
      "source": [
        "utils.plot_images(bees, 'location', [0, 18, 24, 38, 45])"
      ]
    },
    {
      "cell_type": "markdown",
      "metadata": {
        "_uuid": "79fb4788f90b3603c8b71472f44647b808bab25e",
        "id": "0_KTALKNQwoa"
      },
      "source": [
        "# 4. Clasificación\n",
        "\n",
        "## 4.1. Data preprocessing\n",
        "### 4.1.1 Particionamiento"
      ]
    },
    {
      "cell_type": "code",
      "execution_count": null,
      "metadata": {
        "_uuid": "a167115aa4fcc937097a1c5c8899b909f33fb2d5",
        "id": "xy4LjJijQwoa"
      },
      "outputs": [],
      "source": [
        "train_bees, val_bees, test_bees = utils.split(bees)"
      ]
    },
    {
      "cell_type": "code",
      "source": [
        "train_bees"
      ],
      "metadata": {
        "id": "KAAMh_yV9aZp"
      },
      "execution_count": null,
      "outputs": []
    },
    {
      "cell_type": "markdown",
      "metadata": {
        "_uuid": "e9650143e38ccda561450d08d241cb7ce51c89e8",
        "id": "ulGPGZ9DQwoa"
      },
      "source": [
        "\n",
        "### 4.1.2 Carga de imágenes"
      ]
    },
    {
      "cell_type": "code",
      "source": [
        "import os\n",
        "\n",
        "os.chdir(\"/content/drive/MyDrive/Colab Notebooks/Datasets/bees_dataset\")\n"
      ],
      "metadata": {
        "id": "bNzZiNaA9zCD"
      },
      "execution_count": null,
      "outputs": []
    },
    {
      "cell_type": "code",
      "source": [
        "print(os.getcwd())\n"
      ],
      "metadata": {
        "id": "ssoy8VWp96TY"
      },
      "execution_count": null,
      "outputs": []
    },
    {
      "cell_type": "code",
      "source": [
        "print(os.listdir())\n",
        "os.chdir(\"./data/imgs\")\n",
        "print(os.listdir())\n",
        "os.chdir(\"../../\")"
      ],
      "metadata": {
        "id": "R_b3Nn6R-IJC"
      },
      "execution_count": null,
      "outputs": []
    },
    {
      "cell_type": "code",
      "source": [
        "# os.chdir(\"../../\")\n",
        "# print(os.listdir())\n"
      ],
      "metadata": {
        "id": "xOUXO89g_A2C"
      },
      "execution_count": null,
      "outputs": []
    },
    {
      "cell_type": "code",
      "execution_count": null,
      "metadata": {
        "_uuid": "dcda4508b7424518d4c11a0e4b7ad2a05f803601",
        "id": "Anm7kk9dQwoa"
      },
      "outputs": [],
      "source": [
        "train_X, val_X, test_X, train_y, val_y, test_y = utils.load_images_and_target(train_bees,\n",
        "                                                                              val_bees,\n",
        "                                                                              test_bees,\n",
        "                                                                              'subspecies',\n",
        "                                                                              img_width,\n",
        "                                                                              img_height,\n",
        "                                                                              img_channels)"
      ]
    },
    {
      "cell_type": "code",
      "execution_count": null,
      "metadata": {
        "id": "hBpdE2oJQwob"
      },
      "outputs": [],
      "source": [
        "optimizer = 'sgd'\n",
        "loss = 'categorical_crossentropy'"
      ]
    },
    {
      "cell_type": "code",
      "execution_count": null,
      "metadata": {
        "_uuid": "053d12032f6d113094617826f5f78bba8555c115",
        "id": "ZreSxY3jQwob"
      },
      "outputs": [],
      "source": [
        "model1 = Sequential()\n",
        "model1.add(Flatten(input_shape =(img_height, img_width, img_channels)))\n",
        "model1.add(Dense(train_y.columns.size, activation = 'softmax'))\n",
        "model1.compile(optimizer = optimizer, loss = loss, metrics = ['accuracy'])"
      ]
    },
    {
      "cell_type": "markdown",
      "metadata": {
        "id": "1iyYrMeXQwob"
      },
      "source": [
        "## 4.3 Entrenamiento"
      ]
    },
    {
      "cell_type": "markdown",
      "metadata": {
        "id": "1y99Q6AkQwob"
      },
      "source": [
        "### 4.2.2 Parámetros de transformación de imágenes (data augmentation)"
      ]
    },
    {
      "cell_type": "code",
      "execution_count": null,
      "metadata": {
        "id": "2kANj43YQwob"
      },
      "outputs": [],
      "source": [
        "rotation_range = 15      # rotación aleatoria en grados entre 0 a rotation_range\n",
        "zoom_range = 0.1         # zoom aleatorio\n",
        "width_shift_range = 0.1  # desplazamiento horizontal aleatorio (fracción del total)\n",
        "height_shift_range = 0.1 # desplazamiento vertical aleatorio (fracción del total)\n",
        "horizontal_flip = True   # transposición horizontal\n",
        "vertical_flip = True     # transposición horizontal"
      ]
    },
    {
      "cell_type": "code",
      "execution_count": null,
      "metadata": {
        "_uuid": "053d12032f6d113094617826f5f78bba8555c115",
        "id": "ntCHkSQJQwoc"
      },
      "outputs": [],
      "source": [
        "batch_size = 10\n",
        "epochs = 5\n",
        "steps_per_epoch = 10\n",
        "patience = 10\n",
        "class_weights = utils.class_weights(bees, 'subspecies')"
      ]
    },
    {
      "cell_type": "code",
      "execution_count": null,
      "metadata": {
        "id": "YPhnNDYDQwoc"
      },
      "outputs": [],
      "source": [
        "class_weights"
      ]
    },
    {
      "cell_type": "code",
      "execution_count": null,
      "metadata": {
        "_uuid": "053d12032f6d113094617826f5f78bba8555c115",
        "id": "rlLcUoNBQwoc"
      },
      "outputs": [],
      "source": [
        "training1, model1 = utils.train(model1,\n",
        "                train_X,\n",
        "                train_y,\n",
        "                batch_size = batch_size,\n",
        "                epochs = epochs,\n",
        "                validation_data_X = val_X,\n",
        "                validation_data_y = val_y,\n",
        "                steps_per_epoch = steps_per_epoch,\n",
        "                rotation_range = rotation_range,\n",
        "                zoom_range = zoom_range,\n",
        "                width_shift_range = width_shift_range,\n",
        "                height_shift_range = height_shift_range,\n",
        "                horizontal_flip = horizontal_flip,\n",
        "                vertical_flip = vertical_flip,\n",
        "                patience = patience,\n",
        "                class_weights = class_weights\n",
        "                               )"
      ]
    },
    {
      "cell_type": "markdown",
      "metadata": {
        "_uuid": "ac639c24adf884c806ce1ab985fe7db7e9aab26a",
        "id": "racq5zNsQwoc"
      },
      "source": [
        "## 4.3 Evaluación del modelo"
      ]
    },
    {
      "cell_type": "code",
      "execution_count": null,
      "metadata": {
        "_uuid": "b096e119c62a41dc227ad9f12131ca0c28dbed8b",
        "id": "bwSDz8nSQwoc"
      },
      "outputs": [],
      "source": [
        "utils.eval_model(training1, model1, test_X, test_y, 'subspecies')"
      ]
    },
    {
      "cell_type": "markdown",
      "metadata": {
        "id": "u4hBsoQoQwoc"
      },
      "source": [
        "## 4.4 Evaluación y generación de archivo para competencia Kaggle"
      ]
    },
    {
      "cell_type": "code",
      "execution_count": null,
      "metadata": {
        "id": "AVC9MKbFQwod"
      },
      "outputs": [],
      "source": [
        " df_subspecies = utils.load_test_and_generate_prediction_file(model1, img_width, img_height, img_channels)"
      ]
    },
    {
      "cell_type": "code",
      "execution_count": null,
      "metadata": {
        "id": "vHv0yB4EQwod"
      },
      "outputs": [],
      "source": [
        "df_subspecies"
      ]
    },
    {
      "cell_type": "markdown",
      "metadata": {
        "id": "fl3JS2paTZvN"
      },
      "source": [
        "# Transfer Learning"
      ]
    },
    {
      "cell_type": "markdown",
      "metadata": {
        "id": "r1T8uyxXUFAZ"
      },
      "source": [
        "## Qué es Transfer Learning?\n",
        "\n",
        "Transfer learning o aprendizaje por transferencia es un problema de investigación en el aprendizaje automático que se centra en almacenar el conocimiento adquirido mientras se resuelve un problema y se aplica a un problema diferente pero relacionado."
      ]
    },
    {
      "cell_type": "markdown",
      "metadata": {
        "id": "M2fFr2fDT09U"
      },
      "source": [
        "[Keras Models](https://keras.io/api/applications/)"
      ]
    },
    {
      "cell_type": "code",
      "execution_count": null,
      "metadata": {
        "id": "36l4mc_ASjQi"
      },
      "outputs": [],
      "source": [
        "# example of loading the vgg16 model\n",
        "from tensorflow.keras.applications.vgg16 import VGG16\n",
        "# load model\n",
        "\n",
        "model = VGG16(input_shape=(img_height, img_width, img_channels), include_top=False)\n",
        "# model = VGG16(input_shape=(224, 224, 3), include_top=True)\n",
        "\n",
        "# summarize the model\n",
        "model.summary()"
      ]
    },
    {
      "cell_type": "code",
      "source": [
        "for layer in model.layers[:-3]:\n",
        "  layer.trainable = False\n",
        "model.summary()"
      ],
      "metadata": {
        "id": "-tGgeHiXs9ar"
      },
      "execution_count": null,
      "outputs": []
    },
    {
      "cell_type": "code",
      "execution_count": null,
      "metadata": {
        "id": "OqjmTPimQwod"
      },
      "outputs": [],
      "source": [
        "from tensorflow.keras.models import Model\n",
        "\n",
        "flat1 = Flatten()(model.layers[-1].output)\n",
        "class1 = Dense(1024, activation='relu')(flat1)\n",
        "output = Dense(7, activation='softmax')(class1)\n",
        "\n",
        "# define new model\n",
        "model = Model(inputs=model.inputs, outputs=output)\n",
        "\n",
        "optimizer = 'sgd'\n",
        "loss = 'categorical_crossentropy'\n",
        "\n",
        "# compile the model\n",
        "model.compile(optimizer = optimizer, loss = loss, metrics = ['accuracy'])"
      ]
    },
    {
      "cell_type": "code",
      "execution_count": null,
      "metadata": {
        "id": "BiyHbHo9ZCeK"
      },
      "outputs": [],
      "source": [
        "model.summary()"
      ]
    },
    {
      "cell_type": "markdown",
      "metadata": {
        "id": "v8JmKOQXdxAD"
      },
      "source": [
        "## Entrenamiento"
      ]
    },
    {
      "cell_type": "markdown",
      "metadata": {
        "id": "_0o5He4JdxAK"
      },
      "source": [
        "Parámetros de transformación de imágenes (data augmentation)"
      ]
    },
    {
      "cell_type": "code",
      "execution_count": null,
      "metadata": {
        "id": "ALScY_bsdxAK"
      },
      "outputs": [],
      "source": [
        "rotation_range = 15      # rotación aleatoria en grados entre 0 a rotation_range\n",
        "zoom_range = 0.1         # zoom aleatorio\n",
        "width_shift_range = 0.1  # desplazamiento horizontal aleatorio (fracción del total)\n",
        "height_shift_range = 0.1 # desplazamiento vertical aleatorio (fracción del total)\n",
        "horizontal_flip = True   # transposición horizontal\n",
        "vertical_flip = True     # transposición horizontal"
      ]
    },
    {
      "cell_type": "code",
      "source": [
        "from sklearn.utils.class_weight import compute_sample_weight\n",
        "\n",
        "def computing_class_weights(df, class_name):\n",
        "    class_labels = {name: index for index, name in enumerate(np.unique(df[class_name]))}\n",
        "    y_integers = np.array([class_labels[name] for name in df[class_name]])\n",
        "    weights = compute_sample_weight(class_weight='balanced', y=y_integers)\n",
        "\n",
        "    weight_dict = {}\n",
        "    for class_index in class_labels.values():\n",
        "        weight_dict[class_index] = weights[y_integers == class_index].mean()\n",
        "\n",
        "    return weight_dict"
      ],
      "metadata": {
        "id": "B5qvREQ85T_F"
      },
      "execution_count": null,
      "outputs": []
    },
    {
      "cell_type": "code",
      "execution_count": null,
      "metadata": {
        "_uuid": "053d12032f6d113094617826f5f78bba8555c115",
        "id": "Ln2utLxYdxAK"
      },
      "outputs": [],
      "source": [
        "batch_size = 10\n",
        "epochs = 500\n",
        "steps_per_epoch = 10\n",
        "patience = 100\n",
        "\n",
        "class_weights = computing_class_weights(bees, 'subspecies')\n"
      ]
    },
    {
      "cell_type": "code",
      "execution_count": null,
      "metadata": {
        "id": "m3zHgoDkdxAK"
      },
      "outputs": [],
      "source": [
        "class_weights"
      ]
    },
    {
      "cell_type": "code",
      "execution_count": null,
      "metadata": {
        "_uuid": "053d12032f6d113094617826f5f78bba8555c115",
        "id": "kKxbG7cEdxAK"
      },
      "outputs": [],
      "source": [
        "training_vgg16, model = utils.train(model,\n",
        "                train_X,\n",
        "                train_y,\n",
        "                batch_size = batch_size,\n",
        "                epochs = epochs,\n",
        "                validation_data_X = val_X,\n",
        "                validation_data_y = val_y,\n",
        "                steps_per_epoch = steps_per_epoch,\n",
        "                rotation_range = rotation_range,\n",
        "                zoom_range = zoom_range,\n",
        "                width_shift_range = width_shift_range,\n",
        "                height_shift_range = height_shift_range,\n",
        "                horizontal_flip = horizontal_flip,\n",
        "                vertical_flip = vertical_flip,\n",
        "                patience = patience,\n",
        "                class_weights = class_weights\n",
        "                               )"
      ]
    },
    {
      "cell_type": "code",
      "source": [
        "trainable_params = ((3*3*512)*1024+1024)+(1024*7+7)\n",
        "trainable_params"
      ],
      "metadata": {
        "id": "k9I3X1RFsTIE"
      },
      "execution_count": null,
      "outputs": []
    },
    {
      "cell_type": "markdown",
      "metadata": {
        "_uuid": "ac639c24adf884c806ce1ab985fe7db7e9aab26a",
        "id": "RzVAN-zMeMRA"
      },
      "source": [
        "## Evaluación del modelo"
      ]
    },
    {
      "cell_type": "markdown",
      "source": [
        "# Imbalanced Learning\n"
      ],
      "metadata": {
        "id": "0srZY51uBFwS"
      }
    },
    {
      "cell_type": "code",
      "execution_count": null,
      "metadata": {
        "_uuid": "b096e119c62a41dc227ad9f12131ca0c28dbed8b",
        "id": "C6yla0_DeMRH"
      },
      "outputs": [],
      "source": [
        "utils.eval_model(training_vgg16, model, test_X, test_y, 'subspecies')"
      ]
    },
    {
      "cell_type": "markdown",
      "source": [
        "# Archivo para Kaggle"
      ],
      "metadata": {
        "id": "83y0x2WEL1gG"
      }
    },
    {
      "cell_type": "code",
      "source": [
        "df_subspecies = utils.load_test_and_generate_prediction_file(model1, img_width, img_height, img_channels)\n",
        "df_subspecies"
      ],
      "metadata": {
        "id": "FJv4DQrZL4Cu"
      },
      "execution_count": null,
      "outputs": []
    },
    {
      "cell_type": "code",
      "source": [
        "minority_images\n"
      ],
      "metadata": {
        "id": "4w9UkeXR3kO4"
      },
      "execution_count": null,
      "outputs": []
    },
    {
      "cell_type": "code",
      "execution_count": null,
      "metadata": {
        "id": "9w21AErqZLbD"
      },
      "outputs": [],
      "source": [
        "from tensorflow.keras.preprocessing.image import ImageDataGenerator\n",
        "\n",
        "# Create a new ImageDataGenerator with the desired augmentations\n",
        "datagen = ImageDataGenerator(\n",
        "    rotation_range=20,\n",
        "    width_shift_range=0.2,\n",
        "    height_shift_range=0.2,\n",
        "    shear_range=0.2,\n",
        "    zoom_range=0.2,\n",
        "    horizontal_flip=True,\n",
        "    fill_mode='nearest'\n",
        ")\n",
        "\n",
        "# Assuming minority_images is a numpy array of images from the minority class\n",
        "augmented_images = []\n",
        "num_augmentations_per_image = 10  # You can adjust this value based on how many augmented images you want per original image\n",
        "\n",
        "for img in minority_images:\n",
        "    img = img.reshape((1,) + img.shape)  # Reshape the image\n",
        "    i = 0\n",
        "    for batch in datagen.flow(img, batch_size=1):\n",
        "        augmented_images.append(batch[0])\n",
        "        i += 1\n",
        "        if i >= num_augmentations_per_image:\n",
        "            break  # Avoid generator to loop indefinitely\n",
        "\n",
        "# Now, `augmented_images` will contain the augmented images, and you can add these images to your training dataset."
      ]
    }
  ],
  "metadata": {
    "accelerator": "GPU",
    "colab": {
      "name": "Bees_Template_Transfer_Learning.ipynb",
      "private_outputs": true,
      "provenance": [],
      "machine_shape": "hm",
      "gpuType": "T4",
      "include_colab_link": true
    },
    "kernelspec": {
      "display_name": "Python 3",
      "name": "python3"
    },
    "language_info": {
      "codemirror_mode": {
        "name": "ipython",
        "version": 3
      },
      "file_extension": ".py",
      "mimetype": "text/x-python",
      "name": "python",
      "nbconvert_exporter": "python",
      "pygments_lexer": "ipython3",
      "version": "3.7.12"
    }
  },
  "nbformat": 4,
  "nbformat_minor": 0
}