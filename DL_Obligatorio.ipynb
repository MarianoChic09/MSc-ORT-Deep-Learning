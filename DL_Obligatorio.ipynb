{
  "cells": [
    {
      "cell_type": "markdown",
      "metadata": {
        "id": "view-in-github",
        "colab_type": "text"
      },
      "source": [
        "<a href=\"https://colab.research.google.com/github/MarianoChic09/MSc-ORT-Deep-Learning/blob/main/DL_Obligatorio.ipynb\" target=\"_parent\"><img src=\"https://colab.research.google.com/assets/colab-badge.svg\" alt=\"Open In Colab\"/></a>"
      ]
    },
    {
      "cell_type": "markdown",
      "source": [
        "![AIRBNB](https://www.stevenridercpa.au/wp-content/uploads/2022/09/airbnb-tax.jpeg)"
      ],
      "metadata": {
        "id": "Qvw4Fb6NN2AZ"
      }
    },
    {
      "cell_type": "markdown",
      "source": [
        "# Obligatorio Deep Learning"
      ],
      "metadata": {
        "id": "3S4N_09LN4Cy"
      }
    },
    {
      "cell_type": "markdown",
      "source": [
        "# Obligatorio de Deep Learning\n",
        "## Semestre 2 - 2023\n",
        "-------"
      ],
      "metadata": {
        "id": "Z9tUZ2tYN-oO"
      }
    },
    {
      "cell_type": "markdown",
      "source": [
        "## Problema\n",
        "\n",
        "Se presenta un dataset que contiene información de alojamientos publicados en AirBnB con sus respectivos precios. El tamaño del dataset de train es de 1.5 Gb aproximadamente, y 0.5 Gb el de test. Este cuenta con 84 variables predictoras que se podrán utilizar como consideren adecuado.\n",
        "\n",
        "El objetivo es asignar el precio correcto a los alojamientos listados.\n",
        "\n",
        "Además del dataset se les provee esta notebook conteniendo el script de carga de datos y un modelo baseline que corresponde a una arquitectura feed forward.\n",
        "\n",
        "------"
      ],
      "metadata": {
        "id": "-sP6g5Y_OCYz"
      }
    },
    {
      "cell_type": "markdown",
      "source": [
        "## Consigna\n",
        "\n",
        "### A) <u>Participación en Competencia Kaggle</u>:\n",
        "El objetivo de este punto es participar en la competencia de Kaggle y obtener como mínimo un Mean Absolute Error inferior a 70 puntos. [->Link a la competencia<-](https://www.kaggle.com/t/69c648e3aa214d1f812bf2314c8d4ffa).\n",
        "\n",
        "### B) <u>Utilización de Grid Search (o equivalente)</u>:\n",
        "Para cumplir con la busqueda de modelos óptimos se debe realizar un grid search lo más abarcativo y metódico posible. Recomendamos enfáticamente [Weights and Biases](https://wandb.ai/site)\n",
        "\n",
        "### C) <u>Se debe a su vez investigar e implementar las siguientes técnicas</u>:\n",
        "#### 1. [Batch Normalization](https://machinelearningmastery.com/how-to-accelerate-learning-of-deep-neural-networks-with-batch-normalization/)\n",
        "#### 2. [Gradient Normalization y/o Gradient Clipping](https://machinelearningmastery.com/how-to-avoid-exploding-gradients-in-neural-networks-with-gradient-clipping/)\n",
        "\n",
        "\n",
        "Además como en todas las tareas se evaluará la prolijidad de la entrega, el preprocesamiento de datos, visualizaciones y exploración de técnicas alternativas."
      ],
      "metadata": {
        "id": "eZbqx1dJOFKr"
      }
    },
    {
      "cell_type": "code",
      "execution_count": 1,
      "metadata": {
        "colab": {
          "base_uri": "https://localhost:8080/"
        },
        "id": "TeJvT8iRPC4l",
        "outputId": "ca8ed8ff-d982-4f84-aa36-26a55e68cbac"
      },
      "outputs": [
        {
          "output_type": "stream",
          "name": "stdout",
          "text": [
            "Mounted at /content/drive\n"
          ]
        }
      ],
      "source": [
        "from google.colab import drive\n",
        "drive.mount('/content/drive')"
      ]
    },
    {
      "cell_type": "code",
      "execution_count": 2,
      "metadata": {
        "colab": {
          "base_uri": "https://localhost:8080/"
        },
        "id": "rtbvD_8uPqKQ",
        "outputId": "2b5e3f2f-8533-469b-d331-072b864a73f5"
      },
      "outputs": [
        {
          "output_type": "stream",
          "name": "stdout",
          "text": [
            "Collecting langdetect\n",
            "  Downloading langdetect-1.0.9.tar.gz (981 kB)\n",
            "\u001b[?25l     \u001b[90m━━━━━━━━━━━━━━━━━━━━━━━━━━━━━━━━━━━━━━━━\u001b[0m \u001b[32m0.0/981.5 kB\u001b[0m \u001b[31m?\u001b[0m eta \u001b[36m-:--:--\u001b[0m\r\u001b[2K     \u001b[91m━━━━\u001b[0m\u001b[91m╸\u001b[0m\u001b[90m━━━━━━━━━━━━━━━━━━━━━━━━━━━━━━━━━━━\u001b[0m \u001b[32m112.6/981.5 kB\u001b[0m \u001b[31m3.2 MB/s\u001b[0m eta \u001b[36m0:00:01\u001b[0m\r\u001b[2K     \u001b[90m━━━━━━━━━━━━━━━━━━━━━━━━━━━━━━━━━━━━━━━━\u001b[0m \u001b[32m981.5/981.5 kB\u001b[0m \u001b[31m18.3 MB/s\u001b[0m eta \u001b[36m0:00:00\u001b[0m\n",
            "\u001b[?25h  Preparing metadata (setup.py) ... \u001b[?25l\u001b[?25hdone\n",
            "Requirement already satisfied: six in /usr/local/lib/python3.10/dist-packages (from langdetect) (1.16.0)\n",
            "Building wheels for collected packages: langdetect\n",
            "  Building wheel for langdetect (setup.py) ... \u001b[?25l\u001b[?25hdone\n",
            "  Created wheel for langdetect: filename=langdetect-1.0.9-py3-none-any.whl size=993224 sha256=b2e3631c6a568c7f637a43f4a0d4519fc285dffa4d0ad87db020c95d0f32930b\n",
            "  Stored in directory: /root/.cache/pip/wheels/95/03/7d/59ea870c70ce4e5a370638b5462a7711ab78fba2f655d05106\n",
            "Successfully built langdetect\n",
            "Installing collected packages: langdetect\n",
            "Successfully installed langdetect-1.0.9\n",
            "Requirement already satisfied: tqdm in /usr/local/lib/python3.10/dist-packages (4.66.1)\n",
            "Collecting wandb\n",
            "  Downloading wandb-0.16.0-py3-none-any.whl (2.1 MB)\n",
            "\u001b[2K     \u001b[90m━━━━━━━━━━━━━━━━━━━━━━━━━━━━━━━━━━━━━━━━\u001b[0m \u001b[32m2.1/2.1 MB\u001b[0m \u001b[31m28.9 MB/s\u001b[0m eta \u001b[36m0:00:00\u001b[0m\n",
            "\u001b[?25hRequirement already satisfied: Click!=8.0.0,>=7.1 in /usr/local/lib/python3.10/dist-packages (from wandb) (8.1.7)\n",
            "Collecting GitPython!=3.1.29,>=1.0.0 (from wandb)\n",
            "  Downloading GitPython-3.1.40-py3-none-any.whl (190 kB)\n",
            "\u001b[2K     \u001b[90m━━━━━━━━━━━━━━━━━━━━━━━━━━━━━━━━━━━━━━━━\u001b[0m \u001b[32m190.6/190.6 kB\u001b[0m \u001b[31m24.9 MB/s\u001b[0m eta \u001b[36m0:00:00\u001b[0m\n",
            "\u001b[?25hRequirement already satisfied: requests<3,>=2.0.0 in /usr/local/lib/python3.10/dist-packages (from wandb) (2.31.0)\n",
            "Requirement already satisfied: psutil>=5.0.0 in /usr/local/lib/python3.10/dist-packages (from wandb) (5.9.5)\n",
            "Collecting sentry-sdk>=1.0.0 (from wandb)\n",
            "  Downloading sentry_sdk-1.37.1-py2.py3-none-any.whl (251 kB)\n",
            "\u001b[2K     \u001b[90m━━━━━━━━━━━━━━━━━━━━━━━━━━━━━━━━━━━━━━━━\u001b[0m \u001b[32m251.7/251.7 kB\u001b[0m \u001b[31m30.8 MB/s\u001b[0m eta \u001b[36m0:00:00\u001b[0m\n",
            "\u001b[?25hCollecting docker-pycreds>=0.4.0 (from wandb)\n",
            "  Downloading docker_pycreds-0.4.0-py2.py3-none-any.whl (9.0 kB)\n",
            "Requirement already satisfied: PyYAML in /usr/local/lib/python3.10/dist-packages (from wandb) (6.0.1)\n",
            "Collecting setproctitle (from wandb)\n",
            "  Downloading setproctitle-1.3.3-cp310-cp310-manylinux_2_5_x86_64.manylinux1_x86_64.manylinux_2_17_x86_64.manylinux2014_x86_64.whl (30 kB)\n",
            "Requirement already satisfied: setuptools in /usr/local/lib/python3.10/dist-packages (from wandb) (67.7.2)\n",
            "Requirement already satisfied: appdirs>=1.4.3 in /usr/local/lib/python3.10/dist-packages (from wandb) (1.4.4)\n",
            "Requirement already satisfied: protobuf!=4.21.0,<5,>=3.19.0 in /usr/local/lib/python3.10/dist-packages (from wandb) (3.20.3)\n",
            "Requirement already satisfied: six>=1.4.0 in /usr/local/lib/python3.10/dist-packages (from docker-pycreds>=0.4.0->wandb) (1.16.0)\n",
            "Collecting gitdb<5,>=4.0.1 (from GitPython!=3.1.29,>=1.0.0->wandb)\n",
            "  Downloading gitdb-4.0.11-py3-none-any.whl (62 kB)\n",
            "\u001b[2K     \u001b[90m━━━━━━━━━━━━━━━━━━━━━━━━━━━━━━━━━━━━━━━━\u001b[0m \u001b[32m62.7/62.7 kB\u001b[0m \u001b[31m9.7 MB/s\u001b[0m eta \u001b[36m0:00:00\u001b[0m\n",
            "\u001b[?25hRequirement already satisfied: charset-normalizer<4,>=2 in /usr/local/lib/python3.10/dist-packages (from requests<3,>=2.0.0->wandb) (3.3.2)\n",
            "Requirement already satisfied: idna<4,>=2.5 in /usr/local/lib/python3.10/dist-packages (from requests<3,>=2.0.0->wandb) (3.4)\n",
            "Requirement already satisfied: urllib3<3,>=1.21.1 in /usr/local/lib/python3.10/dist-packages (from requests<3,>=2.0.0->wandb) (2.0.7)\n",
            "Requirement already satisfied: certifi>=2017.4.17 in /usr/local/lib/python3.10/dist-packages (from requests<3,>=2.0.0->wandb) (2023.7.22)\n",
            "Collecting smmap<6,>=3.0.1 (from gitdb<5,>=4.0.1->GitPython!=3.1.29,>=1.0.0->wandb)\n",
            "  Downloading smmap-5.0.1-py3-none-any.whl (24 kB)\n",
            "Installing collected packages: smmap, setproctitle, sentry-sdk, docker-pycreds, gitdb, GitPython, wandb\n",
            "Successfully installed GitPython-3.1.40 docker-pycreds-0.4.0 gitdb-4.0.11 sentry-sdk-1.37.1 setproctitle-1.3.3 smmap-5.0.1 wandb-0.16.0\n"
          ]
        }
      ],
      "source": [
        "!pip install langdetect\n",
        "!pip install tqdm\n",
        "!pip install wandb"
      ]
    },
    {
      "cell_type": "markdown",
      "metadata": {
        "id": "jIXHpzJcT0kb"
      },
      "source": [
        "# Installing cudf"
      ]
    },
    {
      "cell_type": "code",
      "execution_count": 3,
      "metadata": {
        "colab": {
          "base_uri": "https://localhost:8080/"
        },
        "id": "67T0090Jk2KL",
        "outputId": "6a67a9b1-4b6f-42c6-fc74-6d1589d1a047"
      },
      "outputs": [
        {
          "output_type": "stream",
          "name": "stdout",
          "text": [
            "Sun Nov 26 02:59:33 2023       \n",
            "+-----------------------------------------------------------------------------+\n",
            "| NVIDIA-SMI 525.105.17   Driver Version: 525.105.17   CUDA Version: 12.0     |\n",
            "|-------------------------------+----------------------+----------------------+\n",
            "| GPU  Name        Persistence-M| Bus-Id        Disp.A | Volatile Uncorr. ECC |\n",
            "| Fan  Temp  Perf  Pwr:Usage/Cap|         Memory-Usage | GPU-Util  Compute M. |\n",
            "|                               |                      |               MIG M. |\n",
            "|===============================+======================+======================|\n",
            "|   0  NVIDIA A100-SXM...  Off  | 00000000:00:04.0 Off |                    0 |\n",
            "| N/A   33C    P0    49W / 400W |      0MiB / 40960MiB |      0%      Default |\n",
            "|                               |                      |             Disabled |\n",
            "+-------------------------------+----------------------+----------------------+\n",
            "                                                                               \n",
            "+-----------------------------------------------------------------------------+\n",
            "| Processes:                                                                  |\n",
            "|  GPU   GI   CI        PID   Type   Process name                  GPU Memory |\n",
            "|        ID   ID                                                   Usage      |\n",
            "|=============================================================================|\n",
            "|  No running processes found                                                 |\n",
            "+-----------------------------------------------------------------------------+\n"
          ]
        }
      ],
      "source": [
        "!nvidia-smi"
      ]
    },
    {
      "cell_type": "code",
      "execution_count": 4,
      "metadata": {
        "colab": {
          "base_uri": "https://localhost:8080/"
        },
        "id": "B0C8IV5TQnjN",
        "outputId": "ecc18dee-7517-4f51-9db6-ed68e586155a"
      },
      "outputs": [
        {
          "output_type": "stream",
          "name": "stdout",
          "text": [
            "Cloning into 'rapidsai-csp-utils'...\n",
            "remote: Enumerating objects: 395, done.\u001b[K\n",
            "remote: Counting objects: 100% (126/126), done.\u001b[K\n",
            "remote: Compressing objects: 100% (75/75), done.\u001b[K\n",
            "remote: Total 395 (delta 92), reused 53 (delta 51), pack-reused 269\u001b[K\n",
            "Receiving objects: 100% (395/395), 108.50 KiB | 18.08 MiB/s, done.\n",
            "Resolving deltas: 100% (194/194), done.\n",
            "Collecting pynvml\n",
            "  Downloading pynvml-11.5.0-py3-none-any.whl (53 kB)\n",
            "     ━━━━━━━━━━━━━━━━━━━━━━━━━━━━━━━━━━━━━━━━ 53.1/53.1 kB 2.0 MB/s eta 0:00:00\n",
            "Installing collected packages: pynvml\n",
            "Successfully installed pynvml-11.5.0\n",
            "***********************************************************************\n",
            "Woo! Your instance has the right kind of GPU, a NVIDIA A100-SXM4-40GB!\n",
            "We will now install RAPIDS via pip!  Please stand by, should be quick...\n",
            "***********************************************************************\n",
            "\n"
          ]
        }
      ],
      "source": [
        "# This get the RAPIDS-Colab install files and test check your GPU.  Run this and the next cell only.\n",
        "# Please read the output of this cell.  If your Colab Instance is not RAPIDS compatible, it will warn you and give you remediation steps.\n",
        "!git clone https://github.com/rapidsai/rapidsai-csp-utils.git\n",
        "!python rapidsai-csp-utils/colab/env-check.py"
      ]
    },
    {
      "cell_type": "code",
      "execution_count": null,
      "metadata": {
        "colab": {
          "base_uri": "https://localhost:8080/"
        },
        "id": "4sKA_9Dbg4s2",
        "outputId": "7fb7e2fe-097b-4a8b-a99a-5e09c5feeb70"
      },
      "outputs": [
        {
          "output_type": "stream",
          "name": "stdout",
          "text": [
            "Updating your Colab environment.  This will restart your kernel.  Don't Panic!\n",
            "Found existing installation: cupy-cuda11x 11.0.0\n",
            "Uninstalling cupy-cuda11x-11.0.0:\n",
            "  Successfully uninstalled cupy-cuda11x-11.0.0\n",
            "PPA publishes dbgsym, you may need to include 'main/debug' component\n",
            "Repository: 'deb https://ppa.launchpadcontent.net/ubuntu-toolchain-r/test/ubuntu/ jammy main'\n",
            "Description:\n",
            "Toolchain test builds; see https://wiki.ubuntu.com/ToolChain\n",
            "\n",
            "More info: https://launchpad.net/~ubuntu-toolchain-r/+archive/ubuntu/test\n",
            "Adding repository.\n",
            "Adding deb entry to /etc/apt/sources.list.d/ubuntu-toolchain-r-ubuntu-test-jammy.list\n",
            "Adding disabled deb-src entry to /etc/apt/sources.list.d/ubuntu-toolchain-r-ubuntu-test-jammy.list\n",
            "Adding key to /etc/apt/trusted.gpg.d/ubuntu-toolchain-r-ubuntu-test.gpg with fingerprint 60C317803A41BA51845E371A1E9377A2BA9EF27F\n",
            "Get:1 https://cloud.r-project.org/bin/linux/ubuntu jammy-cran40/ InRelease [3,626 B]\n",
            "Hit:2 https://developer.download.nvidia.com/compute/cuda/repos/ubuntu2204/x86_64  InRelease\n",
            "Get:3 http://security.ubuntu.com/ubuntu jammy-security InRelease [110 kB]\n",
            "Hit:4 http://archive.ubuntu.com/ubuntu jammy InRelease\n",
            "Get:5 http://archive.ubuntu.com/ubuntu jammy-updates InRelease [119 kB]\n",
            "Get:6 https://ppa.launchpadcontent.net/c2d4u.team/c2d4u4.0+/ubuntu jammy InRelease [18.1 kB]\n",
            "Hit:7 https://ppa.launchpadcontent.net/deadsnakes/ppa/ubuntu jammy InRelease\n",
            "Hit:8 http://archive.ubuntu.com/ubuntu jammy-backports InRelease\n",
            "Hit:9 https://ppa.launchpadcontent.net/graphics-drivers/ppa/ubuntu jammy InRelease\n",
            "Get:10 http://security.ubuntu.com/ubuntu jammy-security/universe amd64 Packages [1,016 kB]\n",
            "Get:11 http://archive.ubuntu.com/ubuntu jammy-updates/universe amd64 Packages [1,284 kB]\n",
            "Get:12 https://ppa.launchpadcontent.net/ubuntu-toolchain-r/test/ubuntu jammy InRelease [23.8 kB]\n",
            "Hit:13 https://ppa.launchpadcontent.net/ubuntugis/ppa/ubuntu jammy InRelease\n",
            "Get:14 https://ppa.launchpadcontent.net/c2d4u.team/c2d4u4.0+/ubuntu jammy/main Sources [2,244 kB]\n",
            "Get:15 http://archive.ubuntu.com/ubuntu jammy-updates/main amd64 Packages [1,520 kB]\n",
            "Get:16 http://archive.ubuntu.com/ubuntu jammy-updates/restricted amd64 Packages [1,498 kB]\n",
            "Get:17 http://security.ubuntu.com/ubuntu jammy-security/main amd64 Packages [1,242 kB]\n",
            "Get:18 https://ppa.launchpadcontent.net/c2d4u.team/c2d4u4.0+/ubuntu jammy/main amd64 Packages [1,152 kB]\n",
            "Get:19 https://ppa.launchpadcontent.net/ubuntu-toolchain-r/test/ubuntu jammy/main amd64 Packages [17.4 kB]\n",
            "Fetched 10.2 MB in 3s (3,400 kB/s)\n",
            "Reading package lists... Done\n",
            "Added repo\n",
            "Hit:1 https://cloud.r-project.org/bin/linux/ubuntu jammy-cran40/ InRelease\n",
            "Hit:2 https://developer.download.nvidia.com/compute/cuda/repos/ubuntu2204/x86_64  InRelease\n",
            "Hit:3 http://archive.ubuntu.com/ubuntu jammy InRelease\n",
            "Hit:4 http://security.ubuntu.com/ubuntu jammy-security InRelease\n",
            "Hit:5 http://archive.ubuntu.com/ubuntu jammy-updates InRelease\n",
            "Hit:6 http://archive.ubuntu.com/ubuntu jammy-backports InRelease\n",
            "Hit:7 https://ppa.launchpadcontent.net/c2d4u.team/c2d4u4.0+/ubuntu jammy InRelease\n",
            "Hit:8 https://ppa.launchpadcontent.net/deadsnakes/ppa/ubuntu jammy InRelease\n",
            "Hit:9 https://ppa.launchpadcontent.net/graphics-drivers/ppa/ubuntu jammy InRelease\n",
            "Hit:10 https://ppa.launchpadcontent.net/ubuntu-toolchain-r/test/ubuntu jammy InRelease\n",
            "Hit:11 https://ppa.launchpadcontent.net/ubuntugis/ppa/ubuntu jammy InRelease\n",
            "Reading package lists... Done\n",
            "Installing libstdc++\n",
            "Reading package lists... Done\n",
            "Building dependency tree... Done\n",
            "Reading state information... Done\n",
            "Package libstdc++6 is not available, but is referred to by another package.\n",
            "This may mean that the package is missing, has been obsoleted, or\n",
            "is only available from another source\n",
            "\n",
            "E: Version '11.1.0*' for 'libstdc++6' was not found\n",
            "restarting Colab...\n"
          ]
        }
      ],
      "source": [
        "# This will update the Colab environment and restart the kernel.  Don't run the next cell until you see the session crash.\n",
        "!bash rapidsai-csp-utils/colab/update_gcc.sh\n",
        "import os\n",
        "os._exit(00)"
      ]
    },
    {
      "cell_type": "code",
      "execution_count": 1,
      "metadata": {
        "id": "d1C4pNiBhYHX",
        "colab": {
          "base_uri": "https://localhost:8080/"
        },
        "outputId": "c2747065-27ee-4fbb-a186-92d9ff4e1780"
      },
      "outputs": [
        {
          "output_type": "stream",
          "name": "stdout",
          "text": [
            "⏬ Downloading https://github.com/conda-forge/miniforge/releases/download/23.1.0-1/Mambaforge-23.1.0-1-Linux-x86_64.sh...\n",
            "📦 Installing...\n",
            "📌 Adjusting configuration...\n",
            "🩹 Patching environment...\n",
            "⏲ Done in 0:00:08\n",
            "🔁 Restarting kernel...\n"
          ]
        }
      ],
      "source": [
        "# This will install CondaColab.  This will restart your kernel one last time.  Run this cell by itself and only run the next cell once you see the session crash.\n",
        "import condacolab\n",
        "condacolab.install()"
      ]
    },
    {
      "cell_type": "code",
      "execution_count": 1,
      "metadata": {
        "colab": {
          "base_uri": "https://localhost:8080/"
        },
        "id": "-Ko_pJZbhZrM",
        "outputId": "2db1d88e-f942-4e64-c28c-83056b7613ca"
      },
      "outputs": [
        {
          "output_type": "stream",
          "name": "stdout",
          "text": [
            "✨🍰✨ Everything looks OK!\n"
          ]
        }
      ],
      "source": [
        "# you can now run the rest of the cells as normal\n",
        "import condacolab\n",
        "condacolab.check()"
      ]
    },
    {
      "cell_type": "code",
      "execution_count": 2,
      "metadata": {
        "colab": {
          "base_uri": "https://localhost:8080/"
        },
        "id": "G_2dancFhf70",
        "outputId": "93bb5296-6af3-4f90-a6d1-e9760327cd2e"
      },
      "outputs": [
        {
          "output_type": "stream",
          "name": "stdout",
          "text": [
            "Found existing installation: cffi 1.15.1\n",
            "Uninstalling cffi-1.15.1:\n",
            "  Successfully uninstalled cffi-1.15.1\n",
            "WARNING: Running pip as the 'root' user can result in broken permissions and conflicting behaviour with the system package manager. It is recommended to use a virtual environment instead: https://pip.pypa.io/warnings/venv\n",
            "Found existing installation: cryptography 40.0.1\n",
            "Uninstalling cryptography-40.0.1:\n",
            "  Successfully uninstalled cryptography-40.0.1\n",
            "WARNING: Running pip as the 'root' user can result in broken permissions and conflicting behaviour with the system package manager. It is recommended to use a virtual environment instead: https://pip.pypa.io/warnings/venv\n",
            "Collecting cffi==1.15.0\n",
            "  Downloading cffi-1.15.0-cp310-cp310-manylinux_2_12_x86_64.manylinux2010_x86_64.whl (446 kB)\n",
            "     ━━━━━━━━━━━━━━━━━━━━━━━━━━━━━━━━━━━━━━━━ 446.3/446.3 kB 20.3 MB/s eta 0:00:00\n",
            "Requirement already satisfied: pycparser in /usr/local/lib/python3.10/site-packages (from cffi==1.15.0) (2.21)\n",
            "Installing collected packages: cffi\n",
            "Successfully installed cffi-1.15.0\n",
            "WARNING: Running pip as the 'root' user can result in broken permissions and conflicting behaviour with the system package manager. It is recommended to use a virtual environment instead: https://pip.pypa.io/warnings/venv\n",
            "Installing RAPIDS Stable 23.10\n",
            "Starting the RAPIDS install on Colab.  This will take about 15 minutes.\n",
            "Collecting package metadata (current_repodata.json): ...working... done\n",
            "Solving environment: ...working... done\n",
            "\n",
            "\n",
            "==> WARNING: A newer version of conda exists. <==\n",
            "  current version: 23.1.0\n",
            "  latest version: 23.10.0\n",
            "\n",
            "Please update conda by running\n",
            "\n",
            "    $ conda update -n base -c conda-forge conda\n",
            "\n",
            "Or to minimize the number of packages updated during conda update use\n",
            "\n",
            "     conda install conda=23.10.0\n",
            "\n",
            "\n",
            "\n",
            "## Package Plan ##\n",
            "\n",
            "  environment location: /usr/local\n",
            "\n",
            "  added / updated specs:\n",
            "    - mamba\n",
            "\n",
            "\n",
            "The following packages will be downloaded:\n",
            "\n",
            "    package                    |            build\n",
            "    ---------------------------|-----------------\n",
            "    ca-certificates-2023.11.17 |       hbcca054_0         151 KB  conda-forge\n",
            "    certifi-2023.11.17         |     pyhd8ed1ab_0         155 KB  conda-forge\n",
            "    openssl-3.2.0              |       hd590300_0         2.7 MB  conda-forge\n",
            "    python_abi-3.10            |          4_cp310           6 KB  conda-forge\n",
            "    ------------------------------------------------------------\n",
            "                                           Total:         3.0 MB\n",
            "\n",
            "The following packages will be UPDATED:\n",
            "\n",
            "  ca-certificates                      2022.12.7-ha878542_0 --> 2023.11.17-hbcca054_0\n",
            "  certifi                            2022.12.7-pyhd8ed1ab_0 --> 2023.11.17-pyhd8ed1ab_0\n",
            "  openssl                                  3.1.0-h0b41bf4_0 --> 3.2.0-hd590300_0\n",
            "  python_abi                                   3.10-3_cp310 --> 3.10-4_cp310\n",
            "\n",
            "\n",
            "\n",
            "Downloading and Extracting Packages\n",
            "\n",
            "ca-certificates-2023 | 151 KB    |            |   0%\n",
            "\n",
            "python_abi-3.10      | 6 KB      |            |   0% \u001b[A\n",
            "\n",
            "\n",
            "certifi-2023.11.17   | 155 KB    |            |   0% \u001b[A\u001b[A\n",
            "\n",
            "\n",
            "\n",
            "openssl-3.2.0        | 2.7 MB    |            |   0% \u001b[A\u001b[A\u001b[A\n",
            "\n",
            "python_abi-3.10      | 6 KB      | ########## | 100% \u001b[A\n",
            "\n",
            "\n",
            "certifi-2023.11.17   | 155 KB    | ########## | 100% \u001b[A\u001b[A\n",
            "ca-certificates-2023 | 151 KB    | #########5 |  96%\n",
            "\n",
            "\n",
            "\n",
            "openssl-3.2.0        | 2.7 MB    | ##3        |  24% \u001b[A\u001b[A\u001b[A\n",
            "ca-certificates-2023 | 151 KB    | ########## | 100%\n",
            "\n",
            "\n",
            "\n",
            "openssl-3.2.0        | 2.7 MB    | ########## | 100% \u001b[A\u001b[A\u001b[A\n",
            "\n",
            "\n",
            "\n",
            "openssl-3.2.0        | 2.7 MB    | ########## | 100% \u001b[A\u001b[A\u001b[A\n",
            "\n",
            "\n",
            "                                                     \u001b[A\n",
            "\n",
            "\n",
            "                                                     \u001b[A\u001b[A\n",
            "\n",
            "\n",
            "\n",
            "                                                     \u001b[A\u001b[A\u001b[A\n",
            "Preparing transaction: ...working... done\n",
            "Verifying transaction: ...working... done\n",
            "Executing transaction: ...working... done\n",
            "Transaction\n",
            "\n",
            "  Prefix: /usr/local\n",
            "\n",
            "  Updating specs:\n",
            "\n",
            "   - python=3.10\n",
            "   - cudatoolkit=11.8\n",
            "   - rapids=23.10\n",
            "   - llvmlite\n",
            "   - gcsfs\n",
            "   - openssl\n",
            "   - dask-sql\n",
            "   - ca-certificates\n",
            "   - certifi\n",
            "   - openssl\n",
            "\n",
            "\n",
            "  Package                               Version  Build                              Channel                   Size\n",
            "────────────────────────────────────────────────────────────────────────────────────────────────────────────────────\n",
            "  Install:\n",
            "────────────────────────────────────────────────────────────────────────────────────────────────────────────────────\n",
            "\n",
            "  + aiohttp                               3.9.0  py310h2372a71_0                    conda-forge/linux-64     690kB\n",
            "  + aiosignal                             1.3.1  pyhd8ed1ab_0                       conda-forge/noarch        13kB\n",
            "  + annotated-types                       0.6.0  pyhd8ed1ab_0                       conda-forge/noarch        17kB\n",
            "  + anyio                                 3.7.1  pyhd8ed1ab_0                       conda-forge/noarch        97kB\n",
            "  + appdirs                               1.4.4  pyh9f0ad1d_0                       conda-forge/noarch        13kB\n",
            "  + argon2-cffi                          23.1.0  pyhd8ed1ab_0                       conda-forge/noarch        19kB\n",
            "  + argon2-cffi-bindings                 21.2.0  py310h2372a71_4                    conda-forge/linux-64      34kB\n",
            "  + arrow                                 1.3.0  pyhd8ed1ab_0                       conda-forge/noarch       100kB\n",
            "  + async-timeout                         4.0.3  pyhd8ed1ab_0                       conda-forge/noarch        11kB\n",
            "  + attrs                                23.1.0  pyh71513ae_1                       conda-forge/noarch        55kB\n",
            "  + aws-c-auth                            0.7.0  hf8751d9_2                         conda-forge/linux-64     102kB\n",
            "  + aws-c-cal                             0.6.0  h93469e0_0                         conda-forge/linux-64      50kB\n",
            "  + aws-c-common                         0.8.23  hd590300_0                         conda-forge/linux-64     197kB\n",
            "  + aws-c-compression                    0.2.17  h862ab75_1                         conda-forge/linux-64      19kB\n",
            "  + aws-c-event-stream                    0.3.1  h9599702_1                         conda-forge/linux-64      54kB\n",
            "  + aws-c-http                           0.7.11  hbe98c3e_0                         conda-forge/linux-64     194kB\n",
            "  + aws-c-io                            0.13.28  h3870b5a_0                         conda-forge/linux-64     155kB\n",
            "  + aws-c-mqtt                           0.8.14  h2e270ba_2                         conda-forge/linux-64     154kB\n",
            "  + aws-c-s3                             0.3.13  heb0bb06_2                         conda-forge/linux-64      87kB\n",
            "  + aws-c-sdkutils                       0.1.11  h862ab75_1                         conda-forge/linux-64      53kB\n",
            "  + aws-checksums                        0.1.16  h862ab75_1                         conda-forge/linux-64      50kB\n",
            "  + aws-crt-cpp                          0.20.3  he9c0e7f_4                         conda-forge/linux-64     321kB\n",
            "  + aws-sdk-cpp                         1.10.57  hbc2ea52_17                        conda-forge/linux-64       4MB\n",
            "  + beautifulsoup4                       4.12.2  pyha770c72_0                       conda-forge/noarch       115kB\n",
            "  + bleach                                6.1.0  pyhd8ed1ab_0                       conda-forge/noarch       131kB\n",
            "  + blinker                               1.7.0  pyhd8ed1ab_0                       conda-forge/noarch        18kB\n",
            "  + blosc                                1.21.5  h0f2a231_0                         conda-forge/linux-64      49kB\n",
            "  + bokeh                                 3.3.1  pyhd8ed1ab_0                       conda-forge/noarch         5MB\n",
            "  + branca                                0.7.0  pyhd8ed1ab_1                       conda-forge/noarch        29kB\n",
            "  + brotli                                1.0.9  h166bdaf_9                         conda-forge/linux-64      20kB\n",
            "  + brotli-bin                            1.0.9  h166bdaf_9                         conda-forge/linux-64      20kB\n",
            "  + cached-property                       1.5.2  hd8ed1ab_1                         conda-forge/noarch         4kB\n",
            "  + cached_property                       1.5.2  pyha770c72_1                       conda-forge/noarch        11kB\n",
            "  + cachetools                            5.3.2  pyhd8ed1ab_0                       conda-forge/noarch        15kB\n",
            "  + cairo                                1.16.0  hbbf8b49_1016                      conda-forge/linux-64       1MB\n",
            "  + cfitsio                               4.2.0  hd9d235c_0                         conda-forge/linux-64     848kB\n",
            "  + click                                 8.1.7  unix_pyh707e725_0                  conda-forge/noarch        84kB\n",
            "  + click-plugins                         1.1.1  py_0                               conda-forge/noarch         9kB\n",
            "  + cligj                                 0.7.2  pyhd8ed1ab_1                       conda-forge/noarch        10kB\n",
            "  + cloudpickle                           3.0.0  pyhd8ed1ab_0                       conda-forge/noarch        25kB\n",
            "  + colorcet                              3.0.1  pyhd8ed1ab_0                       conda-forge/noarch         2MB\n",
            "  + contourpy                             1.2.0  py310hd41b1e2_0                    conda-forge/linux-64     239kB\n",
            "  + cubinlinker                           0.3.0  py310hfdf336d_0                    rapidsai/linux-64          8MB\n",
            "  + cucim                              23.10.00  cuda11_py310_231011_g8dd1727_0     rapidsai/linux-64          4MB\n",
            "  + cuda-cudart                         11.8.89  0                                  nvidia/linux-64          202kB\n",
            "  + cuda-nvrtc                          11.8.89  0                                  nvidia/linux-64           20MB\n",
            "  + cuda-profiler-api                   11.8.86  0                                  nvidia/linux-64           19kB\n",
            "  + cuda-python                          11.8.3  py310hf9913ef_0                    nvidia/linux-64            6MB\n",
            "  + cuda-version                           11.8  h70ddcb2_2                         conda-forge/noarch        21kB\n",
            "  + cudatoolkit                          11.8.0  h4ba93d1_12                        conda-forge/linux-64     716MB\n",
            "  + cudf                               23.10.02  cuda11_py310_231116_gece2b2c524_0  rapidsai/linux-64          8MB\n",
            "  + cudf_kafka                         23.10.02  cuda11_py310_231116_gece2b2c524_0  rapidsai/linux-64        139kB\n",
            "  + cugraph                            23.10.00  cuda11_py310_231011_gc3dc860d_0    rapidsai/linux-64          2MB\n",
            "  + cuml                               23.10.00  cuda11_py310_231011_g623996072_0   rapidsai/linux-64         10MB\n",
            "  + cuproj                             23.10.00  cuda11_py310_231011_g29cddcdc_0    rapidsai/linux-64        875kB\n",
            "  + cupy                                 12.2.0  py310hf4db66c_4                    conda-forge/linux-64      42MB\n",
            "  + cuspatial                          23.10.00  cuda11_py310_231011_g29cddcdc_0    rapidsai/linux-64        996kB\n",
            "  + custreamz                          23.10.02  cuda11_py310_231116_gece2b2c524_0  rapidsai/linux-64         34kB\n",
            "  + cuxfilter                          23.10.00  cuda11_py310_231011_g6600aff_0     rapidsai/linux-64        112kB\n",
            "  + cycler                               0.12.1  pyhd8ed1ab_0                       conda-forge/noarch        13kB\n",
            "  + cyrus-sasl                           2.1.27  h54b06d7_7                         conda-forge/linux-64     220kB\n",
            "  + cytoolz                              0.12.2  py310h2372a71_1                    conda-forge/linux-64     368kB\n",
            "  + dask                               2023.9.2  pyhd8ed1ab_0                       conda-forge/noarch         7kB\n",
            "  + dask-core                          2023.9.2  pyhd8ed1ab_0                       conda-forge/noarch       859kB\n",
            "  + dask-cuda                          23.10.00  py310_231011_gdc811d3_0            rapidsai/linux-64        188kB\n",
            "  + dask-cudf                          23.10.02  cuda11_py310_231116_gece2b2c524_0  rapidsai/linux-64        138kB\n",
            "  + dask-sql                          2023.11.0  py310hac45122_0                    conda-forge/linux-64      12MB\n",
            "  + datashader                           0.16.0  pyhd8ed1ab_0                       conda-forge/noarch        17MB\n",
            "  + decorator                             5.1.1  pyhd8ed1ab_0                       conda-forge/noarch        12kB\n",
            "  + defusedxml                            0.7.1  pyhd8ed1ab_0                       conda-forge/noarch        24kB\n",
            "  + distributed                        2023.9.2  pyhd8ed1ab_0                       conda-forge/noarch       785kB\n",
            "  + dlpack                                  0.5  h9c3ff4c_0                         conda-forge/linux-64      13kB\n",
            "  + entrypoints                             0.4  pyhd8ed1ab_0                       conda-forge/noarch         9kB\n",
            "  + exceptiongroup                        1.2.0  pyhd8ed1ab_0                       conda-forge/noarch        20kB\n",
            "  + expat                                 2.5.0  hcb278e6_1                         conda-forge/linux-64     137kB\n",
            "  + fastapi                             0.104.1  pyhd8ed1ab_0                       conda-forge/noarch        71kB\n",
            "  + fastrlock                             0.8.2  py310hc6cd4ac_1                    conda-forge/linux-64      37kB\n",
            "  + fiona                                 1.9.3  py310ha325b7b_0                    conda-forge/linux-64     902kB\n",
            "  + folium                               0.15.0  pyhd8ed1ab_0                       conda-forge/noarch        73kB\n",
            "  + font-ttf-dejavu-sans-mono              2.37  hab24e00_0                         conda-forge/noarch       397kB\n",
            "  + font-ttf-inconsolata                  3.000  h77eed37_0                         conda-forge/noarch        97kB\n",
            "  + font-ttf-source-code-pro              2.038  h77eed37_0                         conda-forge/noarch       701kB\n",
            "  + font-ttf-ubuntu                        0.83  h77eed37_1                         conda-forge/noarch         2MB\n",
            "  + fontconfig                           2.14.2  h14ed4e7_0                         conda-forge/linux-64     272kB\n",
            "  + fonts-conda-ecosystem                     1  0                                  conda-forge/noarch         4kB\n",
            "  + fonts-conda-forge                         1  0                                  conda-forge/noarch         4kB\n",
            "  + fonttools                            4.45.1  py310h2372a71_0                    conda-forge/linux-64       2MB\n",
            "  + fqdn                                  1.5.1  pyhd8ed1ab_0                       conda-forge/noarch        14kB\n",
            "  + freetype                             2.12.1  h267a509_2                         conda-forge/linux-64     635kB\n",
            "  + freexl                                2.0.0  h743c826_0                         conda-forge/linux-64      60kB\n",
            "  + frozenlist                            1.4.0  py310h2372a71_1                    conda-forge/linux-64      54kB\n",
            "  + fsspec                            2023.10.0  pyhca7485f_0                       conda-forge/noarch       125kB\n",
            "  + gcsfs                             2023.10.0  pyhd8ed1ab_0                       conda-forge/noarch        36kB\n",
            "  + gdal                                  3.6.4  py310h5c4b078_20                   conda-forge/linux-64       1MB\n",
            "  + gdk-pixbuf                          2.42.10  h6c15284_3                         conda-forge/linux-64     574kB\n",
            "  + geopandas                            0.14.1  pyhd8ed1ab_0                       conda-forge/noarch         8kB\n",
            "  + geopandas-base                       0.14.1  pyha770c72_0                       conda-forge/noarch         1MB\n",
            "  + geos                                 3.12.0  h59595ed_0                         conda-forge/linux-64       2MB\n",
            "  + geotiff                               1.7.1  hee599c5_13                        conda-forge/linux-64     133kB\n",
            "  + gettext                              0.21.1  h27087fc_0                         conda-forge/linux-64       4MB\n",
            "  + gflags                                2.2.2  he1b5a44_1004                      conda-forge/linux-64     117kB\n",
            "  + giflib                                5.2.1  h0b41bf4_3                         conda-forge/linux-64      77kB\n",
            "  + glog                                  0.6.0  h6f12383_0                         conda-forge/linux-64     114kB\n",
            "  + gmock                                1.14.0  ha770c72_1                         conda-forge/linux-64       7kB\n",
            "  + google-api-core                      2.14.0  pyhd8ed1ab_0                       conda-forge/noarch        79kB\n",
            "  + google-auth                          2.23.4  pyhca7485f_0                       conda-forge/noarch       102kB\n",
            "  + google-auth-oauthlib                  1.1.0  pyhd8ed1ab_0                       conda-forge/noarch        21kB\n",
            "  + google-cloud-core                     2.3.3  pyhd8ed1ab_0                       conda-forge/noarch        29kB\n",
            "  + google-cloud-storage                 2.13.0  pyhca7485f_0                       conda-forge/noarch        87kB\n",
            "  + google-crc32c                         1.1.2  py310hc5c09a0_5                    conda-forge/linux-64      24kB\n",
            "  + google-resumable-media                2.6.0  pyhd8ed1ab_0                       conda-forge/noarch        46kB\n",
            "  + googleapis-common-protos             1.61.0  pyhd8ed1ab_0                       conda-forge/noarch       123kB\n",
            "  + grpcio                               1.54.2  py310heca2aa9_2                    conda-forge/linux-64     755kB\n",
            "  + gtest                                1.14.0  h00ab1b0_1                         conda-forge/linux-64     405kB\n",
            "  + h11                                  0.14.0  pyhd8ed1ab_0                       conda-forge/noarch        48kB\n",
            "  + h2                                    4.1.0  pyhd8ed1ab_0                       conda-forge/noarch        47kB\n",
            "  + hdf4                                 4.2.15  h501b40f_6                         conda-forge/linux-64     758kB\n",
            "  + hdf5                                 1.14.2  nompi_h4f84152_100                 conda-forge/linux-64       4MB\n",
            "  + holoviews                            1.18.1  pyhd8ed1ab_0                       conda-forge/noarch         3MB\n",
            "  + hpack                                 4.0.0  pyh9f0ad1d_0                       conda-forge/noarch        25kB\n",
            "  + httpcore                              1.0.2  pyhd8ed1ab_0                       conda-forge/noarch        45kB\n",
            "  + httpx                                0.25.1  pyhd8ed1ab_0                       conda-forge/noarch        64kB\n",
            "  + hyperframe                            6.0.1  pyhd8ed1ab_0                       conda-forge/noarch        15kB\n",
            "  + imagecodecs-lite                  2019.12.3  py310h1f7b6fc_7                    conda-forge/linux-64     169kB\n",
            "  + imageio                              2.31.5  pyh8c1a49c_0                       conda-forge/noarch       291kB\n",
            "  + importlib-metadata                    6.8.0  pyha770c72_0                       conda-forge/noarch        26kB\n",
            "  + importlib_metadata                    6.8.0  hd8ed1ab_0                         conda-forge/noarch         9kB\n",
            "  + importlib_resources                   6.1.1  pyhd8ed1ab_0                       conda-forge/noarch        30kB\n",
            "  + isoduration                         20.11.0  pyhd8ed1ab_0                       conda-forge/noarch        17kB\n",
            "  + jbig                                    2.1  h7f98852_2003                      conda-forge/linux-64      44kB\n",
            "  + jinja2                                3.1.2  pyhd8ed1ab_1                       conda-forge/noarch       101kB\n",
            "  + joblib                                1.3.2  pyhd8ed1ab_0                       conda-forge/noarch       221kB\n",
            "  + json-c                                 0.17  h7ab15ed_0                         conda-forge/linux-64      83kB\n",
            "  + jsonpointer                             2.4  py310hff52083_3                    conda-forge/linux-64      16kB\n",
            "  + jsonschema                           4.20.0  pyhd8ed1ab_0                       conda-forge/noarch        72kB\n",
            "  + jsonschema-specifications         2023.11.1  pyhd8ed1ab_0                       conda-forge/noarch        15kB\n",
            "  + jsonschema-with-format-nongpl        4.20.0  pyhd8ed1ab_0                       conda-forge/noarch         7kB\n",
            "  + jupyter-server-proxy                  4.1.0  pyhd8ed1ab_0                       conda-forge/noarch        34kB\n",
            "  + jupyter_client                        8.6.0  pyhd8ed1ab_0                       conda-forge/noarch       106kB\n",
            "  + jupyter_core                          5.5.0  py310hff52083_0                    conda-forge/linux-64      79kB\n",
            "  + jupyter_events                        0.9.0  pyhd8ed1ab_0                       conda-forge/noarch        21kB\n",
            "  + jupyter_server                       2.10.1  pyhd8ed1ab_0                       conda-forge/noarch       319kB\n",
            "  + jupyter_server_terminals              0.4.4  pyhd8ed1ab_1                       conda-forge/noarch        19kB\n",
            "  + jupyterlab_pygments                   0.3.0  pyhd8ed1ab_0                       conda-forge/noarch        19kB\n",
            "  + kealib                                1.5.2  hcd42e92_1                         conda-forge/linux-64     170kB\n",
            "  + kiwisolver                            1.4.5  py310hd41b1e2_1                    conda-forge/linux-64      73kB\n",
            "  + lazy_loader                             0.3  pyhd8ed1ab_0                       conda-forge/noarch        14kB\n",
            "  + lcms2                                  2.15  h7f713cb_2                         conda-forge/linux-64     241kB\n",
            "  + lerc                                  4.0.0  h27087fc_0                         conda-forge/linux-64     282kB\n",
            "  + libabseil                        20230125.3  cxx17_h59595ed_0                   conda-forge/linux-64       1MB\n",
            "  + libaec                                1.1.2  h59595ed_1                         conda-forge/linux-64      35kB\n",
            "  + libarrow                             12.0.1  hd2d78f0_7_cpu                     conda-forge/linux-64      28MB\n",
            "  + libblas                               3.9.0  20_linux64_openblas                conda-forge/linux-64      14kB\n",
            "  + libboost-headers                     1.83.0  ha770c72_0                         conda-forge/linux-64      14MB\n",
            "  + libbrotlicommon                       1.0.9  h166bdaf_9                         conda-forge/linux-64      71kB\n",
            "  + libbrotlidec                          1.0.9  h166bdaf_9                         conda-forge/linux-64      33kB\n",
            "  + libbrotlienc                          1.0.9  h166bdaf_9                         conda-forge/linux-64     265kB\n",
            "  + libcblas                              3.9.0  20_linux64_openblas                conda-forge/linux-64      14kB\n",
            "  + libcrc32c                             1.1.2  h9c3ff4c_0                         conda-forge/linux-64      20kB\n",
            "  + libcublas                         11.11.3.6  0                                  nvidia/linux-64          382MB\n",
            "  + libcublas-dev                     11.11.3.6  0                                  nvidia/linux-64          413MB\n",
            "  + libcucim                           23.10.00  cuda11_231011_g8dd1727_0           rapidsai/linux-64          5MB\n",
            "  + libcudf                            23.10.02  cuda11_231116_gece2b2c524_0        rapidsai/linux-64        292MB\n",
            "  + libcudf_kafka                      23.10.02  cuda11_231116_gece2b2c524_0        rapidsai/linux-64         39kB\n",
            "  + libcufft                          10.9.0.58  0                                  nvidia/linux-64          150MB\n",
            "  + libcufile                          1.4.0.31  0                                  nvidia/linux-64          561kB\n",
            "  + libcufile-dev                      1.4.0.31  0                                  nvidia/linux-64            2MB\n",
            "  + libcugraph                         23.10.00  cuda11_231011_gc3dc860d_0          rapidsai/linux-64        594MB\n",
            "  + libcugraph_etl                     23.10.00  cuda11_231011_gc3dc860d_0          rapidsai/linux-64        620kB\n",
            "  + libcugraphops                      23.10.00  cuda11_231011_gca4b54ac_0          nvidia/linux-64           38MB\n",
            "  + libcuml                            23.10.00  cuda11_231011_g623996072_0         rapidsai/linux-64        265MB\n",
            "  + libcumlprims                       23.10.00  cuda11_231011_ge818397_0           nvidia/linux-64            5MB\n",
            "  + libcurand                         10.3.0.86  0                                  nvidia/linux-64           56MB\n",
            "  + libcurand-dev                     10.3.0.86  0                                  nvidia/linux-64           56MB\n",
            "  + libcusolver                       11.4.1.48  0                                  nvidia/linux-64          101MB\n",
            "  + libcusolver-dev                   11.4.1.48  0                                  nvidia/linux-64           70MB\n",
            "  + libcusparse                       11.7.5.86  0                                  nvidia/linux-64          185MB\n",
            "  + libcusparse-dev                   11.7.5.86  0                                  nvidia/linux-64          377MB\n",
            "  + libcuspatial                       23.10.00  cuda11_231011_g29cddcdc_0          rapidsai/linux-64         29MB\n",
            "  + libdeflate                             1.19  hd590300_0                         conda-forge/linux-64      67kB\n",
            "  + libevent                             2.1.12  hf998b51_1                         conda-forge/linux-64     427kB\n",
            "  + libexpat                              2.5.0  hcb278e6_1                         conda-forge/linux-64      78kB\n",
            "  + libgdal                               3.6.4  h4a9e2c2_20                        conda-forge/linux-64      10MB\n",
            "  + libgfortran-ng                       13.2.0  h69a702a_0                         conda-forge/linux-64      23kB\n",
            "  + libgfortran5                         13.2.0  ha4646dd_0                         conda-forge/linux-64       1MB\n",
            "  + libglib                              2.78.1  hebfc3b9_0                         conda-forge/linux-64       3MB\n",
            "  + libgoogle-cloud                      2.12.0  hac9eb74_1                         conda-forge/linux-64      46MB\n",
            "  + libgrpc                              1.54.2  hb20ce57_2                         conda-forge/linux-64       6MB\n",
            "  + libjpeg-turbo                       2.1.5.1  hd590300_1                         conda-forge/linux-64     496kB\n",
            "  + libkml                                1.3.0  h01aab08_1018                      conda-forge/linux-64     514kB\n",
            "  + libkvikio                          23.10.00  cuda11_231011_g5ea0525_0           rapidsai/linux-64         38kB\n",
            "  + liblapack                             3.9.0  20_linux64_openblas                conda-forge/linux-64      14kB\n",
            "  + libllvm14                            14.0.6  hcd5def8_4                         conda-forge/linux-64      31MB\n",
            "  + libnetcdf                             4.9.2  nompi_h80fb2b6_112                 conda-forge/linux-64     848kB\n",
            "  + libntlm                                 1.4  h7f98852_1002                      conda-forge/linux-64      33kB\n",
            "  + libnuma                              2.0.16  h0b41bf4_1                         conda-forge/linux-64      41kB\n",
            "  + libopenblas                          0.3.25  pthreads_h413a1c8_0                conda-forge/linux-64       6MB\n",
            "  + libpng                               1.6.39  h753d276_0                         conda-forge/linux-64     283kB\n",
            "  + libpq                                  16.1  hfc447b1_0                         conda-forge/linux-64       3MB\n",
            "  + libprotobuf                         3.21.12  hfc55251_2                         conda-forge/linux-64       2MB\n",
            "  + libraft                            23.10.00  cuda11_231011_gafdddfb3_0          rapidsai/linux-64        639MB\n",
            "  + libraft-headers                    23.10.00  cuda11_231011_gafdddfb3_0          rapidsai/linux-64          6kB\n",
            "  + libraft-headers-only               23.10.00  cuda11_231011_gafdddfb3_0          rapidsai/linux-64          3MB\n",
            "  + librdkafka                            1.9.2  ha5a0de0_2                         conda-forge/linux-64      14MB\n",
            "  + librmm                             23.10.00  cuda11_231011_gf8ac6f8e_0          rapidsai/linux-64        776kB\n",
            "  + librttopo                             1.1.0  hb58d41b_14                        conda-forge/linux-64     233kB\n",
            "  + libsodium                            1.0.18  h36c2ea0_1                         conda-forge/linux-64     375kB\n",
            "  + libspatialindex                       1.9.3  h9c3ff4c_4                         conda-forge/linux-64       5MB\n",
            "  + libspatialite                         5.0.1  h090f1da_29                        conda-forge/linux-64       3MB\n",
            "  + libthrift                            0.18.1  h8fd135c_2                         conda-forge/linux-64       4MB\n",
            "  + libtiff                               4.6.0  h29866fb_1                         conda-forge/linux-64     277kB\n",
            "  + libutf8proc                           2.8.0  h166bdaf_0                         conda-forge/linux-64     101kB\n",
            "  + libuv                                1.44.2  hd590300_1                         conda-forge/linux-64     824kB\n",
            "  + libwebp                               1.3.2  hdffd6e0_0                         conda-forge/linux-64      86kB\n",
            "  + libwebp-base                          1.3.2  hd590300_0                         conda-forge/linux-64     402kB\n",
            "  + libxcb                                 1.15  h0b41bf4_0                         conda-forge/linux-64     384kB\n",
            "  + libxgboost                            1.7.6  rapidsai_h795055c_2310             rapidsai/linux-64        115MB\n",
            "  + libzip                               1.10.1  h2629f0a_3                         conda-forge/linux-64     107kB\n",
            "  + linkify-it-py                         2.0.0  pyhd8ed1ab_0                       conda-forge/noarch        22kB\n",
            "  + llvmlite                             0.40.1  py310h1b8f574_0                    conda-forge/linux-64       3MB\n",
            "  + locket                                1.0.0  pyhd8ed1ab_0                       conda-forge/noarch         8kB\n",
            "  + lz4                                   4.3.2  py310h350c4a5_1                    conda-forge/linux-64      37kB\n",
            "  + mapclassify                           2.6.1  pyhd8ed1ab_0                       conda-forge/noarch        39kB\n",
            "  + markdown                              3.5.1  pyhd8ed1ab_0                       conda-forge/noarch        77kB\n",
            "  + markdown-it-py                        3.0.0  pyhd8ed1ab_0                       conda-forge/noarch        64kB\n",
            "  + markupsafe                            2.1.3  py310h2372a71_1                    conda-forge/linux-64      24kB\n",
            "  + matplotlib-base                       3.8.0  py310h62c0568_1                    conda-forge/linux-64       7MB\n",
            "  + mdit-py-plugins                       0.4.0  pyhd8ed1ab_0                       conda-forge/noarch        41kB\n",
            "  + mdurl                                 0.1.0  pyhd8ed1ab_0                       conda-forge/noarch        14kB\n",
            "  + minizip                               4.0.3  h0ab5242_0                         conda-forge/linux-64      92kB\n",
            "  + mistune                               3.0.2  pyhd8ed1ab_0                       conda-forge/noarch        66kB\n",
            "  + msgpack-python                        1.0.7  py310hd41b1e2_0                    conda-forge/linux-64     197kB\n",
            "  + multidict                             6.0.4  py310h2372a71_1                    conda-forge/linux-64      57kB\n",
            "  + multipledispatch                      0.6.0  py_0                               conda-forge/noarch        12kB\n",
            "  + munch                                 4.0.0  pyhd8ed1ab_0                       conda-forge/noarch        15kB\n",
            "  + munkres                               1.1.4  pyh9f0ad1d_0                       conda-forge/noarch        12kB\n",
            "  + nbclient                              0.8.0  pyhd8ed1ab_0                       conda-forge/noarch        65kB\n",
            "  + nbconvert-core                       7.11.0  pyhd8ed1ab_0                       conda-forge/noarch       188kB\n",
            "  + nbformat                              5.9.2  pyhd8ed1ab_0                       conda-forge/noarch       100kB\n",
            "  + nccl                               2.19.4.1  h6103f9b_0                         conda-forge/linux-64     118MB\n",
            "  + networkx                              3.2.1  pyhd8ed1ab_0                       conda-forge/noarch         1MB\n",
            "  + nodejs                               20.5.1  hf52ce11_0                         conda-forge/linux-64      17MB\n",
            "  + nspr                                   4.35  h27087fc_0                         conda-forge/linux-64     227kB\n",
            "  + nss                                    3.94  h1d7d5a4_0                         conda-forge/linux-64       2MB\n",
            "  + numba                                0.57.1  py310h0f6aa51_0                    conda-forge/linux-64       4MB\n",
            "  + numpy                                1.24.4  py310ha4c1d20_0                    conda-forge/linux-64       7MB\n",
            "  + nvcomp                                2.6.1  h838ba91_3                         conda-forge/linux-64       8MB\n",
            "  + nvtx                                  0.2.8  py310h2372a71_1                    conda-forge/linux-64     105kB\n",
            "  + oauthlib                              3.2.2  pyhd8ed1ab_0                       conda-forge/noarch        92kB\n",
            "  + openjpeg                              2.5.0  h488ebb8_3                         conda-forge/linux-64     357kB\n",
            "  + openslide                             3.4.1  h4738aba_10                        conda-forge/linux-64     112kB\n",
            "  + orc                                   1.9.0  h2f23424_1                         conda-forge/linux-64       1MB\n",
            "  + overrides                             7.4.0  pyhd8ed1ab_0                       conda-forge/noarch        30kB\n",
            "  + packaging                              23.2  pyhd8ed1ab_0                       conda-forge/noarch        49kB\n",
            "  + pandas                                1.5.3  py310h9b08913_1                    conda-forge/linux-64      12MB\n",
            "  + pandocfilters                         1.5.0  pyhd8ed1ab_0                       conda-forge/noarch        12kB\n",
            "  + panel                                 1.3.2  pyhd8ed1ab_0                       conda-forge/noarch        15MB\n",
            "  + param                                 2.0.1  pyhca7485f_0                       conda-forge/noarch       100kB\n",
            "  + partd                                 1.4.1  pyhd8ed1ab_0                       conda-forge/noarch        21kB\n",
            "  + pcre2                                 10.40  hc3806b6_0                         conda-forge/linux-64       2MB\n",
            "  + pillow                               10.0.1  py310h29da1c1_1                    conda-forge/linux-64      46MB\n",
            "  + pixman                               0.42.2  h59595ed_0                         conda-forge/linux-64     385kB\n",
            "  + pkgutil-resolve-name                 1.3.10  pyhd8ed1ab_1                       conda-forge/noarch        11kB\n",
            "  + platformdirs                          4.0.0  pyhd8ed1ab_0                       conda-forge/noarch        20kB\n",
            "  + poppler                             23.08.0  hf2349cb_2                         conda-forge/linux-64       2MB\n",
            "  + poppler-data                         0.4.12  hd8ed1ab_0                         conda-forge/noarch         2MB\n",
            "  + postgresql                             16.1  h8972f4a_0                         conda-forge/linux-64       5MB\n",
            "  + proj                                  9.3.0  h1d62c97_2                         conda-forge/linux-64       3MB\n",
            "  + prometheus_client                    0.19.0  pyhd8ed1ab_0                       conda-forge/noarch        48kB\n",
            "  + prompt-toolkit                       3.0.41  pyha770c72_0                       conda-forge/noarch       270kB\n",
            "  + protobuf                            4.21.12  py310heca2aa9_0                    conda-forge/linux-64     324kB\n",
            "  + psutil                                5.9.5  py310h2372a71_1                    conda-forge/linux-64     361kB\n",
            "  + pthread-stubs                           0.4  h36c2ea0_1001                      conda-forge/linux-64       6kB\n",
            "  + ptxcompiler                           0.8.1  py310h70a93da_2                    conda-forge/linux-64       8MB\n",
            "  + ptyprocess                            0.7.0  pyhd3deb0d_0                       conda-forge/noarch        17kB\n",
            "  + py-xgboost                            1.7.6  rapidsai_py310h1395376_2310        rapidsai/linux-64        216kB\n",
            "  + pyarrow                              12.0.1  py310h0576679_7_cpu                conda-forge/linux-64       4MB\n",
            "  + pyasn1                                0.5.0  pyhd8ed1ab_0                       conda-forge/noarch        63kB\n",
            "  + pyasn1-modules                        0.3.0  pyhd8ed1ab_0                       conda-forge/noarch        96kB\n",
            "  + pyct                                  0.4.6  py_0                               conda-forge/noarch         3kB\n",
            "  + pyct-core                             0.4.6  py_0                               conda-forge/noarch        14kB\n",
            "  + pydantic                              2.5.2  pyhd8ed1ab_0                       conda-forge/noarch       262kB\n",
            "  + pydantic-core                        2.14.5  py310hcb5633a_0                    conda-forge/linux-64       2MB\n",
            "  + pyee                                  8.1.0  pyhd8ed1ab_0                       conda-forge/noarch        14kB\n",
            "  + pygments                             2.17.2  pyhd8ed1ab_0                       conda-forge/noarch       860kB\n",
            "  + pyjwt                                 2.8.0  pyhd8ed1ab_0                       conda-forge/noarch        25kB\n",
            "  + pylibcugraph                       23.10.00  cuda11_py310_231011_gc3dc860d_0    rapidsai/linux-64        755kB\n",
            "  + pylibraft                          23.10.00  cuda11_py310_231011_gafdddfb3_0    rapidsai/linux-64          2MB\n",
            "  + pynvml                               11.4.1  pyhd8ed1ab_0                       conda-forge/noarch        41kB\n",
            "  + pyparsing                             3.1.1  pyhd8ed1ab_0                       conda-forge/noarch        90kB\n",
            "  + pyppeteer                             1.0.2  pyhd8ed1ab_0                       conda-forge/noarch        64kB\n",
            "  + pyproj                                3.6.1  py310h32c33b7_4                    conda-forge/linux-64     527kB\n",
            "  + python-confluent-kafka                1.9.2  py310h5764c6d_2                    conda-forge/linux-64     149kB\n",
            "  + python-dateutil                       2.8.2  pyhd8ed1ab_0                       conda-forge/noarch       246kB\n",
            "  + python-fastjsonschema                2.19.0  pyhd8ed1ab_0                       conda-forge/noarch       226kB\n",
            "  + python-json-logger                    2.0.7  pyhd8ed1ab_0                       conda-forge/noarch        13kB\n",
            "  + pytz                           2023.3.post1  pyhd8ed1ab_0                       conda-forge/noarch       187kB\n",
            "  + pyu2f                                 0.1.5  pyhd8ed1ab_0                       conda-forge/noarch        32kB\n",
            "  + pyviz_comms                           3.0.0  pyhd8ed1ab_0                       conda-forge/noarch        48kB\n",
            "  + pywavelets                            1.4.1  py310h1f7b6fc_1                    conda-forge/linux-64       4MB\n",
            "  + pyyaml                                6.0.1  py310h2372a71_1                    conda-forge/linux-64     171kB\n",
            "  + pyzmq                                25.1.1  py310h795f18f_2                    conda-forge/linux-64     457kB\n",
            "  + raft-dask                          23.10.00  cuda11_py310_231011_gafdddfb3_0    rapidsai/linux-64        420kB\n",
            "  + rapids                             23.10.00  cuda11_py310_231011_gd3958fe_0     rapidsai/linux-64          6kB\n",
            "  + rapids-xgboost                     23.10.00  cuda11_py310_231011_gd3958fe_0     rapidsai/linux-64          5kB\n",
            "  + rdma-core                              28.9  h59595ed_1                         conda-forge/linux-64       4MB\n",
            "  + re2                              2023.03.02  h8c504da_0                         conda-forge/linux-64     201kB\n",
            "  + referencing                          0.31.0  pyhd8ed1ab_0                       conda-forge/noarch        38kB\n",
            "  + requests-oauthlib                     1.3.1  pyhd8ed1ab_0                       conda-forge/noarch        22kB\n",
            "  + rfc3339-validator                     0.1.4  pyhd8ed1ab_0                       conda-forge/noarch         8kB\n",
            "  + rfc3986-validator                     0.1.1  pyh9f0ad1d_0                       conda-forge/noarch         8kB\n",
            "  + rich                                 13.7.0  pyhd8ed1ab_0                       conda-forge/noarch       184kB\n",
            "  + rmm                                23.10.00  cuda11_py310_231011_gf8ac6f8e_0    rapidsai/linux-64        671kB\n",
            "  + rpds-py                              0.13.1  py310hcb5633a_0                    conda-forge/linux-64     989kB\n",
            "  + rsa                                     4.9  pyhd8ed1ab_0                       conda-forge/noarch        30kB\n",
            "  + rtree                                 1.1.0  py310hbdcdc62_0                    conda-forge/linux-64      50kB\n",
            "  + s2n                                  1.3.46  h06160fa_0                         conda-forge/linux-64     367kB\n",
            "  + scikit-image                         0.20.0  py310h9b08913_1                    conda-forge/linux-64      10MB\n",
            "  + scikit-learn                          1.3.2  py310h1fdf081_1                    conda-forge/linux-64       8MB\n",
            "  + scipy                                1.11.4  py310hb13e2d6_0                    conda-forge/linux-64      15MB\n",
            "  + send2trash                            1.8.2  pyh41d4057_0                       conda-forge/noarch        23kB\n",
            "  + shapely                               2.0.2  py310h7dcad9a_0                    conda-forge/linux-64     482kB\n",
            "  + simpervisor                           1.0.0  pyhd8ed1ab_0                       conda-forge/noarch        13kB\n",
            "  + six                                  1.16.0  pyh6c4a22f_0                       conda-forge/noarch        14kB\n",
            "  + snappy                               1.1.10  h9fff704_0                         conda-forge/linux-64      39kB\n",
            "  + sniffio                               1.3.0  pyhd8ed1ab_0                       conda-forge/noarch        14kB\n",
            "  + sortedcontainers                      2.4.0  pyhd8ed1ab_0                       conda-forge/noarch        26kB\n",
            "  + soupsieve                               2.5  pyhd8ed1ab_1                       conda-forge/noarch        37kB\n",
            "  + spdlog                               1.11.0  h9b3ece8_1                         conda-forge/linux-64     221kB\n",
            "  + sqlite                               3.39.2  h4ff8645_0                         conda-forge/linux-64       2MB\n",
            "  + starlette                            0.27.0  pyhd8ed1ab_0                       conda-forge/noarch        55kB\n",
            "  + streamz                               0.6.4  pyh6c4a22f_0                       conda-forge/noarch        65kB\n",
            "  + tabulate                              0.9.0  pyhd8ed1ab_1                       conda-forge/noarch        36kB\n",
            "  + tblib                                 2.0.0  pyhd8ed1ab_0                       conda-forge/noarch        17kB\n",
            "  + terminado                            0.18.0  pyh0d859eb_0                       conda-forge/noarch        22kB\n",
            "  + threadpoolctl                         3.2.0  pyha21a80b_0                       conda-forge/noarch        21kB\n",
            "  + tifffile                           2020.6.3  py_0                               conda-forge/noarch       111kB\n",
            "  + tiledb                               2.16.3  hf0b6e87_3                         conda-forge/linux-64       6MB\n",
            "  + tinycss2                              1.2.1  pyhd8ed1ab_0                       conda-forge/noarch        23kB\n",
            "  + tornado                               6.3.3  py310h2372a71_1                    conda-forge/linux-64     642kB\n",
            "  + traitlets                            5.13.0  pyhd8ed1ab_0                       conda-forge/noarch       110kB\n",
            "  + treelite                              3.9.1  py310h4a6579d_0                    conda-forge/linux-64     765kB\n",
            "  + types-python-dateutil             2.8.19.14  pyhd8ed1ab_0                       conda-forge/noarch        21kB\n",
            "  + typing-extensions                     4.8.0  hd8ed1ab_0                         conda-forge/noarch        10kB\n",
            "  + typing_extensions                     4.8.0  pyha770c72_0                       conda-forge/noarch        35kB\n",
            "  + typing_utils                          0.1.0  pyhd8ed1ab_0                       conda-forge/noarch        14kB\n",
            "  + tzcode                                2023c  h0b41bf4_0                         conda-forge/linux-64      69kB\n",
            "  + tzlocal                                 5.2  py310hff52083_0                    conda-forge/linux-64      36kB\n",
            "  + uc-micro-py                           1.0.1  pyhd8ed1ab_0                       conda-forge/noarch         9kB\n",
            "  + ucx                                  1.14.1  h64cca9d_5                         conda-forge/linux-64      15MB\n",
            "  + ucx-proc                              1.0.0  gpu                                rapidsai/linux-64          9kB\n",
            "  + ucx-py                              0.34.00  py310_231011_g17dceab_0            rapidsai/linux-64        474kB\n",
            "  + unicodedata2                         15.1.0  py310h2372a71_0                    conda-forge/linux-64     374kB\n",
            "  + uri-template                          1.3.0  pyhd8ed1ab_0                       conda-forge/noarch        24kB\n",
            "  + uriparser                             0.9.7  hcb278e6_1                         conda-forge/linux-64      47kB\n",
            "  + uvicorn                              0.24.0  py310hff52083_0                    conda-forge/linux-64      97kB\n",
            "  + wcwidth                              0.2.12  pyhd8ed1ab_0                       conda-forge/noarch        32kB\n",
            "  + webcolors                              1.13  pyhd8ed1ab_0                       conda-forge/noarch        18kB\n",
            "  + webencodings                          0.5.1  pyhd8ed1ab_2                       conda-forge/noarch        16kB\n",
            "  + websocket-client                      1.6.4  pyhd8ed1ab_0                       conda-forge/noarch        46kB\n",
            "  + websockets                             10.4  py310h5764c6d_1                    conda-forge/linux-64     129kB\n",
            "  + xarray                            2023.11.0  pyhd8ed1ab_0                       conda-forge/noarch       713kB\n",
            "  + xerces-c                              3.2.4  h8d71039_2                         conda-forge/linux-64       2MB\n",
            "  + xgboost                               1.7.6  rapidsai_py310h1395376_2310        rapidsai/linux-64         16kB\n",
            "  + xorg-kbproto                          1.0.7  h7f98852_1002                      conda-forge/linux-64      27kB\n",
            "  + xorg-libice                           1.1.1  hd590300_0                         conda-forge/linux-64      58kB\n",
            "  + xorg-libsm                            1.2.4  h7391055_0                         conda-forge/linux-64      27kB\n",
            "  + xorg-libx11                           1.8.7  h8ee46fc_0                         conda-forge/linux-64     829kB\n",
            "  + xorg-libxau                          1.0.11  hd590300_0                         conda-forge/linux-64      14kB\n",
            "  + xorg-libxdmcp                         1.1.3  h7f98852_0                         conda-forge/linux-64      19kB\n",
            "  + xorg-libxext                          1.3.4  h0b41bf4_2                         conda-forge/linux-64      50kB\n",
            "  + xorg-libxrender                      0.9.11  hd590300_0                         conda-forge/linux-64      38kB\n",
            "  + xorg-renderproto                     0.11.1  h7f98852_1002                      conda-forge/linux-64      10kB\n",
            "  + xorg-xextproto                        7.3.0  h0b41bf4_1003                      conda-forge/linux-64      30kB\n",
            "  + xorg-xproto                          7.0.31  h7f98852_1007                      conda-forge/linux-64      75kB\n",
            "  + xyzservices                       2023.10.1  pyhd8ed1ab_0                       conda-forge/noarch        36kB\n",
            "  + yaml                                  0.2.5  h7f98852_2                         conda-forge/linux-64      89kB\n",
            "  + yarl                                  1.9.2  py310h2372a71_1                    conda-forge/linux-64      98kB\n",
            "  + zeromq                                4.3.5  h59595ed_0                         conda-forge/linux-64     343kB\n",
            "  + zict                                  3.0.0  pyhd8ed1ab_0                       conda-forge/noarch        36kB\n",
            "  + zipp                                 3.17.0  pyhd8ed1ab_0                       conda-forge/noarch        19kB\n",
            "  + zlib                                 1.2.13  h166bdaf_4                         conda-forge/linux-64      94kB\n",
            "\n",
            "  Change:\n",
            "────────────────────────────────────────────────────────────────────────────────────────────────────────────────────\n",
            "\n",
            "  - libarchive                            3.6.2  h3d51595_0                         conda-forge\n",
            "  + libarchive                            3.6.2  h039dbb9_1                         conda-forge/linux-64     844kB\n",
            "\n",
            "  Upgrade:\n",
            "────────────────────────────────────────────────────────────────────────────────────────────────────────────────────\n",
            "\n",
            "  - krb5                                 1.20.1  h81ceb04_0                         conda-forge\n",
            "  + krb5                                 1.21.2  h659d440_0                         conda-forge/linux-64       1MB\n",
            "  - libcurl                              7.88.1  hdc1c0ab_1                         conda-forge\n",
            "  + libcurl                               8.4.0  hca28451_0                         conda-forge/linux-64     386kB\n",
            "  - libmamba                              1.4.1  hcea66bb_0                         conda-forge\n",
            "  + libmamba                              1.5.0  h658169a_0                         conda-forge/linux-64       2MB\n",
            "  - libmambapy                            1.4.1  py310h1428755_0                    conda-forge\n",
            "  + libmambapy                            1.5.0  py310h8aae740_0                    conda-forge/linux-64     297kB\n",
            "  - libsolv                              0.7.23  h3eb15da_0                         conda-forge\n",
            "  + libsolv                              0.7.27  hfc55251_0                         conda-forge/linux-64     470kB\n",
            "  - libsqlite                            3.40.0  h753d276_0                         conda-forge\n",
            "  + libsqlite                            3.44.2  h2797004_0                         conda-forge/linux-64     846kB\n",
            "  - libssh2                              1.10.0  hf14f497_3                         conda-forge\n",
            "  + libssh2                              1.11.0  h0841786_0                         conda-forge/linux-64     271kB\n",
            "  - libxml2                              2.10.3  hfdac1af_6                         conda-forge\n",
            "  + libxml2                              2.11.5  h0d562d8_0                         conda-forge/linux-64     705kB\n",
            "  - mamba                                 1.4.1  py310h51d5547_0                    conda-forge\n",
            "  + mamba                                 1.5.0  py310h51d5547_0                    conda-forge/linux-64      51kB\n",
            "  - zstd                                  1.5.2  h3eb15da_6                         conda-forge\n",
            "  + zstd                                  1.5.5  hfc55251_0                         conda-forge/linux-64     545kB\n",
            "\n",
            "  Summary:\n",
            "\n",
            "  Install: 382 packages\n",
            "  Change: 1 packages\n",
            "  Upgrade: 10 packages\n",
            "\n",
            "  Total download: 5GB\n",
            "\n",
            "────────────────────────────────────────────────────────────────────────────────────────────────────────────────────\n",
            "\n",
            "\n",
            "\n",
            "Looking for: ['python=3.10', 'cudatoolkit=11.8', 'rapids=23.10', 'llvmlite', 'gcsfs', 'openssl', 'dask-sql']\n",
            "\n",
            "\n",
            "Pinned packages:\n",
            "  - python 3.10.*\n",
            "  - python_abi 3.10.* *cp310*\n",
            "  - cudatoolkit 11.8.*\n",
            "\n",
            "\n",
            "\n",
            "Downloading and Extracting Packages\n",
            "\n",
            "Preparing transaction: ...working... done\n",
            "Verifying transaction: ...working... done\n",
            "Executing transaction: ...working... By downloading and using the CUDA Toolkit conda packages, you accept the terms and conditions of the CUDA End User License Agreement (EULA): https://docs.nvidia.com/cuda/eula/index.html\n",
            "\n",
            "\n",
            "By downloading and using the CubinLinker conda packages, you accept the terms and conditions of the CubinLinker License Agreement: https://docs.rapids.ai/licenses/CubinLinker.txt\n",
            "\n",
            "done\n",
            "RAPIDS conda installation complete.  Updating Colab's libraries...\n",
            "Copying /usr/local/lib/libcudf.so to /usr/lib/libcudf.so\n",
            "Copying /usr/local/lib/libnccl.so to /usr/lib/libnccl.so\n",
            "Copying /usr/local/lib/libcuml.so to /usr/lib/libcuml.so\n",
            "Copying /usr/local/lib/libcugraph.so to /usr/lib/libcugraph.so\n",
            "Copying /usr/local/lib/libxgboost.so to /usr/lib/libxgboost.so\n",
            "Copying /usr/local/lib/libcuspatial.so to /usr/lib/libcuspatial.so\n",
            "Copying /usr/local/lib/libgeos.so to /usr/lib/libgeos.so\n",
            "Copying /usr/local/lib/libgeos_c.so to /usr/lib/libgeos_c.so\n"
          ]
        }
      ],
      "source": [
        "# Installing RAPIDS is now 'python rapidsai-csp-utils/colab/install_rapids.py <release> <packages>'\n",
        "# The <release> options are 'stable' and 'nightly'.  Leaving it blank or adding any other words will default to stable.\n",
        "!python rapidsai-csp-utils/colab/install_rapids.py stable\n",
        "import os\n",
        "os.environ['NUMBAPRO_NVVM'] = '/usr/local/cuda/nvvm/lib64/libnvvm.so'\n",
        "os.environ['NUMBAPRO_LIBDEVICE'] = '/usr/local/cuda/nvvm/libdevice/'\n",
        "os.environ['CONDA_PREFIX'] = '/usr/local'"
      ]
    },
    {
      "cell_type": "markdown",
      "metadata": {
        "id": "wKSvbcSjO7_Q"
      },
      "source": [
        "# Obligatorio Deep Learning\n",
        "## 1. Setup\n",
        "### 1.1 Imports"
      ]
    },
    {
      "cell_type": "code",
      "execution_count": 3,
      "metadata": {
        "colab": {
          "base_uri": "https://localhost:8080/"
        },
        "id": "Ntv1OfCFPON4",
        "outputId": "4cd98981-f34a-4a06-8448-f2a7b4ef7bf7"
      },
      "outputs": [
        {
          "output_type": "stream",
          "name": "stdout",
          "text": [
            "/content/drive/MyDrive/Colab Notebooks/Datasets\n"
          ]
        }
      ],
      "source": [
        "%cd /content/drive/MyDrive/Colab Notebooks/Datasets"
      ]
    },
    {
      "cell_type": "code",
      "execution_count": 4,
      "metadata": {
        "id": "SKGamGUw7P-K"
      },
      "outputs": [],
      "source": [
        "# !git clone https://github.com/rapidsai/rapidsai-csp-utils.git\n",
        "# !python rapidsai-csp-utils/colab/pip-install.py\n",
        "\n"
      ]
    },
    {
      "cell_type": "code",
      "execution_count": 6,
      "metadata": {
        "id": "k4mtmw9c7WNk"
      },
      "outputs": [],
      "source": [
        "import cudf\n",
        "\n",
        "# Path to your CSV file\n",
        "file_path = '/content/drive/MyDrive/Colab Notebooks/Datasets/obligatorio_DL/public_train_data.csv'\n",
        "\n",
        "# Read the CSV file using dask_cudf\n",
        "df = cudf.read_csv(file_path)"
      ]
    },
    {
      "cell_type": "code",
      "execution_count": 7,
      "metadata": {
        "colab": {
          "base_uri": "https://localhost:8080/",
          "height": 439
        },
        "id": "VfIN1Gs7AWmU",
        "outputId": "4f24648f-31cf-44a5-d07b-4f808e7bb5e3"
      },
      "outputs": [
        {
          "output_type": "execute_result",
          "data": {
            "text/plain": [
              "   id Last Scraped                                         Name  \\\n",
              "0   0   2017-05-12  Grand Loft in the heart of historic Antwerp   \n",
              "1   1   2017-05-03             CHARMING, CLEAN & COZY BUNGALOW!   \n",
              "\n",
              "                                             Summary  \\\n",
              "0  Best location for visiting Antwerp!! Beautiful...   \n",
              "1  Very centrally located and less than 15 min fr...   \n",
              "\n",
              "                                               Space  \\\n",
              "0  Welcome in Antwerp!! The loft is situated on t...   \n",
              "1       Well lit, private entrance with small patio.   \n",
              "\n",
              "                                         Description Experiences Offered  \\\n",
              "0  Best location for visiting Antwerp!! Beautiful...                none   \n",
              "1  Very centrally located and less than 15 min fr...                none   \n",
              "\n",
              "                          Neighborhood Overview  \\\n",
              "0                                          <NA>   \n",
              "1  Quiet. Pretty tree lined streets, safe area.   \n",
              "\n",
              "                                        Notes  \\\n",
              "0                                        <NA>   \n",
              "1  Has dining table and high back desk chair.   \n",
              "\n",
              "                                             Transit  ...  \\\n",
              "0                                               <NA>  ...   \n",
              "1  Uber, bus line and metro link is less than 5 m...  ...   \n",
              "\n",
              "  Review Scores Location Review Scores Value License       Jurisdiction Names  \\\n",
              "0                   10.0                 9.0    <NA>                     <NA>   \n",
              "1                   <NA>                <NA>    <NA>  City of Los Angeles, CA   \n",
              "\n",
              "  Cancellation Policy Calculated host listings count  Reviews per Month  \\\n",
              "0              strict                            2.0                2.6   \n",
              "1            flexible                            1.0               <NA>   \n",
              "\n",
              "                             Geolocation  \\\n",
              "0  51.21938762207894, 4.4034442505151885   \n",
              "1  34.1892692286356, -118.41993491931177   \n",
              "\n",
              "                                 Features  Price  \n",
              "0   Host Has Profile Pic,Instant Bookable  159.0  \n",
              "1  Host Has Profile Pic,Is Location Exact   49.0  \n",
              "\n",
              "[2 rows x 85 columns]"
            ],
            "text/html": [
              "<div>\n",
              "<style scoped>\n",
              "    .dataframe tbody tr th:only-of-type {\n",
              "        vertical-align: middle;\n",
              "    }\n",
              "\n",
              "    .dataframe tbody tr th {\n",
              "        vertical-align: top;\n",
              "    }\n",
              "\n",
              "    .dataframe thead th {\n",
              "        text-align: right;\n",
              "    }\n",
              "</style>\n",
              "<table border=\"1\" class=\"dataframe\">\n",
              "  <thead>\n",
              "    <tr style=\"text-align: right;\">\n",
              "      <th></th>\n",
              "      <th>id</th>\n",
              "      <th>Last Scraped</th>\n",
              "      <th>Name</th>\n",
              "      <th>Summary</th>\n",
              "      <th>Space</th>\n",
              "      <th>Description</th>\n",
              "      <th>Experiences Offered</th>\n",
              "      <th>Neighborhood Overview</th>\n",
              "      <th>Notes</th>\n",
              "      <th>Transit</th>\n",
              "      <th>...</th>\n",
              "      <th>Review Scores Location</th>\n",
              "      <th>Review Scores Value</th>\n",
              "      <th>License</th>\n",
              "      <th>Jurisdiction Names</th>\n",
              "      <th>Cancellation Policy</th>\n",
              "      <th>Calculated host listings count</th>\n",
              "      <th>Reviews per Month</th>\n",
              "      <th>Geolocation</th>\n",
              "      <th>Features</th>\n",
              "      <th>Price</th>\n",
              "    </tr>\n",
              "  </thead>\n",
              "  <tbody>\n",
              "    <tr>\n",
              "      <th>0</th>\n",
              "      <td>0</td>\n",
              "      <td>2017-05-12</td>\n",
              "      <td>Grand Loft in the heart of historic Antwerp</td>\n",
              "      <td>Best location for visiting Antwerp!! Beautiful...</td>\n",
              "      <td>Welcome in Antwerp!! The loft is situated on t...</td>\n",
              "      <td>Best location for visiting Antwerp!! Beautiful...</td>\n",
              "      <td>none</td>\n",
              "      <td>&lt;NA&gt;</td>\n",
              "      <td>&lt;NA&gt;</td>\n",
              "      <td>&lt;NA&gt;</td>\n",
              "      <td>...</td>\n",
              "      <td>10.0</td>\n",
              "      <td>9.0</td>\n",
              "      <td>&lt;NA&gt;</td>\n",
              "      <td>&lt;NA&gt;</td>\n",
              "      <td>strict</td>\n",
              "      <td>2.0</td>\n",
              "      <td>2.6</td>\n",
              "      <td>51.21938762207894, 4.4034442505151885</td>\n",
              "      <td>Host Has Profile Pic,Instant Bookable</td>\n",
              "      <td>159.0</td>\n",
              "    </tr>\n",
              "    <tr>\n",
              "      <th>1</th>\n",
              "      <td>1</td>\n",
              "      <td>2017-05-03</td>\n",
              "      <td>CHARMING, CLEAN &amp; COZY BUNGALOW!</td>\n",
              "      <td>Very centrally located and less than 15 min fr...</td>\n",
              "      <td>Well lit, private entrance with small patio.</td>\n",
              "      <td>Very centrally located and less than 15 min fr...</td>\n",
              "      <td>none</td>\n",
              "      <td>Quiet. Pretty tree lined streets, safe area.</td>\n",
              "      <td>Has dining table and high back desk chair.</td>\n",
              "      <td>Uber, bus line and metro link is less than 5 m...</td>\n",
              "      <td>...</td>\n",
              "      <td>&lt;NA&gt;</td>\n",
              "      <td>&lt;NA&gt;</td>\n",
              "      <td>&lt;NA&gt;</td>\n",
              "      <td>City of Los Angeles, CA</td>\n",
              "      <td>flexible</td>\n",
              "      <td>1.0</td>\n",
              "      <td>&lt;NA&gt;</td>\n",
              "      <td>34.1892692286356, -118.41993491931177</td>\n",
              "      <td>Host Has Profile Pic,Is Location Exact</td>\n",
              "      <td>49.0</td>\n",
              "    </tr>\n",
              "  </tbody>\n",
              "</table>\n",
              "<p>2 rows × 85 columns</p>\n",
              "</div>"
            ]
          },
          "metadata": {},
          "execution_count": 7
        }
      ],
      "source": [
        "df.head(2)"
      ]
    },
    {
      "cell_type": "code",
      "execution_count": 8,
      "metadata": {
        "colab": {
          "base_uri": "https://localhost:8080/"
        },
        "id": "2Lp-JkqZO7_V",
        "outputId": "dffae32e-aa3d-4a69-9cf3-66abdab8c059"
      },
      "outputs": [
        {
          "output_type": "stream",
          "name": "stdout",
          "text": [
            "<class 'cudf.core.dataframe.DataFrame'>\n",
            "RangeIndex: 326287 entries, 0 to 326286\n",
            "Data columns (total 85 columns):\n",
            " #   Column                          Non-Null Count   Dtype\n",
            "---  ------                          --------------   -----\n",
            " 0   id                              326287 non-null  int64\n",
            " 1   Last Scraped                    326286 non-null  object\n",
            " 2   Name                            326018 non-null  object\n",
            " 3   Summary                         315651 non-null  object\n",
            " 4   Space                           228792 non-null  object\n",
            " 5   Description                     326188 non-null  object\n",
            " 6   Experiences Offered             326287 non-null  object\n",
            " 7   Neighborhood Overview           192513 non-null  object\n",
            " 8   Notes                           130729 non-null  object\n",
            " 9   Transit                         200649 non-null  object\n",
            " 10  Access                          177108 non-null  object\n",
            " 11  Interaction                     169193 non-null  object\n",
            " 12  House Rules                     195763 non-null  object\n",
            " 13  Thumbnail Url                   264638 non-null  object\n",
            " 14  Medium Url                      264637 non-null  object\n",
            " 15  Picture Url                     325786 non-null  object\n",
            " 16  XL Picture Url                  264638 non-null  object\n",
            " 17  Host ID                         326287 non-null  int64\n",
            " 18  Host URL                        326287 non-null  object\n",
            " 19  Host Name                       325970 non-null  object\n",
            " 20  Host Since                      325970 non-null  object\n",
            " 21  Host Location                   324801 non-null  object\n",
            " 22  Host About                      195571 non-null  object\n",
            " 23  Host Response Time              250846 non-null  object\n",
            " 24  Host Response Rate              250845 non-null  float64\n",
            " 25  Host Acceptance Rate            27630 non-null   object\n",
            " 26  Host Thumbnail Url              325971 non-null  object\n",
            " 27  Host Picture Url                325971 non-null  object\n",
            " 28  Host Neighbourhood              244207 non-null  object\n",
            " 29  Host Listings Count             325971 non-null  float64\n",
            " 30  Host Total Listings Count       325970 non-null  float64\n",
            " 31  Host Verifications              325751 non-null  object\n",
            " 32  Street                          326287 non-null  object\n",
            " 33  Neighbourhood                   227447 non-null  object\n",
            " 34  Neighbourhood Cleansed          326287 non-null  object\n",
            " 35  Neighbourhood Group Cleansed    68297 non-null   object\n",
            " 36  City                            326004 non-null  object\n",
            " 37  State                           294992 non-null  object\n",
            " 38  Zipcode                         313815 non-null  object\n",
            " 39  Market                          322672 non-null  object\n",
            " 40  Smart Location                  326286 non-null  object\n",
            " 41  Country Code                    326286 non-null  object\n",
            " 42  Country                         326286 non-null  object\n",
            " 43  Latitude                        326287 non-null  float64\n",
            " 44  Longitude                       326287 non-null  float64\n",
            " 45  Property Type                   326280 non-null  object\n",
            " 46  Room Type                       326287 non-null  object\n",
            " 47  Accommodates                    326244 non-null  float64\n",
            " 48  Bathrooms                       325300 non-null  float64\n",
            " 49  Bedrooms                        325873 non-null  float64\n",
            " 50  Beds                            325693 non-null  float64\n",
            " 51  Bed Type                        326287 non-null  object\n",
            " 52  Amenities                       323399 non-null  object\n",
            " 53  Square Feet                     7993 non-null    float64\n",
            " 54  Security Deposit                136142 non-null  float64\n",
            " 55  Cleaning Fee                    208181 non-null  float64\n",
            " 56  Guests Included                 326286 non-null  float64\n",
            " 57  Extra People                    326274 non-null  float64\n",
            " 58  Minimum Nights                  326286 non-null  float64\n",
            " 59  Maximum Nights                  326286 non-null  float64\n",
            " 60  Calendar Updated                326287 non-null  object\n",
            " 61  Has Availability                6249 non-null    object\n",
            " 62  Availability 30                 326286 non-null  float64\n",
            " 63  Availability 60                 326286 non-null  float64\n",
            " 64  Availability 90                 326286 non-null  float64\n",
            " 65  Availability 365                326286 non-null  float64\n",
            " 66  Calendar last Scraped           326286 non-null  object\n",
            " 67  Number of Reviews               326286 non-null  float64\n",
            " 68  First Review                    246983 non-null  object\n",
            " 69  Last Review                     247046 non-null  object\n",
            " 70  Review Scores Rating            243160 non-null  float64\n",
            " 71  Review Scores Accuracy          242584 non-null  float64\n",
            " 72  Review Scores Cleanliness       242732 non-null  float64\n",
            " 73  Review Scores Checkin           242378 non-null  float64\n",
            " 74  Review Scores Communication     242710 non-null  float64\n",
            " 75  Review Scores Location          242423 non-null  float64\n",
            " 76  Review Scores Value             242347 non-null  float64\n",
            " 77  License                         9804 non-null    object\n",
            " 78  Jurisdiction Names              89415 non-null   object\n",
            " 79  Cancellation Policy             326286 non-null  object\n",
            " 80  Calculated host listings count  325689 non-null  float64\n",
            " 81  Reviews per Month               246983 non-null  float64\n",
            " 82  Geolocation                     326287 non-null  object\n",
            " 83  Features                        326092 non-null  object\n",
            " 84  Price                           326287 non-null  float64\n",
            "dtypes: float64(31), int64(2), object(52)\n",
            "memory usage: 1.3+ GB\n"
          ]
        }
      ],
      "source": [
        "df.info()"
      ]
    },
    {
      "cell_type": "markdown",
      "metadata": {
        "id": "fBWWhtzoO7_V"
      },
      "source": [
        "### 3.4 Estadísticas descriptivas"
      ]
    },
    {
      "cell_type": "code",
      "execution_count": 9,
      "metadata": {
        "colab": {
          "base_uri": "https://localhost:8080/",
          "height": 471
        },
        "id": "0qEeGOEMO7_V",
        "outputId": "7fa6f8b5-d384-490a-96c2-8856b2edd147"
      },
      "outputs": [
        {
          "output_type": "stream",
          "name": "stderr",
          "text": [
            "/usr/local/lib/python3.10/site-packages/cudf/core/dataframe.py:5062: FutureWarning: `datetime_is_numeric` is deprecated. Specify `datetime_is_numeric=True` to silence this warning and adopt the future behavior now.\n",
            "  warnings.warn(\n",
            "/usr/local/lib/python3.10/site-packages/cudf/core/series.py:3334: FutureWarning: `datetime_is_numeric` is deprecated and will be removed in a future release. Specify `datetime_is_numeric=True` to silence this warning and adopt the future behavior now.\n",
            "  warnings.warn(\n"
          ]
        },
        {
          "output_type": "execute_result",
          "data": {
            "text/plain": [
              "                  id       Host ID  Host Response Rate  Host Listings Count  \\\n",
              "count  326287.000000  3.262870e+05       250845.000000        325971.000000   \n",
              "mean   163143.000000  3.236757e+07           93.408264             9.586000   \n",
              "std     94191.087979  3.174572e+07           17.536835            57.399711   \n",
              "min         0.000000  1.900000e+01            0.000000             0.000000   \n",
              "25%     81571.500000  6.869780e+06           98.000000             1.000000   \n",
              "50%    163143.000000  2.186737e+07          100.000000             1.000000   \n",
              "75%    244714.500000  4.799166e+07          100.000000             3.000000   \n",
              "max    326286.000000  1.350885e+08          100.000000          1114.000000   \n",
              "\n",
              "       Host Total Listings Count       Latitude      Longitude   Accommodates  \\\n",
              "count              325970.000000  326287.000000  326287.000000  326244.000000   \n",
              "mean                    9.586026      38.042816     -15.323924       3.270764   \n",
              "std                    57.399797      22.910029      70.101677       2.037446   \n",
              "min                     0.000000     -38.224427    -123.218712       1.000000   \n",
              "25%                     1.000000      38.923154     -73.968081       2.000000   \n",
              "50%                     1.000000      42.304549       0.090277       2.000000   \n",
              "75%                     3.000000      50.863658      12.342749       4.000000   \n",
              "max                  1114.000000      55.994889     153.637837      18.000000   \n",
              "\n",
              "           Bathrooms       Bedrooms  ...  Review Scores Rating  \\\n",
              "count  325300.000000  325873.000000  ...         243160.000000   \n",
              "mean        1.239482       1.358072  ...             92.880063   \n",
              "std         0.574784       0.921763  ...              8.569521   \n",
              "min         0.000000       0.000000  ...             20.000000   \n",
              "25%         1.000000       1.000000  ...             90.000000   \n",
              "50%         1.000000       1.000000  ...             95.000000   \n",
              "75%         1.000000       2.000000  ...            100.000000   \n",
              "max         8.000000      96.000000  ...            100.000000   \n",
              "\n",
              "       Review Scores Accuracy  Review Scores Cleanliness  \\\n",
              "count           242584.000000              242732.000000   \n",
              "mean                 9.524713                   9.326067   \n",
              "std                  0.855361                   1.038858   \n",
              "min                  2.000000                   2.000000   \n",
              "25%                  9.000000                   9.000000   \n",
              "50%                 10.000000                  10.000000   \n",
              "75%                 10.000000                  10.000000   \n",
              "max                 10.000000                  10.000000   \n",
              "\n",
              "       Review Scores Checkin  Review Scores Communication  \\\n",
              "count          242378.000000                242710.000000   \n",
              "mean                9.691416                     9.708253   \n",
              "std                 0.731702                     0.723143   \n",
              "min                 2.000000                     2.000000   \n",
              "25%                10.000000                    10.000000   \n",
              "50%                10.000000                    10.000000   \n",
              "75%                10.000000                    10.000000   \n",
              "max                10.000000                    10.000000   \n",
              "\n",
              "       Review Scores Location  Review Scores Value  \\\n",
              "count           242423.000000        242347.000000   \n",
              "mean                 9.468215             9.321031   \n",
              "std                  0.805116             0.906478   \n",
              "min                  2.000000             2.000000   \n",
              "25%                  9.000000             9.000000   \n",
              "50%                 10.000000            10.000000   \n",
              "75%                 10.000000            10.000000   \n",
              "max                 10.000000            10.000000   \n",
              "\n",
              "       Calculated host listings count  Reviews per Month          Price  \n",
              "count                   325689.000000      246983.000000  326287.000000  \n",
              "mean                         6.881531           1.486211     138.229041  \n",
              "std                         42.025986           1.752082     149.790527  \n",
              "min                          1.000000           0.010000       0.000000  \n",
              "25%                          1.000000           0.320000      55.000000  \n",
              "50%                          1.000000           0.890000      90.000000  \n",
              "75%                          2.000000           2.040000     150.000000  \n",
              "max                        752.000000         223.000000     999.000000  \n",
              "\n",
              "[8 rows x 33 columns]"
            ],
            "text/html": [
              "<div>\n",
              "<style scoped>\n",
              "    .dataframe tbody tr th:only-of-type {\n",
              "        vertical-align: middle;\n",
              "    }\n",
              "\n",
              "    .dataframe tbody tr th {\n",
              "        vertical-align: top;\n",
              "    }\n",
              "\n",
              "    .dataframe thead th {\n",
              "        text-align: right;\n",
              "    }\n",
              "</style>\n",
              "<table border=\"1\" class=\"dataframe\">\n",
              "  <thead>\n",
              "    <tr style=\"text-align: right;\">\n",
              "      <th></th>\n",
              "      <th>id</th>\n",
              "      <th>Host ID</th>\n",
              "      <th>Host Response Rate</th>\n",
              "      <th>Host Listings Count</th>\n",
              "      <th>Host Total Listings Count</th>\n",
              "      <th>Latitude</th>\n",
              "      <th>Longitude</th>\n",
              "      <th>Accommodates</th>\n",
              "      <th>Bathrooms</th>\n",
              "      <th>Bedrooms</th>\n",
              "      <th>...</th>\n",
              "      <th>Review Scores Rating</th>\n",
              "      <th>Review Scores Accuracy</th>\n",
              "      <th>Review Scores Cleanliness</th>\n",
              "      <th>Review Scores Checkin</th>\n",
              "      <th>Review Scores Communication</th>\n",
              "      <th>Review Scores Location</th>\n",
              "      <th>Review Scores Value</th>\n",
              "      <th>Calculated host listings count</th>\n",
              "      <th>Reviews per Month</th>\n",
              "      <th>Price</th>\n",
              "    </tr>\n",
              "  </thead>\n",
              "  <tbody>\n",
              "    <tr>\n",
              "      <th>count</th>\n",
              "      <td>326287.000000</td>\n",
              "      <td>3.262870e+05</td>\n",
              "      <td>250845.000000</td>\n",
              "      <td>325971.000000</td>\n",
              "      <td>325970.000000</td>\n",
              "      <td>326287.000000</td>\n",
              "      <td>326287.000000</td>\n",
              "      <td>326244.000000</td>\n",
              "      <td>325300.000000</td>\n",
              "      <td>325873.000000</td>\n",
              "      <td>...</td>\n",
              "      <td>243160.000000</td>\n",
              "      <td>242584.000000</td>\n",
              "      <td>242732.000000</td>\n",
              "      <td>242378.000000</td>\n",
              "      <td>242710.000000</td>\n",
              "      <td>242423.000000</td>\n",
              "      <td>242347.000000</td>\n",
              "      <td>325689.000000</td>\n",
              "      <td>246983.000000</td>\n",
              "      <td>326287.000000</td>\n",
              "    </tr>\n",
              "    <tr>\n",
              "      <th>mean</th>\n",
              "      <td>163143.000000</td>\n",
              "      <td>3.236757e+07</td>\n",
              "      <td>93.408264</td>\n",
              "      <td>9.586000</td>\n",
              "      <td>9.586026</td>\n",
              "      <td>38.042816</td>\n",
              "      <td>-15.323924</td>\n",
              "      <td>3.270764</td>\n",
              "      <td>1.239482</td>\n",
              "      <td>1.358072</td>\n",
              "      <td>...</td>\n",
              "      <td>92.880063</td>\n",
              "      <td>9.524713</td>\n",
              "      <td>9.326067</td>\n",
              "      <td>9.691416</td>\n",
              "      <td>9.708253</td>\n",
              "      <td>9.468215</td>\n",
              "      <td>9.321031</td>\n",
              "      <td>6.881531</td>\n",
              "      <td>1.486211</td>\n",
              "      <td>138.229041</td>\n",
              "    </tr>\n",
              "    <tr>\n",
              "      <th>std</th>\n",
              "      <td>94191.087979</td>\n",
              "      <td>3.174572e+07</td>\n",
              "      <td>17.536835</td>\n",
              "      <td>57.399711</td>\n",
              "      <td>57.399797</td>\n",
              "      <td>22.910029</td>\n",
              "      <td>70.101677</td>\n",
              "      <td>2.037446</td>\n",
              "      <td>0.574784</td>\n",
              "      <td>0.921763</td>\n",
              "      <td>...</td>\n",
              "      <td>8.569521</td>\n",
              "      <td>0.855361</td>\n",
              "      <td>1.038858</td>\n",
              "      <td>0.731702</td>\n",
              "      <td>0.723143</td>\n",
              "      <td>0.805116</td>\n",
              "      <td>0.906478</td>\n",
              "      <td>42.025986</td>\n",
              "      <td>1.752082</td>\n",
              "      <td>149.790527</td>\n",
              "    </tr>\n",
              "    <tr>\n",
              "      <th>min</th>\n",
              "      <td>0.000000</td>\n",
              "      <td>1.900000e+01</td>\n",
              "      <td>0.000000</td>\n",
              "      <td>0.000000</td>\n",
              "      <td>0.000000</td>\n",
              "      <td>-38.224427</td>\n",
              "      <td>-123.218712</td>\n",
              "      <td>1.000000</td>\n",
              "      <td>0.000000</td>\n",
              "      <td>0.000000</td>\n",
              "      <td>...</td>\n",
              "      <td>20.000000</td>\n",
              "      <td>2.000000</td>\n",
              "      <td>2.000000</td>\n",
              "      <td>2.000000</td>\n",
              "      <td>2.000000</td>\n",
              "      <td>2.000000</td>\n",
              "      <td>2.000000</td>\n",
              "      <td>1.000000</td>\n",
              "      <td>0.010000</td>\n",
              "      <td>0.000000</td>\n",
              "    </tr>\n",
              "    <tr>\n",
              "      <th>25%</th>\n",
              "      <td>81571.500000</td>\n",
              "      <td>6.869780e+06</td>\n",
              "      <td>98.000000</td>\n",
              "      <td>1.000000</td>\n",
              "      <td>1.000000</td>\n",
              "      <td>38.923154</td>\n",
              "      <td>-73.968081</td>\n",
              "      <td>2.000000</td>\n",
              "      <td>1.000000</td>\n",
              "      <td>1.000000</td>\n",
              "      <td>...</td>\n",
              "      <td>90.000000</td>\n",
              "      <td>9.000000</td>\n",
              "      <td>9.000000</td>\n",
              "      <td>10.000000</td>\n",
              "      <td>10.000000</td>\n",
              "      <td>9.000000</td>\n",
              "      <td>9.000000</td>\n",
              "      <td>1.000000</td>\n",
              "      <td>0.320000</td>\n",
              "      <td>55.000000</td>\n",
              "    </tr>\n",
              "    <tr>\n",
              "      <th>50%</th>\n",
              "      <td>163143.000000</td>\n",
              "      <td>2.186737e+07</td>\n",
              "      <td>100.000000</td>\n",
              "      <td>1.000000</td>\n",
              "      <td>1.000000</td>\n",
              "      <td>42.304549</td>\n",
              "      <td>0.090277</td>\n",
              "      <td>2.000000</td>\n",
              "      <td>1.000000</td>\n",
              "      <td>1.000000</td>\n",
              "      <td>...</td>\n",
              "      <td>95.000000</td>\n",
              "      <td>10.000000</td>\n",
              "      <td>10.000000</td>\n",
              "      <td>10.000000</td>\n",
              "      <td>10.000000</td>\n",
              "      <td>10.000000</td>\n",
              "      <td>10.000000</td>\n",
              "      <td>1.000000</td>\n",
              "      <td>0.890000</td>\n",
              "      <td>90.000000</td>\n",
              "    </tr>\n",
              "    <tr>\n",
              "      <th>75%</th>\n",
              "      <td>244714.500000</td>\n",
              "      <td>4.799166e+07</td>\n",
              "      <td>100.000000</td>\n",
              "      <td>3.000000</td>\n",
              "      <td>3.000000</td>\n",
              "      <td>50.863658</td>\n",
              "      <td>12.342749</td>\n",
              "      <td>4.000000</td>\n",
              "      <td>1.000000</td>\n",
              "      <td>2.000000</td>\n",
              "      <td>...</td>\n",
              "      <td>100.000000</td>\n",
              "      <td>10.000000</td>\n",
              "      <td>10.000000</td>\n",
              "      <td>10.000000</td>\n",
              "      <td>10.000000</td>\n",
              "      <td>10.000000</td>\n",
              "      <td>10.000000</td>\n",
              "      <td>2.000000</td>\n",
              "      <td>2.040000</td>\n",
              "      <td>150.000000</td>\n",
              "    </tr>\n",
              "    <tr>\n",
              "      <th>max</th>\n",
              "      <td>326286.000000</td>\n",
              "      <td>1.350885e+08</td>\n",
              "      <td>100.000000</td>\n",
              "      <td>1114.000000</td>\n",
              "      <td>1114.000000</td>\n",
              "      <td>55.994889</td>\n",
              "      <td>153.637837</td>\n",
              "      <td>18.000000</td>\n",
              "      <td>8.000000</td>\n",
              "      <td>96.000000</td>\n",
              "      <td>...</td>\n",
              "      <td>100.000000</td>\n",
              "      <td>10.000000</td>\n",
              "      <td>10.000000</td>\n",
              "      <td>10.000000</td>\n",
              "      <td>10.000000</td>\n",
              "      <td>10.000000</td>\n",
              "      <td>10.000000</td>\n",
              "      <td>752.000000</td>\n",
              "      <td>223.000000</td>\n",
              "      <td>999.000000</td>\n",
              "    </tr>\n",
              "  </tbody>\n",
              "</table>\n",
              "<p>8 rows × 33 columns</p>\n",
              "</div>"
            ]
          },
          "metadata": {},
          "execution_count": 9
        }
      ],
      "source": [
        "df.describe()"
      ]
    },
    {
      "cell_type": "code",
      "execution_count": 10,
      "metadata": {
        "colab": {
          "base_uri": "https://localhost:8080/"
        },
        "id": "LkP5LYdtO7_W",
        "outputId": "11e89fa0-93b6-4ea1-832d-4a0bc2bcd2a4"
      },
      "outputs": [
        {
          "output_type": "execute_result",
          "data": {
            "text/plain": [
              "Index(['id', 'Last Scraped', 'Name', 'Summary', 'Space', 'Description',\n",
              "       'Experiences Offered', 'Neighborhood Overview', 'Notes', 'Transit',\n",
              "       'Access', 'Interaction', 'House Rules', 'Thumbnail Url', 'Medium Url',\n",
              "       'Picture Url', 'XL Picture Url', 'Host ID', 'Host URL', 'Host Name',\n",
              "       'Host Since', 'Host Location', 'Host About', 'Host Response Time',\n",
              "       'Host Response Rate', 'Host Acceptance Rate', 'Host Thumbnail Url',\n",
              "       'Host Picture Url', 'Host Neighbourhood', 'Host Listings Count',\n",
              "       'Host Total Listings Count', 'Host Verifications', 'Street',\n",
              "       'Neighbourhood', 'Neighbourhood Cleansed',\n",
              "       'Neighbourhood Group Cleansed', 'City', 'State', 'Zipcode', 'Market',\n",
              "       'Smart Location', 'Country Code', 'Country', 'Latitude', 'Longitude',\n",
              "       'Property Type', 'Room Type', 'Accommodates', 'Bathrooms', 'Bedrooms',\n",
              "       'Beds', 'Bed Type', 'Amenities', 'Square Feet', 'Security Deposit',\n",
              "       'Cleaning Fee', 'Guests Included', 'Extra People', 'Minimum Nights',\n",
              "       'Maximum Nights', 'Calendar Updated', 'Has Availability',\n",
              "       'Availability 30', 'Availability 60', 'Availability 90',\n",
              "       'Availability 365', 'Calendar last Scraped', 'Number of Reviews',\n",
              "       'First Review', 'Last Review', 'Review Scores Rating',\n",
              "       'Review Scores Accuracy', 'Review Scores Cleanliness',\n",
              "       'Review Scores Checkin', 'Review Scores Communication',\n",
              "       'Review Scores Location', 'Review Scores Value', 'License',\n",
              "       'Jurisdiction Names', 'Cancellation Policy',\n",
              "       'Calculated host listings count', 'Reviews per Month', 'Geolocation',\n",
              "       'Features', 'Price'],\n",
              "      dtype='object')"
            ]
          },
          "metadata": {},
          "execution_count": 10
        }
      ],
      "source": [
        "df.columns"
      ]
    },
    {
      "cell_type": "code",
      "execution_count": 11,
      "metadata": {
        "colab": {
          "base_uri": "https://localhost:8080/"
        },
        "id": "Wedud4uTQtiZ",
        "outputId": "bd3369b9-ae62-454c-881e-8d2c0e9cce3b"
      },
      "outputs": [
        {
          "output_type": "execute_result",
          "data": {
            "text/plain": [
              "(326287, 85)"
            ]
          },
          "metadata": {},
          "execution_count": 11
        }
      ],
      "source": [
        "df.shape"
      ]
    },
    {
      "cell_type": "code",
      "execution_count": 12,
      "metadata": {
        "id": "63gdNiQiFLn7"
      },
      "outputs": [],
      "source": [
        "import cudf\n",
        "import cuml\n",
        "from cuml.preprocessing import StandardScaler, OneHotEncoder\n",
        "from sklearn.impute import SimpleImputer\n",
        "from sklearn.model_selection import train_test_split\n",
        "# from cudf.core.subword_tokenizer import SubwordTokenizer\n",
        "# import dask_cudf\n",
        "# import dask\n",
        "import numpy as np\n",
        "\n",
        "unique_value_threshold = 20\n",
        "\n",
        "# Separate features and target\n",
        "df_train = df.drop('Price', axis=1)\n",
        "y = df['Price']\n",
        "\n",
        "# Identify numerical columns\n",
        "numerical_cols = df.select_dtypes(include=['float64', 'int64']).columns.tolist()\n",
        "\n",
        "# Initialize lists for categorical and textual columns\n",
        "categorical_cols = []\n",
        "text_cols = []\n",
        "\n",
        "# Iterate over columns and classify them as categorical or textual based on unique values\n",
        "for col in df.columns:\n",
        "    if col not in numerical_cols:\n",
        "        unique_values = df[col].nunique(dropna=False)\n",
        "        if unique_values < unique_value_threshold:\n",
        "            categorical_cols.append(col)\n",
        "        else:\n",
        "            text_cols.append(col)\n",
        "\n",
        "# Split the data\n",
        "X_train, X_test, y_train, y_test = train_test_split(df_train, y, test_size=0.2, random_state=0)\n",
        "\n",
        "# Define important text columns\n",
        "important_text_cols = ['Name', 'Summary', 'Description', 'Neighborhood Overview', 'Transit', 'Access', 'Interaction', 'House Rules']\n",
        "text_cols_important = [column for column in text_cols if column in important_text_cols]\n",
        "# Now create the cuDF DataFrame\n",
        "X_text_train = cudf.DataFrame(X_train[text_cols_important])\n",
        "X_text_test = cudf.DataFrame(X_test[text_cols_important])"
      ]
    },
    {
      "cell_type": "code",
      "execution_count": 13,
      "metadata": {
        "colab": {
          "base_uri": "https://localhost:8080/"
        },
        "id": "4q0g4VSuGIpy",
        "outputId": "6ed6801c-4997-4b03-b192-cb9019dcc618"
      },
      "outputs": [
        {
          "output_type": "stream",
          "name": "stderr",
          "text": [
            "[nltk_data] Downloading package stopwords to /root/nltk_data...\n",
            "[nltk_data]   Unzipping corpora/stopwords.zip.\n"
          ]
        }
      ],
      "source": [
        "import nltk\n",
        "from nltk.corpus import stopwords\n",
        "\n",
        "nltk.download('stopwords')\n",
        "\n",
        "# List of top 10 languages (modify as needed)\n",
        "languages = ['english', 'spanish', 'chinese', 'arabic', 'portuguese', 'indonesian', 'french', 'russian', 'german']\n",
        "\n",
        "# Create a combined set of stopwords from these languages\n",
        "combined_stopwords = set()\n",
        "for lang in languages:\n",
        "    combined_stopwords.update(stopwords.words(lang))\n"
      ]
    },
    {
      "cell_type": "code",
      "source": [
        "import re\n",
        "from bs4 import BeautifulSoup\n",
        "import numpy as np\n",
        "import pandas as pd\n",
        "import cudf\n",
        "import cuml\n",
        "from cuml.preprocessing import StandardScaler, OneHotEncoder\n",
        "from sklearn.impute import SimpleImputer\n",
        "from sklearn.model_selection import train_test_split\n",
        "import tensorflow as tf\n",
        "from transformers import TFBertModel, BertTokenizer\n",
        "from sklearn.model_selection import train_test_split\n",
        "from sklearn.preprocessing import StandardScaler\n",
        "\n",
        "# tokenizer = BertTokenizer.from_pretrained('bert-base-multilingual-uncased')\n",
        "# bert_model = TFBertModel.from_pretrained('bert-base-multilingual-uncased')\n",
        "seed = 42\n",
        "\n",
        "from transformers import DistilBertTokenizer, TFDistilBertModel\n",
        "\n",
        "tokenizer = DistilBertTokenizer.from_pretrained('distilbert-base-multilingual-cased')\n",
        "model = TFDistilBertModel.from_pretrained('distilbert-base-multilingual-cased')\n",
        "\n",
        "\n",
        "batch_size = 1000  # Adjust this based on your GPU memory\n",
        "max_length = 300\n",
        "# Function to clean a batch of text\n",
        "def clean_batch(batch):\n",
        "    # Remove HTML tags\n",
        "    batch = batch.str.replace('<.*?>', '', regex=True)\n",
        "\n",
        "    # Correct encoding issues and remove special characters\n",
        "    batch = batch.str.replace(\"&amp;\", \"&\").replace(\"&lt;\", \"<\").replace(\"&gt;\", \">\")\n",
        "    batch = batch.str.replace(r'[^a-zA-Z0-9.,!?/:;\\\"\\'\\s]', '', regex=True)\n",
        "\n",
        "    # Replace multiple spaces with a single space\n",
        "    batch = batch.str.replace(r'\\s+', ' ', regex=True).str.strip()\n",
        "\n",
        "    return batch\n",
        "\n",
        "# Function to process text data in batches\n",
        "def process_in_batches(df, column_name,batch_size):\n",
        "    num_rows = len(df)\n",
        "    num_batches = np.ceil(num_rows / batch_size).astype(int)\n",
        "\n",
        "    for i in range(num_batches):\n",
        "        batch_start = i * batch_size\n",
        "        batch_end = min(batch_start + batch_size, num_rows)\n",
        "        batch = df[column_name].iloc[batch_start:batch_end]\n",
        "        cleaned_batch = clean_batch(batch)\n",
        "        df[column_name].iloc[batch_start:batch_end] = cleaned_batch\n",
        "\n",
        "    return df\n",
        "\n",
        "def preprocess_each_column_in_batches(df,columns,batch_size=1000):\n",
        "  for col in columns:\n",
        "    df = process_in_batches(df, col,batch_size)\n",
        "  return df\n",
        "\n",
        "def combine_text_columns(df, columns, column_name='combined_text'):\n",
        "  for col in columns:\n",
        "    df[col] = df[col].astype(str)\n",
        "  df[column_name] = ''\n",
        "  for col in columns:\n",
        "    df[column_name] = df[column_name] + df[col] + ' '\n",
        "\n",
        "  df[column_name] = df[column_name].str.strip()\n",
        "  return df\n",
        "\n",
        "\n",
        "def batch_encode(texts, max_length, batch_size=512):\n",
        "    input_ids = []\n",
        "    attention_masks = []\n",
        "\n",
        "    # Convert cuDF Series to Pandas Series and handle null values\n",
        "    if isinstance(texts, cudf.Series):\n",
        "        texts = texts.to_pandas().fillna(\"\")\n",
        "\n",
        "    # Ensure all data are strings\n",
        "    texts = texts.astype(str)\n",
        "\n",
        "    for i in range(0, len(texts), batch_size):\n",
        "        batch = texts[i:i+batch_size]\n",
        "        encoded = tokenizer.batch_encode_plus(\n",
        "            batch,\n",
        "            add_special_tokens=True,\n",
        "            padding='max_length',\n",
        "            truncation=True,\n",
        "            max_length=max_length,\n",
        "            return_attention_mask=True,\n",
        "            return_tensors='tf'\n",
        "        )\n",
        "        input_ids.append(encoded['input_ids'])\n",
        "        attention_masks.append(encoded['attention_mask'])\n",
        "\n",
        "    input_ids = tf.concat(input_ids, axis=0)\n",
        "    attention_masks = tf.concat(attention_masks, axis=0)\n",
        "    return input_ids, attention_masks\n",
        "\n",
        "def fit_scaler(y,scaler):\n",
        "  scaler.fit(y.to_numpy().reshape(-1, 1))\n",
        "  return scaler\n",
        "\n",
        "def preprocess_target(y, scaler):\n",
        "  labels = scaler.transform(y.to_numpy().reshape(-1,1))\n",
        "  return labels\n",
        "\n",
        "def create_dataset(input_ids, attention_masks, labels, batch_size=32):\n",
        "    dataset = tf.data.Dataset.from_tensor_slices((\n",
        "        {\n",
        "            'input_ids': input_ids,\n",
        "            'attention_mask': attention_masks\n",
        "        },\n",
        "        labels\n",
        "    ))\n",
        "    dataset = dataset.shuffle(len(labels)).batch(batch_size).prefetch(tf.data.AUTOTUNE)\n",
        "    return dataset"
      ],
      "metadata": {
        "colab": {
          "base_uri": "https://localhost:8080/"
        },
        "id": "e8MTFSaIn6q6",
        "outputId": "efb5a4dd-489b-428d-923b-8895639615a2"
      },
      "execution_count": 9,
      "outputs": [
        {
          "output_type": "stream",
          "name": "stderr",
          "text": [
            "Some weights of the PyTorch model were not used when initializing the TF 2.0 model TFDistilBertModel: ['vocab_projector.bias', 'vocab_layer_norm.bias', 'vocab_transform.bias', 'vocab_transform.weight', 'vocab_layer_norm.weight']\n",
            "- This IS expected if you are initializing TFDistilBertModel from a PyTorch model trained on another task or with another architecture (e.g. initializing a TFBertForSequenceClassification model from a BertForPreTraining model).\n",
            "- This IS NOT expected if you are initializing TFDistilBertModel from a PyTorch model that you expect to be exactly identical (e.g. initializing a TFBertForSequenceClassification model from a BertForSequenceClassification model).\n",
            "All the weights of TFDistilBertModel were initialized from the PyTorch model.\n",
            "If your task is similar to the task the model of the checkpoint was trained on, you can already use TFDistilBertModel for predictions without further training.\n"
          ]
        }
      ]
    },
    {
      "cell_type": "code",
      "source": [
        "%%time\n",
        "print(\"---------------------------Preprocesamiento de Texto---------------------------\")\n",
        "print(\"--------------Train----------------\")\n",
        "print(\"Empezando preprocesamiento\")\n",
        "X_train_text_clean = preprocess_each_column_in_batches(X_text_train, important_text_cols)\n",
        "X_train_text_combined = combine_text_columns(X_train_text_clean,important_text_cols)\n",
        "print(\"Terminando limpieza y combinacion de texto\")\n",
        "print(\"Empezando a hacer encoding de columnas de texto\")\n",
        "X_train_input_ids, X_train_attention_masks = batch_encode(X_train_text_combined['combined_text'],max_length,batch_size=512)\n",
        "print(\"Terminadas de procesar las columnas de texto\")\n",
        "\n",
        "price_scaler = StandardScaler()\n",
        "print(\"Escalar columna de precio\")\n",
        "price_scaler_fitted = fit_scaler(y_train,price_scaler)\n",
        "print(\"Generando labels\")\n",
        "train_labels = preprocess_target(y_train, price_scaler_fitted)\n",
        "print(\"Creando dataset\")\n",
        "train_dataset = create_dataset(X_train_input_ids,X_train_attention_masks, train_labels, batch_size=32)\n",
        "\n",
        "print(\"--------------Train----------------\")\n",
        "print(\"Empezando preprocesamiento\")\n",
        "X_test_text_clean = preprocess_each_column_in_batches(X_text_test, important_text_cols)\n",
        "X_test_text_combined = combine_text_columns(X_test_text_clean,important_text_cols)\n",
        "print(\"Terminando limpieza y combinacion de texto\")\n",
        "print(\"Empezando a hacer encoding de columnas de texto\")\n",
        "X_test_input_ids, X_test_attention_masks = batch_encode(X_test_text_combined['combined_text'],max_length,batch_size=512)\n",
        "print(\"Terminadas de procesar las columnas de texto\")\n",
        "\n",
        "print(\"Generando labels\")\n",
        "test_labels = preprocess_target(y_test, price_scaler_fitted)\n",
        "\n",
        "print(\"Creando dataset\")\n",
        "test_dataset = create_dataset(X_test_input_ids,X_test_attention_masks, test_labels, batch_size=32)"
      ],
      "metadata": {
        "colab": {
          "base_uri": "https://localhost:8080/"
        },
        "id": "ARsqBY7mrs74",
        "outputId": "fd10863d-54d2-4539-c858-e19a2cb993c0"
      },
      "execution_count": 10,
      "outputs": [
        {
          "output_type": "stream",
          "name": "stdout",
          "text": [
            "CPU times: user 15min 57s, sys: 6.2 s, total: 16min 3s\n",
            "Wall time: 15min 53s\n"
          ]
        }
      ]
    },
    {
      "cell_type": "code",
      "source": [
        "# Save the TensorFlow Datasets\n",
        "import pickle\n",
        "\n",
        "file_path = '/content/drive/MyDrive/Colab Notebooks/Datasets/obligatorio_DL/'\n",
        "\n",
        "tf.data.Dataset.save(train_dataset, file_path + 'train_dataset_text')\n",
        "tf.data.Dataset.save(test_dataset, file_path + 'test_dataset_text')\n",
        "\n",
        "# Save the scaler and encoder\n",
        "with open(file_path + 'price_scaler.pkl', 'wb') as f:\n",
        "    pickle.dump(price_scaler_fitted, f)\n",
        "\n",
        "# with open(file_path + 'encoder.pkl', 'wb') as f:\n",
        "#     pickle.dump(encoder, f)\n",
        "\n"
      ],
      "metadata": {
        "id": "3KfSIdg5yzEe"
      },
      "execution_count": 12,
      "outputs": []
    },
    {
      "cell_type": "code",
      "source": [
        "# Load the TensorFlow Datasets\n",
        "train_dataset2 = tf.data.Dataset.load(file_path + 'train_dataset_text')\n",
        "test_dataset2 = tf.data.Dataset.load(file_path + 'test_dataset_text')\n",
        "\n",
        "# Load the scaler and encoder\n",
        "with open(file_path + 'price_scaler.pkl', 'rb') as f:\n",
        "    price_scaler2 = pickle.load(f)\n",
        "\n",
        "# with open(file_path + 'encoder.pkl', 'rb') as f:\n",
        "#     encoder = pickle.load(f)\n"
      ],
      "metadata": {
        "id": "n7gGmJfEzSaA"
      },
      "execution_count": 33,
      "outputs": []
    },
    {
      "cell_type": "code",
      "source": [
        "train_datase2"
      ],
      "metadata": {
        "colab": {
          "base_uri": "https://localhost:8080/"
        },
        "id": "Lki99Wu_3_-h",
        "outputId": "dc2c8c92-994c-444e-a91d-4a2f5bad4d50"
      },
      "execution_count": 29,
      "outputs": [
        {
          "output_type": "execute_result",
          "data": {
            "text/plain": [
              "<_LoadDataset element_spec=({'attention_mask': TensorSpec(shape=(None, 300), dtype=tf.int32, name=None), 'input_ids': TensorSpec(shape=(None, 300), dtype=tf.int32, name=None)}, TensorSpec(shape=(None, 1), dtype=tf.float64, name=None))>"
            ]
          },
          "metadata": {},
          "execution_count": 29
        }
      ]
    },
    {
      "cell_type": "markdown",
      "metadata": {
        "id": "cqnQKuTCLFui"
      },
      "source": [
        "### Kaggle test data"
      ]
    },
    {
      "cell_type": "code",
      "execution_count": null,
      "metadata": {
        "colab": {
          "base_uri": "https://localhost:8080/"
        },
        "id": "my6TXIV_o73r",
        "outputId": "5665ddf3-ea77-4d48-e19e-217706902c30"
      },
      "outputs": [
        {
          "data": {
            "text/plain": [
              "array([[207.5733  ],\n",
              "       [109.61352 ],\n",
              "       [118.88889 ],\n",
              "       ...,\n",
              "       [118.888885],\n",
              "       [118.888885],\n",
              "       [118.888885]], dtype=float32)"
            ]
          },
          "execution_count": 31,
          "metadata": {},
          "output_type": "execute_result"
        }
      ],
      "source": []
    },
    {
      "cell_type": "markdown",
      "metadata": {
        "id": "rCjeyrVn6tYM"
      },
      "source": [
        "## Incorporating Numerical and Categorical data"
      ]
    },
    {
      "cell_type": "code",
      "source": [
        "import cupy as cp\n",
        "\n",
        "def numerical_preprocessing(df, numerical_cols, scaler,train=False):\n",
        "  if train:\n",
        "    df_numerical = scaler.fit_transform(df[numerical_cols])\n",
        "  else:\n",
        "    df_numerical = scaler.transform(df[numerical_cols])\n",
        "\n",
        "  df_numerical = df_numerical.fillna(df_numerical.mean())\n",
        "  df_numerical_pandas = df_numerical.to_pandas()\n",
        "  df_numerical_tensor = tf.convert_to_tensor(df_numerical_pandas.values, dtype = tf.float32)\n",
        "\n",
        "  return df_numerical_tensor, scaler\n",
        "\n",
        "def categorical_preprocessing(df, categorical_cols, encoder,train=False):\n",
        "  if train:\n",
        "    df_categorical_sparse = encoder.fit_transform(df[categorical_cols])\n",
        "  else:\n",
        "    df_categorical_sparse = encoder.transform(df[categorical_cols])\n",
        "\n",
        "  df_categorical_cupy = cp.asarray(df_categorical_sparse.toarray())\n",
        "  df_categorical_numpy = df_categorical_cupy.get()\n",
        "  df_categorical_tensor = tf.convert_to_tensor(df_categorical_numpy)\n",
        "  return df_categorical_tensor, encoder"
      ],
      "metadata": {
        "id": "jDHlVB2A2NFm"
      },
      "execution_count": 37,
      "outputs": []
    },
    {
      "cell_type": "code",
      "source": [
        "scaler = cuml.preprocessing.StandardScaler()\n",
        "encoder = cuml.preprocessing.OneHotEncoder(handle_unknown='ignore')\n",
        "\n",
        "numerical_cols.remove('Price')\n",
        "\n",
        "X_train_numerical_tf, scaler = numerical_preprocessing(X_train, numerical_cols, scaler,train=True)\n",
        "X_test_numerical_tf, _ = numerical_preprocessing(X_test, numerical_cols, scaler)\n",
        "\n",
        "X_train_categorical_tf, encoder = categorical_preprocessing(X_train, categorical_cols, encoder,train=True)\n",
        "X_test_categorical_tf, _ = categorical_preprocessing(X_test, categorical_cols, encoder)\n",
        "\n",
        "encoded_column_names = encoder.get_feature_names(categorical_cols)\n"
      ],
      "metadata": {
        "id": "GwOzf5w12PQZ"
      },
      "execution_count": 54,
      "outputs": []
    },
    {
      "cell_type": "code",
      "source": [
        "def create_dataset_numerical(numerical, labels, batch_size=32):\n",
        "    dataset = tf.data.Dataset.from_tensor_slices((\n",
        "        {\n",
        "            'numerical': numerical,\n",
        "        },\n",
        "        labels\n",
        "    ))\n",
        "    dataset = dataset.shuffle(len(labels)).batch(batch_size).prefetch(tf.data.AUTOTUNE)\n",
        "    return dataset\n",
        "\n",
        "def create_dataset_num_cat(numerical, categorical, labels, batch_size=32):\n",
        "    dataset = tf.data.Dataset.from_tensor_slices((\n",
        "        {\n",
        "            'numerical': numerical,\n",
        "            'categorical': categorical\n",
        "        },\n",
        "        labels\n",
        "    ))\n",
        "    dataset = dataset.shuffle(len(labels)).batch(batch_size).prefetch(tf.data.AUTOTUNE)\n",
        "    return dataset\n",
        "\n",
        "def create_dataset_all_features(numerical, categorical,input_ids, attention_masks, labels, batch_size=32):\n",
        "    dataset = tf.data.Dataset.from_tensor_slices((\n",
        "        {\n",
        "            'numerical': numerical,\n",
        "            'categorical': categorical,\n",
        "            'input_ids': input_ids,\n",
        "            'attention_mask': attention_masks\n",
        "        },\n",
        "        labels\n",
        "    ))\n",
        "    dataset = dataset.shuffle(len(labels)).batch(batch_size).prefetch(tf.data.AUTOTUNE)\n",
        "    return dataset"
      ],
      "metadata": {
        "id": "81odlyx_-Tmy"
      },
      "execution_count": 44,
      "outputs": []
    },
    {
      "cell_type": "code",
      "source": [
        "train_numerical_dataset = create_dataset_numerical(X_train_numerical_tf,\n",
        "                                                   train_labels)\n",
        "test_numerical_dataset = create_dataset_numerical(X_test_numerical_tf,\n",
        "                                                  test_labels)\n",
        "\n",
        "train_num_cat_dataset = create_dataset_num_cat(X_train_numerical_tf,\n",
        "                                               X_train_categorical_tf,\n",
        "                                               train_labels)\n",
        "test_num_cat_dataset = create_dataset_num_cat(X_test_numerical_tf,\n",
        "                                              X_test_categorical_tf,\n",
        "                                              test_labels)\n",
        "\n",
        "\n",
        "train_all_dataset = create_dataset_all_features(X_train_numerical_tf,\n",
        "                                                X_train_categorical_tf,\n",
        "                                                X_train_input_ids,\n",
        "                                                X_train_attention_masks,\n",
        "                                                train_labels)\n",
        "\n",
        "test_all_dataset = create_dataset_all_features(X_test_numerical_tf,\n",
        "                                               X_test_categorical_tf,\n",
        "                                               X_test_input_ids,\n",
        "                                               X_test_attention_masks,\n",
        "                                               test_labels)"
      ],
      "metadata": {
        "id": "E_EqiaUw-3AU"
      },
      "execution_count": 49,
      "outputs": []
    },
    {
      "cell_type": "code",
      "source": [
        "import pickle\n",
        "\n",
        "file_path = '/content/drive/MyDrive/Colab Notebooks/Datasets/obligatorio_DL/'\n",
        "\n",
        "tf.data.Dataset.save(train_num_dataset, file_path + 'train_num_dataset')\n",
        "tf.data.Dataset.save(test_num_dataset, file_path + 'test_num_dataset')\n",
        "tf.data.Dataset.save(train_num_cat_dataset, file_path + 'train_num_cat_dataset')\n",
        "tf.data.Dataset.save(test_num_cat_dataset, file_path + 'test_num_cat_dataset')\n",
        "tf.data.Dataset.save(train_all_dataset, file_path + 'train_all_dataset')\n",
        "tf.data.Dataset.save(test_all_dataset, file_path + 'test_all_dataset')\n",
        "\n",
        "# Save the scaler and encoder\n",
        "with open(file_path + 'scaler.pkl', 'wb') as f:\n",
        "    pickle.dump(scaler, f)\n",
        "\n",
        "with open(file_path + 'encoder.pkl', 'wb') as f:\n",
        "    pickle.dump(encoder, f)"
      ],
      "metadata": {
        "id": "MnJ_njeXADci"
      },
      "execution_count": 50,
      "outputs": []
    },
    {
      "cell_type": "code",
      "source": [
        "with open(file_path + 'encoder.pkl', 'wb') as f:\n",
        "    pickle.dump(encoder, f)"
      ],
      "metadata": {
        "id": "KiY55xbBMQBx"
      },
      "execution_count": 55,
      "outputs": []
    },
    {
      "cell_type": "code",
      "source": [
        "\n",
        "train_dataset2 = tf.data.Dataset.load(file_path + 'train_dataset_text')\n",
        "test_dataset2 = tf.data.Dataset.load(file_path + 'test_dataset_text')\n",
        "\n"
      ],
      "metadata": {
        "id": "omRcdHV0-vrU"
      },
      "execution_count": null,
      "outputs": []
    },
    {
      "cell_type": "code",
      "source": [
        "from tensorflow.keras.callbacks import ModelCheckpoint\n",
        "\n",
        "# Define the checkpoint callback\n",
        "checkpoint_filepath = 'model_weights_epoch_{epoch:02d}.h5'\n",
        "model_checkpoint_callback = ModelCheckpoint(\n",
        "    filepath=checkpoint_filepath,\n",
        "    save_weights_only=True,\n",
        "    monitor='val_loss',\n",
        "    mode='min',\n",
        "    save_best_only=False,\n",
        "    save_freq='epoch'\n",
        ")"
      ],
      "metadata": {
        "id": "wzrzy8R9SfJ_"
      },
      "execution_count": 25,
      "outputs": []
    },
    {
      "cell_type": "code",
      "source": [
        "train_dataset2"
      ],
      "metadata": {
        "colab": {
          "base_uri": "https://localhost:8080/"
        },
        "id": "gtWZadPW7Ski",
        "outputId": "3042323a-09b8-4030-f034-5ef97ec031ff"
      },
      "execution_count": 36,
      "outputs": [
        {
          "output_type": "execute_result",
          "data": {
            "text/plain": [
              "<_LoadDataset element_spec=({'attention_mask': TensorSpec(shape=(None, 300), dtype=tf.int32, name=None), 'input_ids': TensorSpec(shape=(None, 300), dtype=tf.int32, name=None)}, TensorSpec(shape=(None, 1), dtype=tf.float64, name=None))>"
            ]
          },
          "metadata": {},
          "execution_count": 36
        }
      ]
    },
    {
      "cell_type": "code",
      "execution_count": 52,
      "metadata": {
        "id": "hZmVolS-BkuS"
      },
      "outputs": [],
      "source": [
        "import tensorflow as tf\n",
        "from tensorflow.keras.layers import Input, Dense, Dropout\n",
        "from tensorflow.keras.regularizers import l2\n",
        "from tensorflow.keras.callbacks import EarlyStopping, ReduceLROnPlateau\n",
        "\n",
        "num_numerical_features = len(numerical_cols)\n",
        "num_categorical_features = len(encoded_column_names)\n",
        "\n",
        "input_ids = tf.keras.layers.Input(shape=(max_length,), dtype=tf.int32, name='input_ids')\n",
        "attention_mask = tf.keras.layers.Input(shape=(max_length,), dtype=tf.int32, name='attention_mask')\n",
        "# bert_output = bert_model([input_ids, attention_mask]).last_hidden_state[:, 0, :]\n",
        "bert_output = bert_model([input_ids, attention_mask]).last_hidden_state[:, 0, :]\n",
        "\n",
        "bert_dense = tf.keras.layers.Dense(64, activation='relu')(bert_output)\n",
        "\n",
        "# Numerical Input\n",
        "numerical_input = tf.keras.layers.Input(shape=(num_numerical_features,), name='numerical')\n",
        "numerical_dense = tf.keras.layers.Dense(32, activation='relu', kernel_regularizer=l2(0.01))(numerical_input)\n",
        "\n",
        "# Categorical Input\n",
        "categorical_input = tf.keras.layers.Input(shape=(num_categorical_features,), name='categorical')\n",
        "categorical_dense = tf.keras.layers.Dense(32, activation='relu', kernel_regularizer=l2(0.01))(categorical_input)\n",
        "\n",
        "\n",
        "concatenated = tf.keras.layers.concatenate([bert_dense, numerical_dense, categorical_dense])\n",
        "# Concatenate all inputs\n",
        "dropout_layer = Dropout(0.5)(concatenated)\n",
        "\n",
        "# Additional layers as needed\n",
        "output_layer = tf.keras.layers.Dense(1)(dropout_layer)\n",
        "\n",
        "# Build model\n",
        "model = tf.keras.Model(inputs=[input_ids, attention_mask, numerical_input, categorical_input], outputs=output_layer)\n"
      ]
    },
    {
      "cell_type": "code",
      "execution_count": 53,
      "metadata": {
        "id": "y7ongVuZBqrB"
      },
      "outputs": [],
      "source": [
        "model.compile(optimizer='adam', loss='mean_squared_error', metrics=['mae'])\n",
        "\n",
        "model.load_weights('/content/drive/MyDrive/Colab Notebooks/Datasets/model_weights_epoch_06.h5')"
      ]
    },
    {
      "cell_type": "code",
      "source": [
        "from tensorflow.keras.callbacks import EarlyStopping, ReduceLROnPlateau, ModelCheckpoint\n",
        "from tensorflow.keras.optimizers import Adam, SGD\n",
        "\n",
        "# Define the sweep configuration\n",
        "sweep_config = {\n",
        "    'method': 'bayes',  # Bayesian optimization\n",
        "    'metric': {\n",
        "        'name': 'val_loss',\n",
        "        'goal': 'minimize'\n",
        "    },\n",
        "    'parameters': {\n",
        "        'learning_rate': {\n",
        "            'min': 1e-5,\n",
        "            'max': 1e-3\n",
        "        },\n",
        "        'batch_size': {\n",
        "            'values': [32, 64, 128]\n",
        "        },\n",
        "        # Add other hyperparameters here\n",
        "    }\n",
        "}\n",
        "\n",
        "def train():\n",
        "    with wandb.init() as run:\n",
        "        config = run.config\n",
        "\n",
        "        # Callbacks\n",
        "        early_stopping = EarlyStopping(monitor='val_loss', patience=3)\n",
        "        reduce_lr = ReduceLROnPlateau(monitor='val_loss', factor=0.2, patience=2, min_lr=1e-6)\n",
        "        model_checkpoint_callback = ModelCheckpoint(\n",
        "            filepath='model_weights_epoch_{epoch:02d}.h5',\n",
        "            save_weights_only=True,\n",
        "            save_best_only=False,\n",
        "            save_freq='epoch'\n",
        "        )\n",
        "\n",
        "        # Build and compile your model here using config parameters\n",
        "        # For example, setting the optimizer\n",
        "        optimizer = Adam(learning_rate=config.learning_rate)\n",
        "        # model.compile(optimizer=optimizer, ...)\n",
        "\n",
        "        # Fit the model\n",
        "        history = model.fit(train_dataset_all,\n",
        "                            validation_data=test_all_dataset,\n",
        "                            epochs=10,  # You can also use config.epochs if defined in sweep_config\n",
        "                            batch_size=int(config.batch_size),\n",
        "                            callbacks=[early_stopping, reduce_lr, model_checkpoint_callback]\n",
        "        )\n",
        "# Initialize the sweep\n",
        "sweep_id = wandb.sweep(sweep_config, project=project)\n",
        "\n",
        "# Run the sweep agent\n",
        "wandb.agent(sweep_id, function=train, count=10, project=project)"
      ],
      "metadata": {
        "colab": {
          "base_uri": "https://localhost:8080/",
          "height": 280
        },
        "id": "174NSAjjftuc",
        "outputId": "5278265d-dbb9-44ed-e933-9ac00d54c07d"
      },
      "execution_count": 55,
      "outputs": [
        {
          "output_type": "stream",
          "name": "stdout",
          "text": [
            "Create sweep with ID: jukt77lt\n",
            "Sweep URL: https://wandb.ai/marian-ai/obligatorio_dl/sweeps/jukt77lt\n"
          ]
        },
        {
          "output_type": "stream",
          "name": "stderr",
          "text": [
            "\u001b[34m\u001b[1mwandb\u001b[0m: Agent Starting Run: mqkh4aj2 with config:\n",
            "\u001b[34m\u001b[1mwandb\u001b[0m: \tbatch_size: 128\n",
            "\u001b[34m\u001b[1mwandb\u001b[0m: \tlearning_rate: 0.00022787787721444716\n"
          ]
        },
        {
          "output_type": "display_data",
          "data": {
            "text/plain": [
              "<IPython.core.display.HTML object>"
            ],
            "text/html": [
              "Tracking run with wandb version 0.16.0"
            ]
          },
          "metadata": {}
        },
        {
          "output_type": "display_data",
          "data": {
            "text/plain": [
              "<IPython.core.display.HTML object>"
            ],
            "text/html": [
              "Run data is saved locally in <code>/content/wandb/run-20231126_050707-mqkh4aj2</code>"
            ]
          },
          "metadata": {}
        },
        {
          "output_type": "display_data",
          "data": {
            "text/plain": [
              "<IPython.core.display.HTML object>"
            ],
            "text/html": [
              "Syncing run <strong><a href='https://wandb.ai/marian-ai/obligatorio_dl/runs/mqkh4aj2' target=\"_blank\">zany-sweep-1</a></strong> to <a href='https://wandb.ai/marian-ai/obligatorio_dl' target=\"_blank\">Weights & Biases</a> (<a href='https://wandb.me/run' target=\"_blank\">docs</a>)<br/>Sweep page: <a href='https://wandb.ai/marian-ai/obligatorio_dl/sweeps/jukt77lt' target=\"_blank\">https://wandb.ai/marian-ai/obligatorio_dl/sweeps/jukt77lt</a>"
            ]
          },
          "metadata": {}
        },
        {
          "output_type": "display_data",
          "data": {
            "text/plain": [
              "<IPython.core.display.HTML object>"
            ],
            "text/html": [
              " View project at <a href='https://wandb.ai/marian-ai/obligatorio_dl' target=\"_blank\">https://wandb.ai/marian-ai/obligatorio_dl</a>"
            ]
          },
          "metadata": {}
        },
        {
          "output_type": "display_data",
          "data": {
            "text/plain": [
              "<IPython.core.display.HTML object>"
            ],
            "text/html": [
              " View sweep at <a href='https://wandb.ai/marian-ai/obligatorio_dl/sweeps/jukt77lt' target=\"_blank\">https://wandb.ai/marian-ai/obligatorio_dl/sweeps/jukt77lt</a>"
            ]
          },
          "metadata": {}
        },
        {
          "output_type": "display_data",
          "data": {
            "text/plain": [
              "<IPython.core.display.HTML object>"
            ],
            "text/html": [
              " View run at <a href='https://wandb.ai/marian-ai/obligatorio_dl/runs/mqkh4aj2' target=\"_blank\">https://wandb.ai/marian-ai/obligatorio_dl/runs/mqkh4aj2</a>"
            ]
          },
          "metadata": {}
        },
        {
          "output_type": "stream",
          "name": "stdout",
          "text": [
            "Epoch 1/10\n",
            "3367/8158 [===========>..................] - ETA: 18:44 - loss: 0.4906 - mae: 0.4021"
          ]
        },
        {
          "output_type": "stream",
          "name": "stderr",
          "text": [
            "\u001b[34m\u001b[1mwandb\u001b[0m: Ctrl + C detected. Stopping sweep.\n"
          ]
        }
      ]
    },
    {
      "cell_type": "code",
      "source": [
        "model.save_weights(f'all_features_bert_{epochs}epochs.h5')\n"
      ],
      "metadata": {
        "id": "q3TwxLpDB5zt"
      },
      "execution_count": null,
      "outputs": []
    },
    {
      "cell_type": "markdown",
      "source": [
        "## Loading datasets and scalers/encoders"
      ],
      "metadata": {
        "id": "DYxlyy16DCNz"
      }
    },
    {
      "cell_type": "code",
      "source": [
        "import tensorflow as tf\n",
        "import pickle\n",
        "# from tensorflow.keras.layers import Input, Dense, Dropout\n",
        "# from tensorflow.keras.regularizers import l2\n",
        "# from tensorflow.keras.callbacks import EarlyStopping, ReduceLROnPlateau\n",
        "\n",
        "from transformers import TFDistilBertModel, DistilBertTokenizer\n",
        "file_path = '/content/drive/MyDrive/Colab Notebooks/Datasets/obligatorio_DL/'\n",
        "\n",
        "train_num_dataset= tf.data.Dataset.load(file_path + 'train_num_dataset')\n",
        "test_num_dataset= tf.data.Dataset.load(file_path + 'test_num_dataset')\n",
        "\n",
        "train_num_cat_dataset= tf.data.Dataset.load(file_path + 'train_num_cat_dataset')\n",
        "test_num_cat_dataset= tf.data.Dataset.load(file_path + 'test_num_cat_dataset')\n",
        "\n",
        "train_all_dataset= tf.data.Dataset.load(file_path + 'train_all_dataset')\n",
        "test_all_dataset= tf.data.Dataset.load(file_path + 'test_all_dataset')\n",
        "\n",
        "# Load the scaler and encoder\n",
        "with open(file_path + 'price_scaler.pkl', 'rb') as f:\n",
        "    price_scaler = pickle.load(f)\n",
        "\n",
        "with open(file_path + 'encoder.pkl', 'rb') as f:\n",
        "    encoder = pickle.load(f)\n",
        "\n",
        "with open(file_path + 'scaler.pkl', 'rb') as f:\n",
        "    scaler = pickle.load(f)"
      ],
      "metadata": {
        "id": "9MuOueUGDd1O"
      },
      "execution_count": 14,
      "outputs": []
    },
    {
      "cell_type": "code",
      "execution_count": 15,
      "metadata": {
        "colab": {
          "base_uri": "https://localhost:8080/"
        },
        "id": "42DhWKW9jm1u",
        "outputId": "38a748d9-12f1-4fdf-ee44-321e381d3769"
      },
      "outputs": [
        {
          "output_type": "stream",
          "name": "stderr",
          "text": [
            "Some weights of the PyTorch model were not used when initializing the TF 2.0 model TFDistilBertModel: ['vocab_transform.bias', 'vocab_transform.weight', 'vocab_projector.bias', 'vocab_layer_norm.bias', 'vocab_layer_norm.weight']\n",
            "- This IS expected if you are initializing TFDistilBertModel from a PyTorch model trained on another task or with another architecture (e.g. initializing a TFBertForSequenceClassification model from a BertForPreTraining model).\n",
            "- This IS NOT expected if you are initializing TFDistilBertModel from a PyTorch model that you expect to be exactly identical (e.g. initializing a TFBertForSequenceClassification model from a BertForSequenceClassification model).\n",
            "All the weights of TFDistilBertModel were initialized from the PyTorch model.\n",
            "If your task is similar to the task the model of the checkpoint was trained on, you can already use TFDistilBertModel for predictions without further training.\n"
          ]
        }
      ],
      "source": [
        "# tokenizer = DistilBertTokenizer.from_pretrained('distilbert-base-multilingual-cased')\n",
        "bert_model = TFDistilBertModel.from_pretrained('distilbert-base-multilingual-cased')"
      ]
    },
    {
      "cell_type": "code",
      "source": [
        "# Import the W&B Python Library and log into W&B\n",
        "import wandb\n",
        "\n",
        "wandb.login()\n",
        "\n",
        "#Creamos un proyecto en WandB a través de su interfaz\n",
        "project = \"obligatorio_dl\"\n",
        "entity = \"marian-ai\""
      ],
      "metadata": {
        "colab": {
          "base_uri": "https://localhost:8080/"
        },
        "id": "HAo0NPhVTAAc",
        "outputId": "8434a5da-9dab-4313-d45c-3b0846721601"
      },
      "execution_count": 3,
      "outputs": [
        {
          "output_type": "stream",
          "name": "stderr",
          "text": [
            "\u001b[34m\u001b[1mwandb\u001b[0m: Currently logged in as: \u001b[33mmariano-chicatun\u001b[0m (\u001b[33mmarian-ai\u001b[0m). Use \u001b[1m`wandb login --relogin`\u001b[0m to force relogin\n"
          ]
        }
      ]
    },
    {
      "cell_type": "code",
      "source": [
        "import tensorflow as tf\n",
        "from tensorflow.keras.layers import Input, Dense, Dropout\n",
        "from tensorflow.keras.regularizers import l2\n",
        "from tensorflow.keras.callbacks import EarlyStopping, ReduceLROnPlateau,ModelCheckpoint\n",
        "\n",
        "\n",
        "def build_model(feature_combination, num_numerical_features, num_categorical_features, bert_model, max_length,dropout_rate = 0.5,l2_regularization=0.001):\n",
        "    if feature_combination in ['numerical', 'numerical_categorical', 'all_features']:\n",
        "        # Numerical Input\n",
        "        numerical_input = Input(shape=(num_numerical_features,), name='numerical')\n",
        "        numerical_dense = Dense(32, activation='relu', kernel_regularizer=l2(l2_regularization))(numerical_input)\n",
        "\n",
        "    if feature_combination in ['numerical_categorical', 'all_features']:\n",
        "        # Categorical Input\n",
        "        categorical_input = Input(shape=(num_categorical_features,), name='categorical')\n",
        "        categorical_dense = Dense(32, activation='relu', kernel_regularizer=l2(l2_regularization))(categorical_input)\n",
        "\n",
        "    if feature_combination == 'all_features':\n",
        "        # BERT Input\n",
        "        input_ids = Input(shape=(max_length,), dtype='int32', name='input_ids')\n",
        "        attention_mask = Input(shape=(max_length,), dtype='int32', name='attention_mask')\n",
        "        bert_output = bert_model([input_ids, attention_mask]).last_hidden_state[:, 0, :]\n",
        "        bert_dense = Dense(64, activation='relu')(bert_output)\n",
        "\n",
        "    # Concatenate all inputs based on the selected features\n",
        "    if feature_combination == 'numerical':\n",
        "        concatenated = numerical_dense\n",
        "    elif feature_combination == 'numerical_categorical':\n",
        "        concatenated = tf.keras.layers.concatenate([numerical_dense, categorical_dense])\n",
        "    elif feature_combination == 'all_features':\n",
        "        concatenated = tf.keras.layers.concatenate([bert_dense, numerical_dense, categorical_dense])\n",
        "\n",
        "    # Final layers\n",
        "    dropout_layer = Dropout(0.5)(concatenated)\n",
        "    output_layer = Dense(1)(dropout_layer)\n",
        "\n",
        "    # Build model\n",
        "    inputs = []\n",
        "    if feature_combination == 'numerical':\n",
        "        inputs = [numerical_input]\n",
        "    elif feature_combination == 'numerical_categorical':\n",
        "        inputs = [numerical_input, categorical_input]\n",
        "    elif feature_combination == 'all_features':\n",
        "        inputs = [input_ids, attention_mask, numerical_input, categorical_input]\n",
        "\n",
        "    model = tf.keras.Model(inputs=inputs, outputs=output_layer)\n",
        "    return model\n"
      ],
      "metadata": {
        "id": "3azFMbNPD1lI"
      },
      "execution_count": 16,
      "outputs": []
    },
    {
      "cell_type": "code",
      "source": [
        "sweep_config = {\n",
        "    'method': 'bayes',  # or any other method you prefer\n",
        "    'metric': {\n",
        "        'name': 'val_loss',\n",
        "        'goal': 'minimize'\n",
        "    },\n",
        "    'parameters': {\n",
        "        'feature_combination': {\n",
        "            'values': ['numerical', 'numerical_categorical', 'all_features']\n",
        "        },\n",
        "        'batch_size': {\n",
        "            'values': [32, 64]  # example batch sizes\n",
        "        },\n",
        "        'dropout_rate': {\n",
        "            'values': [0.5, 0.3]\n",
        "        },\n",
        "        'epochs': {\n",
        "            'values': [10, 20]  # example epochs\n",
        "        },\n",
        "        'l2_regularization': {\n",
        "                              'values': [0.001, 0.0001]\n",
        "            }\n",
        "    }\n",
        "}\n",
        "\n",
        "import pickle\n",
        "import tensorflow as tf\n",
        "\n",
        "file_path = '/content/drive/MyDrive/Colab Notebooks/Datasets/obligatorio_DL/'\n",
        "\n",
        "def load_dataset(dataset_name):\n",
        "    return tf.data.Dataset.load(file_path + dataset_name)\n",
        "\n",
        "encoded_column_names = encoder.get_feature_names(categorical_cols)\n",
        "\n",
        "\n",
        "def train():\n",
        "    with wandb.init() as run:\n",
        "        config = run.config\n",
        "\n",
        "        # Load the appropriate datasets\n",
        "        if config.feature_combination == 'numerical':\n",
        "            train_dataset = load_dataset('train_num_dataset')\n",
        "            test_dataset = load_dataset('test_num_dataset')\n",
        "        elif config.feature_combination == 'numerical_categorical':\n",
        "            train_dataset = load_dataset('train_num_cat_dataset')\n",
        "            test_dataset = load_dataset('test_num_cat_dataset')\n",
        "        elif config.feature_combination == 'all_features':\n",
        "            train_dataset = load_dataset('train_all_dataset')\n",
        "            test_dataset = load_dataset('test_all_dataset')\n",
        "\n",
        "        model = build_model(config.feature_combination, len(numerical_cols), len(encoded_column_names), bert_model, max_length,dropout_rate=config.dropout_rate)\n",
        "\n",
        "        # Compile the model\n",
        "        model.compile(optimizer='adam', loss='mean_squared_error', metrics=['mae'])\n",
        "\n",
        "        # Define Callbacks\n",
        "        checkpoint_filename = f'model_weights_{config.feature_combination}_epoch_{{epoch:02d}}.h5'\n",
        "        model_checkpoint_callback = ModelCheckpoint(\n",
        "            filepath=checkpoint_filename,\n",
        "            save_weights_only=True,\n",
        "            monitor='val_loss',\n",
        "            mode='min',\n",
        "            save_best_only=False,\n",
        "            save_freq='epoch'\n",
        "        )\n",
        "        wandb_callback = wandb.keras.WandbCallback()\n",
        "\n",
        "        early_stopping = EarlyStopping(monitor='val_loss', patience=3)\n",
        "        reduce_lr = ReduceLROnPlateau(monitor='val_loss', factor=0.2, patience=2, min_lr=0.001)\n",
        "\n",
        "        # Fit the model\n",
        "        model.fit(\n",
        "            train_dataset,\n",
        "            validation_data=test_dataset,\n",
        "            epochs=config.epochs,\n",
        "            batch_size=config.batch_size,\n",
        "            callbacks=[early_stopping, reduce_lr, model_checkpoint_callback,wandb_callback]\n",
        "        )"
      ],
      "metadata": {
        "id": "20tHbXkBBtV0"
      },
      "execution_count": 17,
      "outputs": []
    },
    {
      "cell_type": "code",
      "source": [
        "# Initialize the sweep\n",
        "max_length = 300\n",
        "text_cols = [col for col in text_cols if col in important_text_cols]\n",
        "numerical_cols.remove('Price')\n",
        "\n",
        "sweep_id = wandb.sweep(sweep_config, project=project)\n",
        "\n",
        "# Run the sweep agent\n",
        "wandb.agent(sweep_id, function=train, count=10, project=project)"
      ],
      "metadata": {
        "colab": {
          "base_uri": "https://localhost:8080/",
          "height": 1000,
          "referenced_widgets": [
            "82fca33b40f74ab98b75a1ad2543fcf1",
            "c7547f6c26f7413890c07a005084f374",
            "446fd634c7654c6b8a6ad8ee6d818f06",
            "81f974046c934dfda9bc2754b70eceef",
            "b1886f5f6242487bbdfba78386cc69d0",
            "e94a7d72ae9243f38b00e26dd7c0ab19",
            "0b0e78e7344a418093abcc8fc878c808",
            "89f481f92bfb4ef2a5e03eca10a854a7",
            "701eddb2aa8146908a75a55262a8b200",
            "76271b20c7e54d8c8b440fee62c0dca5",
            "f5a9a4f10883407ca01257158b432798",
            "6dff5e81088f43e3af81111a535f8c0d",
            "27621d2f825848bd9b60e7ddb5d193c3",
            "9161e5e2f633426a87558bfa420047b3",
            "d0656d742b284960b4a8e6598dbe61ac",
            "111e177fe2cc409db48b96e82d8e1f13",
            "5a1f3b5952ac457390070ea6f011ba79",
            "4218339457a14cbb90f30849f339bc5d",
            "1d8161ad504740819ba1a9c7158197cb",
            "75d5b7e24e5a42f0bfc9658dc7ed5462",
            "20cf8cb0983446f09b82339531441b09",
            "8ed606231e374ab898aa38e0b1f27a05",
            "a99c3b7f5a3d438baae148c707bdb6ff",
            "649fde8fdee247fb9fc7c1edd8a22aad",
            "fbd4024ecc77402399fd55c3738dc173",
            "23795b540a3a437d83d22ab14d167b7f",
            "79057a0b9b1c4e9fbc30eb7fb22578f9",
            "a67c10cc02d14ebb8999ad52d57c753e",
            "aca1ea12824d47489393dfeb822e5bb2",
            "b6a1d1ee0ff345a0b9e0ed0c80cbcb65",
            "826328d41d414d16aeda4a3ce2bee3ca",
            "cfa84b740af34e9a9d078783777f5aab",
            "bb0eaa2df7e4443e9e91e1deff8e7259",
            "a2354343d5364f34a82f6bc61f818bcd",
            "33578c7bf6954aac9fa66c0b7fa4750a",
            "3fd0c73386424fe3903f9d24d64fd5d6",
            "93978453e998404aafa2a166e5dae905",
            "3f56b77ba66048a8bac957b1fcf10557",
            "eac3459da960438786f016c5eec44827",
            "fd6f5947ee34492a81e70cb556134a8e",
            "3607e086da2f4172bdb7abab9beaf2a2",
            "64dbe60611cc48118544c704a0a5a39e",
            "071bd9babf7f4435a0d3c6df565ec03e",
            "37c7fb17202e4a5b8a497ece41b2b1c9",
            "82fda911f7ea439c8ceadd9e06d83a81",
            "f1d3f83a85f04eaab9428ed68623e2a2",
            "7216dc5eebe9427f97df4ebb9519a506",
            "2e0127b6b8134d6c8448f4323cd48442",
            "9b24104ba75c4a7f87a0b3e770335122",
            "9c8dda4da5074995a3daf409b1ead093",
            "eeec7e8df4a44ddda6d0b05f04c2acc4",
            "88735dd1e57f4ec69cceb9ae5aaa1584",
            "6aff6bccb2044ffcbd8ccb1992171e41",
            "b10332ea6f114a658996d0157d435d11",
            "f8e23f38360a4d8aaeecf6cbf960ed87",
            "e6f3f1508c0e4dd49b92a6047ce77a9e",
            "3c39fc25ec8644cf888e22bcd9a87139",
            "5303e149e92c4693b7c811f19fbf55b3",
            "83254402c7e24ceda1ee40d12c598c71",
            "1a3891f061f14e238310abaaa6d7d495",
            "b229dfab9a9448b8a7241164f9871f94",
            "70df1eea80934da6a8dde5a90135ff8e",
            "2f8cb3abef2c477fab1e39e6589d9f86",
            "2d472a8d591c4d5d96b71689e6b417b8",
            "78d3d30028f74c3390f400045dbe9690",
            "de9582f0b1d842f2859e1654c37db795",
            "a965d62732f3442dbc1813eb592d1021",
            "0e1716b1d32a4aa29e575f4f28f331fe",
            "2917d1cb23eb471daedc05d5c532c6dc",
            "91f55a0ab9c448d6802ac3b56a04fec9",
            "b0a66ccb81814d18b262294e3d4d0157",
            "c522688e83924bf087c8472b048b12e8",
            "79da092d723d4a70ad05fae365a4eca6",
            "e99d0c8025424171aa7d82c0dddf1921",
            "f31ae9f3f8bb4e12a1b024925abacb30",
            "96630d6c7e734812ae29e8b87fb12281",
            "c489174f26834bcaa1dbcb22d204db89",
            "340042c4bef542859e5045ef4613f9fe",
            "b7bb8d91ef6e4124859f829c9264c898",
            "40f3e6d7c58343329c86d58e56383c68"
          ]
        },
        "id": "JJ8JYuYsE4_N",
        "outputId": "0e464aab-4a97-4931-8251-fe5901427bd8"
      },
      "execution_count": 18,
      "outputs": [
        {
          "metadata": {
            "tags": null
          },
          "name": "stdout",
          "output_type": "stream",
          "text": [
            "Create sweep with ID: a47ag95a\n",
            "Sweep URL: https://wandb.ai/marian-ai/obligatorio_dl/sweeps/a47ag95a\n"
          ]
        },
        {
          "metadata": {
            "tags": null
          },
          "name": "stderr",
          "output_type": "stream",
          "text": [
            "\u001b[34m\u001b[1mwandb\u001b[0m: Agent Starting Run: nr7vnic2 with config:\n",
            "\u001b[34m\u001b[1mwandb\u001b[0m: \tbatch_size: 64\n",
            "\u001b[34m\u001b[1mwandb\u001b[0m: \tdropout_rate: 0.5\n",
            "\u001b[34m\u001b[1mwandb\u001b[0m: \tepochs: 10\n",
            "\u001b[34m\u001b[1mwandb\u001b[0m: \tfeature_combination: all_features\n",
            "\u001b[34m\u001b[1mwandb\u001b[0m: \tl2_regularization: 0.001\n"
          ]
        },
        {
          "data": {
            "text/html": [
              "Tracking run with wandb version 0.16.0"
            ],
            "text/plain": [
              "<IPython.core.display.HTML object>"
            ]
          },
          "metadata": {},
          "output_type": "display_data"
        },
        {
          "data": {
            "text/html": [
              "Run data is saved locally in <code>/content/wandb/run-20231126_062003-nr7vnic2</code>"
            ],
            "text/plain": [
              "<IPython.core.display.HTML object>"
            ]
          },
          "metadata": {},
          "output_type": "display_data"
        },
        {
          "data": {
            "text/html": [
              "Syncing run <strong><a href='https://wandb.ai/marian-ai/obligatorio_dl/runs/nr7vnic2' target=\"_blank\">absurd-sweep-1</a></strong> to <a href='https://wandb.ai/marian-ai/obligatorio_dl' target=\"_blank\">Weights & Biases</a> (<a href='https://wandb.me/run' target=\"_blank\">docs</a>)<br/>Sweep page: <a href='https://wandb.ai/marian-ai/obligatorio_dl/sweeps/a47ag95a' target=\"_blank\">https://wandb.ai/marian-ai/obligatorio_dl/sweeps/a47ag95a</a>"
            ],
            "text/plain": [
              "<IPython.core.display.HTML object>"
            ]
          },
          "metadata": {},
          "output_type": "display_data"
        },
        {
          "data": {
            "text/html": [
              " View project at <a href='https://wandb.ai/marian-ai/obligatorio_dl' target=\"_blank\">https://wandb.ai/marian-ai/obligatorio_dl</a>"
            ],
            "text/plain": [
              "<IPython.core.display.HTML object>"
            ]
          },
          "metadata": {},
          "output_type": "display_data"
        },
        {
          "data": {
            "text/html": [
              " View sweep at <a href='https://wandb.ai/marian-ai/obligatorio_dl/sweeps/a47ag95a' target=\"_blank\">https://wandb.ai/marian-ai/obligatorio_dl/sweeps/a47ag95a</a>"
            ],
            "text/plain": [
              "<IPython.core.display.HTML object>"
            ]
          },
          "metadata": {},
          "output_type": "display_data"
        },
        {
          "data": {
            "text/html": [
              " View run at <a href='https://wandb.ai/marian-ai/obligatorio_dl/runs/nr7vnic2' target=\"_blank\">https://wandb.ai/marian-ai/obligatorio_dl/runs/nr7vnic2</a>"
            ],
            "text/plain": [
              "<IPython.core.display.HTML object>"
            ]
          },
          "metadata": {},
          "output_type": "display_data"
        },
        {
          "metadata": {
            "tags": null
          },
          "name": "stderr",
          "output_type": "stream",
          "text": [
            "\u001b[34m\u001b[1mwandb\u001b[0m: \u001b[33mWARNING\u001b[0m The save_model argument by default saves the model in the HDF5 format that cannot save custom objects like subclassed models and custom layers. This behavior will be deprecated in a future release in favor of the SavedModel format. Meanwhile, the HDF5 model is saved as W&B files and the SavedModel as W&B Artifacts.\n"
          ]
        },
        {
          "metadata": {
            "tags": null
          },
          "name": "stdout",
          "output_type": "stream",
          "text": [
            "Epoch 1/10\n",
            "8158/8158 [==============================] - ETA: 0s - loss: 0.5970 - mae: 0.4458"
          ]
        },
        {
          "metadata": {
            "tags": null
          },
          "name": "stderr",
          "output_type": "stream",
          "text": [
            "/usr/local/lib/python3.10/dist-packages/keras/src/engine/training.py:3079: UserWarning: You are saving your model as an HDF5 file via `model.save()`. This file format is considered legacy. We recommend using instead the native Keras format, e.g. `model.save('my_model.keras')`.\n",
            "  saving_api.save_model(\n"
          ]
        },
        {
          "metadata": {
            "tags": null
          },
          "name": "stdout",
          "output_type": "stream",
          "text": [
            "WARNING:tensorflow:Skipping full serialization of Keras layer <keras.src.layers.regularization.dropout.Dropout object at 0x78f7e1dd8850>, because it is not built.\n",
            "WARNING:tensorflow:Skipping full serialization of Keras layer <keras.src.layers.regularization.dropout.Dropout object at 0x78f953813e20>, because it is not built.\n",
            "WARNING:tensorflow:Skipping full serialization of Keras layer <keras.src.layers.regularization.dropout.Dropout object at 0x78f75a1bf100>, because it is not built.\n",
            "WARNING:tensorflow:Skipping full serialization of Keras layer <keras.src.layers.regularization.dropout.Dropout object at 0x78f75a1d5c60>, because it is not built.\n",
            "WARNING:tensorflow:Skipping full serialization of Keras layer <keras.src.layers.regularization.dropout.Dropout object at 0x78f714d107c0>, because it is not built.\n",
            "WARNING:tensorflow:Skipping full serialization of Keras layer <keras.src.layers.regularization.dropout.Dropout object at 0x78f714d13310>, because it is not built.\n",
            "INFO:tensorflow:Assets written to: /content/wandb/run-20231126_062003-nr7vnic2/files/model-best/assets\n"
          ]
        },
        {
          "metadata": {
            "tags": null
          },
          "name": "stderr",
          "output_type": "stream",
          "text": [
            "INFO:tensorflow:Assets written to: /content/wandb/run-20231126_062003-nr7vnic2/files/model-best/assets\n",
            "\u001b[34m\u001b[1mwandb\u001b[0m: Adding directory to artifact (/content/wandb/run-20231126_062003-nr7vnic2/files/model-best)... Done. 10.9s\n"
          ]
        },
        {
          "metadata": {
            "tags": null
          },
          "name": "stdout",
          "output_type": "stream",
          "text": [
            "8158/8158 [==============================] - 2127s 258ms/step - loss: 0.5970 - mae: 0.4458 - val_loss: 0.4757 - val_mae: 0.3890 - lr: 0.0010\n",
            "Epoch 2/10\n",
            " 922/8158 [==>...........................] - ETA: 28:12 - loss: 0.5080 - mae: 0.4150"
          ]
        },
        {
          "metadata": {
            "tags": null
          },
          "name": "stderr",
          "output_type": "stream",
          "text": [
            "Traceback (most recent call last):\n",
            "  File \"<ipython-input-17-56c9ae6123a4>\", line 73, in train\n",
            "    model.fit(\n",
            "  File \"/usr/local/lib/python3.10/dist-packages/keras/src/utils/traceback_utils.py\", line 70, in error_handler\n",
            "    raise e.with_traceback(filtered_tb) from None\n",
            "  File \"/usr/local/lib/python3.10/dist-packages/tensorflow/python/eager/execute.py\", line 60, in quick_execute\n",
            "    tensors = pywrap_tfe.TFE_Py_Execute(ctx._handle, device_name, op_name,\n",
            "tensorflow.python.framework.errors_impl.FailedPreconditionError: Graph execution error:\n",
            "\n",
            "Detected at node IteratorGetNext defined at (most recent call last):\n",
            "  File \"/usr/lib/python3.10/threading.py\", line 973, in _bootstrap\n",
            "\n",
            "  File \"/usr/lib/python3.10/threading.py\", line 1016, in _bootstrap_inner\n",
            "\n",
            "  File \"/usr/lib/python3.10/threading.py\", line 953, in run\n",
            "\n",
            "  File \"/usr/local/lib/python3.10/dist-packages/wandb/agents/pyagent.py\", line 298, in _run_job\n",
            "\n",
            "  File \"<ipython-input-17-56c9ae6123a4>\", line 73, in train\n",
            "\n",
            "  File \"/usr/local/lib/python3.10/dist-packages/keras/src/utils/traceback_utils.py\", line 65, in error_handler\n",
            "\n",
            "  File \"/usr/local/lib/python3.10/dist-packages/keras/src/engine/training.py\", line 1783, in fit\n",
            "\n",
            "  File \"/usr/local/lib/python3.10/dist-packages/keras/src/engine/training.py\", line 1377, in train_function\n",
            "\n",
            "  File \"/usr/local/lib/python3.10/dist-packages/keras/src/engine/training.py\", line 1359, in step_function\n",
            "\n",
            "Detected at node IteratorGetNext defined at (most recent call last):\n",
            "  File \"/usr/lib/python3.10/threading.py\", line 973, in _bootstrap\n",
            "\n",
            "  File \"/usr/lib/python3.10/threading.py\", line 1016, in _bootstrap_inner\n",
            "\n",
            "  File \"/usr/lib/python3.10/threading.py\", line 953, in run\n",
            "\n",
            "  File \"/usr/local/lib/python3.10/dist-packages/wandb/agents/pyagent.py\", line 298, in _run_job\n",
            "\n",
            "  File \"<ipython-input-17-56c9ae6123a4>\", line 73, in train\n",
            "\n",
            "  File \"/usr/local/lib/python3.10/dist-packages/keras/src/utils/traceback_utils.py\", line 65, in error_handler\n",
            "\n",
            "  File \"/usr/local/lib/python3.10/dist-packages/keras/src/engine/training.py\", line 1783, in fit\n",
            "\n",
            "  File \"/usr/local/lib/python3.10/dist-packages/keras/src/engine/training.py\", line 1377, in train_function\n",
            "\n",
            "  File \"/usr/local/lib/python3.10/dist-packages/keras/src/engine/training.py\", line 1359, in step_function\n",
            "\n",
            "2 root error(s) found.\n",
            "  (0) FAILED_PRECONDITION:  /content/drive/MyDrive/Colab Notebooks/Datasets/obligatorio_DL/train_all_dataset/16141064014960710612/00000000.shard/00000000.snapshot; Transport endpoint is not connected\n",
            "\t [[{{node IteratorGetNext}}]]\n",
            "\t [[IteratorGetNext/_14]]\n",
            "  (1) FAILED_PRECONDITION:  /content/drive/MyDrive/Colab Notebooks/Datasets/obligatorio_DL/train_all_dataset/16141064014960710612/00000000.shard/00000000.snapshot; Transport endpoint is not connected\n",
            "\t [[{{node IteratorGetNext}}]]\n",
            "0 successful operations.\n",
            "0 derived errors ignored. [Op:__inference_train_function_21863]\n"
          ]
        },
        {
          "data": {
            "application/vnd.jupyter.widget-view+json": {
              "model_id": "82fca33b40f74ab98b75a1ad2543fcf1",
              "version_major": 2,
              "version_minor": 0
            },
            "text/plain": [
              "VBox(children=(Label(value='2062.484 MB of 2062.484 MB uploaded\\r'), FloatProgress(value=1.0, max=1.0)))"
            ]
          },
          "metadata": {},
          "output_type": "display_data"
        },
        {
          "data": {
            "text/html": [
              "<style>\n",
              "    table.wandb td:nth-child(1) { padding: 0 10px; text-align: left ; width: auto;} td:nth-child(2) {text-align: left ; width: 100%}\n",
              "    .wandb-row { display: flex; flex-direction: row; flex-wrap: wrap; justify-content: flex-start; width: 100% }\n",
              "    .wandb-col { display: flex; flex-direction: column; flex-basis: 100%; flex: 1; padding: 10px; }\n",
              "    </style>\n",
              "<div class=\"wandb-row\"><div class=\"wandb-col\"><h3>Run history:</h3><br/><table class=\"wandb\"><tr><td>epoch</td><td>▁</td></tr><tr><td>loss</td><td>▁</td></tr><tr><td>lr</td><td>▁</td></tr><tr><td>mae</td><td>▁</td></tr><tr><td>val_loss</td><td>▁</td></tr><tr><td>val_mae</td><td>▁</td></tr></table><br/></div><div class=\"wandb-col\"><h3>Run summary:</h3><br/><table class=\"wandb\"><tr><td>best_epoch</td><td>0</td></tr><tr><td>best_val_loss</td><td>0.47567</td></tr><tr><td>epoch</td><td>0</td></tr><tr><td>loss</td><td>0.59701</td></tr><tr><td>lr</td><td>0.001</td></tr><tr><td>mae</td><td>0.4458</td></tr><tr><td>val_loss</td><td>0.47567</td></tr><tr><td>val_mae</td><td>0.38896</td></tr></table><br/></div></div>"
            ],
            "text/plain": [
              "<IPython.core.display.HTML object>"
            ]
          },
          "metadata": {},
          "output_type": "display_data"
        },
        {
          "data": {
            "text/html": [
              " View run <strong style=\"color:#cdcd00\">absurd-sweep-1</strong> at: <a href='https://wandb.ai/marian-ai/obligatorio_dl/runs/nr7vnic2' target=\"_blank\">https://wandb.ai/marian-ai/obligatorio_dl/runs/nr7vnic2</a><br/>Synced 5 W&B file(s), 1 media file(s), 5 artifact file(s) and 1 other file(s)"
            ],
            "text/plain": [
              "<IPython.core.display.HTML object>"
            ]
          },
          "metadata": {},
          "output_type": "display_data"
        },
        {
          "data": {
            "text/html": [
              "Find logs at: <code>./wandb/run-20231126_062003-nr7vnic2/logs</code>"
            ],
            "text/plain": [
              "<IPython.core.display.HTML object>"
            ]
          },
          "metadata": {},
          "output_type": "display_data"
        },
        {
          "metadata": {
            "tags": null
          },
          "name": "stderr",
          "output_type": "stream",
          "text": [
            "Run nr7vnic2 errored: FailedPreconditionError()\n",
            "\u001b[34m\u001b[1mwandb\u001b[0m: \u001b[32m\u001b[41mERROR\u001b[0m Run nr7vnic2 errored: FailedPreconditionError()\n",
            "\u001b[34m\u001b[1mwandb\u001b[0m: Agent Starting Run: sn0jlm7r with config:\n",
            "\u001b[34m\u001b[1mwandb\u001b[0m: \tbatch_size: 64\n",
            "\u001b[34m\u001b[1mwandb\u001b[0m: \tdropout_rate: 0.3\n",
            "\u001b[34m\u001b[1mwandb\u001b[0m: \tepochs: 20\n",
            "\u001b[34m\u001b[1mwandb\u001b[0m: \tfeature_combination: numerical\n",
            "\u001b[34m\u001b[1mwandb\u001b[0m: \tl2_regularization: 0.001\n"
          ]
        },
        {
          "data": {
            "text/html": [
              "Tracking run with wandb version 0.16.0"
            ],
            "text/plain": [
              "<IPython.core.display.HTML object>"
            ]
          },
          "metadata": {},
          "output_type": "display_data"
        },
        {
          "data": {
            "text/html": [
              "Run data is saved locally in <code>/content/wandb/run-20231126_070037-sn0jlm7r</code>"
            ],
            "text/plain": [
              "<IPython.core.display.HTML object>"
            ]
          },
          "metadata": {},
          "output_type": "display_data"
        },
        {
          "data": {
            "text/html": [
              "Syncing run <strong><a href='https://wandb.ai/marian-ai/obligatorio_dl/runs/sn0jlm7r' target=\"_blank\">decent-sweep-2</a></strong> to <a href='https://wandb.ai/marian-ai/obligatorio_dl' target=\"_blank\">Weights & Biases</a> (<a href='https://wandb.me/run' target=\"_blank\">docs</a>)<br/>Sweep page: <a href='https://wandb.ai/marian-ai/obligatorio_dl/sweeps/a47ag95a' target=\"_blank\">https://wandb.ai/marian-ai/obligatorio_dl/sweeps/a47ag95a</a>"
            ],
            "text/plain": [
              "<IPython.core.display.HTML object>"
            ]
          },
          "metadata": {},
          "output_type": "display_data"
        },
        {
          "data": {
            "text/html": [
              " View project at <a href='https://wandb.ai/marian-ai/obligatorio_dl' target=\"_blank\">https://wandb.ai/marian-ai/obligatorio_dl</a>"
            ],
            "text/plain": [
              "<IPython.core.display.HTML object>"
            ]
          },
          "metadata": {},
          "output_type": "display_data"
        },
        {
          "data": {
            "text/html": [
              " View sweep at <a href='https://wandb.ai/marian-ai/obligatorio_dl/sweeps/a47ag95a' target=\"_blank\">https://wandb.ai/marian-ai/obligatorio_dl/sweeps/a47ag95a</a>"
            ],
            "text/plain": [
              "<IPython.core.display.HTML object>"
            ]
          },
          "metadata": {},
          "output_type": "display_data"
        },
        {
          "data": {
            "text/html": [
              " View run at <a href='https://wandb.ai/marian-ai/obligatorio_dl/runs/sn0jlm7r' target=\"_blank\">https://wandb.ai/marian-ai/obligatorio_dl/runs/sn0jlm7r</a>"
            ],
            "text/plain": [
              "<IPython.core.display.HTML object>"
            ]
          },
          "metadata": {},
          "output_type": "display_data"
        },
        {
          "metadata": {
            "tags": null
          },
          "name": "stdout",
          "output_type": "stream",
          "text": [
            "Epoch 1/20\n",
            "8151/8158 [============================>.] - ETA: 0s - loss: 0.6268 - mae: 0.4640"
          ]
        },
        {
          "metadata": {
            "tags": null
          },
          "name": "stderr",
          "output_type": "stream",
          "text": [
            "/usr/local/lib/python3.10/dist-packages/keras/src/engine/training.py:3079: UserWarning: You are saving your model as an HDF5 file via `model.save()`. This file format is considered legacy. We recommend using instead the native Keras format, e.g. `model.save('my_model.keras')`.\n",
            "  saving_api.save_model(\n"
          ]
        },
        {
          "metadata": {
            "tags": null
          },
          "name": "stdout",
          "output_type": "stream",
          "text": [
            "INFO:tensorflow:Assets written to: /content/wandb/run-20231126_070037-sn0jlm7r/files/model-best/assets\n"
          ]
        },
        {
          "metadata": {
            "tags": null
          },
          "name": "stderr",
          "output_type": "stream",
          "text": [
            "INFO:tensorflow:Assets written to: /content/wandb/run-20231126_070037-sn0jlm7r/files/model-best/assets\n",
            "\u001b[34m\u001b[1mwandb\u001b[0m: Adding directory to artifact (/content/wandb/run-20231126_070037-sn0jlm7r/files/model-best)... Done. 0.0s\n"
          ]
        },
        {
          "metadata": {
            "tags": null
          },
          "name": "stdout",
          "output_type": "stream",
          "text": [
            "8158/8158 [==============================] - 26s 3ms/step - loss: 0.6266 - mae: 0.4639 - val_loss: 0.4934 - val_mae: 0.3973 - lr: 0.0010\n",
            "Epoch 2/20\n",
            "8148/8158 [============================>.] - ETA: 0s - loss: 0.5121 - mae: 0.4172"
          ]
        },
        {
          "metadata": {
            "tags": null
          },
          "name": "stderr",
          "output_type": "stream",
          "text": [
            "/usr/local/lib/python3.10/dist-packages/keras/src/engine/training.py:3079: UserWarning: You are saving your model as an HDF5 file via `model.save()`. This file format is considered legacy. We recommend using instead the native Keras format, e.g. `model.save('my_model.keras')`.\n",
            "  saving_api.save_model(\n"
          ]
        },
        {
          "metadata": {
            "tags": null
          },
          "name": "stdout",
          "output_type": "stream",
          "text": [
            "INFO:tensorflow:Assets written to: /content/wandb/run-20231126_070037-sn0jlm7r/files/model-best/assets\n"
          ]
        },
        {
          "metadata": {
            "tags": null
          },
          "name": "stderr",
          "output_type": "stream",
          "text": [
            "INFO:tensorflow:Assets written to: /content/wandb/run-20231126_070037-sn0jlm7r/files/model-best/assets\n",
            "\u001b[34m\u001b[1mwandb\u001b[0m: Adding directory to artifact (/content/wandb/run-20231126_070037-sn0jlm7r/files/model-best)... Done. 0.0s\n"
          ]
        },
        {
          "metadata": {
            "tags": null
          },
          "name": "stdout",
          "output_type": "stream",
          "text": [
            "8158/8158 [==============================] - 25s 3ms/step - loss: 0.5119 - mae: 0.4171 - val_loss: 0.4492 - val_mae: 0.3847 - lr: 0.0010\n",
            "Epoch 3/20\n",
            "8142/8158 [============================>.] - ETA: 0s - loss: 0.4846 - mae: 0.4069"
          ]
        },
        {
          "metadata": {
            "tags": null
          },
          "name": "stderr",
          "output_type": "stream",
          "text": [
            "/usr/local/lib/python3.10/dist-packages/keras/src/engine/training.py:3079: UserWarning: You are saving your model as an HDF5 file via `model.save()`. This file format is considered legacy. We recommend using instead the native Keras format, e.g. `model.save('my_model.keras')`.\n",
            "  saving_api.save_model(\n"
          ]
        },
        {
          "metadata": {
            "tags": null
          },
          "name": "stdout",
          "output_type": "stream",
          "text": [
            "INFO:tensorflow:Assets written to: /content/wandb/run-20231126_070037-sn0jlm7r/files/model-best/assets\n"
          ]
        },
        {
          "metadata": {
            "tags": null
          },
          "name": "stderr",
          "output_type": "stream",
          "text": [
            "INFO:tensorflow:Assets written to: /content/wandb/run-20231126_070037-sn0jlm7r/files/model-best/assets\n",
            "\u001b[34m\u001b[1mwandb\u001b[0m: Adding directory to artifact (/content/wandb/run-20231126_070037-sn0jlm7r/files/model-best)... Done. 0.0s\n"
          ]
        },
        {
          "metadata": {
            "tags": null
          },
          "name": "stdout",
          "output_type": "stream",
          "text": [
            "8158/8158 [==============================] - 25s 3ms/step - loss: 0.4845 - mae: 0.4069 - val_loss: 0.4198 - val_mae: 0.3761 - lr: 0.0010\n",
            "Epoch 4/20\n",
            "8148/8158 [============================>.] - ETA: 0s - loss: 0.4672 - mae: 0.4005"
          ]
        },
        {
          "metadata": {
            "tags": null
          },
          "name": "stderr",
          "output_type": "stream",
          "text": [
            "/usr/local/lib/python3.10/dist-packages/keras/src/engine/training.py:3079: UserWarning: You are saving your model as an HDF5 file via `model.save()`. This file format is considered legacy. We recommend using instead the native Keras format, e.g. `model.save('my_model.keras')`.\n",
            "  saving_api.save_model(\n"
          ]
        },
        {
          "metadata": {
            "tags": null
          },
          "name": "stdout",
          "output_type": "stream",
          "text": [
            "INFO:tensorflow:Assets written to: /content/wandb/run-20231126_070037-sn0jlm7r/files/model-best/assets\n"
          ]
        },
        {
          "metadata": {
            "tags": null
          },
          "name": "stderr",
          "output_type": "stream",
          "text": [
            "INFO:tensorflow:Assets written to: /content/wandb/run-20231126_070037-sn0jlm7r/files/model-best/assets\n",
            "\u001b[34m\u001b[1mwandb\u001b[0m: Adding directory to artifact (/content/wandb/run-20231126_070037-sn0jlm7r/files/model-best)... Done. 0.0s\n"
          ]
        },
        {
          "metadata": {
            "tags": null
          },
          "name": "stdout",
          "output_type": "stream",
          "text": [
            "8158/8158 [==============================] - 25s 3ms/step - loss: 0.4671 - mae: 0.4004 - val_loss: 0.4127 - val_mae: 0.3735 - lr: 0.0010\n",
            "Epoch 5/20\n",
            "8146/8158 [============================>.] - ETA: 0s - loss: 0.4524 - mae: 0.3935"
          ]
        },
        {
          "metadata": {
            "tags": null
          },
          "name": "stderr",
          "output_type": "stream",
          "text": [
            "/usr/local/lib/python3.10/dist-packages/keras/src/engine/training.py:3079: UserWarning: You are saving your model as an HDF5 file via `model.save()`. This file format is considered legacy. We recommend using instead the native Keras format, e.g. `model.save('my_model.keras')`.\n",
            "  saving_api.save_model(\n"
          ]
        },
        {
          "metadata": {
            "tags": null
          },
          "name": "stdout",
          "output_type": "stream",
          "text": [
            "INFO:tensorflow:Assets written to: /content/wandb/run-20231126_070037-sn0jlm7r/files/model-best/assets\n"
          ]
        },
        {
          "metadata": {
            "tags": null
          },
          "name": "stderr",
          "output_type": "stream",
          "text": [
            "INFO:tensorflow:Assets written to: /content/wandb/run-20231126_070037-sn0jlm7r/files/model-best/assets\n",
            "\u001b[34m\u001b[1mwandb\u001b[0m: Adding directory to artifact (/content/wandb/run-20231126_070037-sn0jlm7r/files/model-best)... Done. 0.0s\n"
          ]
        },
        {
          "metadata": {
            "tags": null
          },
          "name": "stdout",
          "output_type": "stream",
          "text": [
            "8158/8158 [==============================] - 25s 3ms/step - loss: 0.4524 - mae: 0.3935 - val_loss: 0.4007 - val_mae: 0.3648 - lr: 0.0010\n",
            "Epoch 6/20\n",
            "8156/8158 [============================>.] - ETA: 0s - loss: 0.4411 - mae: 0.3884"
          ]
        },
        {
          "metadata": {
            "tags": null
          },
          "name": "stderr",
          "output_type": "stream",
          "text": [
            "/usr/local/lib/python3.10/dist-packages/keras/src/engine/training.py:3079: UserWarning: You are saving your model as an HDF5 file via `model.save()`. This file format is considered legacy. We recommend using instead the native Keras format, e.g. `model.save('my_model.keras')`.\n",
            "  saving_api.save_model(\n"
          ]
        },
        {
          "metadata": {
            "tags": null
          },
          "name": "stdout",
          "output_type": "stream",
          "text": [
            "INFO:tensorflow:Assets written to: /content/wandb/run-20231126_070037-sn0jlm7r/files/model-best/assets\n"
          ]
        },
        {
          "metadata": {
            "tags": null
          },
          "name": "stderr",
          "output_type": "stream",
          "text": [
            "INFO:tensorflow:Assets written to: /content/wandb/run-20231126_070037-sn0jlm7r/files/model-best/assets\n",
            "\u001b[34m\u001b[1mwandb\u001b[0m: Adding directory to artifact (/content/wandb/run-20231126_070037-sn0jlm7r/files/model-best)... Done. 0.0s\n"
          ]
        },
        {
          "metadata": {
            "tags": null
          },
          "name": "stdout",
          "output_type": "stream",
          "text": [
            "8158/8158 [==============================] - 25s 3ms/step - loss: 0.4410 - mae: 0.3884 - val_loss: 0.3813 - val_mae: 0.3557 - lr: 0.0010\n",
            "Epoch 7/20\n",
            "8158/8158 [==============================] - 24s 3ms/step - loss: 0.4389 - mae: 0.3864 - val_loss: 0.3877 - val_mae: 0.3603 - lr: 0.0010\n",
            "Epoch 8/20\n",
            "8158/8158 [==============================] - 24s 3ms/step - loss: 0.4374 - mae: 0.3846 - val_loss: 0.3945 - val_mae: 0.3608 - lr: 0.0010\n",
            "Epoch 9/20\n",
            "8154/8158 [============================>.] - ETA: 0s - loss: 0.4329 - mae: 0.3827"
          ]
        },
        {
          "metadata": {
            "tags": null
          },
          "name": "stderr",
          "output_type": "stream",
          "text": [
            "/usr/local/lib/python3.10/dist-packages/keras/src/engine/training.py:3079: UserWarning: You are saving your model as an HDF5 file via `model.save()`. This file format is considered legacy. We recommend using instead the native Keras format, e.g. `model.save('my_model.keras')`.\n",
            "  saving_api.save_model(\n"
          ]
        },
        {
          "metadata": {
            "tags": null
          },
          "name": "stdout",
          "output_type": "stream",
          "text": [
            "INFO:tensorflow:Assets written to: /content/wandb/run-20231126_070037-sn0jlm7r/files/model-best/assets\n"
          ]
        },
        {
          "metadata": {
            "tags": null
          },
          "name": "stderr",
          "output_type": "stream",
          "text": [
            "INFO:tensorflow:Assets written to: /content/wandb/run-20231126_070037-sn0jlm7r/files/model-best/assets\n",
            "\u001b[34m\u001b[1mwandb\u001b[0m: Adding directory to artifact (/content/wandb/run-20231126_070037-sn0jlm7r/files/model-best)... Done. 0.0s\n"
          ]
        },
        {
          "metadata": {
            "tags": null
          },
          "name": "stdout",
          "output_type": "stream",
          "text": [
            "8158/8158 [==============================] - 25s 3ms/step - loss: 0.4329 - mae: 0.3827 - val_loss: 0.3583 - val_mae: 0.3505 - lr: 0.0010\n",
            "Epoch 10/20\n",
            "8158/8158 [==============================] - 24s 3ms/step - loss: 0.4322 - mae: 0.3828 - val_loss: 0.3625 - val_mae: 0.3504 - lr: 0.0010\n",
            "Epoch 11/20\n",
            "8158/8158 [==============================] - 24s 3ms/step - loss: 0.4379 - mae: 0.3824 - val_loss: 0.3655 - val_mae: 0.3521 - lr: 0.0010\n",
            "Epoch 12/20\n",
            "8158/8158 [==============================] - 24s 3ms/step - loss: 0.4357 - mae: 0.3830 - val_loss: 0.3655 - val_mae: 0.3508 - lr: 0.0010\n"
          ]
        },
        {
          "data": {
            "application/vnd.jupyter.widget-view+json": {
              "model_id": "701eddb2aa8146908a75a55262a8b200",
              "version_major": 2,
              "version_minor": 0
            },
            "text/plain": [
              "VBox(children=(Label(value='0.799 MB of 0.799 MB uploaded (0.050 MB deduped)\\r'), FloatProgress(value=1.0, max…"
            ]
          },
          "metadata": {},
          "output_type": "display_data"
        },
        {
          "data": {
            "text/html": [
              "W&B sync reduced upload amount by 6.1%             "
            ],
            "text/plain": [
              "<IPython.core.display.HTML object>"
            ]
          },
          "metadata": {},
          "output_type": "display_data"
        },
        {
          "data": {
            "text/html": [
              "<style>\n",
              "    table.wandb td:nth-child(1) { padding: 0 10px; text-align: left ; width: auto;} td:nth-child(2) {text-align: left ; width: 100%}\n",
              "    .wandb-row { display: flex; flex-direction: row; flex-wrap: wrap; justify-content: flex-start; width: 100% }\n",
              "    .wandb-col { display: flex; flex-direction: column; flex-basis: 100%; flex: 1; padding: 10px; }\n",
              "    </style>\n",
              "<div class=\"wandb-row\"><div class=\"wandb-col\"><h3>Run history:</h3><br/><table class=\"wandb\"><tr><td>epoch</td><td>▁▂▂▃▄▄▅▅▆▇▇█</td></tr><tr><td>loss</td><td>█▄▃▂▂▁▁▁▁▁▁▁</td></tr><tr><td>lr</td><td>▁▁▁▁▁▁▁▁▁▁▁▁</td></tr><tr><td>mae</td><td>█▄▃▃▂▂▁▁▁▁▁▁</td></tr><tr><td>val_loss</td><td>█▆▄▄▃▂▃▃▁▁▁▁</td></tr><tr><td>val_mae</td><td>█▆▅▄▃▂▂▃▁▁▁▁</td></tr></table><br/></div><div class=\"wandb-col\"><h3>Run summary:</h3><br/><table class=\"wandb\"><tr><td>best_epoch</td><td>8</td></tr><tr><td>best_val_loss</td><td>0.3583</td></tr><tr><td>epoch</td><td>11</td></tr><tr><td>loss</td><td>0.43568</td></tr><tr><td>lr</td><td>0.001</td></tr><tr><td>mae</td><td>0.38299</td></tr><tr><td>val_loss</td><td>0.36547</td></tr><tr><td>val_mae</td><td>0.35077</td></tr></table><br/></div></div>"
            ],
            "text/plain": [
              "<IPython.core.display.HTML object>"
            ]
          },
          "metadata": {},
          "output_type": "display_data"
        },
        {
          "data": {
            "text/html": [
              " View run <strong style=\"color:#cdcd00\">decent-sweep-2</strong> at: <a href='https://wandb.ai/marian-ai/obligatorio_dl/runs/sn0jlm7r' target=\"_blank\">https://wandb.ai/marian-ai/obligatorio_dl/runs/sn0jlm7r</a><br/>Synced 5 W&B file(s), 1 media file(s), 35 artifact file(s) and 1 other file(s)"
            ],
            "text/plain": [
              "<IPython.core.display.HTML object>"
            ]
          },
          "metadata": {},
          "output_type": "display_data"
        },
        {
          "data": {
            "text/html": [
              "Find logs at: <code>./wandb/run-20231126_070037-sn0jlm7r/logs</code>"
            ],
            "text/plain": [
              "<IPython.core.display.HTML object>"
            ]
          },
          "metadata": {},
          "output_type": "display_data"
        },
        {
          "metadata": {
            "tags": null
          },
          "name": "stderr",
          "output_type": "stream",
          "text": [
            "\u001b[34m\u001b[1mwandb\u001b[0m: Sweep Agent: Waiting for job.\n",
            "\u001b[34m\u001b[1mwandb\u001b[0m: Job received.\n",
            "\u001b[34m\u001b[1mwandb\u001b[0m: Agent Starting Run: ht84wdvm with config:\n",
            "\u001b[34m\u001b[1mwandb\u001b[0m: \tbatch_size: 64\n",
            "\u001b[34m\u001b[1mwandb\u001b[0m: \tdropout_rate: 0.3\n",
            "\u001b[34m\u001b[1mwandb\u001b[0m: \tepochs: 10\n",
            "\u001b[34m\u001b[1mwandb\u001b[0m: \tfeature_combination: all_features\n",
            "\u001b[34m\u001b[1mwandb\u001b[0m: \tl2_regularization: 0.001\n"
          ]
        },
        {
          "data": {
            "text/html": [
              "Tracking run with wandb version 0.16.0"
            ],
            "text/plain": [
              "<IPython.core.display.HTML object>"
            ]
          },
          "metadata": {},
          "output_type": "display_data"
        },
        {
          "data": {
            "text/html": [
              "Run data is saved locally in <code>/content/wandb/run-20231126_070556-ht84wdvm</code>"
            ],
            "text/plain": [
              "<IPython.core.display.HTML object>"
            ]
          },
          "metadata": {},
          "output_type": "display_data"
        },
        {
          "data": {
            "text/html": [
              "Syncing run <strong><a href='https://wandb.ai/marian-ai/obligatorio_dl/runs/ht84wdvm' target=\"_blank\">eager-sweep-3</a></strong> to <a href='https://wandb.ai/marian-ai/obligatorio_dl' target=\"_blank\">Weights & Biases</a> (<a href='https://wandb.me/run' target=\"_blank\">docs</a>)<br/>Sweep page: <a href='https://wandb.ai/marian-ai/obligatorio_dl/sweeps/a47ag95a' target=\"_blank\">https://wandb.ai/marian-ai/obligatorio_dl/sweeps/a47ag95a</a>"
            ],
            "text/plain": [
              "<IPython.core.display.HTML object>"
            ]
          },
          "metadata": {},
          "output_type": "display_data"
        },
        {
          "data": {
            "text/html": [
              " View project at <a href='https://wandb.ai/marian-ai/obligatorio_dl' target=\"_blank\">https://wandb.ai/marian-ai/obligatorio_dl</a>"
            ],
            "text/plain": [
              "<IPython.core.display.HTML object>"
            ]
          },
          "metadata": {},
          "output_type": "display_data"
        },
        {
          "data": {
            "text/html": [
              " View sweep at <a href='https://wandb.ai/marian-ai/obligatorio_dl/sweeps/a47ag95a' target=\"_blank\">https://wandb.ai/marian-ai/obligatorio_dl/sweeps/a47ag95a</a>"
            ],
            "text/plain": [
              "<IPython.core.display.HTML object>"
            ]
          },
          "metadata": {},
          "output_type": "display_data"
        },
        {
          "data": {
            "text/html": [
              " View run at <a href='https://wandb.ai/marian-ai/obligatorio_dl/runs/ht84wdvm' target=\"_blank\">https://wandb.ai/marian-ai/obligatorio_dl/runs/ht84wdvm</a>"
            ],
            "text/plain": [
              "<IPython.core.display.HTML object>"
            ]
          },
          "metadata": {},
          "output_type": "display_data"
        },
        {
          "metadata": {
            "tags": null
          },
          "name": "stdout",
          "output_type": "stream",
          "text": [
            "Epoch 1/10\n",
            "8158/8158 [==============================] - ETA: 0s - loss: 0.5933 - mae: 0.4441"
          ]
        },
        {
          "metadata": {
            "tags": null
          },
          "name": "stderr",
          "output_type": "stream",
          "text": [
            "/usr/local/lib/python3.10/dist-packages/keras/src/engine/training.py:3079: UserWarning: You are saving your model as an HDF5 file via `model.save()`. This file format is considered legacy. We recommend using instead the native Keras format, e.g. `model.save('my_model.keras')`.\n",
            "  saving_api.save_model(\n"
          ]
        },
        {
          "metadata": {
            "tags": null
          },
          "name": "stdout",
          "output_type": "stream",
          "text": [
            "WARNING:tensorflow:Skipping full serialization of Keras layer <keras.src.layers.regularization.dropout.Dropout object at 0x78f7e1dd8850>, because it is not built.\n"
          ]
        },
        {
          "metadata": {
            "tags": null
          },
          "name": "stderr",
          "output_type": "stream",
          "text": [
            "WARNING:tensorflow:Skipping full serialization of Keras layer <keras.src.layers.regularization.dropout.Dropout object at 0x78f7e1dd8850>, because it is not built.\n"
          ]
        },
        {
          "metadata": {
            "tags": null
          },
          "name": "stdout",
          "output_type": "stream",
          "text": [
            "WARNING:tensorflow:Skipping full serialization of Keras layer <keras.src.layers.regularization.dropout.Dropout object at 0x78f953813e20>, because it is not built.\n"
          ]
        },
        {
          "metadata": {
            "tags": null
          },
          "name": "stderr",
          "output_type": "stream",
          "text": [
            "WARNING:tensorflow:Skipping full serialization of Keras layer <keras.src.layers.regularization.dropout.Dropout object at 0x78f953813e20>, because it is not built.\n"
          ]
        },
        {
          "metadata": {
            "tags": null
          },
          "name": "stdout",
          "output_type": "stream",
          "text": [
            "WARNING:tensorflow:Skipping full serialization of Keras layer <keras.src.layers.regularization.dropout.Dropout object at 0x78f75a1bf100>, because it is not built.\n"
          ]
        },
        {
          "metadata": {
            "tags": null
          },
          "name": "stderr",
          "output_type": "stream",
          "text": [
            "WARNING:tensorflow:Skipping full serialization of Keras layer <keras.src.layers.regularization.dropout.Dropout object at 0x78f75a1bf100>, because it is not built.\n"
          ]
        },
        {
          "metadata": {
            "tags": null
          },
          "name": "stdout",
          "output_type": "stream",
          "text": [
            "WARNING:tensorflow:Skipping full serialization of Keras layer <keras.src.layers.regularization.dropout.Dropout object at 0x78f75a1d5c60>, because it is not built.\n"
          ]
        },
        {
          "metadata": {
            "tags": null
          },
          "name": "stderr",
          "output_type": "stream",
          "text": [
            "WARNING:tensorflow:Skipping full serialization of Keras layer <keras.src.layers.regularization.dropout.Dropout object at 0x78f75a1d5c60>, because it is not built.\n"
          ]
        },
        {
          "metadata": {
            "tags": null
          },
          "name": "stdout",
          "output_type": "stream",
          "text": [
            "WARNING:tensorflow:Skipping full serialization of Keras layer <keras.src.layers.regularization.dropout.Dropout object at 0x78f714d107c0>, because it is not built.\n"
          ]
        },
        {
          "metadata": {
            "tags": null
          },
          "name": "stderr",
          "output_type": "stream",
          "text": [
            "WARNING:tensorflow:Skipping full serialization of Keras layer <keras.src.layers.regularization.dropout.Dropout object at 0x78f714d107c0>, because it is not built.\n"
          ]
        },
        {
          "metadata": {
            "tags": null
          },
          "name": "stdout",
          "output_type": "stream",
          "text": [
            "WARNING:tensorflow:Skipping full serialization of Keras layer <keras.src.layers.regularization.dropout.Dropout object at 0x78f714d13310>, because it is not built.\n"
          ]
        },
        {
          "metadata": {
            "tags": null
          },
          "name": "stderr",
          "output_type": "stream",
          "text": [
            "WARNING:tensorflow:Skipping full serialization of Keras layer <keras.src.layers.regularization.dropout.Dropout object at 0x78f714d13310>, because it is not built.\n"
          ]
        },
        {
          "metadata": {
            "tags": null
          },
          "name": "stdout",
          "output_type": "stream",
          "text": [
            "INFO:tensorflow:Assets written to: /content/wandb/run-20231126_070556-ht84wdvm/files/model-best/assets\n"
          ]
        },
        {
          "metadata": {
            "tags": null
          },
          "name": "stderr",
          "output_type": "stream",
          "text": [
            "INFO:tensorflow:Assets written to: /content/wandb/run-20231126_070556-ht84wdvm/files/model-best/assets\n",
            "\u001b[34m\u001b[1mwandb\u001b[0m: Adding directory to artifact (/content/wandb/run-20231126_070556-ht84wdvm/files/model-best)... Done. 8.1s\n"
          ]
        },
        {
          "metadata": {
            "tags": null
          },
          "name": "stdout",
          "output_type": "stream",
          "text": [
            "8158/8158 [==============================] - 2121s 258ms/step - loss: 0.5933 - mae: 0.4441 - val_loss: 0.4755 - val_mae: 0.3912 - lr: 0.0010\n",
            "Epoch 2/10\n",
            "8158/8158 [==============================] - ETA: 0s - loss: 0.4967 - mae: 0.4090"
          ]
        },
        {
          "metadata": {
            "tags": null
          },
          "name": "stderr",
          "output_type": "stream",
          "text": [
            "/usr/local/lib/python3.10/dist-packages/keras/src/engine/training.py:3079: UserWarning: You are saving your model as an HDF5 file via `model.save()`. This file format is considered legacy. We recommend using instead the native Keras format, e.g. `model.save('my_model.keras')`.\n",
            "  saving_api.save_model(\n"
          ]
        },
        {
          "metadata": {
            "tags": null
          },
          "name": "stdout",
          "output_type": "stream",
          "text": [
            "WARNING:tensorflow:Skipping full serialization of Keras layer <keras.src.layers.regularization.dropout.Dropout object at 0x78f7e1dd8850>, because it is not built.\n"
          ]
        },
        {
          "metadata": {
            "tags": null
          },
          "name": "stderr",
          "output_type": "stream",
          "text": [
            "WARNING:tensorflow:Skipping full serialization of Keras layer <keras.src.layers.regularization.dropout.Dropout object at 0x78f7e1dd8850>, because it is not built.\n"
          ]
        },
        {
          "metadata": {
            "tags": null
          },
          "name": "stdout",
          "output_type": "stream",
          "text": [
            "WARNING:tensorflow:Skipping full serialization of Keras layer <keras.src.layers.regularization.dropout.Dropout object at 0x78f953813e20>, because it is not built.\n"
          ]
        },
        {
          "metadata": {
            "tags": null
          },
          "name": "stderr",
          "output_type": "stream",
          "text": [
            "WARNING:tensorflow:Skipping full serialization of Keras layer <keras.src.layers.regularization.dropout.Dropout object at 0x78f953813e20>, because it is not built.\n"
          ]
        },
        {
          "metadata": {
            "tags": null
          },
          "name": "stdout",
          "output_type": "stream",
          "text": [
            "WARNING:tensorflow:Skipping full serialization of Keras layer <keras.src.layers.regularization.dropout.Dropout object at 0x78f75a1bf100>, because it is not built.\n"
          ]
        },
        {
          "metadata": {
            "tags": null
          },
          "name": "stderr",
          "output_type": "stream",
          "text": [
            "WARNING:tensorflow:Skipping full serialization of Keras layer <keras.src.layers.regularization.dropout.Dropout object at 0x78f75a1bf100>, because it is not built.\n"
          ]
        },
        {
          "metadata": {
            "tags": null
          },
          "name": "stdout",
          "output_type": "stream",
          "text": [
            "WARNING:tensorflow:Skipping full serialization of Keras layer <keras.src.layers.regularization.dropout.Dropout object at 0x78f75a1d5c60>, because it is not built.\n"
          ]
        },
        {
          "metadata": {
            "tags": null
          },
          "name": "stderr",
          "output_type": "stream",
          "text": [
            "WARNING:tensorflow:Skipping full serialization of Keras layer <keras.src.layers.regularization.dropout.Dropout object at 0x78f75a1d5c60>, because it is not built.\n"
          ]
        },
        {
          "metadata": {
            "tags": null
          },
          "name": "stdout",
          "output_type": "stream",
          "text": [
            "WARNING:tensorflow:Skipping full serialization of Keras layer <keras.src.layers.regularization.dropout.Dropout object at 0x78f714d107c0>, because it is not built.\n"
          ]
        },
        {
          "metadata": {
            "tags": null
          },
          "name": "stderr",
          "output_type": "stream",
          "text": [
            "WARNING:tensorflow:Skipping full serialization of Keras layer <keras.src.layers.regularization.dropout.Dropout object at 0x78f714d107c0>, because it is not built.\n"
          ]
        },
        {
          "metadata": {
            "tags": null
          },
          "name": "stdout",
          "output_type": "stream",
          "text": [
            "WARNING:tensorflow:Skipping full serialization of Keras layer <keras.src.layers.regularization.dropout.Dropout object at 0x78f714d13310>, because it is not built.\n"
          ]
        },
        {
          "metadata": {
            "tags": null
          },
          "name": "stderr",
          "output_type": "stream",
          "text": [
            "WARNING:tensorflow:Skipping full serialization of Keras layer <keras.src.layers.regularization.dropout.Dropout object at 0x78f714d13310>, because it is not built.\n"
          ]
        },
        {
          "metadata": {
            "tags": null
          },
          "name": "stdout",
          "output_type": "stream",
          "text": [
            "INFO:tensorflow:Assets written to: /content/wandb/run-20231126_070556-ht84wdvm/files/model-best/assets\n"
          ]
        },
        {
          "metadata": {
            "tags": null
          },
          "name": "stderr",
          "output_type": "stream",
          "text": [
            "INFO:tensorflow:Assets written to: /content/wandb/run-20231126_070556-ht84wdvm/files/model-best/assets\n",
            "\u001b[34m\u001b[1mwandb\u001b[0m: Adding directory to artifact (/content/wandb/run-20231126_070556-ht84wdvm/files/model-best)... Done. 8.1s\n"
          ]
        },
        {
          "metadata": {
            "tags": null
          },
          "name": "stdout",
          "output_type": "stream",
          "text": [
            "8158/8158 [==============================] - 2105s 258ms/step - loss: 0.4967 - mae: 0.4090 - val_loss: 0.4162 - val_mae: 0.3650 - lr: 0.0010\n",
            "Epoch 3/10\n",
            "8158/8158 [==============================] - ETA: 0s - loss: 0.4626 - mae: 0.3974"
          ]
        },
        {
          "metadata": {
            "tags": null
          },
          "name": "stderr",
          "output_type": "stream",
          "text": [
            "/usr/local/lib/python3.10/dist-packages/keras/src/engine/training.py:3079: UserWarning: You are saving your model as an HDF5 file via `model.save()`. This file format is considered legacy. We recommend using instead the native Keras format, e.g. `model.save('my_model.keras')`.\n",
            "  saving_api.save_model(\n"
          ]
        },
        {
          "metadata": {
            "tags": null
          },
          "name": "stdout",
          "output_type": "stream",
          "text": [
            "WARNING:tensorflow:Skipping full serialization of Keras layer <keras.src.layers.regularization.dropout.Dropout object at 0x78f7e1dd8850>, because it is not built.\n"
          ]
        },
        {
          "metadata": {
            "tags": null
          },
          "name": "stderr",
          "output_type": "stream",
          "text": [
            "WARNING:tensorflow:Skipping full serialization of Keras layer <keras.src.layers.regularization.dropout.Dropout object at 0x78f7e1dd8850>, because it is not built.\n"
          ]
        },
        {
          "metadata": {
            "tags": null
          },
          "name": "stdout",
          "output_type": "stream",
          "text": [
            "WARNING:tensorflow:Skipping full serialization of Keras layer <keras.src.layers.regularization.dropout.Dropout object at 0x78f953813e20>, because it is not built.\n"
          ]
        },
        {
          "metadata": {
            "tags": null
          },
          "name": "stderr",
          "output_type": "stream",
          "text": [
            "WARNING:tensorflow:Skipping full serialization of Keras layer <keras.src.layers.regularization.dropout.Dropout object at 0x78f953813e20>, because it is not built.\n"
          ]
        },
        {
          "metadata": {
            "tags": null
          },
          "name": "stdout",
          "output_type": "stream",
          "text": [
            "WARNING:tensorflow:Skipping full serialization of Keras layer <keras.src.layers.regularization.dropout.Dropout object at 0x78f75a1bf100>, because it is not built.\n"
          ]
        },
        {
          "metadata": {
            "tags": null
          },
          "name": "stderr",
          "output_type": "stream",
          "text": [
            "WARNING:tensorflow:Skipping full serialization of Keras layer <keras.src.layers.regularization.dropout.Dropout object at 0x78f75a1bf100>, because it is not built.\n"
          ]
        },
        {
          "metadata": {
            "tags": null
          },
          "name": "stdout",
          "output_type": "stream",
          "text": [
            "WARNING:tensorflow:Skipping full serialization of Keras layer <keras.src.layers.regularization.dropout.Dropout object at 0x78f75a1d5c60>, because it is not built.\n"
          ]
        },
        {
          "metadata": {
            "tags": null
          },
          "name": "stderr",
          "output_type": "stream",
          "text": [
            "WARNING:tensorflow:Skipping full serialization of Keras layer <keras.src.layers.regularization.dropout.Dropout object at 0x78f75a1d5c60>, because it is not built.\n"
          ]
        },
        {
          "metadata": {
            "tags": null
          },
          "name": "stdout",
          "output_type": "stream",
          "text": [
            "WARNING:tensorflow:Skipping full serialization of Keras layer <keras.src.layers.regularization.dropout.Dropout object at 0x78f714d107c0>, because it is not built.\n"
          ]
        },
        {
          "metadata": {
            "tags": null
          },
          "name": "stderr",
          "output_type": "stream",
          "text": [
            "WARNING:tensorflow:Skipping full serialization of Keras layer <keras.src.layers.regularization.dropout.Dropout object at 0x78f714d107c0>, because it is not built.\n"
          ]
        },
        {
          "metadata": {
            "tags": null
          },
          "name": "stdout",
          "output_type": "stream",
          "text": [
            "WARNING:tensorflow:Skipping full serialization of Keras layer <keras.src.layers.regularization.dropout.Dropout object at 0x78f714d13310>, because it is not built.\n"
          ]
        },
        {
          "metadata": {
            "tags": null
          },
          "name": "stderr",
          "output_type": "stream",
          "text": [
            "WARNING:tensorflow:Skipping full serialization of Keras layer <keras.src.layers.regularization.dropout.Dropout object at 0x78f714d13310>, because it is not built.\n"
          ]
        },
        {
          "metadata": {
            "tags": null
          },
          "name": "stdout",
          "output_type": "stream",
          "text": [
            "INFO:tensorflow:Assets written to: /content/wandb/run-20231126_070556-ht84wdvm/files/model-best/assets\n"
          ]
        },
        {
          "metadata": {
            "tags": null
          },
          "name": "stderr",
          "output_type": "stream",
          "text": [
            "INFO:tensorflow:Assets written to: /content/wandb/run-20231126_070556-ht84wdvm/files/model-best/assets\n",
            "\u001b[34m\u001b[1mwandb\u001b[0m: Adding directory to artifact (/content/wandb/run-20231126_070556-ht84wdvm/files/model-best)... Done. 9.5s\n"
          ]
        },
        {
          "metadata": {
            "tags": null
          },
          "name": "stdout",
          "output_type": "stream",
          "text": [
            "8158/8158 [==============================] - 2106s 258ms/step - loss: 0.4626 - mae: 0.3974 - val_loss: 0.3956 - val_mae: 0.3577 - lr: 0.0010\n",
            "Epoch 4/10\n",
            "8158/8158 [==============================] - ETA: 0s - loss: 0.4471 - mae: 0.3895"
          ]
        },
        {
          "metadata": {
            "tags": null
          },
          "name": "stderr",
          "output_type": "stream",
          "text": [
            "/usr/local/lib/python3.10/dist-packages/keras/src/engine/training.py:3079: UserWarning: You are saving your model as an HDF5 file via `model.save()`. This file format is considered legacy. We recommend using instead the native Keras format, e.g. `model.save('my_model.keras')`.\n",
            "  saving_api.save_model(\n"
          ]
        },
        {
          "metadata": {
            "tags": null
          },
          "name": "stdout",
          "output_type": "stream",
          "text": [
            "WARNING:tensorflow:Skipping full serialization of Keras layer <keras.src.layers.regularization.dropout.Dropout object at 0x78f7e1dd8850>, because it is not built.\n"
          ]
        },
        {
          "metadata": {
            "tags": null
          },
          "name": "stderr",
          "output_type": "stream",
          "text": [
            "WARNING:tensorflow:Skipping full serialization of Keras layer <keras.src.layers.regularization.dropout.Dropout object at 0x78f7e1dd8850>, because it is not built.\n"
          ]
        },
        {
          "metadata": {
            "tags": null
          },
          "name": "stdout",
          "output_type": "stream",
          "text": [
            "WARNING:tensorflow:Skipping full serialization of Keras layer <keras.src.layers.regularization.dropout.Dropout object at 0x78f953813e20>, because it is not built.\n"
          ]
        },
        {
          "metadata": {
            "tags": null
          },
          "name": "stderr",
          "output_type": "stream",
          "text": [
            "WARNING:tensorflow:Skipping full serialization of Keras layer <keras.src.layers.regularization.dropout.Dropout object at 0x78f953813e20>, because it is not built.\n"
          ]
        },
        {
          "metadata": {
            "tags": null
          },
          "name": "stdout",
          "output_type": "stream",
          "text": [
            "WARNING:tensorflow:Skipping full serialization of Keras layer <keras.src.layers.regularization.dropout.Dropout object at 0x78f75a1bf100>, because it is not built.\n"
          ]
        },
        {
          "metadata": {
            "tags": null
          },
          "name": "stderr",
          "output_type": "stream",
          "text": [
            "WARNING:tensorflow:Skipping full serialization of Keras layer <keras.src.layers.regularization.dropout.Dropout object at 0x78f75a1bf100>, because it is not built.\n"
          ]
        },
        {
          "metadata": {
            "tags": null
          },
          "name": "stdout",
          "output_type": "stream",
          "text": [
            "WARNING:tensorflow:Skipping full serialization of Keras layer <keras.src.layers.regularization.dropout.Dropout object at 0x78f75a1d5c60>, because it is not built.\n"
          ]
        },
        {
          "metadata": {
            "tags": null
          },
          "name": "stderr",
          "output_type": "stream",
          "text": [
            "WARNING:tensorflow:Skipping full serialization of Keras layer <keras.src.layers.regularization.dropout.Dropout object at 0x78f75a1d5c60>, because it is not built.\n"
          ]
        },
        {
          "metadata": {
            "tags": null
          },
          "name": "stdout",
          "output_type": "stream",
          "text": [
            "WARNING:tensorflow:Skipping full serialization of Keras layer <keras.src.layers.regularization.dropout.Dropout object at 0x78f714d107c0>, because it is not built.\n"
          ]
        },
        {
          "metadata": {
            "tags": null
          },
          "name": "stderr",
          "output_type": "stream",
          "text": [
            "WARNING:tensorflow:Skipping full serialization of Keras layer <keras.src.layers.regularization.dropout.Dropout object at 0x78f714d107c0>, because it is not built.\n"
          ]
        },
        {
          "metadata": {
            "tags": null
          },
          "name": "stdout",
          "output_type": "stream",
          "text": [
            "WARNING:tensorflow:Skipping full serialization of Keras layer <keras.src.layers.regularization.dropout.Dropout object at 0x78f714d13310>, because it is not built.\n"
          ]
        },
        {
          "metadata": {
            "tags": null
          },
          "name": "stderr",
          "output_type": "stream",
          "text": [
            "WARNING:tensorflow:Skipping full serialization of Keras layer <keras.src.layers.regularization.dropout.Dropout object at 0x78f714d13310>, because it is not built.\n"
          ]
        },
        {
          "metadata": {
            "tags": null
          },
          "name": "stdout",
          "output_type": "stream",
          "text": [
            "INFO:tensorflow:Assets written to: /content/wandb/run-20231126_070556-ht84wdvm/files/model-best/assets\n"
          ]
        },
        {
          "metadata": {
            "tags": null
          },
          "name": "stderr",
          "output_type": "stream",
          "text": [
            "INFO:tensorflow:Assets written to: /content/wandb/run-20231126_070556-ht84wdvm/files/model-best/assets\n",
            "\u001b[34m\u001b[1mwandb\u001b[0m: Adding directory to artifact (/content/wandb/run-20231126_070556-ht84wdvm/files/model-best)... Done. 11.5s\n"
          ]
        },
        {
          "metadata": {
            "tags": null
          },
          "name": "stdout",
          "output_type": "stream",
          "text": [
            "8158/8158 [==============================] - 2111s 259ms/step - loss: 0.4471 - mae: 0.3895 - val_loss: 0.3705 - val_mae: 0.3459 - lr: 0.0010\n",
            "Epoch 5/10\n",
            "8158/8158 [==============================] - ETA: 0s - loss: 0.4384 - mae: 0.3844"
          ]
        },
        {
          "metadata": {
            "tags": null
          },
          "name": "stderr",
          "output_type": "stream",
          "text": [
            "/usr/local/lib/python3.10/dist-packages/keras/src/engine/training.py:3079: UserWarning: You are saving your model as an HDF5 file via `model.save()`. This file format is considered legacy. We recommend using instead the native Keras format, e.g. `model.save('my_model.keras')`.\n",
            "  saving_api.save_model(\n"
          ]
        },
        {
          "metadata": {
            "tags": null
          },
          "name": "stdout",
          "output_type": "stream",
          "text": [
            "WARNING:tensorflow:Skipping full serialization of Keras layer <keras.src.layers.regularization.dropout.Dropout object at 0x78f7e1dd8850>, because it is not built.\n"
          ]
        },
        {
          "metadata": {
            "tags": null
          },
          "name": "stderr",
          "output_type": "stream",
          "text": [
            "WARNING:tensorflow:Skipping full serialization of Keras layer <keras.src.layers.regularization.dropout.Dropout object at 0x78f7e1dd8850>, because it is not built.\n"
          ]
        },
        {
          "metadata": {
            "tags": null
          },
          "name": "stdout",
          "output_type": "stream",
          "text": [
            "WARNING:tensorflow:Skipping full serialization of Keras layer <keras.src.layers.regularization.dropout.Dropout object at 0x78f953813e20>, because it is not built.\n"
          ]
        },
        {
          "metadata": {
            "tags": null
          },
          "name": "stderr",
          "output_type": "stream",
          "text": [
            "WARNING:tensorflow:Skipping full serialization of Keras layer <keras.src.layers.regularization.dropout.Dropout object at 0x78f953813e20>, because it is not built.\n"
          ]
        },
        {
          "metadata": {
            "tags": null
          },
          "name": "stdout",
          "output_type": "stream",
          "text": [
            "WARNING:tensorflow:Skipping full serialization of Keras layer <keras.src.layers.regularization.dropout.Dropout object at 0x78f75a1bf100>, because it is not built.\n"
          ]
        },
        {
          "metadata": {
            "tags": null
          },
          "name": "stderr",
          "output_type": "stream",
          "text": [
            "WARNING:tensorflow:Skipping full serialization of Keras layer <keras.src.layers.regularization.dropout.Dropout object at 0x78f75a1bf100>, because it is not built.\n"
          ]
        },
        {
          "metadata": {
            "tags": null
          },
          "name": "stdout",
          "output_type": "stream",
          "text": [
            "WARNING:tensorflow:Skipping full serialization of Keras layer <keras.src.layers.regularization.dropout.Dropout object at 0x78f75a1d5c60>, because it is not built.\n"
          ]
        },
        {
          "metadata": {
            "tags": null
          },
          "name": "stderr",
          "output_type": "stream",
          "text": [
            "WARNING:tensorflow:Skipping full serialization of Keras layer <keras.src.layers.regularization.dropout.Dropout object at 0x78f75a1d5c60>, because it is not built.\n"
          ]
        },
        {
          "metadata": {
            "tags": null
          },
          "name": "stdout",
          "output_type": "stream",
          "text": [
            "WARNING:tensorflow:Skipping full serialization of Keras layer <keras.src.layers.regularization.dropout.Dropout object at 0x78f714d107c0>, because it is not built.\n"
          ]
        },
        {
          "metadata": {
            "tags": null
          },
          "name": "stderr",
          "output_type": "stream",
          "text": [
            "WARNING:tensorflow:Skipping full serialization of Keras layer <keras.src.layers.regularization.dropout.Dropout object at 0x78f714d107c0>, because it is not built.\n"
          ]
        },
        {
          "metadata": {
            "tags": null
          },
          "name": "stdout",
          "output_type": "stream",
          "text": [
            "WARNING:tensorflow:Skipping full serialization of Keras layer <keras.src.layers.regularization.dropout.Dropout object at 0x78f714d13310>, because it is not built.\n"
          ]
        },
        {
          "metadata": {
            "tags": null
          },
          "name": "stderr",
          "output_type": "stream",
          "text": [
            "WARNING:tensorflow:Skipping full serialization of Keras layer <keras.src.layers.regularization.dropout.Dropout object at 0x78f714d13310>, because it is not built.\n"
          ]
        },
        {
          "metadata": {
            "tags": null
          },
          "name": "stdout",
          "output_type": "stream",
          "text": [
            "INFO:tensorflow:Assets written to: /content/wandb/run-20231126_070556-ht84wdvm/files/model-best/assets\n"
          ]
        },
        {
          "metadata": {
            "tags": null
          },
          "name": "stderr",
          "output_type": "stream",
          "text": [
            "INFO:tensorflow:Assets written to: /content/wandb/run-20231126_070556-ht84wdvm/files/model-best/assets\n",
            "\u001b[34m\u001b[1mwandb\u001b[0m: Adding directory to artifact (/content/wandb/run-20231126_070556-ht84wdvm/files/model-best)... Done. 9.5s\n"
          ]
        },
        {
          "metadata": {
            "tags": null
          },
          "name": "stdout",
          "output_type": "stream",
          "text": [
            "8158/8158 [==============================] - 2107s 258ms/step - loss: 0.4384 - mae: 0.3844 - val_loss: 0.3665 - val_mae: 0.3431 - lr: 0.0010\n",
            "Epoch 6/10\n",
            "8158/8158 [==============================] - ETA: 0s - loss: 0.4269 - mae: 0.3795"
          ]
        },
        {
          "metadata": {
            "tags": null
          },
          "name": "stderr",
          "output_type": "stream",
          "text": [
            "/usr/local/lib/python3.10/dist-packages/keras/src/engine/training.py:3079: UserWarning: You are saving your model as an HDF5 file via `model.save()`. This file format is considered legacy. We recommend using instead the native Keras format, e.g. `model.save('my_model.keras')`.\n",
            "  saving_api.save_model(\n"
          ]
        },
        {
          "metadata": {
            "tags": null
          },
          "name": "stdout",
          "output_type": "stream",
          "text": [
            "WARNING:tensorflow:Skipping full serialization of Keras layer <keras.src.layers.regularization.dropout.Dropout object at 0x78f7e1dd8850>, because it is not built.\n"
          ]
        },
        {
          "metadata": {
            "tags": null
          },
          "name": "stderr",
          "output_type": "stream",
          "text": [
            "WARNING:tensorflow:Skipping full serialization of Keras layer <keras.src.layers.regularization.dropout.Dropout object at 0x78f7e1dd8850>, because it is not built.\n"
          ]
        },
        {
          "metadata": {
            "tags": null
          },
          "name": "stdout",
          "output_type": "stream",
          "text": [
            "WARNING:tensorflow:Skipping full serialization of Keras layer <keras.src.layers.regularization.dropout.Dropout object at 0x78f953813e20>, because it is not built.\n"
          ]
        },
        {
          "metadata": {
            "tags": null
          },
          "name": "stderr",
          "output_type": "stream",
          "text": [
            "WARNING:tensorflow:Skipping full serialization of Keras layer <keras.src.layers.regularization.dropout.Dropout object at 0x78f953813e20>, because it is not built.\n"
          ]
        },
        {
          "metadata": {
            "tags": null
          },
          "name": "stdout",
          "output_type": "stream",
          "text": [
            "WARNING:tensorflow:Skipping full serialization of Keras layer <keras.src.layers.regularization.dropout.Dropout object at 0x78f75a1bf100>, because it is not built.\n"
          ]
        },
        {
          "metadata": {
            "tags": null
          },
          "name": "stderr",
          "output_type": "stream",
          "text": [
            "WARNING:tensorflow:Skipping full serialization of Keras layer <keras.src.layers.regularization.dropout.Dropout object at 0x78f75a1bf100>, because it is not built.\n"
          ]
        },
        {
          "metadata": {
            "tags": null
          },
          "name": "stdout",
          "output_type": "stream",
          "text": [
            "WARNING:tensorflow:Skipping full serialization of Keras layer <keras.src.layers.regularization.dropout.Dropout object at 0x78f75a1d5c60>, because it is not built.\n"
          ]
        },
        {
          "metadata": {
            "tags": null
          },
          "name": "stderr",
          "output_type": "stream",
          "text": [
            "WARNING:tensorflow:Skipping full serialization of Keras layer <keras.src.layers.regularization.dropout.Dropout object at 0x78f75a1d5c60>, because it is not built.\n"
          ]
        },
        {
          "metadata": {
            "tags": null
          },
          "name": "stdout",
          "output_type": "stream",
          "text": [
            "WARNING:tensorflow:Skipping full serialization of Keras layer <keras.src.layers.regularization.dropout.Dropout object at 0x78f714d107c0>, because it is not built.\n"
          ]
        },
        {
          "metadata": {
            "tags": null
          },
          "name": "stderr",
          "output_type": "stream",
          "text": [
            "WARNING:tensorflow:Skipping full serialization of Keras layer <keras.src.layers.regularization.dropout.Dropout object at 0x78f714d107c0>, because it is not built.\n"
          ]
        },
        {
          "metadata": {
            "tags": null
          },
          "name": "stdout",
          "output_type": "stream",
          "text": [
            "WARNING:tensorflow:Skipping full serialization of Keras layer <keras.src.layers.regularization.dropout.Dropout object at 0x78f714d13310>, because it is not built.\n"
          ]
        },
        {
          "metadata": {
            "tags": null
          },
          "name": "stderr",
          "output_type": "stream",
          "text": [
            "WARNING:tensorflow:Skipping full serialization of Keras layer <keras.src.layers.regularization.dropout.Dropout object at 0x78f714d13310>, because it is not built.\n"
          ]
        },
        {
          "metadata": {
            "tags": null
          },
          "name": "stdout",
          "output_type": "stream",
          "text": [
            "INFO:tensorflow:Assets written to: /content/wandb/run-20231126_070556-ht84wdvm/files/model-best/assets\n"
          ]
        },
        {
          "metadata": {
            "tags": null
          },
          "name": "stderr",
          "output_type": "stream",
          "text": [
            "INFO:tensorflow:Assets written to: /content/wandb/run-20231126_070556-ht84wdvm/files/model-best/assets\n",
            "\u001b[34m\u001b[1mwandb\u001b[0m: Adding directory to artifact (/content/wandb/run-20231126_070556-ht84wdvm/files/model-best)... Done. 7.6s\n"
          ]
        },
        {
          "metadata": {
            "tags": null
          },
          "name": "stdout",
          "output_type": "stream",
          "text": [
            "8158/8158 [==============================] - 2101s 258ms/step - loss: 0.4269 - mae: 0.3795 - val_loss: 0.3480 - val_mae: 0.3387 - lr: 0.0010\n",
            "Epoch 7/10\n",
            "8158/8158 [==============================] - 2070s 254ms/step - loss: 0.4242 - mae: 0.3774 - val_loss: 0.3537 - val_mae: 0.3357 - lr: 0.0010\n",
            "Epoch 8/10\n",
            "8158/8158 [==============================] - ETA: 0s - loss: 0.4270 - mae: 0.3759"
          ]
        },
        {
          "metadata": {
            "tags": null
          },
          "name": "stderr",
          "output_type": "stream",
          "text": [
            "/usr/local/lib/python3.10/dist-packages/keras/src/engine/training.py:3079: UserWarning: You are saving your model as an HDF5 file via `model.save()`. This file format is considered legacy. We recommend using instead the native Keras format, e.g. `model.save('my_model.keras')`.\n",
            "  saving_api.save_model(\n"
          ]
        },
        {
          "metadata": {
            "tags": null
          },
          "name": "stdout",
          "output_type": "stream",
          "text": [
            "WARNING:tensorflow:Skipping full serialization of Keras layer <keras.src.layers.regularization.dropout.Dropout object at 0x78f7e1dd8850>, because it is not built.\n"
          ]
        },
        {
          "metadata": {
            "tags": null
          },
          "name": "stderr",
          "output_type": "stream",
          "text": [
            "WARNING:tensorflow:Skipping full serialization of Keras layer <keras.src.layers.regularization.dropout.Dropout object at 0x78f7e1dd8850>, because it is not built.\n"
          ]
        },
        {
          "metadata": {
            "tags": null
          },
          "name": "stdout",
          "output_type": "stream",
          "text": [
            "WARNING:tensorflow:Skipping full serialization of Keras layer <keras.src.layers.regularization.dropout.Dropout object at 0x78f953813e20>, because it is not built.\n"
          ]
        },
        {
          "metadata": {
            "tags": null
          },
          "name": "stderr",
          "output_type": "stream",
          "text": [
            "WARNING:tensorflow:Skipping full serialization of Keras layer <keras.src.layers.regularization.dropout.Dropout object at 0x78f953813e20>, because it is not built.\n"
          ]
        },
        {
          "metadata": {
            "tags": null
          },
          "name": "stdout",
          "output_type": "stream",
          "text": [
            "WARNING:tensorflow:Skipping full serialization of Keras layer <keras.src.layers.regularization.dropout.Dropout object at 0x78f75a1bf100>, because it is not built.\n"
          ]
        },
        {
          "metadata": {
            "tags": null
          },
          "name": "stderr",
          "output_type": "stream",
          "text": [
            "WARNING:tensorflow:Skipping full serialization of Keras layer <keras.src.layers.regularization.dropout.Dropout object at 0x78f75a1bf100>, because it is not built.\n"
          ]
        },
        {
          "metadata": {
            "tags": null
          },
          "name": "stdout",
          "output_type": "stream",
          "text": [
            "WARNING:tensorflow:Skipping full serialization of Keras layer <keras.src.layers.regularization.dropout.Dropout object at 0x78f75a1d5c60>, because it is not built.\n"
          ]
        },
        {
          "metadata": {
            "tags": null
          },
          "name": "stderr",
          "output_type": "stream",
          "text": [
            "WARNING:tensorflow:Skipping full serialization of Keras layer <keras.src.layers.regularization.dropout.Dropout object at 0x78f75a1d5c60>, because it is not built.\n"
          ]
        },
        {
          "metadata": {
            "tags": null
          },
          "name": "stdout",
          "output_type": "stream",
          "text": [
            "WARNING:tensorflow:Skipping full serialization of Keras layer <keras.src.layers.regularization.dropout.Dropout object at 0x78f714d107c0>, because it is not built.\n"
          ]
        },
        {
          "metadata": {
            "tags": null
          },
          "name": "stderr",
          "output_type": "stream",
          "text": [
            "WARNING:tensorflow:Skipping full serialization of Keras layer <keras.src.layers.regularization.dropout.Dropout object at 0x78f714d107c0>, because it is not built.\n"
          ]
        },
        {
          "metadata": {
            "tags": null
          },
          "name": "stdout",
          "output_type": "stream",
          "text": [
            "WARNING:tensorflow:Skipping full serialization of Keras layer <keras.src.layers.regularization.dropout.Dropout object at 0x78f714d13310>, because it is not built.\n"
          ]
        },
        {
          "metadata": {
            "tags": null
          },
          "name": "stderr",
          "output_type": "stream",
          "text": [
            "WARNING:tensorflow:Skipping full serialization of Keras layer <keras.src.layers.regularization.dropout.Dropout object at 0x78f714d13310>, because it is not built.\n"
          ]
        },
        {
          "metadata": {
            "tags": null
          },
          "name": "stdout",
          "output_type": "stream",
          "text": [
            "INFO:tensorflow:Assets written to: /content/wandb/run-20231126_070556-ht84wdvm/files/model-best/assets\n"
          ]
        },
        {
          "metadata": {
            "tags": null
          },
          "name": "stderr",
          "output_type": "stream",
          "text": [
            "INFO:tensorflow:Assets written to: /content/wandb/run-20231126_070556-ht84wdvm/files/model-best/assets\n",
            "\u001b[34m\u001b[1mwandb\u001b[0m: Adding directory to artifact (/content/wandb/run-20231126_070556-ht84wdvm/files/model-best)... Done. 8.2s\n"
          ]
        },
        {
          "metadata": {
            "tags": null
          },
          "name": "stdout",
          "output_type": "stream",
          "text": [
            "8158/8158 [==============================] - 2105s 258ms/step - loss: 0.4270 - mae: 0.3759 - val_loss: 0.3432 - val_mae: 0.3298 - lr: 0.0010\n",
            "Epoch 9/10\n",
            "8158/8158 [==============================] - 2069s 254ms/step - loss: 0.4225 - mae: 0.3750 - val_loss: 0.3522 - val_mae: 0.3361 - lr: 0.0010\n",
            "Epoch 10/10\n",
            "8158/8158 [==============================] - 2068s 253ms/step - loss: 0.4226 - mae: 0.3745 - val_loss: 0.3461 - val_mae: 0.3311 - lr: 0.0010\n"
          ]
        },
        {
          "data": {
            "application/vnd.jupyter.widget-view+json": {
              "model_id": "5a1f3b5952ac457390070ea6f011ba79",
              "version_major": 2,
              "version_minor": 0
            },
            "text/plain": [
              "VBox(children=(Label(value='12380.080 MB of 12380.080 MB uploaded (0.594 MB deduped)\\r'), FloatProgress(value=…"
            ]
          },
          "metadata": {},
          "output_type": "display_data"
        },
        {
          "data": {
            "text/html": [
              "<style>\n",
              "    table.wandb td:nth-child(1) { padding: 0 10px; text-align: left ; width: auto;} td:nth-child(2) {text-align: left ; width: 100%}\n",
              "    .wandb-row { display: flex; flex-direction: row; flex-wrap: wrap; justify-content: flex-start; width: 100% }\n",
              "    .wandb-col { display: flex; flex-direction: column; flex-basis: 100%; flex: 1; padding: 10px; }\n",
              "    </style>\n",
              "<div class=\"wandb-row\"><div class=\"wandb-col\"><h3>Run history:</h3><br/><table class=\"wandb\"><tr><td>epoch</td><td>▁▂▃▃▄▅▆▆▇█</td></tr><tr><td>loss</td><td>█▄▃▂▂▁▁▁▁▁</td></tr><tr><td>lr</td><td>▁▁▁▁▁▁▁▁▁▁</td></tr><tr><td>mae</td><td>█▄▃▃▂▂▁▁▁▁</td></tr><tr><td>val_loss</td><td>█▅▄▂▂▁▂▁▁▁</td></tr><tr><td>val_mae</td><td>█▅▄▃▃▂▂▁▂▁</td></tr></table><br/></div><div class=\"wandb-col\"><h3>Run summary:</h3><br/><table class=\"wandb\"><tr><td>best_epoch</td><td>7</td></tr><tr><td>best_val_loss</td><td>0.34322</td></tr><tr><td>epoch</td><td>9</td></tr><tr><td>loss</td><td>0.42262</td></tr><tr><td>lr</td><td>0.001</td></tr><tr><td>mae</td><td>0.37447</td></tr><tr><td>val_loss</td><td>0.34613</td></tr><tr><td>val_mae</td><td>0.33109</td></tr></table><br/></div></div>"
            ],
            "text/plain": [
              "<IPython.core.display.HTML object>"
            ]
          },
          "metadata": {},
          "output_type": "display_data"
        },
        {
          "data": {
            "text/html": [
              " View run <strong style=\"color:#cdcd00\">eager-sweep-3</strong> at: <a href='https://wandb.ai/marian-ai/obligatorio_dl/runs/ht84wdvm' target=\"_blank\">https://wandb.ai/marian-ai/obligatorio_dl/runs/ht84wdvm</a><br/>Synced 5 W&B file(s), 1 media file(s), 35 artifact file(s) and 1 other file(s)"
            ],
            "text/plain": [
              "<IPython.core.display.HTML object>"
            ]
          },
          "metadata": {},
          "output_type": "display_data"
        },
        {
          "data": {
            "text/html": [
              "Find logs at: <code>./wandb/run-20231126_070556-ht84wdvm/logs</code>"
            ],
            "text/plain": [
              "<IPython.core.display.HTML object>"
            ]
          },
          "metadata": {},
          "output_type": "display_data"
        },
        {
          "metadata": {
            "tags": null
          },
          "name": "stderr",
          "output_type": "stream",
          "text": [
            "\u001b[34m\u001b[1mwandb\u001b[0m: Agent Starting Run: qjqtbh0x with config:\n",
            "\u001b[34m\u001b[1mwandb\u001b[0m: \tbatch_size: 32\n",
            "\u001b[34m\u001b[1mwandb\u001b[0m: \tdropout_rate: 0.5\n",
            "\u001b[34m\u001b[1mwandb\u001b[0m: \tepochs: 20\n",
            "\u001b[34m\u001b[1mwandb\u001b[0m: \tfeature_combination: numerical_categorical\n",
            "\u001b[34m\u001b[1mwandb\u001b[0m: \tl2_regularization: 0.001\n"
          ]
        },
        {
          "data": {
            "text/html": [
              "Tracking run with wandb version 0.16.0"
            ],
            "text/plain": [
              "<IPython.core.display.HTML object>"
            ]
          },
          "metadata": {},
          "output_type": "display_data"
        },
        {
          "data": {
            "text/html": [
              "Run data is saved locally in <code>/content/wandb/run-20231126_125653-qjqtbh0x</code>"
            ],
            "text/plain": [
              "<IPython.core.display.HTML object>"
            ]
          },
          "metadata": {},
          "output_type": "display_data"
        },
        {
          "data": {
            "text/html": [
              "Syncing run <strong><a href='https://wandb.ai/marian-ai/obligatorio_dl/runs/qjqtbh0x' target=\"_blank\">snowy-sweep-4</a></strong> to <a href='https://wandb.ai/marian-ai/obligatorio_dl' target=\"_blank\">Weights & Biases</a> (<a href='https://wandb.me/run' target=\"_blank\">docs</a>)<br/>Sweep page: <a href='https://wandb.ai/marian-ai/obligatorio_dl/sweeps/a47ag95a' target=\"_blank\">https://wandb.ai/marian-ai/obligatorio_dl/sweeps/a47ag95a</a>"
            ],
            "text/plain": [
              "<IPython.core.display.HTML object>"
            ]
          },
          "metadata": {},
          "output_type": "display_data"
        },
        {
          "data": {
            "text/html": [
              " View project at <a href='https://wandb.ai/marian-ai/obligatorio_dl' target=\"_blank\">https://wandb.ai/marian-ai/obligatorio_dl</a>"
            ],
            "text/plain": [
              "<IPython.core.display.HTML object>"
            ]
          },
          "metadata": {},
          "output_type": "display_data"
        },
        {
          "data": {
            "text/html": [
              " View sweep at <a href='https://wandb.ai/marian-ai/obligatorio_dl/sweeps/a47ag95a' target=\"_blank\">https://wandb.ai/marian-ai/obligatorio_dl/sweeps/a47ag95a</a>"
            ],
            "text/plain": [
              "<IPython.core.display.HTML object>"
            ]
          },
          "metadata": {},
          "output_type": "display_data"
        },
        {
          "data": {
            "text/html": [
              " View run at <a href='https://wandb.ai/marian-ai/obligatorio_dl/runs/qjqtbh0x' target=\"_blank\">https://wandb.ai/marian-ai/obligatorio_dl/runs/qjqtbh0x</a>"
            ],
            "text/plain": [
              "<IPython.core.display.HTML object>"
            ]
          },
          "metadata": {},
          "output_type": "display_data"
        },
        {
          "metadata": {
            "tags": null
          },
          "name": "stdout",
          "output_type": "stream",
          "text": [
            "Epoch 1/20\n",
            "8143/8158 [============================>.] - ETA: 0s - loss: 0.5921 - mae: 0.4444"
          ]
        },
        {
          "metadata": {
            "tags": null
          },
          "name": "stderr",
          "output_type": "stream",
          "text": [
            "/usr/local/lib/python3.10/dist-packages/keras/src/engine/training.py:3079: UserWarning: You are saving your model as an HDF5 file via `model.save()`. This file format is considered legacy. We recommend using instead the native Keras format, e.g. `model.save('my_model.keras')`.\n",
            "  saving_api.save_model(\n"
          ]
        },
        {
          "metadata": {
            "tags": null
          },
          "name": "stdout",
          "output_type": "stream",
          "text": [
            "INFO:tensorflow:Assets written to: /content/wandb/run-20231126_125653-qjqtbh0x/files/model-best/assets\n"
          ]
        },
        {
          "metadata": {
            "tags": null
          },
          "name": "stderr",
          "output_type": "stream",
          "text": [
            "INFO:tensorflow:Assets written to: /content/wandb/run-20231126_125653-qjqtbh0x/files/model-best/assets\n",
            "\u001b[34m\u001b[1mwandb\u001b[0m: Adding directory to artifact (/content/wandb/run-20231126_125653-qjqtbh0x/files/model-best)... Done. 0.0s\n"
          ]
        },
        {
          "metadata": {
            "tags": null
          },
          "name": "stdout",
          "output_type": "stream",
          "text": [
            "8158/8158 [==============================] - 29s 3ms/step - loss: 0.5921 - mae: 0.4444 - val_loss: 0.4636 - val_mae: 0.3843 - lr: 0.0010\n",
            "Epoch 2/20\n",
            "8151/8158 [============================>.] - ETA: 0s - loss: 0.4911 - mae: 0.4063"
          ]
        },
        {
          "metadata": {
            "tags": null
          },
          "name": "stderr",
          "output_type": "stream",
          "text": [
            "/usr/local/lib/python3.10/dist-packages/keras/src/engine/training.py:3079: UserWarning: You are saving your model as an HDF5 file via `model.save()`. This file format is considered legacy. We recommend using instead the native Keras format, e.g. `model.save('my_model.keras')`.\n",
            "  saving_api.save_model(\n"
          ]
        },
        {
          "metadata": {
            "tags": null
          },
          "name": "stdout",
          "output_type": "stream",
          "text": [
            "INFO:tensorflow:Assets written to: /content/wandb/run-20231126_125653-qjqtbh0x/files/model-best/assets\n"
          ]
        },
        {
          "metadata": {
            "tags": null
          },
          "name": "stderr",
          "output_type": "stream",
          "text": [
            "INFO:tensorflow:Assets written to: /content/wandb/run-20231126_125653-qjqtbh0x/files/model-best/assets\n",
            "\u001b[34m\u001b[1mwandb\u001b[0m: Adding directory to artifact (/content/wandb/run-20231126_125653-qjqtbh0x/files/model-best)... Done. 0.0s\n"
          ]
        },
        {
          "metadata": {
            "tags": null
          },
          "name": "stdout",
          "output_type": "stream",
          "text": [
            "8158/8158 [==============================] - 30s 4ms/step - loss: 0.4913 - mae: 0.4063 - val_loss: 0.4192 - val_mae: 0.3641 - lr: 0.0010\n",
            "Epoch 3/20\n",
            "8156/8158 [============================>.] - ETA: 0s - loss: 0.4594 - mae: 0.3952"
          ]
        },
        {
          "metadata": {
            "tags": null
          },
          "name": "stderr",
          "output_type": "stream",
          "text": [
            "/usr/local/lib/python3.10/dist-packages/keras/src/engine/training.py:3079: UserWarning: You are saving your model as an HDF5 file via `model.save()`. This file format is considered legacy. We recommend using instead the native Keras format, e.g. `model.save('my_model.keras')`.\n",
            "  saving_api.save_model(\n"
          ]
        },
        {
          "metadata": {
            "tags": null
          },
          "name": "stdout",
          "output_type": "stream",
          "text": [
            "INFO:tensorflow:Assets written to: /content/wandb/run-20231126_125653-qjqtbh0x/files/model-best/assets\n"
          ]
        },
        {
          "metadata": {
            "tags": null
          },
          "name": "stderr",
          "output_type": "stream",
          "text": [
            "INFO:tensorflow:Assets written to: /content/wandb/run-20231126_125653-qjqtbh0x/files/model-best/assets\n",
            "\u001b[34m\u001b[1mwandb\u001b[0m: Adding directory to artifact (/content/wandb/run-20231126_125653-qjqtbh0x/files/model-best)... Done. 0.0s\n"
          ]
        },
        {
          "metadata": {
            "tags": null
          },
          "name": "stdout",
          "output_type": "stream",
          "text": [
            "8158/8158 [==============================] - 28s 3ms/step - loss: 0.4595 - mae: 0.3952 - val_loss: 0.3929 - val_mae: 0.3537 - lr: 0.0010\n",
            "Epoch 4/20\n",
            "8143/8158 [============================>.] - ETA: 0s - loss: 0.4414 - mae: 0.3867"
          ]
        },
        {
          "metadata": {
            "tags": null
          },
          "name": "stderr",
          "output_type": "stream",
          "text": [
            "/usr/local/lib/python3.10/dist-packages/keras/src/engine/training.py:3079: UserWarning: You are saving your model as an HDF5 file via `model.save()`. This file format is considered legacy. We recommend using instead the native Keras format, e.g. `model.save('my_model.keras')`.\n",
            "  saving_api.save_model(\n"
          ]
        },
        {
          "metadata": {
            "tags": null
          },
          "name": "stdout",
          "output_type": "stream",
          "text": [
            "INFO:tensorflow:Assets written to: /content/wandb/run-20231126_125653-qjqtbh0x/files/model-best/assets\n"
          ]
        },
        {
          "metadata": {
            "tags": null
          },
          "name": "stderr",
          "output_type": "stream",
          "text": [
            "INFO:tensorflow:Assets written to: /content/wandb/run-20231126_125653-qjqtbh0x/files/model-best/assets\n",
            "\u001b[34m\u001b[1mwandb\u001b[0m: Adding directory to artifact (/content/wandb/run-20231126_125653-qjqtbh0x/files/model-best)... Done. 0.0s\n"
          ]
        },
        {
          "metadata": {
            "tags": null
          },
          "name": "stdout",
          "output_type": "stream",
          "text": [
            "8158/8158 [==============================] - 28s 3ms/step - loss: 0.4415 - mae: 0.3867 - val_loss: 0.3771 - val_mae: 0.3446 - lr: 0.0010\n",
            "Epoch 5/20\n",
            "8143/8158 [============================>.] - ETA: 0s - loss: 0.4267 - mae: 0.3798"
          ]
        },
        {
          "metadata": {
            "tags": null
          },
          "name": "stderr",
          "output_type": "stream",
          "text": [
            "/usr/local/lib/python3.10/dist-packages/keras/src/engine/training.py:3079: UserWarning: You are saving your model as an HDF5 file via `model.save()`. This file format is considered legacy. We recommend using instead the native Keras format, e.g. `model.save('my_model.keras')`.\n",
            "  saving_api.save_model(\n"
          ]
        },
        {
          "metadata": {
            "tags": null
          },
          "name": "stdout",
          "output_type": "stream",
          "text": [
            "INFO:tensorflow:Assets written to: /content/wandb/run-20231126_125653-qjqtbh0x/files/model-best/assets\n"
          ]
        },
        {
          "metadata": {
            "tags": null
          },
          "name": "stderr",
          "output_type": "stream",
          "text": [
            "INFO:tensorflow:Assets written to: /content/wandb/run-20231126_125653-qjqtbh0x/files/model-best/assets\n",
            "\u001b[34m\u001b[1mwandb\u001b[0m: Adding directory to artifact (/content/wandb/run-20231126_125653-qjqtbh0x/files/model-best)... Done. 0.0s\n"
          ]
        },
        {
          "metadata": {
            "tags": null
          },
          "name": "stdout",
          "output_type": "stream",
          "text": [
            "8158/8158 [==============================] - 28s 3ms/step - loss: 0.4269 - mae: 0.3798 - val_loss: 0.3593 - val_mae: 0.3422 - lr: 0.0010\n",
            "Epoch 6/20\n",
            "8158/8158 [==============================] - 27s 3ms/step - loss: 0.4240 - mae: 0.3762 - val_loss: 0.3627 - val_mae: 0.3377 - lr: 0.0010\n",
            "Epoch 7/20\n",
            "8144/8158 [============================>.] - ETA: 0s - loss: 0.4200 - mae: 0.3746"
          ]
        },
        {
          "metadata": {
            "tags": null
          },
          "name": "stderr",
          "output_type": "stream",
          "text": [
            "/usr/local/lib/python3.10/dist-packages/keras/src/engine/training.py:3079: UserWarning: You are saving your model as an HDF5 file via `model.save()`. This file format is considered legacy. We recommend using instead the native Keras format, e.g. `model.save('my_model.keras')`.\n",
            "  saving_api.save_model(\n"
          ]
        },
        {
          "metadata": {
            "tags": null
          },
          "name": "stdout",
          "output_type": "stream",
          "text": [
            "INFO:tensorflow:Assets written to: /content/wandb/run-20231126_125653-qjqtbh0x/files/model-best/assets\n"
          ]
        },
        {
          "metadata": {
            "tags": null
          },
          "name": "stderr",
          "output_type": "stream",
          "text": [
            "INFO:tensorflow:Assets written to: /content/wandb/run-20231126_125653-qjqtbh0x/files/model-best/assets\n",
            "\u001b[34m\u001b[1mwandb\u001b[0m: Adding directory to artifact (/content/wandb/run-20231126_125653-qjqtbh0x/files/model-best)... Done. 0.0s\n"
          ]
        },
        {
          "metadata": {
            "tags": null
          },
          "name": "stdout",
          "output_type": "stream",
          "text": [
            "8158/8158 [==============================] - 28s 3ms/step - loss: 0.4200 - mae: 0.3746 - val_loss: 0.3588 - val_mae: 0.3368 - lr: 0.0010\n",
            "Epoch 8/20\n",
            "8158/8158 [==============================] - 27s 3ms/step - loss: 0.4220 - mae: 0.3746 - val_loss: 0.3596 - val_mae: 0.3411 - lr: 0.0010\n",
            "Epoch 9/20\n",
            "8158/8158 [==============================] - ETA: 0s - loss: 0.4224 - mae: 0.3716"
          ]
        },
        {
          "metadata": {
            "tags": null
          },
          "name": "stderr",
          "output_type": "stream",
          "text": [
            "/usr/local/lib/python3.10/dist-packages/keras/src/engine/training.py:3079: UserWarning: You are saving your model as an HDF5 file via `model.save()`. This file format is considered legacy. We recommend using instead the native Keras format, e.g. `model.save('my_model.keras')`.\n",
            "  saving_api.save_model(\n"
          ]
        },
        {
          "metadata": {
            "tags": null
          },
          "name": "stdout",
          "output_type": "stream",
          "text": [
            "INFO:tensorflow:Assets written to: /content/wandb/run-20231126_125653-qjqtbh0x/files/model-best/assets\n"
          ]
        },
        {
          "metadata": {
            "tags": null
          },
          "name": "stderr",
          "output_type": "stream",
          "text": [
            "INFO:tensorflow:Assets written to: /content/wandb/run-20231126_125653-qjqtbh0x/files/model-best/assets\n",
            "\u001b[34m\u001b[1mwandb\u001b[0m: Adding directory to artifact (/content/wandb/run-20231126_125653-qjqtbh0x/files/model-best)... Done. 0.0s\n"
          ]
        },
        {
          "metadata": {
            "tags": null
          },
          "name": "stdout",
          "output_type": "stream",
          "text": [
            "8158/8158 [==============================] - 28s 3ms/step - loss: 0.4224 - mae: 0.3716 - val_loss: 0.3548 - val_mae: 0.3357 - lr: 0.0010\n",
            "Epoch 10/20\n",
            "8157/8158 [============================>.] - ETA: 0s - loss: 0.4150 - mae: 0.3718"
          ]
        },
        {
          "metadata": {
            "tags": null
          },
          "name": "stderr",
          "output_type": "stream",
          "text": [
            "/usr/local/lib/python3.10/dist-packages/keras/src/engine/training.py:3079: UserWarning: You are saving your model as an HDF5 file via `model.save()`. This file format is considered legacy. We recommend using instead the native Keras format, e.g. `model.save('my_model.keras')`.\n",
            "  saving_api.save_model(\n"
          ]
        },
        {
          "metadata": {
            "tags": null
          },
          "name": "stdout",
          "output_type": "stream",
          "text": [
            "INFO:tensorflow:Assets written to: /content/wandb/run-20231126_125653-qjqtbh0x/files/model-best/assets\n"
          ]
        },
        {
          "metadata": {
            "tags": null
          },
          "name": "stderr",
          "output_type": "stream",
          "text": [
            "INFO:tensorflow:Assets written to: /content/wandb/run-20231126_125653-qjqtbh0x/files/model-best/assets\n",
            "\u001b[34m\u001b[1mwandb\u001b[0m: Adding directory to artifact (/content/wandb/run-20231126_125653-qjqtbh0x/files/model-best)... Done. 0.0s\n"
          ]
        },
        {
          "metadata": {
            "tags": null
          },
          "name": "stdout",
          "output_type": "stream",
          "text": [
            "8158/8158 [==============================] - 29s 3ms/step - loss: 0.4149 - mae: 0.3718 - val_loss: 0.3478 - val_mae: 0.3351 - lr: 0.0010\n",
            "Epoch 11/20\n",
            "8158/8158 [==============================] - 27s 3ms/step - loss: 0.4199 - mae: 0.3715 - val_loss: 0.3488 - val_mae: 0.3323 - lr: 0.0010\n",
            "Epoch 12/20\n",
            "8158/8158 [==============================] - 27s 3ms/step - loss: 0.4177 - mae: 0.3713 - val_loss: 0.3495 - val_mae: 0.3373 - lr: 0.0010\n",
            "Epoch 13/20\n",
            "8158/8158 [==============================] - 27s 3ms/step - loss: 0.4215 - mae: 0.3724 - val_loss: 0.3607 - val_mae: 0.3370 - lr: 0.0010\n"
          ]
        },
        {
          "data": {
            "application/vnd.jupyter.widget-view+json": {
              "model_id": "fbd4024ecc77402399fd55c3738dc173",
              "version_major": 2,
              "version_minor": 0
            },
            "text/plain": [
              "VBox(children=(Label(value='1.369 MB of 1.369 MB uploaded (0.091 MB deduped)\\r'), FloatProgress(value=1.0, max…"
            ]
          },
          "metadata": {},
          "output_type": "display_data"
        },
        {
          "data": {
            "text/html": [
              "W&B sync reduced upload amount by 6.5%             "
            ],
            "text/plain": [
              "<IPython.core.display.HTML object>"
            ]
          },
          "metadata": {},
          "output_type": "display_data"
        },
        {
          "data": {
            "text/html": [
              "<style>\n",
              "    table.wandb td:nth-child(1) { padding: 0 10px; text-align: left ; width: auto;} td:nth-child(2) {text-align: left ; width: 100%}\n",
              "    .wandb-row { display: flex; flex-direction: row; flex-wrap: wrap; justify-content: flex-start; width: 100% }\n",
              "    .wandb-col { display: flex; flex-direction: column; flex-basis: 100%; flex: 1; padding: 10px; }\n",
              "    </style>\n",
              "<div class=\"wandb-row\"><div class=\"wandb-col\"><h3>Run history:</h3><br/><table class=\"wandb\"><tr><td>epoch</td><td>▁▂▂▃▃▄▅▅▆▆▇▇█</td></tr><tr><td>loss</td><td>█▄▃▂▁▁▁▁▁▁▁▁▁</td></tr><tr><td>lr</td><td>▁▁▁▁▁▁▁▁▁▁▁▁▁</td></tr><tr><td>mae</td><td>█▄▃▂▂▁▁▁▁▁▁▁▁</td></tr><tr><td>val_loss</td><td>█▅▄▃▂▂▂▂▁▁▁▁▂</td></tr><tr><td>val_mae</td><td>█▅▄▃▂▂▂▂▁▁▁▂▂</td></tr></table><br/></div><div class=\"wandb-col\"><h3>Run summary:</h3><br/><table class=\"wandb\"><tr><td>best_epoch</td><td>9</td></tr><tr><td>best_val_loss</td><td>0.34779</td></tr><tr><td>epoch</td><td>12</td></tr><tr><td>loss</td><td>0.42149</td></tr><tr><td>lr</td><td>0.001</td></tr><tr><td>mae</td><td>0.37238</td></tr><tr><td>val_loss</td><td>0.36072</td></tr><tr><td>val_mae</td><td>0.33702</td></tr></table><br/></div></div>"
            ],
            "text/plain": [
              "<IPython.core.display.HTML object>"
            ]
          },
          "metadata": {},
          "output_type": "display_data"
        },
        {
          "data": {
            "text/html": [
              " View run <strong style=\"color:#cdcd00\">snowy-sweep-4</strong> at: <a href='https://wandb.ai/marian-ai/obligatorio_dl/runs/qjqtbh0x' target=\"_blank\">https://wandb.ai/marian-ai/obligatorio_dl/runs/qjqtbh0x</a><br/>Synced 5 W&B file(s), 1 media file(s), 40 artifact file(s) and 1 other file(s)"
            ],
            "text/plain": [
              "<IPython.core.display.HTML object>"
            ]
          },
          "metadata": {},
          "output_type": "display_data"
        },
        {
          "data": {
            "text/html": [
              "Find logs at: <code>./wandb/run-20231126_125653-qjqtbh0x/logs</code>"
            ],
            "text/plain": [
              "<IPython.core.display.HTML object>"
            ]
          },
          "metadata": {},
          "output_type": "display_data"
        },
        {
          "metadata": {
            "tags": null
          },
          "name": "stderr",
          "output_type": "stream",
          "text": [
            "\u001b[34m\u001b[1mwandb\u001b[0m: Agent Starting Run: ykpwbi86 with config:\n",
            "\u001b[34m\u001b[1mwandb\u001b[0m: \tbatch_size: 32\n",
            "\u001b[34m\u001b[1mwandb\u001b[0m: \tdropout_rate: 0.3\n",
            "\u001b[34m\u001b[1mwandb\u001b[0m: \tepochs: 10\n",
            "\u001b[34m\u001b[1mwandb\u001b[0m: \tfeature_combination: all_features\n",
            "\u001b[34m\u001b[1mwandb\u001b[0m: \tl2_regularization: 0.0001\n"
          ]
        },
        {
          "data": {
            "text/html": [
              "Tracking run with wandb version 0.16.0"
            ],
            "text/plain": [
              "<IPython.core.display.HTML object>"
            ]
          },
          "metadata": {},
          "output_type": "display_data"
        },
        {
          "data": {
            "text/html": [
              "Run data is saved locally in <code>/content/wandb/run-20231126_130316-ykpwbi86</code>"
            ],
            "text/plain": [
              "<IPython.core.display.HTML object>"
            ]
          },
          "metadata": {},
          "output_type": "display_data"
        },
        {
          "data": {
            "text/html": [
              "Syncing run <strong><a href='https://wandb.ai/marian-ai/obligatorio_dl/runs/ykpwbi86' target=\"_blank\">dry-sweep-5</a></strong> to <a href='https://wandb.ai/marian-ai/obligatorio_dl' target=\"_blank\">Weights & Biases</a> (<a href='https://wandb.me/run' target=\"_blank\">docs</a>)<br/>Sweep page: <a href='https://wandb.ai/marian-ai/obligatorio_dl/sweeps/a47ag95a' target=\"_blank\">https://wandb.ai/marian-ai/obligatorio_dl/sweeps/a47ag95a</a>"
            ],
            "text/plain": [
              "<IPython.core.display.HTML object>"
            ]
          },
          "metadata": {},
          "output_type": "display_data"
        },
        {
          "data": {
            "text/html": [
              " View project at <a href='https://wandb.ai/marian-ai/obligatorio_dl' target=\"_blank\">https://wandb.ai/marian-ai/obligatorio_dl</a>"
            ],
            "text/plain": [
              "<IPython.core.display.HTML object>"
            ]
          },
          "metadata": {},
          "output_type": "display_data"
        },
        {
          "data": {
            "text/html": [
              " View sweep at <a href='https://wandb.ai/marian-ai/obligatorio_dl/sweeps/a47ag95a' target=\"_blank\">https://wandb.ai/marian-ai/obligatorio_dl/sweeps/a47ag95a</a>"
            ],
            "text/plain": [
              "<IPython.core.display.HTML object>"
            ]
          },
          "metadata": {},
          "output_type": "display_data"
        },
        {
          "data": {
            "text/html": [
              " View run at <a href='https://wandb.ai/marian-ai/obligatorio_dl/runs/ykpwbi86' target=\"_blank\">https://wandb.ai/marian-ai/obligatorio_dl/runs/ykpwbi86</a>"
            ],
            "text/plain": [
              "<IPython.core.display.HTML object>"
            ]
          },
          "metadata": {},
          "output_type": "display_data"
        },
        {
          "metadata": {
            "tags": null
          },
          "name": "stdout",
          "output_type": "stream",
          "text": [
            "Epoch 1/10\n",
            "8158/8158 [==============================] - ETA: 0s - loss: 0.5858 - mae: 0.4414"
          ]
        },
        {
          "metadata": {
            "tags": null
          },
          "name": "stderr",
          "output_type": "stream",
          "text": [
            "/usr/local/lib/python3.10/dist-packages/keras/src/engine/training.py:3079: UserWarning: You are saving your model as an HDF5 file via `model.save()`. This file format is considered legacy. We recommend using instead the native Keras format, e.g. `model.save('my_model.keras')`.\n",
            "  saving_api.save_model(\n"
          ]
        },
        {
          "metadata": {
            "tags": null
          },
          "name": "stdout",
          "output_type": "stream",
          "text": [
            "WARNING:tensorflow:Skipping full serialization of Keras layer <keras.src.layers.regularization.dropout.Dropout object at 0x78f7e1dd8850>, because it is not built.\n"
          ]
        },
        {
          "metadata": {
            "tags": null
          },
          "name": "stderr",
          "output_type": "stream",
          "text": [
            "WARNING:tensorflow:Skipping full serialization of Keras layer <keras.src.layers.regularization.dropout.Dropout object at 0x78f7e1dd8850>, because it is not built.\n"
          ]
        },
        {
          "metadata": {
            "tags": null
          },
          "name": "stdout",
          "output_type": "stream",
          "text": [
            "WARNING:tensorflow:Skipping full serialization of Keras layer <keras.src.layers.regularization.dropout.Dropout object at 0x78f953813e20>, because it is not built.\n"
          ]
        },
        {
          "metadata": {
            "tags": null
          },
          "name": "stderr",
          "output_type": "stream",
          "text": [
            "WARNING:tensorflow:Skipping full serialization of Keras layer <keras.src.layers.regularization.dropout.Dropout object at 0x78f953813e20>, because it is not built.\n"
          ]
        },
        {
          "metadata": {
            "tags": null
          },
          "name": "stdout",
          "output_type": "stream",
          "text": [
            "WARNING:tensorflow:Skipping full serialization of Keras layer <keras.src.layers.regularization.dropout.Dropout object at 0x78f75a1bf100>, because it is not built.\n"
          ]
        },
        {
          "metadata": {
            "tags": null
          },
          "name": "stderr",
          "output_type": "stream",
          "text": [
            "WARNING:tensorflow:Skipping full serialization of Keras layer <keras.src.layers.regularization.dropout.Dropout object at 0x78f75a1bf100>, because it is not built.\n"
          ]
        },
        {
          "metadata": {
            "tags": null
          },
          "name": "stdout",
          "output_type": "stream",
          "text": [
            "WARNING:tensorflow:Skipping full serialization of Keras layer <keras.src.layers.regularization.dropout.Dropout object at 0x78f75a1d5c60>, because it is not built.\n"
          ]
        },
        {
          "metadata": {
            "tags": null
          },
          "name": "stderr",
          "output_type": "stream",
          "text": [
            "WARNING:tensorflow:Skipping full serialization of Keras layer <keras.src.layers.regularization.dropout.Dropout object at 0x78f75a1d5c60>, because it is not built.\n"
          ]
        },
        {
          "metadata": {
            "tags": null
          },
          "name": "stdout",
          "output_type": "stream",
          "text": [
            "WARNING:tensorflow:Skipping full serialization of Keras layer <keras.src.layers.regularization.dropout.Dropout object at 0x78f714d107c0>, because it is not built.\n"
          ]
        },
        {
          "metadata": {
            "tags": null
          },
          "name": "stderr",
          "output_type": "stream",
          "text": [
            "WARNING:tensorflow:Skipping full serialization of Keras layer <keras.src.layers.regularization.dropout.Dropout object at 0x78f714d107c0>, because it is not built.\n"
          ]
        },
        {
          "metadata": {
            "tags": null
          },
          "name": "stdout",
          "output_type": "stream",
          "text": [
            "WARNING:tensorflow:Skipping full serialization of Keras layer <keras.src.layers.regularization.dropout.Dropout object at 0x78f714d13310>, because it is not built.\n"
          ]
        },
        {
          "metadata": {
            "tags": null
          },
          "name": "stderr",
          "output_type": "stream",
          "text": [
            "WARNING:tensorflow:Skipping full serialization of Keras layer <keras.src.layers.regularization.dropout.Dropout object at 0x78f714d13310>, because it is not built.\n"
          ]
        },
        {
          "metadata": {
            "tags": null
          },
          "name": "stdout",
          "output_type": "stream",
          "text": [
            "INFO:tensorflow:Assets written to: /content/wandb/run-20231126_130316-ykpwbi86/files/model-best/assets\n"
          ]
        },
        {
          "metadata": {
            "tags": null
          },
          "name": "stderr",
          "output_type": "stream",
          "text": [
            "INFO:tensorflow:Assets written to: /content/wandb/run-20231126_130316-ykpwbi86/files/model-best/assets\n",
            "\u001b[34m\u001b[1mwandb\u001b[0m: Adding directory to artifact (/content/wandb/run-20231126_130316-ykpwbi86/files/model-best)... Done. 9.0s\n"
          ]
        },
        {
          "metadata": {
            "tags": null
          },
          "name": "stdout",
          "output_type": "stream",
          "text": [
            "8158/8158 [==============================] - 2124s 258ms/step - loss: 0.5858 - mae: 0.4414 - val_loss: 0.4708 - val_mae: 0.3867 - lr: 0.0010\n",
            "Epoch 2/10\n",
            "8158/8158 [==============================] - ETA: 0s - loss: 0.4910 - mae: 0.4072"
          ]
        },
        {
          "metadata": {
            "tags": null
          },
          "name": "stderr",
          "output_type": "stream",
          "text": [
            "/usr/local/lib/python3.10/dist-packages/keras/src/engine/training.py:3079: UserWarning: You are saving your model as an HDF5 file via `model.save()`. This file format is considered legacy. We recommend using instead the native Keras format, e.g. `model.save('my_model.keras')`.\n",
            "  saving_api.save_model(\n"
          ]
        },
        {
          "metadata": {
            "tags": null
          },
          "name": "stdout",
          "output_type": "stream",
          "text": [
            "WARNING:tensorflow:Skipping full serialization of Keras layer <keras.src.layers.regularization.dropout.Dropout object at 0x78f7e1dd8850>, because it is not built.\n"
          ]
        },
        {
          "metadata": {
            "tags": null
          },
          "name": "stderr",
          "output_type": "stream",
          "text": [
            "WARNING:tensorflow:Skipping full serialization of Keras layer <keras.src.layers.regularization.dropout.Dropout object at 0x78f7e1dd8850>, because it is not built.\n"
          ]
        },
        {
          "metadata": {
            "tags": null
          },
          "name": "stdout",
          "output_type": "stream",
          "text": [
            "WARNING:tensorflow:Skipping full serialization of Keras layer <keras.src.layers.regularization.dropout.Dropout object at 0x78f953813e20>, because it is not built.\n"
          ]
        },
        {
          "metadata": {
            "tags": null
          },
          "name": "stderr",
          "output_type": "stream",
          "text": [
            "WARNING:tensorflow:Skipping full serialization of Keras layer <keras.src.layers.regularization.dropout.Dropout object at 0x78f953813e20>, because it is not built.\n"
          ]
        },
        {
          "metadata": {
            "tags": null
          },
          "name": "stdout",
          "output_type": "stream",
          "text": [
            "WARNING:tensorflow:Skipping full serialization of Keras layer <keras.src.layers.regularization.dropout.Dropout object at 0x78f75a1bf100>, because it is not built.\n"
          ]
        },
        {
          "metadata": {
            "tags": null
          },
          "name": "stderr",
          "output_type": "stream",
          "text": [
            "WARNING:tensorflow:Skipping full serialization of Keras layer <keras.src.layers.regularization.dropout.Dropout object at 0x78f75a1bf100>, because it is not built.\n"
          ]
        },
        {
          "metadata": {
            "tags": null
          },
          "name": "stdout",
          "output_type": "stream",
          "text": [
            "WARNING:tensorflow:Skipping full serialization of Keras layer <keras.src.layers.regularization.dropout.Dropout object at 0x78f75a1d5c60>, because it is not built.\n"
          ]
        },
        {
          "metadata": {
            "tags": null
          },
          "name": "stderr",
          "output_type": "stream",
          "text": [
            "WARNING:tensorflow:Skipping full serialization of Keras layer <keras.src.layers.regularization.dropout.Dropout object at 0x78f75a1d5c60>, because it is not built.\n"
          ]
        },
        {
          "metadata": {
            "tags": null
          },
          "name": "stdout",
          "output_type": "stream",
          "text": [
            "WARNING:tensorflow:Skipping full serialization of Keras layer <keras.src.layers.regularization.dropout.Dropout object at 0x78f714d107c0>, because it is not built.\n"
          ]
        },
        {
          "metadata": {
            "tags": null
          },
          "name": "stderr",
          "output_type": "stream",
          "text": [
            "WARNING:tensorflow:Skipping full serialization of Keras layer <keras.src.layers.regularization.dropout.Dropout object at 0x78f714d107c0>, because it is not built.\n"
          ]
        },
        {
          "metadata": {
            "tags": null
          },
          "name": "stdout",
          "output_type": "stream",
          "text": [
            "WARNING:tensorflow:Skipping full serialization of Keras layer <keras.src.layers.regularization.dropout.Dropout object at 0x78f714d13310>, because it is not built.\n"
          ]
        },
        {
          "metadata": {
            "tags": null
          },
          "name": "stderr",
          "output_type": "stream",
          "text": [
            "WARNING:tensorflow:Skipping full serialization of Keras layer <keras.src.layers.regularization.dropout.Dropout object at 0x78f714d13310>, because it is not built.\n"
          ]
        },
        {
          "metadata": {
            "tags": null
          },
          "name": "stdout",
          "output_type": "stream",
          "text": [
            "INFO:tensorflow:Assets written to: /content/wandb/run-20231126_130316-ykpwbi86/files/model-best/assets\n"
          ]
        },
        {
          "metadata": {
            "tags": null
          },
          "name": "stderr",
          "output_type": "stream",
          "text": [
            "INFO:tensorflow:Assets written to: /content/wandb/run-20231126_130316-ykpwbi86/files/model-best/assets\n",
            "\u001b[34m\u001b[1mwandb\u001b[0m: Adding directory to artifact (/content/wandb/run-20231126_130316-ykpwbi86/files/model-best)... Done. 8.3s\n"
          ]
        },
        {
          "metadata": {
            "tags": null
          },
          "name": "stdout",
          "output_type": "stream",
          "text": [
            "8158/8158 [==============================] - 2108s 258ms/step - loss: 0.4910 - mae: 0.4072 - val_loss: 0.4143 - val_mae: 0.3628 - lr: 0.0010\n",
            "Epoch 3/10\n",
            "8158/8158 [==============================] - ETA: 0s - loss: 0.4618 - mae: 0.3961"
          ]
        },
        {
          "metadata": {
            "tags": null
          },
          "name": "stderr",
          "output_type": "stream",
          "text": [
            "/usr/local/lib/python3.10/dist-packages/keras/src/engine/training.py:3079: UserWarning: You are saving your model as an HDF5 file via `model.save()`. This file format is considered legacy. We recommend using instead the native Keras format, e.g. `model.save('my_model.keras')`.\n",
            "  saving_api.save_model(\n"
          ]
        },
        {
          "metadata": {
            "tags": null
          },
          "name": "stdout",
          "output_type": "stream",
          "text": [
            "WARNING:tensorflow:Skipping full serialization of Keras layer <keras.src.layers.regularization.dropout.Dropout object at 0x78f7e1dd8850>, because it is not built.\n"
          ]
        },
        {
          "metadata": {
            "tags": null
          },
          "name": "stderr",
          "output_type": "stream",
          "text": [
            "WARNING:tensorflow:Skipping full serialization of Keras layer <keras.src.layers.regularization.dropout.Dropout object at 0x78f7e1dd8850>, because it is not built.\n"
          ]
        },
        {
          "metadata": {
            "tags": null
          },
          "name": "stdout",
          "output_type": "stream",
          "text": [
            "WARNING:tensorflow:Skipping full serialization of Keras layer <keras.src.layers.regularization.dropout.Dropout object at 0x78f953813e20>, because it is not built.\n"
          ]
        },
        {
          "metadata": {
            "tags": null
          },
          "name": "stderr",
          "output_type": "stream",
          "text": [
            "WARNING:tensorflow:Skipping full serialization of Keras layer <keras.src.layers.regularization.dropout.Dropout object at 0x78f953813e20>, because it is not built.\n"
          ]
        },
        {
          "metadata": {
            "tags": null
          },
          "name": "stdout",
          "output_type": "stream",
          "text": [
            "WARNING:tensorflow:Skipping full serialization of Keras layer <keras.src.layers.regularization.dropout.Dropout object at 0x78f75a1bf100>, because it is not built.\n"
          ]
        },
        {
          "metadata": {
            "tags": null
          },
          "name": "stderr",
          "output_type": "stream",
          "text": [
            "WARNING:tensorflow:Skipping full serialization of Keras layer <keras.src.layers.regularization.dropout.Dropout object at 0x78f75a1bf100>, because it is not built.\n"
          ]
        },
        {
          "metadata": {
            "tags": null
          },
          "name": "stdout",
          "output_type": "stream",
          "text": [
            "WARNING:tensorflow:Skipping full serialization of Keras layer <keras.src.layers.regularization.dropout.Dropout object at 0x78f75a1d5c60>, because it is not built.\n"
          ]
        },
        {
          "metadata": {
            "tags": null
          },
          "name": "stderr",
          "output_type": "stream",
          "text": [
            "WARNING:tensorflow:Skipping full serialization of Keras layer <keras.src.layers.regularization.dropout.Dropout object at 0x78f75a1d5c60>, because it is not built.\n"
          ]
        },
        {
          "metadata": {
            "tags": null
          },
          "name": "stdout",
          "output_type": "stream",
          "text": [
            "WARNING:tensorflow:Skipping full serialization of Keras layer <keras.src.layers.regularization.dropout.Dropout object at 0x78f714d107c0>, because it is not built.\n"
          ]
        },
        {
          "metadata": {
            "tags": null
          },
          "name": "stderr",
          "output_type": "stream",
          "text": [
            "WARNING:tensorflow:Skipping full serialization of Keras layer <keras.src.layers.regularization.dropout.Dropout object at 0x78f714d107c0>, because it is not built.\n"
          ]
        },
        {
          "metadata": {
            "tags": null
          },
          "name": "stdout",
          "output_type": "stream",
          "text": [
            "WARNING:tensorflow:Skipping full serialization of Keras layer <keras.src.layers.regularization.dropout.Dropout object at 0x78f714d13310>, because it is not built.\n"
          ]
        },
        {
          "metadata": {
            "tags": null
          },
          "name": "stderr",
          "output_type": "stream",
          "text": [
            "WARNING:tensorflow:Skipping full serialization of Keras layer <keras.src.layers.regularization.dropout.Dropout object at 0x78f714d13310>, because it is not built.\n"
          ]
        },
        {
          "metadata": {
            "tags": null
          },
          "name": "stdout",
          "output_type": "stream",
          "text": [
            "INFO:tensorflow:Assets written to: /content/wandb/run-20231126_130316-ykpwbi86/files/model-best/assets\n"
          ]
        },
        {
          "metadata": {
            "tags": null
          },
          "name": "stderr",
          "output_type": "stream",
          "text": [
            "INFO:tensorflow:Assets written to: /content/wandb/run-20231126_130316-ykpwbi86/files/model-best/assets\n",
            "\u001b[34m\u001b[1mwandb\u001b[0m: Adding directory to artifact (/content/wandb/run-20231126_130316-ykpwbi86/files/model-best)... Done. 9.5s\n"
          ]
        },
        {
          "metadata": {
            "tags": null
          },
          "name": "stdout",
          "output_type": "stream",
          "text": [
            "8158/8158 [==============================] - 2107s 258ms/step - loss: 0.4618 - mae: 0.3961 - val_loss: 0.3986 - val_mae: 0.3504 - lr: 0.0010\n",
            "Epoch 4/10\n",
            "8158/8158 [==============================] - ETA: 0s - loss: 0.4421 - mae: 0.3881"
          ]
        },
        {
          "metadata": {
            "tags": null
          },
          "name": "stderr",
          "output_type": "stream",
          "text": [
            "/usr/local/lib/python3.10/dist-packages/keras/src/engine/training.py:3079: UserWarning: You are saving your model as an HDF5 file via `model.save()`. This file format is considered legacy. We recommend using instead the native Keras format, e.g. `model.save('my_model.keras')`.\n",
            "  saving_api.save_model(\n"
          ]
        },
        {
          "metadata": {
            "tags": null
          },
          "name": "stdout",
          "output_type": "stream",
          "text": [
            "WARNING:tensorflow:Skipping full serialization of Keras layer <keras.src.layers.regularization.dropout.Dropout object at 0x78f7e1dd8850>, because it is not built.\n"
          ]
        },
        {
          "metadata": {
            "tags": null
          },
          "name": "stderr",
          "output_type": "stream",
          "text": [
            "WARNING:tensorflow:Skipping full serialization of Keras layer <keras.src.layers.regularization.dropout.Dropout object at 0x78f7e1dd8850>, because it is not built.\n"
          ]
        },
        {
          "metadata": {
            "tags": null
          },
          "name": "stdout",
          "output_type": "stream",
          "text": [
            "WARNING:tensorflow:Skipping full serialization of Keras layer <keras.src.layers.regularization.dropout.Dropout object at 0x78f953813e20>, because it is not built.\n"
          ]
        },
        {
          "metadata": {
            "tags": null
          },
          "name": "stderr",
          "output_type": "stream",
          "text": [
            "WARNING:tensorflow:Skipping full serialization of Keras layer <keras.src.layers.regularization.dropout.Dropout object at 0x78f953813e20>, because it is not built.\n"
          ]
        },
        {
          "metadata": {
            "tags": null
          },
          "name": "stdout",
          "output_type": "stream",
          "text": [
            "WARNING:tensorflow:Skipping full serialization of Keras layer <keras.src.layers.regularization.dropout.Dropout object at 0x78f75a1bf100>, because it is not built.\n"
          ]
        },
        {
          "metadata": {
            "tags": null
          },
          "name": "stderr",
          "output_type": "stream",
          "text": [
            "WARNING:tensorflow:Skipping full serialization of Keras layer <keras.src.layers.regularization.dropout.Dropout object at 0x78f75a1bf100>, because it is not built.\n"
          ]
        },
        {
          "metadata": {
            "tags": null
          },
          "name": "stdout",
          "output_type": "stream",
          "text": [
            "WARNING:tensorflow:Skipping full serialization of Keras layer <keras.src.layers.regularization.dropout.Dropout object at 0x78f75a1d5c60>, because it is not built.\n"
          ]
        },
        {
          "metadata": {
            "tags": null
          },
          "name": "stderr",
          "output_type": "stream",
          "text": [
            "WARNING:tensorflow:Skipping full serialization of Keras layer <keras.src.layers.regularization.dropout.Dropout object at 0x78f75a1d5c60>, because it is not built.\n"
          ]
        },
        {
          "metadata": {
            "tags": null
          },
          "name": "stdout",
          "output_type": "stream",
          "text": [
            "WARNING:tensorflow:Skipping full serialization of Keras layer <keras.src.layers.regularization.dropout.Dropout object at 0x78f714d107c0>, because it is not built.\n"
          ]
        },
        {
          "metadata": {
            "tags": null
          },
          "name": "stderr",
          "output_type": "stream",
          "text": [
            "WARNING:tensorflow:Skipping full serialization of Keras layer <keras.src.layers.regularization.dropout.Dropout object at 0x78f714d107c0>, because it is not built.\n"
          ]
        },
        {
          "metadata": {
            "tags": null
          },
          "name": "stdout",
          "output_type": "stream",
          "text": [
            "WARNING:tensorflow:Skipping full serialization of Keras layer <keras.src.layers.regularization.dropout.Dropout object at 0x78f714d13310>, because it is not built.\n"
          ]
        },
        {
          "metadata": {
            "tags": null
          },
          "name": "stderr",
          "output_type": "stream",
          "text": [
            "WARNING:tensorflow:Skipping full serialization of Keras layer <keras.src.layers.regularization.dropout.Dropout object at 0x78f714d13310>, because it is not built.\n"
          ]
        },
        {
          "metadata": {
            "tags": null
          },
          "name": "stdout",
          "output_type": "stream",
          "text": [
            "INFO:tensorflow:Assets written to: /content/wandb/run-20231126_130316-ykpwbi86/files/model-best/assets\n"
          ]
        },
        {
          "metadata": {
            "tags": null
          },
          "name": "stderr",
          "output_type": "stream",
          "text": [
            "INFO:tensorflow:Assets written to: /content/wandb/run-20231126_130316-ykpwbi86/files/model-best/assets\n",
            "\u001b[34m\u001b[1mwandb\u001b[0m: Adding directory to artifact (/content/wandb/run-20231126_130316-ykpwbi86/files/model-best)... Done. 7.8s\n"
          ]
        },
        {
          "metadata": {
            "tags": null
          },
          "name": "stdout",
          "output_type": "stream",
          "text": [
            "8158/8158 [==============================] - 2104s 258ms/step - loss: 0.4421 - mae: 0.3881 - val_loss: 0.3661 - val_mae: 0.3447 - lr: 0.0010\n",
            "Epoch 5/10\n",
            "8158/8158 [==============================] - ETA: 0s - loss: 0.4330 - mae: 0.3822"
          ]
        },
        {
          "metadata": {
            "tags": null
          },
          "name": "stderr",
          "output_type": "stream",
          "text": [
            "/usr/local/lib/python3.10/dist-packages/keras/src/engine/training.py:3079: UserWarning: You are saving your model as an HDF5 file via `model.save()`. This file format is considered legacy. We recommend using instead the native Keras format, e.g. `model.save('my_model.keras')`.\n",
            "  saving_api.save_model(\n"
          ]
        },
        {
          "metadata": {
            "tags": null
          },
          "name": "stdout",
          "output_type": "stream",
          "text": [
            "WARNING:tensorflow:Skipping full serialization of Keras layer <keras.src.layers.regularization.dropout.Dropout object at 0x78f7e1dd8850>, because it is not built.\n"
          ]
        },
        {
          "metadata": {
            "tags": null
          },
          "name": "stderr",
          "output_type": "stream",
          "text": [
            "WARNING:tensorflow:Skipping full serialization of Keras layer <keras.src.layers.regularization.dropout.Dropout object at 0x78f7e1dd8850>, because it is not built.\n"
          ]
        },
        {
          "metadata": {
            "tags": null
          },
          "name": "stdout",
          "output_type": "stream",
          "text": [
            "WARNING:tensorflow:Skipping full serialization of Keras layer <keras.src.layers.regularization.dropout.Dropout object at 0x78f953813e20>, because it is not built.\n"
          ]
        },
        {
          "metadata": {
            "tags": null
          },
          "name": "stderr",
          "output_type": "stream",
          "text": [
            "WARNING:tensorflow:Skipping full serialization of Keras layer <keras.src.layers.regularization.dropout.Dropout object at 0x78f953813e20>, because it is not built.\n"
          ]
        },
        {
          "metadata": {
            "tags": null
          },
          "name": "stdout",
          "output_type": "stream",
          "text": [
            "WARNING:tensorflow:Skipping full serialization of Keras layer <keras.src.layers.regularization.dropout.Dropout object at 0x78f75a1bf100>, because it is not built.\n"
          ]
        },
        {
          "metadata": {
            "tags": null
          },
          "name": "stderr",
          "output_type": "stream",
          "text": [
            "WARNING:tensorflow:Skipping full serialization of Keras layer <keras.src.layers.regularization.dropout.Dropout object at 0x78f75a1bf100>, because it is not built.\n"
          ]
        },
        {
          "metadata": {
            "tags": null
          },
          "name": "stdout",
          "output_type": "stream",
          "text": [
            "WARNING:tensorflow:Skipping full serialization of Keras layer <keras.src.layers.regularization.dropout.Dropout object at 0x78f75a1d5c60>, because it is not built.\n"
          ]
        },
        {
          "metadata": {
            "tags": null
          },
          "name": "stderr",
          "output_type": "stream",
          "text": [
            "WARNING:tensorflow:Skipping full serialization of Keras layer <keras.src.layers.regularization.dropout.Dropout object at 0x78f75a1d5c60>, because it is not built.\n"
          ]
        },
        {
          "metadata": {
            "tags": null
          },
          "name": "stdout",
          "output_type": "stream",
          "text": [
            "WARNING:tensorflow:Skipping full serialization of Keras layer <keras.src.layers.regularization.dropout.Dropout object at 0x78f714d107c0>, because it is not built.\n"
          ]
        },
        {
          "metadata": {
            "tags": null
          },
          "name": "stderr",
          "output_type": "stream",
          "text": [
            "WARNING:tensorflow:Skipping full serialization of Keras layer <keras.src.layers.regularization.dropout.Dropout object at 0x78f714d107c0>, because it is not built.\n"
          ]
        },
        {
          "metadata": {
            "tags": null
          },
          "name": "stdout",
          "output_type": "stream",
          "text": [
            "WARNING:tensorflow:Skipping full serialization of Keras layer <keras.src.layers.regularization.dropout.Dropout object at 0x78f714d13310>, because it is not built.\n"
          ]
        },
        {
          "metadata": {
            "tags": null
          },
          "name": "stderr",
          "output_type": "stream",
          "text": [
            "WARNING:tensorflow:Skipping full serialization of Keras layer <keras.src.layers.regularization.dropout.Dropout object at 0x78f714d13310>, because it is not built.\n"
          ]
        },
        {
          "metadata": {
            "tags": null
          },
          "name": "stdout",
          "output_type": "stream",
          "text": [
            "INFO:tensorflow:Assets written to: /content/wandb/run-20231126_130316-ykpwbi86/files/model-best/assets\n"
          ]
        },
        {
          "metadata": {
            "tags": null
          },
          "name": "stderr",
          "output_type": "stream",
          "text": [
            "INFO:tensorflow:Assets written to: /content/wandb/run-20231126_130316-ykpwbi86/files/model-best/assets\n",
            "\u001b[34m\u001b[1mwandb\u001b[0m: Adding directory to artifact (/content/wandb/run-20231126_130316-ykpwbi86/files/model-best)... Done. 8.6s\n"
          ]
        },
        {
          "metadata": {
            "tags": null
          },
          "name": "stdout",
          "output_type": "stream",
          "text": [
            "8158/8158 [==============================] - 2103s 258ms/step - loss: 0.4330 - mae: 0.3822 - val_loss: 0.3604 - val_mae: 0.3328 - lr: 0.0010\n",
            "Epoch 6/10\n",
            "8158/8158 [==============================] - ETA: 0s - loss: 0.4198 - mae: 0.3766"
          ]
        },
        {
          "metadata": {
            "tags": null
          },
          "name": "stderr",
          "output_type": "stream",
          "text": [
            "/usr/local/lib/python3.10/dist-packages/keras/src/engine/training.py:3079: UserWarning: You are saving your model as an HDF5 file via `model.save()`. This file format is considered legacy. We recommend using instead the native Keras format, e.g. `model.save('my_model.keras')`.\n",
            "  saving_api.save_model(\n"
          ]
        },
        {
          "metadata": {
            "tags": null
          },
          "name": "stdout",
          "output_type": "stream",
          "text": [
            "WARNING:tensorflow:Skipping full serialization of Keras layer <keras.src.layers.regularization.dropout.Dropout object at 0x78f7e1dd8850>, because it is not built.\n"
          ]
        },
        {
          "metadata": {
            "tags": null
          },
          "name": "stderr",
          "output_type": "stream",
          "text": [
            "WARNING:tensorflow:Skipping full serialization of Keras layer <keras.src.layers.regularization.dropout.Dropout object at 0x78f7e1dd8850>, because it is not built.\n"
          ]
        },
        {
          "metadata": {
            "tags": null
          },
          "name": "stdout",
          "output_type": "stream",
          "text": [
            "WARNING:tensorflow:Skipping full serialization of Keras layer <keras.src.layers.regularization.dropout.Dropout object at 0x78f953813e20>, because it is not built.\n"
          ]
        },
        {
          "metadata": {
            "tags": null
          },
          "name": "stderr",
          "output_type": "stream",
          "text": [
            "WARNING:tensorflow:Skipping full serialization of Keras layer <keras.src.layers.regularization.dropout.Dropout object at 0x78f953813e20>, because it is not built.\n"
          ]
        },
        {
          "metadata": {
            "tags": null
          },
          "name": "stdout",
          "output_type": "stream",
          "text": [
            "WARNING:tensorflow:Skipping full serialization of Keras layer <keras.src.layers.regularization.dropout.Dropout object at 0x78f75a1bf100>, because it is not built.\n"
          ]
        },
        {
          "metadata": {
            "tags": null
          },
          "name": "stderr",
          "output_type": "stream",
          "text": [
            "WARNING:tensorflow:Skipping full serialization of Keras layer <keras.src.layers.regularization.dropout.Dropout object at 0x78f75a1bf100>, because it is not built.\n"
          ]
        },
        {
          "metadata": {
            "tags": null
          },
          "name": "stdout",
          "output_type": "stream",
          "text": [
            "WARNING:tensorflow:Skipping full serialization of Keras layer <keras.src.layers.regularization.dropout.Dropout object at 0x78f75a1d5c60>, because it is not built.\n"
          ]
        },
        {
          "metadata": {
            "tags": null
          },
          "name": "stderr",
          "output_type": "stream",
          "text": [
            "WARNING:tensorflow:Skipping full serialization of Keras layer <keras.src.layers.regularization.dropout.Dropout object at 0x78f75a1d5c60>, because it is not built.\n"
          ]
        },
        {
          "metadata": {
            "tags": null
          },
          "name": "stdout",
          "output_type": "stream",
          "text": [
            "WARNING:tensorflow:Skipping full serialization of Keras layer <keras.src.layers.regularization.dropout.Dropout object at 0x78f714d107c0>, because it is not built.\n"
          ]
        },
        {
          "metadata": {
            "tags": null
          },
          "name": "stderr",
          "output_type": "stream",
          "text": [
            "WARNING:tensorflow:Skipping full serialization of Keras layer <keras.src.layers.regularization.dropout.Dropout object at 0x78f714d107c0>, because it is not built.\n"
          ]
        },
        {
          "metadata": {
            "tags": null
          },
          "name": "stdout",
          "output_type": "stream",
          "text": [
            "WARNING:tensorflow:Skipping full serialization of Keras layer <keras.src.layers.regularization.dropout.Dropout object at 0x78f714d13310>, because it is not built.\n"
          ]
        },
        {
          "metadata": {
            "tags": null
          },
          "name": "stderr",
          "output_type": "stream",
          "text": [
            "WARNING:tensorflow:Skipping full serialization of Keras layer <keras.src.layers.regularization.dropout.Dropout object at 0x78f714d13310>, because it is not built.\n"
          ]
        },
        {
          "metadata": {
            "tags": null
          },
          "name": "stdout",
          "output_type": "stream",
          "text": [
            "INFO:tensorflow:Assets written to: /content/wandb/run-20231126_130316-ykpwbi86/files/model-best/assets\n"
          ]
        },
        {
          "metadata": {
            "tags": null
          },
          "name": "stderr",
          "output_type": "stream",
          "text": [
            "INFO:tensorflow:Assets written to: /content/wandb/run-20231126_130316-ykpwbi86/files/model-best/assets\n",
            "\u001b[34m\u001b[1mwandb\u001b[0m: Adding directory to artifact (/content/wandb/run-20231126_130316-ykpwbi86/files/model-best)... Done. 11.4s\n"
          ]
        },
        {
          "metadata": {
            "tags": null
          },
          "name": "stdout",
          "output_type": "stream",
          "text": [
            "8158/8158 [==============================] - 2106s 258ms/step - loss: 0.4198 - mae: 0.3766 - val_loss: 0.3528 - val_mae: 0.3327 - lr: 0.0010\n",
            "Epoch 7/10\n",
            "8158/8158 [==============================] - 2069s 254ms/step - loss: 0.4231 - mae: 0.3753 - val_loss: 0.3539 - val_mae: 0.3364 - lr: 0.0010\n",
            "Epoch 8/10\n",
            "8158/8158 [==============================] - ETA: 0s - loss: 0.4150 - mae: 0.3726"
          ]
        },
        {
          "metadata": {
            "tags": null
          },
          "name": "stderr",
          "output_type": "stream",
          "text": [
            "/usr/local/lib/python3.10/dist-packages/keras/src/engine/training.py:3079: UserWarning: You are saving your model as an HDF5 file via `model.save()`. This file format is considered legacy. We recommend using instead the native Keras format, e.g. `model.save('my_model.keras')`.\n",
            "  saving_api.save_model(\n"
          ]
        },
        {
          "metadata": {
            "tags": null
          },
          "name": "stdout",
          "output_type": "stream",
          "text": [
            "WARNING:tensorflow:Skipping full serialization of Keras layer <keras.src.layers.regularization.dropout.Dropout object at 0x78f7e1dd8850>, because it is not built.\n"
          ]
        },
        {
          "metadata": {
            "tags": null
          },
          "name": "stderr",
          "output_type": "stream",
          "text": [
            "WARNING:tensorflow:Skipping full serialization of Keras layer <keras.src.layers.regularization.dropout.Dropout object at 0x78f7e1dd8850>, because it is not built.\n"
          ]
        },
        {
          "metadata": {
            "tags": null
          },
          "name": "stdout",
          "output_type": "stream",
          "text": [
            "WARNING:tensorflow:Skipping full serialization of Keras layer <keras.src.layers.regularization.dropout.Dropout object at 0x78f953813e20>, because it is not built.\n"
          ]
        },
        {
          "metadata": {
            "tags": null
          },
          "name": "stderr",
          "output_type": "stream",
          "text": [
            "WARNING:tensorflow:Skipping full serialization of Keras layer <keras.src.layers.regularization.dropout.Dropout object at 0x78f953813e20>, because it is not built.\n"
          ]
        },
        {
          "metadata": {
            "tags": null
          },
          "name": "stdout",
          "output_type": "stream",
          "text": [
            "WARNING:tensorflow:Skipping full serialization of Keras layer <keras.src.layers.regularization.dropout.Dropout object at 0x78f75a1bf100>, because it is not built.\n"
          ]
        },
        {
          "metadata": {
            "tags": null
          },
          "name": "stderr",
          "output_type": "stream",
          "text": [
            "WARNING:tensorflow:Skipping full serialization of Keras layer <keras.src.layers.regularization.dropout.Dropout object at 0x78f75a1bf100>, because it is not built.\n"
          ]
        },
        {
          "metadata": {
            "tags": null
          },
          "name": "stdout",
          "output_type": "stream",
          "text": [
            "WARNING:tensorflow:Skipping full serialization of Keras layer <keras.src.layers.regularization.dropout.Dropout object at 0x78f75a1d5c60>, because it is not built.\n"
          ]
        },
        {
          "metadata": {
            "tags": null
          },
          "name": "stderr",
          "output_type": "stream",
          "text": [
            "WARNING:tensorflow:Skipping full serialization of Keras layer <keras.src.layers.regularization.dropout.Dropout object at 0x78f75a1d5c60>, because it is not built.\n"
          ]
        },
        {
          "metadata": {
            "tags": null
          },
          "name": "stdout",
          "output_type": "stream",
          "text": [
            "WARNING:tensorflow:Skipping full serialization of Keras layer <keras.src.layers.regularization.dropout.Dropout object at 0x78f714d107c0>, because it is not built.\n"
          ]
        },
        {
          "metadata": {
            "tags": null
          },
          "name": "stderr",
          "output_type": "stream",
          "text": [
            "WARNING:tensorflow:Skipping full serialization of Keras layer <keras.src.layers.regularization.dropout.Dropout object at 0x78f714d107c0>, because it is not built.\n"
          ]
        },
        {
          "metadata": {
            "tags": null
          },
          "name": "stdout",
          "output_type": "stream",
          "text": [
            "WARNING:tensorflow:Skipping full serialization of Keras layer <keras.src.layers.regularization.dropout.Dropout object at 0x78f714d13310>, because it is not built.\n"
          ]
        },
        {
          "metadata": {
            "tags": null
          },
          "name": "stderr",
          "output_type": "stream",
          "text": [
            "WARNING:tensorflow:Skipping full serialization of Keras layer <keras.src.layers.regularization.dropout.Dropout object at 0x78f714d13310>, because it is not built.\n"
          ]
        },
        {
          "metadata": {
            "tags": null
          },
          "name": "stdout",
          "output_type": "stream",
          "text": [
            "INFO:tensorflow:Assets written to: /content/wandb/run-20231126_130316-ykpwbi86/files/model-best/assets\n"
          ]
        },
        {
          "metadata": {
            "tags": null
          },
          "name": "stderr",
          "output_type": "stream",
          "text": [
            "INFO:tensorflow:Assets written to: /content/wandb/run-20231126_130316-ykpwbi86/files/model-best/assets\n",
            "\u001b[34m\u001b[1mwandb\u001b[0m: Adding directory to artifact (/content/wandb/run-20231126_130316-ykpwbi86/files/model-best)... Done. 8.2s\n"
          ]
        },
        {
          "metadata": {
            "tags": null
          },
          "name": "stdout",
          "output_type": "stream",
          "text": [
            "8158/8158 [==============================] - 2106s 258ms/step - loss: 0.4150 - mae: 0.3726 - val_loss: 0.3470 - val_mae: 0.3278 - lr: 0.0010\n",
            "Epoch 9/10\n",
            "8158/8158 [==============================] - ETA: 0s - loss: 0.4204 - mae: 0.3734"
          ]
        },
        {
          "metadata": {
            "tags": null
          },
          "name": "stderr",
          "output_type": "stream",
          "text": [
            "/usr/local/lib/python3.10/dist-packages/keras/src/engine/training.py:3079: UserWarning: You are saving your model as an HDF5 file via `model.save()`. This file format is considered legacy. We recommend using instead the native Keras format, e.g. `model.save('my_model.keras')`.\n",
            "  saving_api.save_model(\n"
          ]
        },
        {
          "metadata": {
            "tags": null
          },
          "name": "stdout",
          "output_type": "stream",
          "text": [
            "WARNING:tensorflow:Skipping full serialization of Keras layer <keras.src.layers.regularization.dropout.Dropout object at 0x78f7e1dd8850>, because it is not built.\n"
          ]
        },
        {
          "metadata": {
            "tags": null
          },
          "name": "stderr",
          "output_type": "stream",
          "text": [
            "WARNING:tensorflow:Skipping full serialization of Keras layer <keras.src.layers.regularization.dropout.Dropout object at 0x78f7e1dd8850>, because it is not built.\n"
          ]
        },
        {
          "metadata": {
            "tags": null
          },
          "name": "stdout",
          "output_type": "stream",
          "text": [
            "WARNING:tensorflow:Skipping full serialization of Keras layer <keras.src.layers.regularization.dropout.Dropout object at 0x78f953813e20>, because it is not built.\n"
          ]
        },
        {
          "metadata": {
            "tags": null
          },
          "name": "stderr",
          "output_type": "stream",
          "text": [
            "WARNING:tensorflow:Skipping full serialization of Keras layer <keras.src.layers.regularization.dropout.Dropout object at 0x78f953813e20>, because it is not built.\n"
          ]
        },
        {
          "metadata": {
            "tags": null
          },
          "name": "stdout",
          "output_type": "stream",
          "text": [
            "WARNING:tensorflow:Skipping full serialization of Keras layer <keras.src.layers.regularization.dropout.Dropout object at 0x78f75a1bf100>, because it is not built.\n"
          ]
        },
        {
          "metadata": {
            "tags": null
          },
          "name": "stderr",
          "output_type": "stream",
          "text": [
            "WARNING:tensorflow:Skipping full serialization of Keras layer <keras.src.layers.regularization.dropout.Dropout object at 0x78f75a1bf100>, because it is not built.\n"
          ]
        },
        {
          "metadata": {
            "tags": null
          },
          "name": "stdout",
          "output_type": "stream",
          "text": [
            "WARNING:tensorflow:Skipping full serialization of Keras layer <keras.src.layers.regularization.dropout.Dropout object at 0x78f75a1d5c60>, because it is not built.\n"
          ]
        },
        {
          "metadata": {
            "tags": null
          },
          "name": "stderr",
          "output_type": "stream",
          "text": [
            "WARNING:tensorflow:Skipping full serialization of Keras layer <keras.src.layers.regularization.dropout.Dropout object at 0x78f75a1d5c60>, because it is not built.\n"
          ]
        },
        {
          "metadata": {
            "tags": null
          },
          "name": "stdout",
          "output_type": "stream",
          "text": [
            "WARNING:tensorflow:Skipping full serialization of Keras layer <keras.src.layers.regularization.dropout.Dropout object at 0x78f714d107c0>, because it is not built.\n"
          ]
        },
        {
          "metadata": {
            "tags": null
          },
          "name": "stderr",
          "output_type": "stream",
          "text": [
            "WARNING:tensorflow:Skipping full serialization of Keras layer <keras.src.layers.regularization.dropout.Dropout object at 0x78f714d107c0>, because it is not built.\n"
          ]
        },
        {
          "metadata": {
            "tags": null
          },
          "name": "stdout",
          "output_type": "stream",
          "text": [
            "WARNING:tensorflow:Skipping full serialization of Keras layer <keras.src.layers.regularization.dropout.Dropout object at 0x78f714d13310>, because it is not built.\n"
          ]
        },
        {
          "metadata": {
            "tags": null
          },
          "name": "stderr",
          "output_type": "stream",
          "text": [
            "WARNING:tensorflow:Skipping full serialization of Keras layer <keras.src.layers.regularization.dropout.Dropout object at 0x78f714d13310>, because it is not built.\n"
          ]
        },
        {
          "metadata": {
            "tags": null
          },
          "name": "stdout",
          "output_type": "stream",
          "text": [
            "INFO:tensorflow:Assets written to: /content/wandb/run-20231126_130316-ykpwbi86/files/model-best/assets\n"
          ]
        },
        {
          "metadata": {
            "tags": null
          },
          "name": "stderr",
          "output_type": "stream",
          "text": [
            "INFO:tensorflow:Assets written to: /content/wandb/run-20231126_130316-ykpwbi86/files/model-best/assets\n",
            "\u001b[34m\u001b[1mwandb\u001b[0m: Adding directory to artifact (/content/wandb/run-20231126_130316-ykpwbi86/files/model-best)... Done. 8.0s\n"
          ]
        },
        {
          "metadata": {
            "tags": null
          },
          "name": "stdout",
          "output_type": "stream",
          "text": [
            "8158/8158 [==============================] - 2110s 259ms/step - loss: 0.4204 - mae: 0.3734 - val_loss: 0.3440 - val_mae: 0.3313 - lr: 0.0010\n",
            "Epoch 10/10\n",
            "8158/8158 [==============================] - 2071s 254ms/step - loss: 0.4219 - mae: 0.3736 - val_loss: 0.3471 - val_mae: 0.3271 - lr: 0.0010\n"
          ]
        },
        {
          "data": {
            "application/vnd.jupyter.widget-view+json": {
              "model_id": "bb0eaa2df7e4443e9e91e1deff8e7259",
              "version_major": 2,
              "version_minor": 0
            },
            "text/plain": [
              "VBox(children=(Label(value='13928.267 MB of 13928.267 MB uploaded (0.693 MB deduped)\\r'), FloatProgress(value=…"
            ]
          },
          "metadata": {},
          "output_type": "display_data"
        },
        {
          "data": {
            "text/html": [
              "<style>\n",
              "    table.wandb td:nth-child(1) { padding: 0 10px; text-align: left ; width: auto;} td:nth-child(2) {text-align: left ; width: 100%}\n",
              "    .wandb-row { display: flex; flex-direction: row; flex-wrap: wrap; justify-content: flex-start; width: 100% }\n",
              "    .wandb-col { display: flex; flex-direction: column; flex-basis: 100%; flex: 1; padding: 10px; }\n",
              "    </style>\n",
              "<div class=\"wandb-row\"><div class=\"wandb-col\"><h3>Run history:</h3><br/><table class=\"wandb\"><tr><td>epoch</td><td>▁▂▃▃▄▅▆▆▇█</td></tr><tr><td>loss</td><td>█▄▃▂▂▁▁▁▁▁</td></tr><tr><td>lr</td><td>▁▁▁▁▁▁▁▁▁▁</td></tr><tr><td>mae</td><td>█▅▃▃▂▁▁▁▁▁</td></tr><tr><td>val_loss</td><td>█▅▄▂▂▁▂▁▁▁</td></tr><tr><td>val_mae</td><td>█▅▄▃▂▂▂▁▁▁</td></tr></table><br/></div><div class=\"wandb-col\"><h3>Run summary:</h3><br/><table class=\"wandb\"><tr><td>best_epoch</td><td>8</td></tr><tr><td>best_val_loss</td><td>0.34403</td></tr><tr><td>epoch</td><td>9</td></tr><tr><td>loss</td><td>0.42185</td></tr><tr><td>lr</td><td>0.001</td></tr><tr><td>mae</td><td>0.37363</td></tr><tr><td>val_loss</td><td>0.34711</td></tr><tr><td>val_mae</td><td>0.32711</td></tr></table><br/></div></div>"
            ],
            "text/plain": [
              "<IPython.core.display.HTML object>"
            ]
          },
          "metadata": {},
          "output_type": "display_data"
        },
        {
          "data": {
            "text/html": [
              " View run <strong style=\"color:#cdcd00\">dry-sweep-5</strong> at: <a href='https://wandb.ai/marian-ai/obligatorio_dl/runs/ykpwbi86' target=\"_blank\">https://wandb.ai/marian-ai/obligatorio_dl/runs/ykpwbi86</a><br/>Synced 5 W&B file(s), 1 media file(s), 40 artifact file(s) and 1 other file(s)"
            ],
            "text/plain": [
              "<IPython.core.display.HTML object>"
            ]
          },
          "metadata": {},
          "output_type": "display_data"
        },
        {
          "data": {
            "text/html": [
              "Find logs at: <code>./wandb/run-20231126_130316-ykpwbi86/logs</code>"
            ],
            "text/plain": [
              "<IPython.core.display.HTML object>"
            ]
          },
          "metadata": {},
          "output_type": "display_data"
        },
        {
          "metadata": {
            "tags": null
          },
          "name": "stderr",
          "output_type": "stream",
          "text": [
            "\u001b[34m\u001b[1mwandb\u001b[0m: Agent Starting Run: yvfoa52j with config:\n",
            "\u001b[34m\u001b[1mwandb\u001b[0m: \tbatch_size: 64\n",
            "\u001b[34m\u001b[1mwandb\u001b[0m: \tdropout_rate: 0.5\n",
            "\u001b[34m\u001b[1mwandb\u001b[0m: \tepochs: 10\n",
            "\u001b[34m\u001b[1mwandb\u001b[0m: \tfeature_combination: numerical\n",
            "\u001b[34m\u001b[1mwandb\u001b[0m: \tl2_regularization: 0.001\n"
          ]
        },
        {
          "data": {
            "text/html": [
              "Tracking run with wandb version 0.16.0"
            ],
            "text/plain": [
              "<IPython.core.display.HTML object>"
            ]
          },
          "metadata": {},
          "output_type": "display_data"
        },
        {
          "data": {
            "text/html": [
              "Run data is saved locally in <code>/content/wandb/run-20231126_185453-yvfoa52j</code>"
            ],
            "text/plain": [
              "<IPython.core.display.HTML object>"
            ]
          },
          "metadata": {},
          "output_type": "display_data"
        },
        {
          "data": {
            "text/html": [
              "Syncing run <strong><a href='https://wandb.ai/marian-ai/obligatorio_dl/runs/yvfoa52j' target=\"_blank\">silvery-sweep-6</a></strong> to <a href='https://wandb.ai/marian-ai/obligatorio_dl' target=\"_blank\">Weights & Biases</a> (<a href='https://wandb.me/run' target=\"_blank\">docs</a>)<br/>Sweep page: <a href='https://wandb.ai/marian-ai/obligatorio_dl/sweeps/a47ag95a' target=\"_blank\">https://wandb.ai/marian-ai/obligatorio_dl/sweeps/a47ag95a</a>"
            ],
            "text/plain": [
              "<IPython.core.display.HTML object>"
            ]
          },
          "metadata": {},
          "output_type": "display_data"
        },
        {
          "data": {
            "text/html": [
              " View project at <a href='https://wandb.ai/marian-ai/obligatorio_dl' target=\"_blank\">https://wandb.ai/marian-ai/obligatorio_dl</a>"
            ],
            "text/plain": [
              "<IPython.core.display.HTML object>"
            ]
          },
          "metadata": {},
          "output_type": "display_data"
        },
        {
          "data": {
            "text/html": [
              " View sweep at <a href='https://wandb.ai/marian-ai/obligatorio_dl/sweeps/a47ag95a' target=\"_blank\">https://wandb.ai/marian-ai/obligatorio_dl/sweeps/a47ag95a</a>"
            ],
            "text/plain": [
              "<IPython.core.display.HTML object>"
            ]
          },
          "metadata": {},
          "output_type": "display_data"
        },
        {
          "data": {
            "text/html": [
              " View run at <a href='https://wandb.ai/marian-ai/obligatorio_dl/runs/yvfoa52j' target=\"_blank\">https://wandb.ai/marian-ai/obligatorio_dl/runs/yvfoa52j</a>"
            ],
            "text/plain": [
              "<IPython.core.display.HTML object>"
            ]
          },
          "metadata": {},
          "output_type": "display_data"
        },
        {
          "metadata": {
            "tags": null
          },
          "name": "stdout",
          "output_type": "stream",
          "text": [
            "Epoch 1/10\n",
            "8145/8158 [============================>.] - ETA: 0s - loss: 0.6726 - mae: 0.4785"
          ]
        },
        {
          "metadata": {
            "tags": null
          },
          "name": "stderr",
          "output_type": "stream",
          "text": [
            "/usr/local/lib/python3.10/dist-packages/keras/src/engine/training.py:3079: UserWarning: You are saving your model as an HDF5 file via `model.save()`. This file format is considered legacy. We recommend using instead the native Keras format, e.g. `model.save('my_model.keras')`.\n",
            "  saving_api.save_model(\n"
          ]
        },
        {
          "metadata": {
            "tags": null
          },
          "name": "stdout",
          "output_type": "stream",
          "text": [
            "INFO:tensorflow:Assets written to: /content/wandb/run-20231126_185453-yvfoa52j/files/model-best/assets\n"
          ]
        },
        {
          "metadata": {
            "tags": null
          },
          "name": "stderr",
          "output_type": "stream",
          "text": [
            "INFO:tensorflow:Assets written to: /content/wandb/run-20231126_185453-yvfoa52j/files/model-best/assets\n",
            "\u001b[34m\u001b[1mwandb\u001b[0m: Adding directory to artifact (/content/wandb/run-20231126_185453-yvfoa52j/files/model-best)... Done. 0.0s\n"
          ]
        },
        {
          "metadata": {
            "tags": null
          },
          "name": "stdout",
          "output_type": "stream",
          "text": [
            "8158/8158 [==============================] - 27s 3ms/step - loss: 0.6725 - mae: 0.4784 - val_loss: 0.5143 - val_mae: 0.4086 - lr: 0.0010\n",
            "Epoch 2/10\n",
            "8153/8158 [============================>.] - ETA: 0s - loss: 0.5329 - mae: 0.4247"
          ]
        },
        {
          "metadata": {
            "tags": null
          },
          "name": "stderr",
          "output_type": "stream",
          "text": [
            "/usr/local/lib/python3.10/dist-packages/keras/src/engine/training.py:3079: UserWarning: You are saving your model as an HDF5 file via `model.save()`. This file format is considered legacy. We recommend using instead the native Keras format, e.g. `model.save('my_model.keras')`.\n",
            "  saving_api.save_model(\n"
          ]
        },
        {
          "metadata": {
            "tags": null
          },
          "name": "stdout",
          "output_type": "stream",
          "text": [
            "INFO:tensorflow:Assets written to: /content/wandb/run-20231126_185453-yvfoa52j/files/model-best/assets\n"
          ]
        },
        {
          "metadata": {
            "tags": null
          },
          "name": "stderr",
          "output_type": "stream",
          "text": [
            "INFO:tensorflow:Assets written to: /content/wandb/run-20231126_185453-yvfoa52j/files/model-best/assets\n",
            "\u001b[34m\u001b[1mwandb\u001b[0m: Adding directory to artifact (/content/wandb/run-20231126_185453-yvfoa52j/files/model-best)... Done. 0.0s\n"
          ]
        },
        {
          "metadata": {
            "tags": null
          },
          "name": "stdout",
          "output_type": "stream",
          "text": [
            "8158/8158 [==============================] - 25s 3ms/step - loss: 0.5329 - mae: 0.4247 - val_loss: 0.4636 - val_mae: 0.3891 - lr: 0.0010\n",
            "Epoch 3/10\n",
            "8156/8158 [============================>.] - ETA: 0s - loss: 0.4974 - mae: 0.4142"
          ]
        },
        {
          "metadata": {
            "tags": null
          },
          "name": "stderr",
          "output_type": "stream",
          "text": [
            "/usr/local/lib/python3.10/dist-packages/keras/src/engine/training.py:3079: UserWarning: You are saving your model as an HDF5 file via `model.save()`. This file format is considered legacy. We recommend using instead the native Keras format, e.g. `model.save('my_model.keras')`.\n",
            "  saving_api.save_model(\n"
          ]
        },
        {
          "metadata": {
            "tags": null
          },
          "name": "stdout",
          "output_type": "stream",
          "text": [
            "INFO:tensorflow:Assets written to: /content/wandb/run-20231126_185453-yvfoa52j/files/model-best/assets\n"
          ]
        },
        {
          "metadata": {
            "tags": null
          },
          "name": "stderr",
          "output_type": "stream",
          "text": [
            "INFO:tensorflow:Assets written to: /content/wandb/run-20231126_185453-yvfoa52j/files/model-best/assets\n",
            "\u001b[34m\u001b[1mwandb\u001b[0m: Adding directory to artifact (/content/wandb/run-20231126_185453-yvfoa52j/files/model-best)... Done. 0.0s\n"
          ]
        },
        {
          "metadata": {
            "tags": null
          },
          "name": "stdout",
          "output_type": "stream",
          "text": [
            "8158/8158 [==============================] - 25s 3ms/step - loss: 0.4974 - mae: 0.4142 - val_loss: 0.4288 - val_mae: 0.3773 - lr: 0.0010\n",
            "Epoch 4/10\n",
            "8144/8158 [============================>.] - ETA: 0s - loss: 0.4721 - mae: 0.4055"
          ]
        },
        {
          "metadata": {
            "tags": null
          },
          "name": "stderr",
          "output_type": "stream",
          "text": [
            "/usr/local/lib/python3.10/dist-packages/keras/src/engine/training.py:3079: UserWarning: You are saving your model as an HDF5 file via `model.save()`. This file format is considered legacy. We recommend using instead the native Keras format, e.g. `model.save('my_model.keras')`.\n",
            "  saving_api.save_model(\n"
          ]
        },
        {
          "metadata": {
            "tags": null
          },
          "name": "stdout",
          "output_type": "stream",
          "text": [
            "INFO:tensorflow:Assets written to: /content/wandb/run-20231126_185453-yvfoa52j/files/model-best/assets\n"
          ]
        },
        {
          "metadata": {
            "tags": null
          },
          "name": "stderr",
          "output_type": "stream",
          "text": [
            "INFO:tensorflow:Assets written to: /content/wandb/run-20231126_185453-yvfoa52j/files/model-best/assets\n",
            "\u001b[34m\u001b[1mwandb\u001b[0m: Adding directory to artifact (/content/wandb/run-20231126_185453-yvfoa52j/files/model-best)... Done. 0.0s\n"
          ]
        },
        {
          "metadata": {
            "tags": null
          },
          "name": "stdout",
          "output_type": "stream",
          "text": [
            "8158/8158 [==============================] - 25s 3ms/step - loss: 0.4721 - mae: 0.4055 - val_loss: 0.4109 - val_mae: 0.3728 - lr: 0.0010\n",
            "Epoch 5/10\n",
            "8146/8158 [============================>.] - ETA: 0s - loss: 0.4593 - mae: 0.3996"
          ]
        },
        {
          "metadata": {
            "tags": null
          },
          "name": "stderr",
          "output_type": "stream",
          "text": [
            "/usr/local/lib/python3.10/dist-packages/keras/src/engine/training.py:3079: UserWarning: You are saving your model as an HDF5 file via `model.save()`. This file format is considered legacy. We recommend using instead the native Keras format, e.g. `model.save('my_model.keras')`.\n",
            "  saving_api.save_model(\n"
          ]
        },
        {
          "metadata": {
            "tags": null
          },
          "name": "stdout",
          "output_type": "stream",
          "text": [
            "INFO:tensorflow:Assets written to: /content/wandb/run-20231126_185453-yvfoa52j/files/model-best/assets\n"
          ]
        },
        {
          "metadata": {
            "tags": null
          },
          "name": "stderr",
          "output_type": "stream",
          "text": [
            "INFO:tensorflow:Assets written to: /content/wandb/run-20231126_185453-yvfoa52j/files/model-best/assets\n",
            "\u001b[34m\u001b[1mwandb\u001b[0m: Adding directory to artifact (/content/wandb/run-20231126_185453-yvfoa52j/files/model-best)... Done. 0.0s\n"
          ]
        },
        {
          "metadata": {
            "tags": null
          },
          "name": "stdout",
          "output_type": "stream",
          "text": [
            "8158/8158 [==============================] - 25s 3ms/step - loss: 0.4593 - mae: 0.3996 - val_loss: 0.3997 - val_mae: 0.3694 - lr: 0.0010\n",
            "Epoch 6/10\n",
            "8158/8158 [==============================] - 25s 3ms/step - loss: 0.4509 - mae: 0.3954 - val_loss: 0.4049 - val_mae: 0.3732 - lr: 0.0010\n",
            "Epoch 7/10\n",
            "8155/8158 [============================>.] - ETA: 0s - loss: 0.4403 - mae: 0.3902"
          ]
        },
        {
          "metadata": {
            "tags": null
          },
          "name": "stderr",
          "output_type": "stream",
          "text": [
            "/usr/local/lib/python3.10/dist-packages/keras/src/engine/training.py:3079: UserWarning: You are saving your model as an HDF5 file via `model.save()`. This file format is considered legacy. We recommend using instead the native Keras format, e.g. `model.save('my_model.keras')`.\n",
            "  saving_api.save_model(\n"
          ]
        },
        {
          "metadata": {
            "tags": null
          },
          "name": "stdout",
          "output_type": "stream",
          "text": [
            "INFO:tensorflow:Assets written to: /content/wandb/run-20231126_185453-yvfoa52j/files/model-best/assets\n"
          ]
        },
        {
          "metadata": {
            "tags": null
          },
          "name": "stderr",
          "output_type": "stream",
          "text": [
            "INFO:tensorflow:Assets written to: /content/wandb/run-20231126_185453-yvfoa52j/files/model-best/assets\n",
            "\u001b[34m\u001b[1mwandb\u001b[0m: Adding directory to artifact (/content/wandb/run-20231126_185453-yvfoa52j/files/model-best)... Done. 0.0s\n"
          ]
        },
        {
          "metadata": {
            "tags": null
          },
          "name": "stdout",
          "output_type": "stream",
          "text": [
            "8158/8158 [==============================] - 25s 3ms/step - loss: 0.4403 - mae: 0.3902 - val_loss: 0.3828 - val_mae: 0.3654 - lr: 0.0010\n",
            "Epoch 8/10\n",
            "8145/8158 [============================>.] - ETA: 0s - loss: 0.4372 - mae: 0.3879"
          ]
        },
        {
          "metadata": {
            "tags": null
          },
          "name": "stderr",
          "output_type": "stream",
          "text": [
            "/usr/local/lib/python3.10/dist-packages/keras/src/engine/training.py:3079: UserWarning: You are saving your model as an HDF5 file via `model.save()`. This file format is considered legacy. We recommend using instead the native Keras format, e.g. `model.save('my_model.keras')`.\n",
            "  saving_api.save_model(\n"
          ]
        },
        {
          "metadata": {
            "tags": null
          },
          "name": "stdout",
          "output_type": "stream",
          "text": [
            "INFO:tensorflow:Assets written to: /content/wandb/run-20231126_185453-yvfoa52j/files/model-best/assets\n"
          ]
        },
        {
          "metadata": {
            "tags": null
          },
          "name": "stderr",
          "output_type": "stream",
          "text": [
            "INFO:tensorflow:Assets written to: /content/wandb/run-20231126_185453-yvfoa52j/files/model-best/assets\n",
            "\u001b[34m\u001b[1mwandb\u001b[0m: Adding directory to artifact (/content/wandb/run-20231126_185453-yvfoa52j/files/model-best)... Done. 0.0s\n"
          ]
        },
        {
          "metadata": {
            "tags": null
          },
          "name": "stdout",
          "output_type": "stream",
          "text": [
            "8158/8158 [==============================] - 26s 3ms/step - loss: 0.4372 - mae: 0.3879 - val_loss: 0.3698 - val_mae: 0.3585 - lr: 0.0010\n",
            "Epoch 9/10\n",
            "8158/8158 [==============================] - 25s 3ms/step - loss: 0.4363 - mae: 0.3867 - val_loss: 0.3769 - val_mae: 0.3606 - lr: 0.0010\n",
            "Epoch 10/10\n",
            "8158/8158 [==============================] - 25s 3ms/step - loss: 0.4362 - mae: 0.3862 - val_loss: 0.3698 - val_mae: 0.3562 - lr: 0.0010\n"
          ]
        },
        {
          "data": {
            "application/vnd.jupyter.widget-view+json": {
              "model_id": "3607e086da2f4172bdb7abab9beaf2a2",
              "version_major": 2,
              "version_minor": 0
            },
            "text/plain": [
              "VBox(children=(Label(value='0.799 MB of 0.799 MB uploaded (0.050 MB deduped)\\r'), FloatProgress(value=1.0, max…"
            ]
          },
          "metadata": {},
          "output_type": "display_data"
        },
        {
          "data": {
            "text/html": [
              "W&B sync reduced upload amount by 6.1%             "
            ],
            "text/plain": [
              "<IPython.core.display.HTML object>"
            ]
          },
          "metadata": {},
          "output_type": "display_data"
        },
        {
          "data": {
            "text/html": [
              "<style>\n",
              "    table.wandb td:nth-child(1) { padding: 0 10px; text-align: left ; width: auto;} td:nth-child(2) {text-align: left ; width: 100%}\n",
              "    .wandb-row { display: flex; flex-direction: row; flex-wrap: wrap; justify-content: flex-start; width: 100% }\n",
              "    .wandb-col { display: flex; flex-direction: column; flex-basis: 100%; flex: 1; padding: 10px; }\n",
              "    </style>\n",
              "<div class=\"wandb-row\"><div class=\"wandb-col\"><h3>Run history:</h3><br/><table class=\"wandb\"><tr><td>epoch</td><td>▁▂▃▃▄▅▆▆▇█</td></tr><tr><td>loss</td><td>█▄▃▂▂▁▁▁▁▁</td></tr><tr><td>lr</td><td>▁▁▁▁▁▁▁▁▁▁</td></tr><tr><td>mae</td><td>█▄▃▂▂▂▁▁▁▁</td></tr><tr><td>val_loss</td><td>█▆▄▃▂▃▂▁▁▁</td></tr><tr><td>val_mae</td><td>█▅▄▃▃▃▂▁▂▁</td></tr></table><br/></div><div class=\"wandb-col\"><h3>Run summary:</h3><br/><table class=\"wandb\"><tr><td>best_epoch</td><td>7</td></tr><tr><td>best_val_loss</td><td>0.36979</td></tr><tr><td>epoch</td><td>9</td></tr><tr><td>loss</td><td>0.43621</td></tr><tr><td>lr</td><td>0.001</td></tr><tr><td>mae</td><td>0.38619</td></tr><tr><td>val_loss</td><td>0.36984</td></tr><tr><td>val_mae</td><td>0.35622</td></tr></table><br/></div></div>"
            ],
            "text/plain": [
              "<IPython.core.display.HTML object>"
            ]
          },
          "metadata": {},
          "output_type": "display_data"
        },
        {
          "data": {
            "text/html": [
              " View run <strong style=\"color:#cdcd00\">silvery-sweep-6</strong> at: <a href='https://wandb.ai/marian-ai/obligatorio_dl/runs/yvfoa52j' target=\"_blank\">https://wandb.ai/marian-ai/obligatorio_dl/runs/yvfoa52j</a><br/>Synced 5 W&B file(s), 1 media file(s), 35 artifact file(s) and 1 other file(s)"
            ],
            "text/plain": [
              "<IPython.core.display.HTML object>"
            ]
          },
          "metadata": {},
          "output_type": "display_data"
        },
        {
          "data": {
            "text/html": [
              "Find logs at: <code>./wandb/run-20231126_185453-yvfoa52j/logs</code>"
            ],
            "text/plain": [
              "<IPython.core.display.HTML object>"
            ]
          },
          "metadata": {},
          "output_type": "display_data"
        },
        {
          "metadata": {
            "tags": null
          },
          "name": "stderr",
          "output_type": "stream",
          "text": [
            "\u001b[34m\u001b[1mwandb\u001b[0m: Sweep Agent: Waiting for job.\n",
            "\u001b[34m\u001b[1mwandb\u001b[0m: Job received.\n",
            "\u001b[34m\u001b[1mwandb\u001b[0m: Agent Starting Run: y2odeggc with config:\n",
            "\u001b[34m\u001b[1mwandb\u001b[0m: \tbatch_size: 64\n",
            "\u001b[34m\u001b[1mwandb\u001b[0m: \tdropout_rate: 0.5\n",
            "\u001b[34m\u001b[1mwandb\u001b[0m: \tepochs: 20\n",
            "\u001b[34m\u001b[1mwandb\u001b[0m: \tfeature_combination: numerical_categorical\n",
            "\u001b[34m\u001b[1mwandb\u001b[0m: \tl2_regularization: 0.001\n"
          ]
        },
        {
          "data": {
            "text/html": [
              "Tracking run with wandb version 0.16.0"
            ],
            "text/plain": [
              "<IPython.core.display.HTML object>"
            ]
          },
          "metadata": {},
          "output_type": "display_data"
        },
        {
          "data": {
            "text/html": [
              "Run data is saved locally in <code>/content/wandb/run-20231126_185931-y2odeggc</code>"
            ],
            "text/plain": [
              "<IPython.core.display.HTML object>"
            ]
          },
          "metadata": {},
          "output_type": "display_data"
        },
        {
          "data": {
            "text/html": [
              "Syncing run <strong><a href='https://wandb.ai/marian-ai/obligatorio_dl/runs/y2odeggc' target=\"_blank\">dandy-sweep-7</a></strong> to <a href='https://wandb.ai/marian-ai/obligatorio_dl' target=\"_blank\">Weights & Biases</a> (<a href='https://wandb.me/run' target=\"_blank\">docs</a>)<br/>Sweep page: <a href='https://wandb.ai/marian-ai/obligatorio_dl/sweeps/a47ag95a' target=\"_blank\">https://wandb.ai/marian-ai/obligatorio_dl/sweeps/a47ag95a</a>"
            ],
            "text/plain": [
              "<IPython.core.display.HTML object>"
            ]
          },
          "metadata": {},
          "output_type": "display_data"
        },
        {
          "data": {
            "text/html": [
              " View project at <a href='https://wandb.ai/marian-ai/obligatorio_dl' target=\"_blank\">https://wandb.ai/marian-ai/obligatorio_dl</a>"
            ],
            "text/plain": [
              "<IPython.core.display.HTML object>"
            ]
          },
          "metadata": {},
          "output_type": "display_data"
        },
        {
          "data": {
            "text/html": [
              " View sweep at <a href='https://wandb.ai/marian-ai/obligatorio_dl/sweeps/a47ag95a' target=\"_blank\">https://wandb.ai/marian-ai/obligatorio_dl/sweeps/a47ag95a</a>"
            ],
            "text/plain": [
              "<IPython.core.display.HTML object>"
            ]
          },
          "metadata": {},
          "output_type": "display_data"
        },
        {
          "data": {
            "text/html": [
              " View run at <a href='https://wandb.ai/marian-ai/obligatorio_dl/runs/y2odeggc' target=\"_blank\">https://wandb.ai/marian-ai/obligatorio_dl/runs/y2odeggc</a>"
            ],
            "text/plain": [
              "<IPython.core.display.HTML object>"
            ]
          },
          "metadata": {},
          "output_type": "display_data"
        },
        {
          "metadata": {
            "tags": null
          },
          "name": "stdout",
          "output_type": "stream",
          "text": [
            "Epoch 1/20\n",
            "8142/8158 [============================>.] - ETA: 0s - loss: 0.5951 - mae: 0.4479"
          ]
        },
        {
          "metadata": {
            "tags": null
          },
          "name": "stderr",
          "output_type": "stream",
          "text": [
            "/usr/local/lib/python3.10/dist-packages/keras/src/engine/training.py:3079: UserWarning: You are saving your model as an HDF5 file via `model.save()`. This file format is considered legacy. We recommend using instead the native Keras format, e.g. `model.save('my_model.keras')`.\n",
            "  saving_api.save_model(\n"
          ]
        },
        {
          "metadata": {
            "tags": null
          },
          "name": "stdout",
          "output_type": "stream",
          "text": [
            "INFO:tensorflow:Assets written to: /content/wandb/run-20231126_185931-y2odeggc/files/model-best/assets\n"
          ]
        },
        {
          "metadata": {
            "tags": null
          },
          "name": "stderr",
          "output_type": "stream",
          "text": [
            "INFO:tensorflow:Assets written to: /content/wandb/run-20231126_185931-y2odeggc/files/model-best/assets\n",
            "\u001b[34m\u001b[1mwandb\u001b[0m: Adding directory to artifact (/content/wandb/run-20231126_185931-y2odeggc/files/model-best)... Done. 0.0s\n"
          ]
        },
        {
          "metadata": {
            "tags": null
          },
          "name": "stdout",
          "output_type": "stream",
          "text": [
            "8158/8158 [==============================] - 29s 3ms/step - loss: 0.5951 - mae: 0.4479 - val_loss: 0.4656 - val_mae: 0.3836 - lr: 0.0010\n",
            "Epoch 2/20\n",
            "8155/8158 [============================>.] - ETA: 0s - loss: 0.4883 - mae: 0.4065"
          ]
        },
        {
          "metadata": {
            "tags": null
          },
          "name": "stderr",
          "output_type": "stream",
          "text": [
            "/usr/local/lib/python3.10/dist-packages/keras/src/engine/training.py:3079: UserWarning: You are saving your model as an HDF5 file via `model.save()`. This file format is considered legacy. We recommend using instead the native Keras format, e.g. `model.save('my_model.keras')`.\n",
            "  saving_api.save_model(\n"
          ]
        },
        {
          "metadata": {
            "tags": null
          },
          "name": "stdout",
          "output_type": "stream",
          "text": [
            "INFO:tensorflow:Assets written to: /content/wandb/run-20231126_185931-y2odeggc/files/model-best/assets\n"
          ]
        },
        {
          "metadata": {
            "tags": null
          },
          "name": "stderr",
          "output_type": "stream",
          "text": [
            "INFO:tensorflow:Assets written to: /content/wandb/run-20231126_185931-y2odeggc/files/model-best/assets\n",
            "\u001b[34m\u001b[1mwandb\u001b[0m: Adding directory to artifact (/content/wandb/run-20231126_185931-y2odeggc/files/model-best)... Done. 0.0s\n"
          ]
        },
        {
          "metadata": {
            "tags": null
          },
          "name": "stdout",
          "output_type": "stream",
          "text": [
            "8158/8158 [==============================] - 28s 3ms/step - loss: 0.4884 - mae: 0.4065 - val_loss: 0.4172 - val_mae: 0.3642 - lr: 0.0010\n",
            "Epoch 3/20\n",
            "8151/8158 [============================>.] - ETA: 0s - loss: 0.4609 - mae: 0.3954"
          ]
        },
        {
          "metadata": {
            "tags": null
          },
          "name": "stderr",
          "output_type": "stream",
          "text": [
            "/usr/local/lib/python3.10/dist-packages/keras/src/engine/training.py:3079: UserWarning: You are saving your model as an HDF5 file via `model.save()`. This file format is considered legacy. We recommend using instead the native Keras format, e.g. `model.save('my_model.keras')`.\n",
            "  saving_api.save_model(\n"
          ]
        },
        {
          "metadata": {
            "tags": null
          },
          "name": "stdout",
          "output_type": "stream",
          "text": [
            "INFO:tensorflow:Assets written to: /content/wandb/run-20231126_185931-y2odeggc/files/model-best/assets\n"
          ]
        },
        {
          "metadata": {
            "tags": null
          },
          "name": "stderr",
          "output_type": "stream",
          "text": [
            "INFO:tensorflow:Assets written to: /content/wandb/run-20231126_185931-y2odeggc/files/model-best/assets\n",
            "\u001b[34m\u001b[1mwandb\u001b[0m: Adding directory to artifact (/content/wandb/run-20231126_185931-y2odeggc/files/model-best)... Done. 0.0s\n"
          ]
        },
        {
          "metadata": {
            "tags": null
          },
          "name": "stdout",
          "output_type": "stream",
          "text": [
            "8158/8158 [==============================] - 28s 3ms/step - loss: 0.4610 - mae: 0.3954 - val_loss: 0.3889 - val_mae: 0.3540 - lr: 0.0010\n",
            "Epoch 4/20\n",
            "8144/8158 [============================>.] - ETA: 0s - loss: 0.4386 - mae: 0.3857"
          ]
        },
        {
          "metadata": {
            "tags": null
          },
          "name": "stderr",
          "output_type": "stream",
          "text": [
            "/usr/local/lib/python3.10/dist-packages/keras/src/engine/training.py:3079: UserWarning: You are saving your model as an HDF5 file via `model.save()`. This file format is considered legacy. We recommend using instead the native Keras format, e.g. `model.save('my_model.keras')`.\n",
            "  saving_api.save_model(\n"
          ]
        },
        {
          "metadata": {
            "tags": null
          },
          "name": "stdout",
          "output_type": "stream",
          "text": [
            "INFO:tensorflow:Assets written to: /content/wandb/run-20231126_185931-y2odeggc/files/model-best/assets\n"
          ]
        },
        {
          "metadata": {
            "tags": null
          },
          "name": "stderr",
          "output_type": "stream",
          "text": [
            "INFO:tensorflow:Assets written to: /content/wandb/run-20231126_185931-y2odeggc/files/model-best/assets\n",
            "\u001b[34m\u001b[1mwandb\u001b[0m: Adding directory to artifact (/content/wandb/run-20231126_185931-y2odeggc/files/model-best)... Done. 0.0s\n"
          ]
        },
        {
          "metadata": {
            "tags": null
          },
          "name": "stdout",
          "output_type": "stream",
          "text": [
            "8158/8158 [==============================] - 28s 3ms/step - loss: 0.4387 - mae: 0.3857 - val_loss: 0.3692 - val_mae: 0.3430 - lr: 0.0010\n",
            "Epoch 5/20\n",
            "8158/8158 [==============================] - 27s 3ms/step - loss: 0.4527 - mae: 0.3804 - val_loss: 0.3720 - val_mae: 0.3413 - lr: 0.0010\n",
            "Epoch 6/20\n",
            "8149/8158 [============================>.] - ETA: 0s - loss: 0.4270 - mae: 0.3781"
          ]
        },
        {
          "metadata": {
            "tags": null
          },
          "name": "stderr",
          "output_type": "stream",
          "text": [
            "/usr/local/lib/python3.10/dist-packages/keras/src/engine/training.py:3079: UserWarning: You are saving your model as an HDF5 file via `model.save()`. This file format is considered legacy. We recommend using instead the native Keras format, e.g. `model.save('my_model.keras')`.\n",
            "  saving_api.save_model(\n"
          ]
        },
        {
          "metadata": {
            "tags": null
          },
          "name": "stdout",
          "output_type": "stream",
          "text": [
            "INFO:tensorflow:Assets written to: /content/wandb/run-20231126_185931-y2odeggc/files/model-best/assets\n"
          ]
        },
        {
          "metadata": {
            "tags": null
          },
          "name": "stderr",
          "output_type": "stream",
          "text": [
            "INFO:tensorflow:Assets written to: /content/wandb/run-20231126_185931-y2odeggc/files/model-best/assets\n",
            "\u001b[34m\u001b[1mwandb\u001b[0m: Adding directory to artifact (/content/wandb/run-20231126_185931-y2odeggc/files/model-best)... Done. 0.0s\n"
          ]
        },
        {
          "metadata": {
            "tags": null
          },
          "name": "stdout",
          "output_type": "stream",
          "text": [
            "8158/8158 [==============================] - 28s 3ms/step - loss: 0.4271 - mae: 0.3781 - val_loss: 0.3633 - val_mae: 0.3420 - lr: 0.0010\n",
            "Epoch 7/20\n",
            "8157/8158 [============================>.] - ETA: 0s - loss: 0.4180 - mae: 0.3739"
          ]
        },
        {
          "metadata": {
            "tags": null
          },
          "name": "stderr",
          "output_type": "stream",
          "text": [
            "/usr/local/lib/python3.10/dist-packages/keras/src/engine/training.py:3079: UserWarning: You are saving your model as an HDF5 file via `model.save()`. This file format is considered legacy. We recommend using instead the native Keras format, e.g. `model.save('my_model.keras')`.\n",
            "  saving_api.save_model(\n"
          ]
        },
        {
          "metadata": {
            "tags": null
          },
          "name": "stdout",
          "output_type": "stream",
          "text": [
            "INFO:tensorflow:Assets written to: /content/wandb/run-20231126_185931-y2odeggc/files/model-best/assets\n"
          ]
        },
        {
          "metadata": {
            "tags": null
          },
          "name": "stderr",
          "output_type": "stream",
          "text": [
            "INFO:tensorflow:Assets written to: /content/wandb/run-20231126_185931-y2odeggc/files/model-best/assets\n",
            "\u001b[34m\u001b[1mwandb\u001b[0m: Adding directory to artifact (/content/wandb/run-20231126_185931-y2odeggc/files/model-best)... Done. 0.0s\n"
          ]
        },
        {
          "metadata": {
            "tags": null
          },
          "name": "stdout",
          "output_type": "stream",
          "text": [
            "8158/8158 [==============================] - 28s 3ms/step - loss: 0.4180 - mae: 0.3739 - val_loss: 0.3457 - val_mae: 0.3355 - lr: 0.0010\n",
            "Epoch 8/20\n",
            "8158/8158 [==============================] - 27s 3ms/step - loss: 0.4160 - mae: 0.3720 - val_loss: 0.3555 - val_mae: 0.3315 - lr: 0.0010\n",
            "Epoch 9/20\n",
            "8158/8158 [==============================] - 28s 3ms/step - loss: 0.4290 - mae: 0.3712 - val_loss: 0.3531 - val_mae: 0.3359 - lr: 0.0010\n",
            "Epoch 10/20\n",
            "8158/8158 [==============================] - 27s 3ms/step - loss: 0.4125 - mae: 0.3701 - val_loss: 0.3515 - val_mae: 0.3340 - lr: 0.0010\n"
          ]
        },
        {
          "data": {
            "application/vnd.jupyter.widget-view+json": {
              "model_id": "9b24104ba75c4a7f87a0b3e770335122",
              "version_major": 2,
              "version_minor": 0
            },
            "text/plain": [
              "VBox(children=(Label(value='1.043 MB of 1.043 MB uploaded (0.065 MB deduped)\\r'), FloatProgress(value=1.0, max…"
            ]
          },
          "metadata": {},
          "output_type": "display_data"
        },
        {
          "data": {
            "text/html": [
              "W&B sync reduced upload amount by 6.1%             "
            ],
            "text/plain": [
              "<IPython.core.display.HTML object>"
            ]
          },
          "metadata": {},
          "output_type": "display_data"
        },
        {
          "data": {
            "text/html": [
              "<style>\n",
              "    table.wandb td:nth-child(1) { padding: 0 10px; text-align: left ; width: auto;} td:nth-child(2) {text-align: left ; width: 100%}\n",
              "    .wandb-row { display: flex; flex-direction: row; flex-wrap: wrap; justify-content: flex-start; width: 100% }\n",
              "    .wandb-col { display: flex; flex-direction: column; flex-basis: 100%; flex: 1; padding: 10px; }\n",
              "    </style>\n",
              "<div class=\"wandb-row\"><div class=\"wandb-col\"><h3>Run history:</h3><br/><table class=\"wandb\"><tr><td>epoch</td><td>▁▂▃▃▄▅▆▆▇█</td></tr><tr><td>loss</td><td>█▄▃▂▃▂▁▁▂▁</td></tr><tr><td>lr</td><td>▁▁▁▁▁▁▁▁▁▁</td></tr><tr><td>mae</td><td>█▄▃▂▂▂▁▁▁▁</td></tr><tr><td>val_loss</td><td>█▅▄▂▃▂▁▂▁▁</td></tr><tr><td>val_mae</td><td>█▅▄▃▂▂▂▁▂▁</td></tr></table><br/></div><div class=\"wandb-col\"><h3>Run summary:</h3><br/><table class=\"wandb\"><tr><td>best_epoch</td><td>6</td></tr><tr><td>best_val_loss</td><td>0.34569</td></tr><tr><td>epoch</td><td>9</td></tr><tr><td>loss</td><td>0.41254</td></tr><tr><td>lr</td><td>0.001</td></tr><tr><td>mae</td><td>0.37011</td></tr><tr><td>val_loss</td><td>0.35148</td></tr><tr><td>val_mae</td><td>0.33396</td></tr></table><br/></div></div>"
            ],
            "text/plain": [
              "<IPython.core.display.HTML object>"
            ]
          },
          "metadata": {},
          "output_type": "display_data"
        },
        {
          "data": {
            "text/html": [
              " View run <strong style=\"color:#cdcd00\">dandy-sweep-7</strong> at: <a href='https://wandb.ai/marian-ai/obligatorio_dl/runs/y2odeggc' target=\"_blank\">https://wandb.ai/marian-ai/obligatorio_dl/runs/y2odeggc</a><br/>Synced 5 W&B file(s), 1 media file(s), 30 artifact file(s) and 1 other file(s)"
            ],
            "text/plain": [
              "<IPython.core.display.HTML object>"
            ]
          },
          "metadata": {},
          "output_type": "display_data"
        },
        {
          "data": {
            "text/html": [
              "Find logs at: <code>./wandb/run-20231126_185931-y2odeggc/logs</code>"
            ],
            "text/plain": [
              "<IPython.core.display.HTML object>"
            ]
          },
          "metadata": {},
          "output_type": "display_data"
        },
        {
          "metadata": {
            "tags": null
          },
          "name": "stderr",
          "output_type": "stream",
          "text": [
            "\u001b[34m\u001b[1mwandb\u001b[0m: Agent Starting Run: q5yhc4yr with config:\n",
            "\u001b[34m\u001b[1mwandb\u001b[0m: \tbatch_size: 64\n",
            "\u001b[34m\u001b[1mwandb\u001b[0m: \tdropout_rate: 0.3\n",
            "\u001b[34m\u001b[1mwandb\u001b[0m: \tepochs: 10\n",
            "\u001b[34m\u001b[1mwandb\u001b[0m: \tfeature_combination: numerical\n",
            "\u001b[34m\u001b[1mwandb\u001b[0m: \tl2_regularization: 0.001\n"
          ]
        },
        {
          "data": {
            "text/html": [
              "Tracking run with wandb version 0.16.0"
            ],
            "text/plain": [
              "<IPython.core.display.HTML object>"
            ]
          },
          "metadata": {},
          "output_type": "display_data"
        },
        {
          "data": {
            "text/html": [
              "Run data is saved locally in <code>/content/wandb/run-20231126_190430-q5yhc4yr</code>"
            ],
            "text/plain": [
              "<IPython.core.display.HTML object>"
            ]
          },
          "metadata": {},
          "output_type": "display_data"
        },
        {
          "data": {
            "text/html": [
              "Syncing run <strong><a href='https://wandb.ai/marian-ai/obligatorio_dl/runs/q5yhc4yr' target=\"_blank\">sweepy-sweep-8</a></strong> to <a href='https://wandb.ai/marian-ai/obligatorio_dl' target=\"_blank\">Weights & Biases</a> (<a href='https://wandb.me/run' target=\"_blank\">docs</a>)<br/>Sweep page: <a href='https://wandb.ai/marian-ai/obligatorio_dl/sweeps/a47ag95a' target=\"_blank\">https://wandb.ai/marian-ai/obligatorio_dl/sweeps/a47ag95a</a>"
            ],
            "text/plain": [
              "<IPython.core.display.HTML object>"
            ]
          },
          "metadata": {},
          "output_type": "display_data"
        },
        {
          "data": {
            "text/html": [
              " View project at <a href='https://wandb.ai/marian-ai/obligatorio_dl' target=\"_blank\">https://wandb.ai/marian-ai/obligatorio_dl</a>"
            ],
            "text/plain": [
              "<IPython.core.display.HTML object>"
            ]
          },
          "metadata": {},
          "output_type": "display_data"
        },
        {
          "data": {
            "text/html": [
              " View sweep at <a href='https://wandb.ai/marian-ai/obligatorio_dl/sweeps/a47ag95a' target=\"_blank\">https://wandb.ai/marian-ai/obligatorio_dl/sweeps/a47ag95a</a>"
            ],
            "text/plain": [
              "<IPython.core.display.HTML object>"
            ]
          },
          "metadata": {},
          "output_type": "display_data"
        },
        {
          "data": {
            "text/html": [
              " View run at <a href='https://wandb.ai/marian-ai/obligatorio_dl/runs/q5yhc4yr' target=\"_blank\">https://wandb.ai/marian-ai/obligatorio_dl/runs/q5yhc4yr</a>"
            ],
            "text/plain": [
              "<IPython.core.display.HTML object>"
            ]
          },
          "metadata": {},
          "output_type": "display_data"
        },
        {
          "metadata": {
            "tags": null
          },
          "name": "stdout",
          "output_type": "stream",
          "text": [
            "Epoch 1/10\n",
            "8142/8158 [============================>.] - ETA: 0s - loss: 0.6387 - mae: 0.4682"
          ]
        },
        {
          "metadata": {
            "tags": null
          },
          "name": "stderr",
          "output_type": "stream",
          "text": [
            "/usr/local/lib/python3.10/dist-packages/keras/src/engine/training.py:3079: UserWarning: You are saving your model as an HDF5 file via `model.save()`. This file format is considered legacy. We recommend using instead the native Keras format, e.g. `model.save('my_model.keras')`.\n",
            "  saving_api.save_model(\n"
          ]
        },
        {
          "metadata": {
            "tags": null
          },
          "name": "stdout",
          "output_type": "stream",
          "text": [
            "INFO:tensorflow:Assets written to: /content/wandb/run-20231126_190430-q5yhc4yr/files/model-best/assets\n"
          ]
        },
        {
          "metadata": {
            "tags": null
          },
          "name": "stderr",
          "output_type": "stream",
          "text": [
            "INFO:tensorflow:Assets written to: /content/wandb/run-20231126_190430-q5yhc4yr/files/model-best/assets\n",
            "\u001b[34m\u001b[1mwandb\u001b[0m: Adding directory to artifact (/content/wandb/run-20231126_190430-q5yhc4yr/files/model-best)... Done. 0.0s\n"
          ]
        },
        {
          "metadata": {
            "tags": null
          },
          "name": "stdout",
          "output_type": "stream",
          "text": [
            "8158/8158 [==============================] - 26s 3ms/step - loss: 0.6385 - mae: 0.4681 - val_loss: 0.4979 - val_mae: 0.3998 - lr: 0.0010\n",
            "Epoch 2/10\n",
            "8148/8158 [============================>.] - ETA: 0s - loss: 0.5068 - mae: 0.4156"
          ]
        },
        {
          "metadata": {
            "tags": null
          },
          "name": "stderr",
          "output_type": "stream",
          "text": [
            "/usr/local/lib/python3.10/dist-packages/keras/src/engine/training.py:3079: UserWarning: You are saving your model as an HDF5 file via `model.save()`. This file format is considered legacy. We recommend using instead the native Keras format, e.g. `model.save('my_model.keras')`.\n",
            "  saving_api.save_model(\n"
          ]
        },
        {
          "metadata": {
            "tags": null
          },
          "name": "stdout",
          "output_type": "stream",
          "text": [
            "INFO:tensorflow:Assets written to: /content/wandb/run-20231126_190430-q5yhc4yr/files/model-best/assets\n"
          ]
        },
        {
          "metadata": {
            "tags": null
          },
          "name": "stderr",
          "output_type": "stream",
          "text": [
            "INFO:tensorflow:Assets written to: /content/wandb/run-20231126_190430-q5yhc4yr/files/model-best/assets\n",
            "\u001b[34m\u001b[1mwandb\u001b[0m: Adding directory to artifact (/content/wandb/run-20231126_190430-q5yhc4yr/files/model-best)... Done. 0.0s\n"
          ]
        },
        {
          "metadata": {
            "tags": null
          },
          "name": "stdout",
          "output_type": "stream",
          "text": [
            "8158/8158 [==============================] - 25s 3ms/step - loss: 0.5067 - mae: 0.4156 - val_loss: 0.4372 - val_mae: 0.3805 - lr: 0.0010\n",
            "Epoch 3/10\n",
            "8150/8158 [============================>.] - ETA: 0s - loss: 0.4749 - mae: 0.4038"
          ]
        },
        {
          "metadata": {
            "tags": null
          },
          "name": "stderr",
          "output_type": "stream",
          "text": [
            "/usr/local/lib/python3.10/dist-packages/keras/src/engine/training.py:3079: UserWarning: You are saving your model as an HDF5 file via `model.save()`. This file format is considered legacy. We recommend using instead the native Keras format, e.g. `model.save('my_model.keras')`.\n",
            "  saving_api.save_model(\n"
          ]
        },
        {
          "metadata": {
            "tags": null
          },
          "name": "stdout",
          "output_type": "stream",
          "text": [
            "INFO:tensorflow:Assets written to: /content/wandb/run-20231126_190430-q5yhc4yr/files/model-best/assets\n"
          ]
        },
        {
          "metadata": {
            "tags": null
          },
          "name": "stderr",
          "output_type": "stream",
          "text": [
            "INFO:tensorflow:Assets written to: /content/wandb/run-20231126_190430-q5yhc4yr/files/model-best/assets\n",
            "\u001b[34m\u001b[1mwandb\u001b[0m: Adding directory to artifact (/content/wandb/run-20231126_190430-q5yhc4yr/files/model-best)... Done. 0.0s\n"
          ]
        },
        {
          "metadata": {
            "tags": null
          },
          "name": "stdout",
          "output_type": "stream",
          "text": [
            "8158/8158 [==============================] - 25s 3ms/step - loss: 0.4749 - mae: 0.4038 - val_loss: 0.4260 - val_mae: 0.3761 - lr: 0.0010\n",
            "Epoch 4/10\n",
            "8154/8158 [============================>.] - ETA: 0s - loss: 0.4581 - mae: 0.3959"
          ]
        },
        {
          "metadata": {
            "tags": null
          },
          "name": "stderr",
          "output_type": "stream",
          "text": [
            "/usr/local/lib/python3.10/dist-packages/keras/src/engine/training.py:3079: UserWarning: You are saving your model as an HDF5 file via `model.save()`. This file format is considered legacy. We recommend using instead the native Keras format, e.g. `model.save('my_model.keras')`.\n",
            "  saving_api.save_model(\n"
          ]
        },
        {
          "metadata": {
            "tags": null
          },
          "name": "stdout",
          "output_type": "stream",
          "text": [
            "INFO:tensorflow:Assets written to: /content/wandb/run-20231126_190430-q5yhc4yr/files/model-best/assets\n"
          ]
        },
        {
          "metadata": {
            "tags": null
          },
          "name": "stderr",
          "output_type": "stream",
          "text": [
            "INFO:tensorflow:Assets written to: /content/wandb/run-20231126_190430-q5yhc4yr/files/model-best/assets\n",
            "\u001b[34m\u001b[1mwandb\u001b[0m: Adding directory to artifact (/content/wandb/run-20231126_190430-q5yhc4yr/files/model-best)... Done. 0.0s\n"
          ]
        },
        {
          "metadata": {
            "tags": null
          },
          "name": "stdout",
          "output_type": "stream",
          "text": [
            "8158/8158 [==============================] - 25s 3ms/step - loss: 0.4581 - mae: 0.3959 - val_loss: 0.3957 - val_mae: 0.3658 - lr: 0.0010\n",
            "Epoch 5/10\n",
            "8145/8158 [============================>.] - ETA: 0s - loss: 0.4453 - mae: 0.3906"
          ]
        },
        {
          "metadata": {
            "tags": null
          },
          "name": "stderr",
          "output_type": "stream",
          "text": [
            "/usr/local/lib/python3.10/dist-packages/keras/src/engine/training.py:3079: UserWarning: You are saving your model as an HDF5 file via `model.save()`. This file format is considered legacy. We recommend using instead the native Keras format, e.g. `model.save('my_model.keras')`.\n",
            "  saving_api.save_model(\n"
          ]
        },
        {
          "metadata": {
            "tags": null
          },
          "name": "stdout",
          "output_type": "stream",
          "text": [
            "INFO:tensorflow:Assets written to: /content/wandb/run-20231126_190430-q5yhc4yr/files/model-best/assets\n"
          ]
        },
        {
          "metadata": {
            "tags": null
          },
          "name": "stderr",
          "output_type": "stream",
          "text": [
            "INFO:tensorflow:Assets written to: /content/wandb/run-20231126_190430-q5yhc4yr/files/model-best/assets\n",
            "\u001b[34m\u001b[1mwandb\u001b[0m: Adding directory to artifact (/content/wandb/run-20231126_190430-q5yhc4yr/files/model-best)... Done. 0.0s\n"
          ]
        },
        {
          "metadata": {
            "tags": null
          },
          "name": "stdout",
          "output_type": "stream",
          "text": [
            "8158/8158 [==============================] - 25s 3ms/step - loss: 0.4453 - mae: 0.3906 - val_loss: 0.3787 - val_mae: 0.3552 - lr: 0.0010\n",
            "Epoch 6/10\n",
            "8144/8158 [============================>.] - ETA: 0s - loss: 0.4361 - mae: 0.3857"
          ]
        },
        {
          "metadata": {
            "tags": null
          },
          "name": "stderr",
          "output_type": "stream",
          "text": [
            "/usr/local/lib/python3.10/dist-packages/keras/src/engine/training.py:3079: UserWarning: You are saving your model as an HDF5 file via `model.save()`. This file format is considered legacy. We recommend using instead the native Keras format, e.g. `model.save('my_model.keras')`.\n",
            "  saving_api.save_model(\n"
          ]
        },
        {
          "metadata": {
            "tags": null
          },
          "name": "stdout",
          "output_type": "stream",
          "text": [
            "INFO:tensorflow:Assets written to: /content/wandb/run-20231126_190430-q5yhc4yr/files/model-best/assets\n"
          ]
        },
        {
          "metadata": {
            "tags": null
          },
          "name": "stderr",
          "output_type": "stream",
          "text": [
            "INFO:tensorflow:Assets written to: /content/wandb/run-20231126_190430-q5yhc4yr/files/model-best/assets\n",
            "\u001b[34m\u001b[1mwandb\u001b[0m: Adding directory to artifact (/content/wandb/run-20231126_190430-q5yhc4yr/files/model-best)... Done. 0.0s\n"
          ]
        },
        {
          "metadata": {
            "tags": null
          },
          "name": "stdout",
          "output_type": "stream",
          "text": [
            "8158/8158 [==============================] - 25s 3ms/step - loss: 0.4361 - mae: 0.3857 - val_loss: 0.3724 - val_mae: 0.3538 - lr: 0.0010\n",
            "Epoch 7/10\n",
            "8141/8158 [============================>.] - ETA: 0s - loss: 0.4308 - mae: 0.3826"
          ]
        },
        {
          "metadata": {
            "tags": null
          },
          "name": "stderr",
          "output_type": "stream",
          "text": [
            "/usr/local/lib/python3.10/dist-packages/keras/src/engine/training.py:3079: UserWarning: You are saving your model as an HDF5 file via `model.save()`. This file format is considered legacy. We recommend using instead the native Keras format, e.g. `model.save('my_model.keras')`.\n",
            "  saving_api.save_model(\n"
          ]
        },
        {
          "metadata": {
            "tags": null
          },
          "name": "stdout",
          "output_type": "stream",
          "text": [
            "INFO:tensorflow:Assets written to: /content/wandb/run-20231126_190430-q5yhc4yr/files/model-best/assets\n"
          ]
        },
        {
          "metadata": {
            "tags": null
          },
          "name": "stderr",
          "output_type": "stream",
          "text": [
            "INFO:tensorflow:Assets written to: /content/wandb/run-20231126_190430-q5yhc4yr/files/model-best/assets\n",
            "\u001b[34m\u001b[1mwandb\u001b[0m: Adding directory to artifact (/content/wandb/run-20231126_190430-q5yhc4yr/files/model-best)... Done. 0.0s\n"
          ]
        },
        {
          "metadata": {
            "tags": null
          },
          "name": "stdout",
          "output_type": "stream",
          "text": [
            "8158/8158 [==============================] - 25s 3ms/step - loss: 0.4308 - mae: 0.3826 - val_loss: 0.3709 - val_mae: 0.3575 - lr: 0.0010\n",
            "Epoch 8/10\n",
            "8158/8158 [==============================] - 24s 3ms/step - loss: 0.4365 - mae: 0.3826 - val_loss: 0.3863 - val_mae: 0.3623 - lr: 0.0010\n",
            "Epoch 9/10\n",
            "8151/8158 [============================>.] - ETA: 0s - loss: 0.4293 - mae: 0.3803"
          ]
        },
        {
          "metadata": {
            "tags": null
          },
          "name": "stderr",
          "output_type": "stream",
          "text": [
            "/usr/local/lib/python3.10/dist-packages/keras/src/engine/training.py:3079: UserWarning: You are saving your model as an HDF5 file via `model.save()`. This file format is considered legacy. We recommend using instead the native Keras format, e.g. `model.save('my_model.keras')`.\n",
            "  saving_api.save_model(\n"
          ]
        },
        {
          "metadata": {
            "tags": null
          },
          "name": "stdout",
          "output_type": "stream",
          "text": [
            "INFO:tensorflow:Assets written to: /content/wandb/run-20231126_190430-q5yhc4yr/files/model-best/assets\n"
          ]
        },
        {
          "metadata": {
            "tags": null
          },
          "name": "stderr",
          "output_type": "stream",
          "text": [
            "INFO:tensorflow:Assets written to: /content/wandb/run-20231126_190430-q5yhc4yr/files/model-best/assets\n",
            "\u001b[34m\u001b[1mwandb\u001b[0m: Adding directory to artifact (/content/wandb/run-20231126_190430-q5yhc4yr/files/model-best)... Done. 0.0s\n"
          ]
        },
        {
          "metadata": {
            "tags": null
          },
          "name": "stdout",
          "output_type": "stream",
          "text": [
            "8158/8158 [==============================] - 25s 3ms/step - loss: 0.4293 - mae: 0.3803 - val_loss: 0.3664 - val_mae: 0.3546 - lr: 0.0010\n",
            "Epoch 10/10\n",
            "8158/8158 [==============================] - 25s 3ms/step - loss: 0.4282 - mae: 0.3791 - val_loss: 0.3711 - val_mae: 0.3544 - lr: 0.0010\n"
          ]
        },
        {
          "data": {
            "application/vnd.jupyter.widget-view+json": {
              "model_id": "3c39fc25ec8644cf888e22bcd9a87139",
              "version_major": 2,
              "version_minor": 0
            },
            "text/plain": [
              "VBox(children=(Label(value='0.908 MB of 0.908 MB uploaded (0.058 MB deduped)\\r'), FloatProgress(value=1.0, max…"
            ]
          },
          "metadata": {},
          "output_type": "display_data"
        },
        {
          "data": {
            "text/html": [
              "W&B sync reduced upload amount by 6.3%             "
            ],
            "text/plain": [
              "<IPython.core.display.HTML object>"
            ]
          },
          "metadata": {},
          "output_type": "display_data"
        },
        {
          "data": {
            "text/html": [
              "<style>\n",
              "    table.wandb td:nth-child(1) { padding: 0 10px; text-align: left ; width: auto;} td:nth-child(2) {text-align: left ; width: 100%}\n",
              "    .wandb-row { display: flex; flex-direction: row; flex-wrap: wrap; justify-content: flex-start; width: 100% }\n",
              "    .wandb-col { display: flex; flex-direction: column; flex-basis: 100%; flex: 1; padding: 10px; }\n",
              "    </style>\n",
              "<div class=\"wandb-row\"><div class=\"wandb-col\"><h3>Run history:</h3><br/><table class=\"wandb\"><tr><td>epoch</td><td>▁▂▃▃▄▅▆▆▇█</td></tr><tr><td>loss</td><td>█▄▃▂▂▁▁▁▁▁</td></tr><tr><td>lr</td><td>▁▁▁▁▁▁▁▁▁▁</td></tr><tr><td>mae</td><td>█▄▃▂▂▂▁▁▁▁</td></tr><tr><td>val_loss</td><td>█▅▄▃▂▁▁▂▁▁</td></tr><tr><td>val_mae</td><td>█▅▄▃▁▁▂▂▁▁</td></tr></table><br/></div><div class=\"wandb-col\"><h3>Run summary:</h3><br/><table class=\"wandb\"><tr><td>best_epoch</td><td>8</td></tr><tr><td>best_val_loss</td><td>0.36643</td></tr><tr><td>epoch</td><td>9</td></tr><tr><td>loss</td><td>0.42824</td></tr><tr><td>lr</td><td>0.001</td></tr><tr><td>mae</td><td>0.37912</td></tr><tr><td>val_loss</td><td>0.37112</td></tr><tr><td>val_mae</td><td>0.35437</td></tr></table><br/></div></div>"
            ],
            "text/plain": [
              "<IPython.core.display.HTML object>"
            ]
          },
          "metadata": {},
          "output_type": "display_data"
        },
        {
          "data": {
            "text/html": [
              " View run <strong style=\"color:#cdcd00\">sweepy-sweep-8</strong> at: <a href='https://wandb.ai/marian-ai/obligatorio_dl/runs/q5yhc4yr' target=\"_blank\">https://wandb.ai/marian-ai/obligatorio_dl/runs/q5yhc4yr</a><br/>Synced 5 W&B file(s), 1 media file(s), 40 artifact file(s) and 1 other file(s)"
            ],
            "text/plain": [
              "<IPython.core.display.HTML object>"
            ]
          },
          "metadata": {},
          "output_type": "display_data"
        },
        {
          "data": {
            "text/html": [
              "Find logs at: <code>./wandb/run-20231126_190430-q5yhc4yr/logs</code>"
            ],
            "text/plain": [
              "<IPython.core.display.HTML object>"
            ]
          },
          "metadata": {},
          "output_type": "display_data"
        },
        {
          "metadata": {
            "tags": null
          },
          "name": "stderr",
          "output_type": "stream",
          "text": [
            "\u001b[34m\u001b[1mwandb\u001b[0m: Sweep Agent: Waiting for job.\n",
            "\u001b[34m\u001b[1mwandb\u001b[0m: Job received.\n",
            "\u001b[34m\u001b[1mwandb\u001b[0m: Agent Starting Run: s60h0uhc with config:\n",
            "\u001b[34m\u001b[1mwandb\u001b[0m: \tbatch_size: 32\n",
            "\u001b[34m\u001b[1mwandb\u001b[0m: \tdropout_rate: 0.5\n",
            "\u001b[34m\u001b[1mwandb\u001b[0m: \tepochs: 20\n",
            "\u001b[34m\u001b[1mwandb\u001b[0m: \tfeature_combination: numerical\n",
            "\u001b[34m\u001b[1mwandb\u001b[0m: \tl2_regularization: 0.0001\n"
          ]
        },
        {
          "data": {
            "text/html": [
              "Tracking run with wandb version 0.16.0"
            ],
            "text/plain": [
              "<IPython.core.display.HTML object>"
            ]
          },
          "metadata": {},
          "output_type": "display_data"
        },
        {
          "data": {
            "text/html": [
              "Run data is saved locally in <code>/content/wandb/run-20231126_190907-s60h0uhc</code>"
            ],
            "text/plain": [
              "<IPython.core.display.HTML object>"
            ]
          },
          "metadata": {},
          "output_type": "display_data"
        },
        {
          "data": {
            "text/html": [
              "Syncing run <strong><a href='https://wandb.ai/marian-ai/obligatorio_dl/runs/s60h0uhc' target=\"_blank\">fanciful-sweep-9</a></strong> to <a href='https://wandb.ai/marian-ai/obligatorio_dl' target=\"_blank\">Weights & Biases</a> (<a href='https://wandb.me/run' target=\"_blank\">docs</a>)<br/>Sweep page: <a href='https://wandb.ai/marian-ai/obligatorio_dl/sweeps/a47ag95a' target=\"_blank\">https://wandb.ai/marian-ai/obligatorio_dl/sweeps/a47ag95a</a>"
            ],
            "text/plain": [
              "<IPython.core.display.HTML object>"
            ]
          },
          "metadata": {},
          "output_type": "display_data"
        },
        {
          "data": {
            "text/html": [
              " View project at <a href='https://wandb.ai/marian-ai/obligatorio_dl' target=\"_blank\">https://wandb.ai/marian-ai/obligatorio_dl</a>"
            ],
            "text/plain": [
              "<IPython.core.display.HTML object>"
            ]
          },
          "metadata": {},
          "output_type": "display_data"
        },
        {
          "data": {
            "text/html": [
              " View sweep at <a href='https://wandb.ai/marian-ai/obligatorio_dl/sweeps/a47ag95a' target=\"_blank\">https://wandb.ai/marian-ai/obligatorio_dl/sweeps/a47ag95a</a>"
            ],
            "text/plain": [
              "<IPython.core.display.HTML object>"
            ]
          },
          "metadata": {},
          "output_type": "display_data"
        },
        {
          "data": {
            "text/html": [
              " View run at <a href='https://wandb.ai/marian-ai/obligatorio_dl/runs/s60h0uhc' target=\"_blank\">https://wandb.ai/marian-ai/obligatorio_dl/runs/s60h0uhc</a>"
            ],
            "text/plain": [
              "<IPython.core.display.HTML object>"
            ]
          },
          "metadata": {},
          "output_type": "display_data"
        },
        {
          "metadata": {
            "tags": null
          },
          "name": "stdout",
          "output_type": "stream",
          "text": [
            "Epoch 1/20\n",
            "8156/8158 [============================>.] - ETA: 0s - loss: 0.6855 - mae: 0.4750"
          ]
        },
        {
          "metadata": {
            "tags": null
          },
          "name": "stderr",
          "output_type": "stream",
          "text": [
            "/usr/local/lib/python3.10/dist-packages/keras/src/engine/training.py:3079: UserWarning: You are saving your model as an HDF5 file via `model.save()`. This file format is considered legacy. We recommend using instead the native Keras format, e.g. `model.save('my_model.keras')`.\n",
            "  saving_api.save_model(\n"
          ]
        },
        {
          "metadata": {
            "tags": null
          },
          "name": "stdout",
          "output_type": "stream",
          "text": [
            "INFO:tensorflow:Assets written to: /content/wandb/run-20231126_190907-s60h0uhc/files/model-best/assets\n"
          ]
        },
        {
          "metadata": {
            "tags": null
          },
          "name": "stderr",
          "output_type": "stream",
          "text": [
            "INFO:tensorflow:Assets written to: /content/wandb/run-20231126_190907-s60h0uhc/files/model-best/assets\n",
            "\u001b[34m\u001b[1mwandb\u001b[0m: Adding directory to artifact (/content/wandb/run-20231126_190907-s60h0uhc/files/model-best)... Done. 0.0s\n"
          ]
        },
        {
          "metadata": {
            "tags": null
          },
          "name": "stdout",
          "output_type": "stream",
          "text": [
            "8158/8158 [==============================] - 26s 3ms/step - loss: 0.6855 - mae: 0.4750 - val_loss: 0.5050 - val_mae: 0.4013 - lr: 0.0010\n",
            "Epoch 2/20\n",
            "8152/8158 [============================>.] - ETA: 0s - loss: 0.5206 - mae: 0.4206"
          ]
        },
        {
          "metadata": {
            "tags": null
          },
          "name": "stderr",
          "output_type": "stream",
          "text": [
            "/usr/local/lib/python3.10/dist-packages/keras/src/engine/training.py:3079: UserWarning: You are saving your model as an HDF5 file via `model.save()`. This file format is considered legacy. We recommend using instead the native Keras format, e.g. `model.save('my_model.keras')`.\n",
            "  saving_api.save_model(\n"
          ]
        },
        {
          "metadata": {
            "tags": null
          },
          "name": "stdout",
          "output_type": "stream",
          "text": [
            "INFO:tensorflow:Assets written to: /content/wandb/run-20231126_190907-s60h0uhc/files/model-best/assets\n"
          ]
        },
        {
          "metadata": {
            "tags": null
          },
          "name": "stderr",
          "output_type": "stream",
          "text": [
            "INFO:tensorflow:Assets written to: /content/wandb/run-20231126_190907-s60h0uhc/files/model-best/assets\n",
            "\u001b[34m\u001b[1mwandb\u001b[0m: Adding directory to artifact (/content/wandb/run-20231126_190907-s60h0uhc/files/model-best)... Done. 0.0s\n"
          ]
        },
        {
          "metadata": {
            "tags": null
          },
          "name": "stdout",
          "output_type": "stream",
          "text": [
            "8158/8158 [==============================] - 25s 3ms/step - loss: 0.5205 - mae: 0.4206 - val_loss: 0.4516 - val_mae: 0.3833 - lr: 0.0010\n",
            "Epoch 3/20\n",
            "8143/8158 [============================>.] - ETA: 0s - loss: 0.4833 - mae: 0.4085"
          ]
        },
        {
          "metadata": {
            "tags": null
          },
          "name": "stderr",
          "output_type": "stream",
          "text": [
            "/usr/local/lib/python3.10/dist-packages/keras/src/engine/training.py:3079: UserWarning: You are saving your model as an HDF5 file via `model.save()`. This file format is considered legacy. We recommend using instead the native Keras format, e.g. `model.save('my_model.keras')`.\n",
            "  saving_api.save_model(\n"
          ]
        },
        {
          "metadata": {
            "tags": null
          },
          "name": "stdout",
          "output_type": "stream",
          "text": [
            "INFO:tensorflow:Assets written to: /content/wandb/run-20231126_190907-s60h0uhc/files/model-best/assets\n"
          ]
        },
        {
          "metadata": {
            "tags": null
          },
          "name": "stderr",
          "output_type": "stream",
          "text": [
            "INFO:tensorflow:Assets written to: /content/wandb/run-20231126_190907-s60h0uhc/files/model-best/assets\n",
            "\u001b[34m\u001b[1mwandb\u001b[0m: Adding directory to artifact (/content/wandb/run-20231126_190907-s60h0uhc/files/model-best)... Done. 0.0s\n"
          ]
        },
        {
          "metadata": {
            "tags": null
          },
          "name": "stdout",
          "output_type": "stream",
          "text": [
            "8158/8158 [==============================] - 25s 3ms/step - loss: 0.4834 - mae: 0.4085 - val_loss: 0.4205 - val_mae: 0.3745 - lr: 0.0010\n",
            "Epoch 4/20\n",
            "8148/8158 [============================>.] - ETA: 0s - loss: 0.4668 - mae: 0.4018"
          ]
        },
        {
          "metadata": {
            "tags": null
          },
          "name": "stderr",
          "output_type": "stream",
          "text": [
            "/usr/local/lib/python3.10/dist-packages/keras/src/engine/training.py:3079: UserWarning: You are saving your model as an HDF5 file via `model.save()`. This file format is considered legacy. We recommend using instead the native Keras format, e.g. `model.save('my_model.keras')`.\n",
            "  saving_api.save_model(\n"
          ]
        },
        {
          "metadata": {
            "tags": null
          },
          "name": "stdout",
          "output_type": "stream",
          "text": [
            "INFO:tensorflow:Assets written to: /content/wandb/run-20231126_190907-s60h0uhc/files/model-best/assets\n"
          ]
        },
        {
          "metadata": {
            "tags": null
          },
          "name": "stderr",
          "output_type": "stream",
          "text": [
            "INFO:tensorflow:Assets written to: /content/wandb/run-20231126_190907-s60h0uhc/files/model-best/assets\n",
            "\u001b[34m\u001b[1mwandb\u001b[0m: Adding directory to artifact (/content/wandb/run-20231126_190907-s60h0uhc/files/model-best)... Done. 0.0s\n"
          ]
        },
        {
          "output_type": "stream",
          "name": "stdout",
          "text": [
            "8158/8158 [==============================] - 25s 3ms/step - loss: 0.4667 - mae: 0.4018 - val_loss: 0.4098 - val_mae: 0.3729 - lr: 0.0010\n",
            "Epoch 5/20\n",
            "8157/8158 [============================>.] - ETA: 0s - loss: 0.4513 - mae: 0.3940"
          ]
        },
        {
          "output_type": "stream",
          "name": "stderr",
          "text": [
            "/usr/local/lib/python3.10/dist-packages/keras/src/engine/training.py:3079: UserWarning: You are saving your model as an HDF5 file via `model.save()`. This file format is considered legacy. We recommend using instead the native Keras format, e.g. `model.save('my_model.keras')`.\n",
            "  saving_api.save_model(\n"
          ]
        },
        {
          "output_type": "stream",
          "name": "stdout",
          "text": [
            "INFO:tensorflow:Assets written to: /content/wandb/run-20231126_190907-s60h0uhc/files/model-best/assets\n"
          ]
        },
        {
          "output_type": "stream",
          "name": "stderr",
          "text": [
            "INFO:tensorflow:Assets written to: /content/wandb/run-20231126_190907-s60h0uhc/files/model-best/assets\n",
            "\u001b[34m\u001b[1mwandb\u001b[0m: Adding directory to artifact (/content/wandb/run-20231126_190907-s60h0uhc/files/model-best)... Done. 0.0s\n"
          ]
        },
        {
          "output_type": "stream",
          "name": "stdout",
          "text": [
            "\b\b\b\b\b\b\b\b\b\b\b\b\b\b\b\b\b\b\b\b\b\b\b\b\b\b\b\b\b\b\b\b\b\b\b\b\b\b\b\b\b\b\b\b\b\b\b\b\b\b\b\b\b\b\b\b\b\b\b\b\b\b\b\b\b\b\b\b\b\b\b\b\b\b\b\b\b\b\b\b\b\r8158/8158 [==============================] - 25s 3ms/step - loss: 0.4513 - mae: 0.3940 - val_loss: 0.3925 - val_mae: 0.3644 - lr: 0.0010\n",
            "Epoch 6/20\n",
            "8147/8158 [============================>.] - ETA: 0s - loss: 0.4422 - mae: 0.3902"
          ]
        },
        {
          "output_type": "stream",
          "name": "stderr",
          "text": [
            "/usr/local/lib/python3.10/dist-packages/keras/src/engine/training.py:3079: UserWarning: You are saving your model as an HDF5 file via `model.save()`. This file format is considered legacy. We recommend using instead the native Keras format, e.g. `model.save('my_model.keras')`.\n",
            "  saving_api.save_model(\n"
          ]
        },
        {
          "output_type": "stream",
          "name": "stdout",
          "text": [
            "INFO:tensorflow:Assets written to: /content/wandb/run-20231126_190907-s60h0uhc/files/model-best/assets\n"
          ]
        },
        {
          "output_type": "stream",
          "name": "stderr",
          "text": [
            "INFO:tensorflow:Assets written to: /content/wandb/run-20231126_190907-s60h0uhc/files/model-best/assets\n",
            "\u001b[34m\u001b[1mwandb\u001b[0m: Adding directory to artifact (/content/wandb/run-20231126_190907-s60h0uhc/files/model-best)... Done. 0.0s\n"
          ]
        },
        {
          "output_type": "stream",
          "name": "stdout",
          "text": [
            "\b\b\b\b\b\b\b\b\b\b\b\b\b\b\b\b\b\b\b\b\b\b\b\b\b\b\b\b\b\b\b\b\b\b\b\b\b\b\b\b\b\b\b\b\b\b\b\b\b\b\b\b\b\b\b\b\b\b\b\b\b\b\b\b\b\b\b\b\b\b\b\b\b\b\b\b\b\b\b\b\b\r8158/8158 [==============================] - 26s 3ms/step - loss: 0.4422 - mae: 0.3902 - val_loss: 0.3774 - val_mae: 0.3578 - lr: 0.0010\n",
            "Epoch 7/20\n",
            "8153/8158 [============================>.] - ETA: 0s - loss: 0.4406 - mae: 0.3876"
          ]
        },
        {
          "output_type": "stream",
          "name": "stderr",
          "text": [
            "/usr/local/lib/python3.10/dist-packages/keras/src/engine/training.py:3079: UserWarning: You are saving your model as an HDF5 file via `model.save()`. This file format is considered legacy. We recommend using instead the native Keras format, e.g. `model.save('my_model.keras')`.\n",
            "  saving_api.save_model(\n"
          ]
        },
        {
          "output_type": "stream",
          "name": "stdout",
          "text": [
            "INFO:tensorflow:Assets written to: /content/wandb/run-20231126_190907-s60h0uhc/files/model-best/assets\n"
          ]
        },
        {
          "output_type": "stream",
          "name": "stderr",
          "text": [
            "INFO:tensorflow:Assets written to: /content/wandb/run-20231126_190907-s60h0uhc/files/model-best/assets\n",
            "\u001b[34m\u001b[1mwandb\u001b[0m: Adding directory to artifact (/content/wandb/run-20231126_190907-s60h0uhc/files/model-best)... Done. 0.0s\n"
          ]
        },
        {
          "output_type": "stream",
          "name": "stdout",
          "text": [
            "\b\b\b\b\b\b\b\b\b\b\b\b\b\b\b\b\b\b\b\b\b\b\b\b\b\b\b\b\b\b\b\b\b\b\b\b\b\b\b\b\b\b\b\b\b\b\b\b\b\b\b\b\b\b\b\b\b\b\b\b\b\b\b\b\b\b\b\b\b\b\b\b\b\b\b\b\b\b\b\b\b\r8158/8158 [==============================] - 25s 3ms/step - loss: 0.4406 - mae: 0.3876 - val_loss: 0.3762 - val_mae: 0.3604 - lr: 0.0010\n",
            "Epoch 8/20\n",
            "8144/8158 [============================>.] - ETA: 0s - loss: 0.4363 - mae: 0.3863"
          ]
        },
        {
          "output_type": "stream",
          "name": "stderr",
          "text": [
            "/usr/local/lib/python3.10/dist-packages/keras/src/engine/training.py:3079: UserWarning: You are saving your model as an HDF5 file via `model.save()`. This file format is considered legacy. We recommend using instead the native Keras format, e.g. `model.save('my_model.keras')`.\n",
            "  saving_api.save_model(\n"
          ]
        },
        {
          "output_type": "stream",
          "name": "stdout",
          "text": [
            "INFO:tensorflow:Assets written to: /content/wandb/run-20231126_190907-s60h0uhc/files/model-best/assets\n"
          ]
        },
        {
          "output_type": "stream",
          "name": "stderr",
          "text": [
            "INFO:tensorflow:Assets written to: /content/wandb/run-20231126_190907-s60h0uhc/files/model-best/assets\n",
            "\u001b[34m\u001b[1mwandb\u001b[0m: Adding directory to artifact (/content/wandb/run-20231126_190907-s60h0uhc/files/model-best)... Done. 0.0s\n"
          ]
        },
        {
          "output_type": "stream",
          "name": "stdout",
          "text": [
            "\b\b\b\b\b\b\b\b\b\b\b\b\b\b\b\b\b\b\b\b\b\b\b\b\b\b\b\b\b\b\b\b\b\b\b\b\b\b\b\b\b\b\b\b\b\b\b\b\b\b\b\b\b\b\b\b\b\b\b\b\b\b\b\b\b\b\b\b\b\b\b\b\b\b\b\b\b\b\b\b\b\r8158/8158 [==============================] - 25s 3ms/step - loss: 0.4363 - mae: 0.3863 - val_loss: 0.3614 - val_mae: 0.3552 - lr: 0.0010\n",
            "Epoch 9/20\n",
            "8144/8158 [============================>.] - ETA: 0s - loss: 0.4357 - mae: 0.3845"
          ]
        },
        {
          "output_type": "stream",
          "name": "stderr",
          "text": [
            "/usr/local/lib/python3.10/dist-packages/keras/src/engine/training.py:3079: UserWarning: You are saving your model as an HDF5 file via `model.save()`. This file format is considered legacy. We recommend using instead the native Keras format, e.g. `model.save('my_model.keras')`.\n",
            "  saving_api.save_model(\n"
          ]
        },
        {
          "output_type": "stream",
          "name": "stdout",
          "text": [
            "INFO:tensorflow:Assets written to: /content/wandb/run-20231126_190907-s60h0uhc/files/model-best/assets\n"
          ]
        },
        {
          "output_type": "stream",
          "name": "stderr",
          "text": [
            "INFO:tensorflow:Assets written to: /content/wandb/run-20231126_190907-s60h0uhc/files/model-best/assets\n",
            "\u001b[34m\u001b[1mwandb\u001b[0m: Adding directory to artifact (/content/wandb/run-20231126_190907-s60h0uhc/files/model-best)... Done. 0.0s\n"
          ]
        },
        {
          "output_type": "stream",
          "name": "stdout",
          "text": [
            "\b\b\b\b\b\b\b\b\b\b\b\b\b\b\b\b\b\b\b\b\b\b\b\b\b\b\b\b\b\b\b\b\b\b\b\b\b\b\b\b\b\b\b\b\b\b\b\b\b\b\b\b\b\b\b\b\b\b\b\b\b\b\b\b\b\b\b\b\b\b\b\b\b\b\b\b\b\b\b\b\b\r8158/8158 [==============================] - 25s 3ms/step - loss: 0.4357 - mae: 0.3845 - val_loss: 0.3567 - val_mae: 0.3541 - lr: 0.0010\n",
            "Epoch 10/20\n",
            "8158/8158 [==============================] - 24s 3ms/step - loss: 0.4358 - mae: 0.3835 - val_loss: 0.3771 - val_mae: 0.3598 - lr: 0.0010\n",
            "Epoch 11/20\n",
            "8158/8158 [==============================] - 24s 3ms/step - loss: 0.4321 - mae: 0.3822 - val_loss: 0.3689 - val_mae: 0.3543 - lr: 0.0010\n",
            "Epoch 12/20\n",
            "8158/8158 [==============================] - 25s 3ms/step - loss: 0.4381 - mae: 0.3831 - val_loss: 0.3727 - val_mae: 0.3531 - lr: 0.0010\n"
          ]
        },
        {
          "output_type": "display_data",
          "data": {
            "text/plain": [
              "VBox(children=(Label(value='1.016 MB of 1.016 MB uploaded (0.066 MB deduped)\\r'), FloatProgress(value=1.0, max…"
            ],
            "application/vnd.jupyter.widget-view+json": {
              "version_major": 2,
              "version_minor": 0,
              "model_id": "78d3d30028f74c3390f400045dbe9690"
            }
          },
          "metadata": {}
        },
        {
          "output_type": "display_data",
          "data": {
            "text/plain": [
              "<IPython.core.display.HTML object>"
            ],
            "text/html": [
              "W&B sync reduced upload amount by 6.4%             "
            ]
          },
          "metadata": {}
        },
        {
          "output_type": "display_data",
          "data": {
            "text/plain": [
              "<IPython.core.display.HTML object>"
            ],
            "text/html": [
              "<style>\n",
              "    table.wandb td:nth-child(1) { padding: 0 10px; text-align: left ; width: auto;} td:nth-child(2) {text-align: left ; width: 100%}\n",
              "    .wandb-row { display: flex; flex-direction: row; flex-wrap: wrap; justify-content: flex-start; width: 100% }\n",
              "    .wandb-col { display: flex; flex-direction: column; flex-basis: 100%; flex: 1; padding: 10px; }\n",
              "    </style>\n",
              "<div class=\"wandb-row\"><div class=\"wandb-col\"><h3>Run history:</h3><br/><table class=\"wandb\"><tr><td>epoch</td><td>▁▂▂▃▄▄▅▅▆▇▇█</td></tr><tr><td>loss</td><td>█▃▂▂▂▁▁▁▁▁▁▁</td></tr><tr><td>lr</td><td>▁▁▁▁▁▁▁▁▁▁▁▁</td></tr><tr><td>mae</td><td>█▄▃▂▂▂▁▁▁▁▁▁</td></tr><tr><td>val_loss</td><td>█▅▄▄▃▂▂▁▁▂▂▂</td></tr><tr><td>val_mae</td><td>█▅▄▄▃▂▂▁▁▂▁▁</td></tr></table><br/></div><div class=\"wandb-col\"><h3>Run summary:</h3><br/><table class=\"wandb\"><tr><td>best_epoch</td><td>8</td></tr><tr><td>best_val_loss</td><td>0.35671</td></tr><tr><td>epoch</td><td>11</td></tr><tr><td>loss</td><td>0.43813</td></tr><tr><td>lr</td><td>0.001</td></tr><tr><td>mae</td><td>0.38314</td></tr><tr><td>val_loss</td><td>0.37268</td></tr><tr><td>val_mae</td><td>0.35312</td></tr></table><br/></div></div>"
            ]
          },
          "metadata": {}
        },
        {
          "output_type": "display_data",
          "data": {
            "text/plain": [
              "<IPython.core.display.HTML object>"
            ],
            "text/html": [
              " View run <strong style=\"color:#cdcd00\">fanciful-sweep-9</strong> at: <a href='https://wandb.ai/marian-ai/obligatorio_dl/runs/s60h0uhc' target=\"_blank\">https://wandb.ai/marian-ai/obligatorio_dl/runs/s60h0uhc</a><br/>Synced 5 W&B file(s), 1 media file(s), 45 artifact file(s) and 1 other file(s)"
            ]
          },
          "metadata": {}
        },
        {
          "output_type": "display_data",
          "data": {
            "text/plain": [
              "<IPython.core.display.HTML object>"
            ],
            "text/html": [
              "Find logs at: <code>./wandb/run-20231126_190907-s60h0uhc/logs</code>"
            ]
          },
          "metadata": {}
        },
        {
          "output_type": "stream",
          "name": "stderr",
          "text": [
            "\u001b[34m\u001b[1mwandb\u001b[0m: Agent Starting Run: nrvmh36k with config:\n",
            "\u001b[34m\u001b[1mwandb\u001b[0m: \tbatch_size: 64\n",
            "\u001b[34m\u001b[1mwandb\u001b[0m: \tdropout_rate: 0.3\n",
            "\u001b[34m\u001b[1mwandb\u001b[0m: \tepochs: 10\n",
            "\u001b[34m\u001b[1mwandb\u001b[0m: \tfeature_combination: numerical\n",
            "\u001b[34m\u001b[1mwandb\u001b[0m: \tl2_regularization: 0.0001\n"
          ]
        },
        {
          "output_type": "display_data",
          "data": {
            "text/plain": [
              "<IPython.core.display.HTML object>"
            ],
            "text/html": [
              "Tracking run with wandb version 0.16.0"
            ]
          },
          "metadata": {}
        },
        {
          "output_type": "display_data",
          "data": {
            "text/plain": [
              "<IPython.core.display.HTML object>"
            ],
            "text/html": [
              "Run data is saved locally in <code>/content/wandb/run-20231126_191429-nrvmh36k</code>"
            ]
          },
          "metadata": {}
        },
        {
          "output_type": "display_data",
          "data": {
            "text/plain": [
              "<IPython.core.display.HTML object>"
            ],
            "text/html": [
              "Syncing run <strong><a href='https://wandb.ai/marian-ai/obligatorio_dl/runs/nrvmh36k' target=\"_blank\">divine-sweep-10</a></strong> to <a href='https://wandb.ai/marian-ai/obligatorio_dl' target=\"_blank\">Weights & Biases</a> (<a href='https://wandb.me/run' target=\"_blank\">docs</a>)<br/>Sweep page: <a href='https://wandb.ai/marian-ai/obligatorio_dl/sweeps/a47ag95a' target=\"_blank\">https://wandb.ai/marian-ai/obligatorio_dl/sweeps/a47ag95a</a>"
            ]
          },
          "metadata": {}
        },
        {
          "output_type": "display_data",
          "data": {
            "text/plain": [
              "<IPython.core.display.HTML object>"
            ],
            "text/html": [
              " View project at <a href='https://wandb.ai/marian-ai/obligatorio_dl' target=\"_blank\">https://wandb.ai/marian-ai/obligatorio_dl</a>"
            ]
          },
          "metadata": {}
        },
        {
          "output_type": "display_data",
          "data": {
            "text/plain": [
              "<IPython.core.display.HTML object>"
            ],
            "text/html": [
              " View sweep at <a href='https://wandb.ai/marian-ai/obligatorio_dl/sweeps/a47ag95a' target=\"_blank\">https://wandb.ai/marian-ai/obligatorio_dl/sweeps/a47ag95a</a>"
            ]
          },
          "metadata": {}
        },
        {
          "output_type": "display_data",
          "data": {
            "text/plain": [
              "<IPython.core.display.HTML object>"
            ],
            "text/html": [
              " View run at <a href='https://wandb.ai/marian-ai/obligatorio_dl/runs/nrvmh36k' target=\"_blank\">https://wandb.ai/marian-ai/obligatorio_dl/runs/nrvmh36k</a>"
            ]
          },
          "metadata": {}
        },
        {
          "output_type": "stream",
          "name": "stdout",
          "text": [
            "Epoch 1/10\n",
            "8145/8158 [============================>.] - ETA: 0s - loss: 0.7238 - mae: 0.4913"
          ]
        },
        {
          "output_type": "stream",
          "name": "stderr",
          "text": [
            "/usr/local/lib/python3.10/dist-packages/keras/src/engine/training.py:3079: UserWarning: You are saving your model as an HDF5 file via `model.save()`. This file format is considered legacy. We recommend using instead the native Keras format, e.g. `model.save('my_model.keras')`.\n",
            "  saving_api.save_model(\n"
          ]
        },
        {
          "output_type": "stream",
          "name": "stdout",
          "text": [
            "INFO:tensorflow:Assets written to: /content/wandb/run-20231126_191429-nrvmh36k/files/model-best/assets\n"
          ]
        },
        {
          "output_type": "stream",
          "name": "stderr",
          "text": [
            "INFO:tensorflow:Assets written to: /content/wandb/run-20231126_191429-nrvmh36k/files/model-best/assets\n",
            "\u001b[34m\u001b[1mwandb\u001b[0m: Adding directory to artifact (/content/wandb/run-20231126_191429-nrvmh36k/files/model-best)... Done. 0.0s\n"
          ]
        },
        {
          "output_type": "stream",
          "name": "stdout",
          "text": [
            "\b\b\b\b\b\b\b\b\b\b\b\b\b\b\b\b\b\b\b\b\b\b\b\b\b\b\b\b\b\b\b\b\b\b\b\b\b\b\b\b\b\b\b\b\b\b\b\b\b\b\b\b\b\b\b\b\b\b\b\b\b\b\b\b\b\b\b\b\b\b\b\b\b\b\b\b\b\b\b\b\b\r8158/8158 [==============================] - 26s 3ms/step - loss: 0.7235 - mae: 0.4912 - val_loss: 0.5207 - val_mae: 0.4101 - lr: 0.0010\n",
            "Epoch 2/10\n",
            "8152/8158 [============================>.] - ETA: 0s - loss: 0.5537 - mae: 0.4333"
          ]
        },
        {
          "output_type": "stream",
          "name": "stderr",
          "text": [
            "/usr/local/lib/python3.10/dist-packages/keras/src/engine/training.py:3079: UserWarning: You are saving your model as an HDF5 file via `model.save()`. This file format is considered legacy. We recommend using instead the native Keras format, e.g. `model.save('my_model.keras')`.\n",
            "  saving_api.save_model(\n"
          ]
        },
        {
          "output_type": "stream",
          "name": "stdout",
          "text": [
            "INFO:tensorflow:Assets written to: /content/wandb/run-20231126_191429-nrvmh36k/files/model-best/assets\n"
          ]
        },
        {
          "output_type": "stream",
          "name": "stderr",
          "text": [
            "INFO:tensorflow:Assets written to: /content/wandb/run-20231126_191429-nrvmh36k/files/model-best/assets\n",
            "\u001b[34m\u001b[1mwandb\u001b[0m: Adding directory to artifact (/content/wandb/run-20231126_191429-nrvmh36k/files/model-best)... Done. 0.0s\n"
          ]
        },
        {
          "output_type": "stream",
          "name": "stdout",
          "text": [
            "\b\b\b\b\b\b\b\b\b\b\b\b\b\b\b\b\b\b\b\b\b\b\b\b\b\b\b\b\b\b\b\b\b\b\b\b\b\b\b\b\b\b\b\b\b\b\b\b\b\b\b\b\b\b\b\b\b\b\b\b\b\b\b\b\b\b\b\b\b\b\b\b\b\b\b\b\b\b\b\b\b\r8158/8158 [==============================] - 25s 3ms/step - loss: 0.5536 - mae: 0.4333 - val_loss: 0.4795 - val_mae: 0.3967 - lr: 0.0010\n",
            "Epoch 3/10\n",
            "8145/8158 [============================>.] - ETA: 0s - loss: 0.5088 - mae: 0.4179"
          ]
        },
        {
          "output_type": "stream",
          "name": "stderr",
          "text": [
            "/usr/local/lib/python3.10/dist-packages/keras/src/engine/training.py:3079: UserWarning: You are saving your model as an HDF5 file via `model.save()`. This file format is considered legacy. We recommend using instead the native Keras format, e.g. `model.save('my_model.keras')`.\n",
            "  saving_api.save_model(\n"
          ]
        },
        {
          "output_type": "stream",
          "name": "stdout",
          "text": [
            "INFO:tensorflow:Assets written to: /content/wandb/run-20231126_191429-nrvmh36k/files/model-best/assets\n"
          ]
        },
        {
          "output_type": "stream",
          "name": "stderr",
          "text": [
            "INFO:tensorflow:Assets written to: /content/wandb/run-20231126_191429-nrvmh36k/files/model-best/assets\n",
            "\u001b[34m\u001b[1mwandb\u001b[0m: Adding directory to artifact (/content/wandb/run-20231126_191429-nrvmh36k/files/model-best)... Done. 0.0s\n"
          ]
        },
        {
          "output_type": "stream",
          "name": "stdout",
          "text": [
            "\b\b\b\b\b\b\b\b\b\b\b\b\b\b\b\b\b\b\b\b\b\b\b\b\b\b\b\b\b\b\b\b\b\b\b\b\b\b\b\b\b\b\b\b\b\b\b\b\b\b\b\b\b\b\b\b\b\b\b\b\b\b\b\b\b\b\b\b\b\b\b\b\b\b\b\b\b\b\b\b\b\r8158/8158 [==============================] - 25s 3ms/step - loss: 0.5088 - mae: 0.4179 - val_loss: 0.4502 - val_mae: 0.3850 - lr: 0.0010\n",
            "Epoch 4/10\n",
            "8153/8158 [============================>.] - ETA: 0s - loss: 0.4850 - mae: 0.4097"
          ]
        },
        {
          "output_type": "stream",
          "name": "stderr",
          "text": [
            "/usr/local/lib/python3.10/dist-packages/keras/src/engine/training.py:3079: UserWarning: You are saving your model as an HDF5 file via `model.save()`. This file format is considered legacy. We recommend using instead the native Keras format, e.g. `model.save('my_model.keras')`.\n",
            "  saving_api.save_model(\n"
          ]
        },
        {
          "output_type": "stream",
          "name": "stdout",
          "text": [
            "INFO:tensorflow:Assets written to: /content/wandb/run-20231126_191429-nrvmh36k/files/model-best/assets\n"
          ]
        },
        {
          "output_type": "stream",
          "name": "stderr",
          "text": [
            "INFO:tensorflow:Assets written to: /content/wandb/run-20231126_191429-nrvmh36k/files/model-best/assets\n",
            "\u001b[34m\u001b[1mwandb\u001b[0m: Adding directory to artifact (/content/wandb/run-20231126_191429-nrvmh36k/files/model-best)... Done. 0.0s\n"
          ]
        },
        {
          "output_type": "stream",
          "name": "stdout",
          "text": [
            "\b\b\b\b\b\b\b\b\b\b\b\b\b\b\b\b\b\b\b\b\b\b\b\b\b\b\b\b\b\b\b\b\b\b\b\b\b\b\b\b\b\b\b\b\b\b\b\b\b\b\b\b\b\b\b\b\b\b\b\b\b\b\b\b\b\b\b\b\b\b\b\b\b\b\b\b\b\b\b\b\b\r8158/8158 [==============================] - 25s 3ms/step - loss: 0.4850 - mae: 0.4097 - val_loss: 0.4204 - val_mae: 0.3738 - lr: 0.0010\n",
            "Epoch 5/10\n",
            "8146/8158 [============================>.] - ETA: 0s - loss: 0.4690 - mae: 0.4036"
          ]
        },
        {
          "output_type": "stream",
          "name": "stderr",
          "text": [
            "/usr/local/lib/python3.10/dist-packages/keras/src/engine/training.py:3079: UserWarning: You are saving your model as an HDF5 file via `model.save()`. This file format is considered legacy. We recommend using instead the native Keras format, e.g. `model.save('my_model.keras')`.\n",
            "  saving_api.save_model(\n"
          ]
        },
        {
          "output_type": "stream",
          "name": "stdout",
          "text": [
            "INFO:tensorflow:Assets written to: /content/wandb/run-20231126_191429-nrvmh36k/files/model-best/assets\n"
          ]
        },
        {
          "output_type": "stream",
          "name": "stderr",
          "text": [
            "INFO:tensorflow:Assets written to: /content/wandb/run-20231126_191429-nrvmh36k/files/model-best/assets\n",
            "\u001b[34m\u001b[1mwandb\u001b[0m: Adding directory to artifact (/content/wandb/run-20231126_191429-nrvmh36k/files/model-best)... Done. 0.0s\n"
          ]
        },
        {
          "output_type": "stream",
          "name": "stdout",
          "text": [
            "\b\b\b\b\b\b\b\b\b\b\b\b\b\b\b\b\b\b\b\b\b\b\b\b\b\b\b\b\b\b\b\b\b\b\b\b\b\b\b\b\b\b\b\b\b\b\b\b\b\b\b\b\b\b\b\b\b\b\b\b\b\b\b\b\b\b\b\b\b\b\b\b\b\b\b\b\b\b\b\b\b\r8158/8158 [==============================] - 25s 3ms/step - loss: 0.4690 - mae: 0.4036 - val_loss: 0.4019 - val_mae: 0.3664 - lr: 0.0010\n",
            "Epoch 6/10\n",
            "8158/8158 [==============================] - 24s 3ms/step - loss: 0.4585 - mae: 0.3988 - val_loss: 0.4468 - val_mae: 0.3764 - lr: 0.0010\n",
            "Epoch 7/10\n",
            "8151/8158 [============================>.] - ETA: 0s - loss: 0.4493 - mae: 0.3942"
          ]
        },
        {
          "output_type": "stream",
          "name": "stderr",
          "text": [
            "/usr/local/lib/python3.10/dist-packages/keras/src/engine/training.py:3079: UserWarning: You are saving your model as an HDF5 file via `model.save()`. This file format is considered legacy. We recommend using instead the native Keras format, e.g. `model.save('my_model.keras')`.\n",
            "  saving_api.save_model(\n"
          ]
        },
        {
          "output_type": "stream",
          "name": "stdout",
          "text": [
            "INFO:tensorflow:Assets written to: /content/wandb/run-20231126_191429-nrvmh36k/files/model-best/assets\n"
          ]
        },
        {
          "output_type": "stream",
          "name": "stderr",
          "text": [
            "INFO:tensorflow:Assets written to: /content/wandb/run-20231126_191429-nrvmh36k/files/model-best/assets\n",
            "\u001b[34m\u001b[1mwandb\u001b[0m: Adding directory to artifact (/content/wandb/run-20231126_191429-nrvmh36k/files/model-best)... Done. 0.0s\n"
          ]
        },
        {
          "output_type": "stream",
          "name": "stdout",
          "text": [
            "\b\b\b\b\b\b\b\b\b\b\b\b\b\b\b\b\b\b\b\b\b\b\b\b\b\b\b\b\b\b\b\b\b\b\b\b\b\b\b\b\b\b\b\b\b\b\b\b\b\b\b\b\b\b\b\b\b\b\b\b\b\b\b\b\b\b\b\b\b\b\b\b\b\b\b\b\b\b\b\b\b\r8158/8158 [==============================] - 25s 3ms/step - loss: 0.4492 - mae: 0.3942 - val_loss: 0.3770 - val_mae: 0.3652 - lr: 0.0010\n",
            "Epoch 8/10\n",
            "8158/8158 [==============================] - 25s 3ms/step - loss: 0.4421 - mae: 0.3911 - val_loss: 0.3850 - val_mae: 0.3592 - lr: 0.0010\n",
            "Epoch 9/10\n",
            "8158/8158 [==============================] - 25s 3ms/step - loss: 0.4454 - mae: 0.3906 - val_loss: 0.3785 - val_mae: 0.3619 - lr: 0.0010\n",
            "Epoch 10/10\n",
            "8158/8158 [==============================] - 25s 3ms/step - loss: 0.4413 - mae: 0.3884 - val_loss: 0.3771 - val_mae: 0.3517 - lr: 0.0010\n"
          ]
        },
        {
          "output_type": "display_data",
          "data": {
            "text/plain": [
              "VBox(children=(Label(value='0.691 MB of 0.691 MB uploaded (0.042 MB deduped)\\r'), FloatProgress(value=1.0, max…"
            ],
            "application/vnd.jupyter.widget-view+json": {
              "version_major": 2,
              "version_minor": 0,
              "model_id": "79da092d723d4a70ad05fae365a4eca6"
            }
          },
          "metadata": {}
        },
        {
          "output_type": "display_data",
          "data": {
            "text/plain": [
              "<IPython.core.display.HTML object>"
            ],
            "text/html": [
              "W&B sync reduced upload amount by 5.9%             "
            ]
          },
          "metadata": {}
        },
        {
          "output_type": "display_data",
          "data": {
            "text/plain": [
              "<IPython.core.display.HTML object>"
            ],
            "text/html": [
              "<style>\n",
              "    table.wandb td:nth-child(1) { padding: 0 10px; text-align: left ; width: auto;} td:nth-child(2) {text-align: left ; width: 100%}\n",
              "    .wandb-row { display: flex; flex-direction: row; flex-wrap: wrap; justify-content: flex-start; width: 100% }\n",
              "    .wandb-col { display: flex; flex-direction: column; flex-basis: 100%; flex: 1; padding: 10px; }\n",
              "    </style>\n",
              "<div class=\"wandb-row\"><div class=\"wandb-col\"><h3>Run history:</h3><br/><table class=\"wandb\"><tr><td>epoch</td><td>▁▂▃▃▄▅▆▆▇█</td></tr><tr><td>loss</td><td>█▄▃▂▂▁▁▁▁▁</td></tr><tr><td>lr</td><td>▁▁▁▁▁▁▁▁▁▁</td></tr><tr><td>mae</td><td>█▄▃▂▂▂▁▁▁▁</td></tr><tr><td>val_loss</td><td>█▆▅▃▂▄▁▁▁▁</td></tr><tr><td>val_mae</td><td>█▆▅▄▃▄▃▂▂▁</td></tr></table><br/></div><div class=\"wandb-col\"><h3>Run summary:</h3><br/><table class=\"wandb\"><tr><td>best_epoch</td><td>6</td></tr><tr><td>best_val_loss</td><td>0.37699</td></tr><tr><td>epoch</td><td>9</td></tr><tr><td>loss</td><td>0.44133</td></tr><tr><td>lr</td><td>0.001</td></tr><tr><td>mae</td><td>0.3884</td></tr><tr><td>val_loss</td><td>0.37712</td></tr><tr><td>val_mae</td><td>0.35169</td></tr></table><br/></div></div>"
            ]
          },
          "metadata": {}
        },
        {
          "output_type": "display_data",
          "data": {
            "text/plain": [
              "<IPython.core.display.HTML object>"
            ],
            "text/html": [
              " View run <strong style=\"color:#cdcd00\">divine-sweep-10</strong> at: <a href='https://wandb.ai/marian-ai/obligatorio_dl/runs/nrvmh36k' target=\"_blank\">https://wandb.ai/marian-ai/obligatorio_dl/runs/nrvmh36k</a><br/>Synced 5 W&B file(s), 1 media file(s), 30 artifact file(s) and 1 other file(s)"
            ]
          },
          "metadata": {}
        },
        {
          "output_type": "display_data",
          "data": {
            "text/plain": [
              "<IPython.core.display.HTML object>"
            ],
            "text/html": [
              "Find logs at: <code>./wandb/run-20231126_191429-nrvmh36k/logs</code>"
            ]
          },
          "metadata": {}
        }
      ]
    },
    {
      "cell_type": "code",
      "execution_count": null,
      "metadata": {
        "id": "k4m9muWUKCeO"
      },
      "outputs": [],
      "source": [
        "model.save_weights(f'num_cat_and_trained_bert_{epochs}epochs.h5')\n"
      ]
    },
    {
      "cell_type": "code",
      "source": [],
      "metadata": {
        "id": "vM2spTD0QWFK"
      },
      "execution_count": null,
      "outputs": []
    },
    {
      "cell_type": "code",
      "execution_count": null,
      "metadata": {
        "id": "wACZkGCzJ3yj",
        "colab": {
          "base_uri": "https://localhost:8080/"
        },
        "outputId": "f131bbd6-3073-4473-9f48-c84c3eaf819c"
      },
      "outputs": [
        {
          "output_type": "stream",
          "name": "stdout",
          "text": [
            "Error in callback <bound method _WandbInit._resume_backend of <wandb.sdk.wandb_init._WandbInit object at 0x7e91c47c7850>> (for pre_run_cell):\n"
          ]
        }
      ],
      "source": [
        "import os\n",
        "\n",
        "# Your code here...\n",
        "\n",
        "# Command to crash the Colab runtime\n",
        "os._exit(0)"
      ]
    },
    {
      "cell_type": "markdown",
      "metadata": {
        "id": "dFQhfKDSGLht"
      },
      "source": [
        "### Test with kaggle (Num, Categorical and Text)"
      ]
    },
    {
      "cell_type": "code",
      "execution_count": 34,
      "metadata": {
        "id": "yo9zXexLQxdy"
      },
      "outputs": [],
      "source": [
        "# model.load_weights('/content/drive/MyDrive/Colab Notebooks/Datasets/num_cat_and_trained_bert_10epochs.h5')\n",
        "model.load_weights('/content/drive/MyDrive/Colab Notebooks/Datasets/model_weights_epoch_06.h5')"
      ]
    },
    {
      "cell_type": "code",
      "execution_count": 35,
      "metadata": {
        "id": "Dj9GNFKbGQWQ"
      },
      "outputs": [],
      "source": [
        "import cudf\n",
        "import cuml\n",
        "import tensorflow as tf\n",
        "import numpy as np\n",
        "import pandas as pd\n",
        "from cuml.preprocessing import StandardScaler, OneHotEncoder\n",
        "from sklearn.impute import SimpleImputer\n",
        "from sklearn.model_selection import train_test_split\n",
        "\n",
        "# Load the Kaggle test dataset\n",
        "file_path2 = './obligatorio_DL/private_data_to_predict.csv'\n",
        "kaggle_test = cudf.read_csv(file_path2)\n",
        "\n",
        "# Assuming your important text columns are already defined\n",
        "important_text_cols = ['Name', 'Summary', 'Description', 'Neighborhood Overview', 'Transit', 'Access', 'Interaction', 'House Rules']\n",
        "kaggle_test_text = kaggle_test[important_text_cols]\n",
        "\n",
        "# Apply cleaning and encoding to text data\n",
        "for col in important_text_cols:\n",
        "    # Assuming process_in_batches is your batch processing function\n",
        "    kaggle_test_text = process_in_batches(kaggle_test_text,col) #[col].astype(str)\n",
        "\n",
        "# Combine the cleaned text columns\n",
        "kaggle_test_text['combined_text'] = ''\n",
        "for col in important_text_cols:\n",
        "    kaggle_test_text['combined_text'] = kaggle_test_text['combined_text'] + kaggle_test_text[col] + ' '\n",
        "    kaggle_test_text['combined_text'] = kaggle_test_text['combined_text'].str.strip()\n",
        "# Encode the combined text\n",
        "kaggle_input_ids, kaggle_attention_masks = batch_encode(kaggle_test_text['combined_text'])\n",
        "\n",
        "# X_kaggle_numerical = kaggle_test[numerical_cols]\n",
        "# X_kaggle_categorical = kaggle_test[categorical_cols]\n",
        "\n",
        "# # Apply transformations\n",
        "# X_kaggle_numerical_transformed = scaler.transform(X_kaggle_numerical)  # Assuming 'scaler' is your StandardScaler\n",
        "# X_kaggle_categorical_transformed = encoder.transform(X_kaggle_categorical)  # Assuming 'encoder' is your OneHotEncoder\n",
        "\n",
        "# # Convert to TensorFlow tensors\n",
        "# X_kaggle_numerical_tf = tf.convert_to_tensor(X_kaggle_numerical_transformed)\n",
        "# X_kaggle_categorical_tf = tf.convert_to_tensor(X_kaggle_categorical_transformed)\n",
        "\n",
        "\n",
        "\n"
      ]
    },
    {
      "cell_type": "code",
      "execution_count": 36,
      "metadata": {
        "id": "j-7E__GkjFGy"
      },
      "outputs": [],
      "source": [
        "# Assuming kaggle_test is your DataFrame loaded with the test data for Kaggle\n",
        "\n",
        "# Preprocess Numerical Columns\n",
        "# Scale the numerical columns using the same scaler as for the training data\n",
        "kaggle_test_numerical = scaler.transform(kaggle_test[numerical_cols])\n",
        "kaggle_test_numerical = kaggle_test_numerical.fillna(kaggle_test_numerical.mean())\n",
        "kaggle_test_numerical_pd = kaggle_test_numerical.to_pandas()\n",
        "kaggle_test_numerical_tf = tf.convert_to_tensor(kaggle_test_numerical_pd.values, dtype=tf.float32)\n",
        "\n",
        "# Categorical\n",
        "kaggle_test_categorical = encoder.transform(kaggle_test[categorical_cols])\n",
        "kaggle_test_categorical_cupy = cp.asarray(kaggle_test_categorical.toarray())\n",
        "kaggle_test_categorical_np = kaggle_test_categorical_cupy.get()\n",
        "kaggle_test_categorical_tf = tf.convert_to_tensor(kaggle_test_categorical_np)\n",
        "\n",
        "# Now kaggle_test_numerical_tf and kaggle_test_categorical_tf are ready to be used in your model prediction\n"
      ]
    },
    {
      "cell_type": "code",
      "execution_count": 37,
      "metadata": {
        "colab": {
          "base_uri": "https://localhost:8080/"
        },
        "id": "f5ti1-IJjUG4",
        "outputId": "01d3a156-610f-4250-ba8e-07e286ce455c"
      },
      "outputs": [
        {
          "output_type": "stream",
          "name": "stdout",
          "text": [
            "5023/5023 [==============================] - 386s 77ms/step\n"
          ]
        }
      ],
      "source": [
        "# Make predictions\n",
        "predictions = model.predict({\n",
        "    'input_ids': kaggle_input_ids,\n",
        "    'attention_mask': kaggle_attention_masks,\n",
        "    'numerical_data': kaggle_test_numerical_tf,\n",
        "    'categorical_data': kaggle_test_categorical_tf\n",
        "})\n",
        "\n",
        "# Rescale predictions\n",
        "y_pred = price_scaler.inverse_transform(predictions)\n",
        "\n",
        "# Prepare output for submission\n",
        "test_ids = kaggle_test['id']\n",
        "output = np.hstack((test_ids.to_numpy().reshape(-1, 1), y_pred))\n",
        "submission_df = pd.DataFrame(output, columns=['id', 'expected'])\n",
        "submission_df['expected'] = submission_df['expected'].fillna(0)\n",
        "submission_df.to_csv(\"output_to_submit.csv\", index=False)"
      ]
    },
    {
      "cell_type": "markdown",
      "source": [
        "# Pipeline con Wandb"
      ],
      "metadata": {
        "id": "q-Q9hp7JnRoz"
      }
    },
    {
      "cell_type": "code",
      "source": [
        "def preprocess_data(data_type='numerical', df=df, numerical_cols=numerical_cols, categorical_cols=categorical_cols, text_cols=text_cols, important_text_cols=important_text_cols, unique_value_threshold=20, max_length=300):\n",
        "    # Select the columns based on data_type\n",
        "    if data_type == 'numerical':\n",
        "        df_selected = df[numerical_cols]\n",
        "    elif data_type == 'numerical_categorical':\n",
        "        df_selected = df[numerical_cols + categorical_cols]\n",
        "    else:  # 'all'\n",
        "        df_selected = df[numerical_cols + categorical_cols + text_cols]\n",
        "\n",
        "    # Apply your existing preprocessing steps here\n",
        "    # ...\n",
        "\n",
        "    return X_train, X_test, train_input_ids, test_input_ids, train_attention_masks, test_attention_masks, y_train, y_test\n"
      ],
      "metadata": {
        "id": "ZE1QjzKSnUWQ"
      },
      "execution_count": null,
      "outputs": []
    },
    {
      "cell_type": "code",
      "source": [
        "def build_model(data_type='numerical', num_layers=1, layer_size=32, dropout_rate=0.0, regularization='none', regularization_rate=0.0, optimizer='adam', learning_rate=0.001):\n",
        "    # Setup inputs based on data_type\n",
        "    inputs = []\n",
        "    concatenated_layers = []\n",
        "\n",
        "    if 'text' in data_type:\n",
        "        input_ids = tf.keras.layers.Input(shape=(max_length,), dtype=tf.int32, name='input_ids')\n",
        "        attention_mask = tf.keras.layers.Input(shape=(max_length,), dtype=tf.int32, name='attention_mask')\n",
        "        bert_output = bert_model([input_ids, attention_mask]).last_hidden_state[:, 0, :]\n",
        "        bert_dense = tf.keras.layers.Dense(layer_size, activation='relu')(bert_output)\n",
        "        inputs.extend([input_ids, attention_mask])\n",
        "        concatenated_layers.append(bert_dense)\n",
        "\n",
        "    if 'numerical' in data_type:\n",
        "        numerical_input = tf.keras.layers.Input(shape=(num_numerical_features,), name='numerical_data')\n",
        "        numerical_dense = tf.keras.layers.Dense(layer_size, activation='relu', kernel_regularizer=l2(regularization_rate))(numerical_input)\n",
        "        inputs.append(numerical_input)\n",
        "        concatenated_layers.append(numerical_dense)\n",
        "\n",
        "    if 'categorical' in data_type:\n",
        "        categorical_input = tf.keras.layers.Input(shape=(num_categorical_features,), name='categorical_data')\n",
        "        categorical_dense = tf.keras.layers.Dense(layer_size, activation='relu', kernel_regularizer=l2(regularization_rate))(categorical_input)\n",
        "        inputs.append(categorical_input)\n",
        "        concatenated_layers.append(categorical_dense)\n",
        "\n",
        "    concatenated = tf.keras.layers.concatenate(concatenated_layers)\n",
        "\n",
        "    # Add additional layers based on num_layers\n",
        "    for _ in range(num_layers - 1):\n",
        "        concatenated = tf.keras.layers.Dense(layer_size, activation='relu', kernel_regularizer=l2(regularization_rate))(concatenated)\n",
        "        concatenated = Dropout(dropout_rate)(concatenated)\n",
        "\n",
        "    output_layer = tf.keras.layers.Dense(1)(concatenated)\n",
        "\n",
        "    # Build model\n",
        "    model = tf.keras.Model(inputs=inputs, outputs=output_layer)\n",
        "\n",
        "    # Compile model with the given optimizer and learning rate\n",
        "    if optimizer == 'adam':\n",
        "        opt = tf.keras.optimizers.Adam(learning_rate=learning_rate)\n",
        "    elif optimizer == 'sgd':\n",
        "        opt = tf.keras.optimizers.SGD(learning_rate=learning_rate)\n",
        "    model.compile(optimizer=opt, loss='mean_squared_error', metrics=['mae'])\n",
        "\n",
        "    return model\n"
      ],
      "metadata": {
        "id": "1Aa4_BQknh9K"
      },
      "execution_count": null,
      "outputs": []
    },
    {
      "cell_type": "code",
      "source": [
        "def train():\n",
        "    with wandb.init() as run:\n",
        "        config = run.config\n",
        "\n",
        "        # Preprocess data\n",
        "        X_train, X_test, train_input_ids, test_input_ids, train_attention_masks, test_attention_masks, y_train, y_test = preprocess_data(data_type=config.data_type, ...)\n",
        "\n",
        "        # Build model\n",
        "        model = build_model(data_type=config.data_type, num_layers=config.num_layers, layer_size=config.layer_size, dropout_rate=config.dropout_rate, regularization=config.regularization, regularization_rate=config.regularization_rate, optimizer=config.optimizer, learning_rate=config.learning_rate)\n",
        "\n",
        "        # Fit the model\n",
        "        # ...\n"
      ],
      "metadata": {
        "id": "Jhdohl4hnj33"
      },
      "execution_count": null,
      "outputs": []
    },
    {
      "cell_type": "markdown",
      "source": [
        "# Text only model"
      ],
      "metadata": {
        "id": "CNgC_C5TnIxT"
      }
    },
    {
      "cell_type": "code",
      "execution_count": null,
      "metadata": {
        "colab": {
          "base_uri": "https://localhost:8080/",
          "height": 547
        },
        "id": "SLXFIBQmSywh",
        "outputId": "0589101f-0fdf-4873-b28d-2360324014ab"
      },
      "outputs": [
        {
          "output_type": "stream",
          "name": "stderr",
          "text": [
            "Some weights of the PyTorch model were not used when initializing the TF 2.0 model TFDistilBertModel: ['vocab_transform.weight', 'vocab_layer_norm.weight', 'vocab_transform.bias', 'vocab_projector.bias', 'vocab_layer_norm.bias']\n",
            "- This IS expected if you are initializing TFDistilBertModel from a PyTorch model trained on another task or with another architecture (e.g. initializing a TFBertForSequenceClassification model from a BertForPreTraining model).\n",
            "- This IS NOT expected if you are initializing TFDistilBertModel from a PyTorch model that you expect to be exactly identical (e.g. initializing a TFBertForSequenceClassification model from a BertForSequenceClassification model).\n",
            "All the weights of TFDistilBertModel were initialized from the PyTorch model.\n",
            "If your task is similar to the task the model of the checkpoint was trained on, you can already use TFDistilBertModel for predictions without further training.\n"
          ]
        },
        {
          "output_type": "stream",
          "name": "stdout",
          "text": [
            "Epoch 1/5\n",
            " 517/8158 [>.............................] - ETA: 29:39 - loss: 0.9974 - mean_absolute_error: 0.6353"
          ]
        },
        {
          "output_type": "error",
          "ename": "KeyboardInterrupt",
          "evalue": "ignored",
          "traceback": [
            "\u001b[0;31m---------------------------------------------------------------------------\u001b[0m",
            "\u001b[0;31mKeyboardInterrupt\u001b[0m                         Traceback (most recent call last)",
            "\u001b[0;32m<ipython-input-22-ef9ee985a1ce>\u001b[0m in \u001b[0;36m<cell line: 22>\u001b[0;34m()\u001b[0m\n\u001b[1;32m     20\u001b[0m \u001b[0mepochs\u001b[0m\u001b[0;34m=\u001b[0m\u001b[0;36m5\u001b[0m\u001b[0;34m\u001b[0m\u001b[0;34m\u001b[0m\u001b[0m\n\u001b[1;32m     21\u001b[0m \u001b[0;34m\u001b[0m\u001b[0m\n\u001b[0;32m---> 22\u001b[0;31m history = model.fit(\n\u001b[0m\u001b[1;32m     23\u001b[0m     \u001b[0mtrain_dataset\u001b[0m\u001b[0;34m,\u001b[0m\u001b[0;34m\u001b[0m\u001b[0;34m\u001b[0m\u001b[0m\n\u001b[1;32m     24\u001b[0m     \u001b[0mvalidation_data\u001b[0m\u001b[0;34m=\u001b[0m\u001b[0mtest_dataset\u001b[0m\u001b[0;34m,\u001b[0m\u001b[0;34m\u001b[0m\u001b[0;34m\u001b[0m\u001b[0m\n",
            "\u001b[0;32m/usr/local/lib/python3.10/dist-packages/keras/src/utils/traceback_utils.py\u001b[0m in \u001b[0;36merror_handler\u001b[0;34m(*args, **kwargs)\u001b[0m\n\u001b[1;32m     63\u001b[0m         \u001b[0mfiltered_tb\u001b[0m \u001b[0;34m=\u001b[0m \u001b[0;32mNone\u001b[0m\u001b[0;34m\u001b[0m\u001b[0;34m\u001b[0m\u001b[0m\n\u001b[1;32m     64\u001b[0m         \u001b[0;32mtry\u001b[0m\u001b[0;34m:\u001b[0m\u001b[0;34m\u001b[0m\u001b[0;34m\u001b[0m\u001b[0m\n\u001b[0;32m---> 65\u001b[0;31m             \u001b[0;32mreturn\u001b[0m \u001b[0mfn\u001b[0m\u001b[0;34m(\u001b[0m\u001b[0;34m*\u001b[0m\u001b[0margs\u001b[0m\u001b[0;34m,\u001b[0m \u001b[0;34m**\u001b[0m\u001b[0mkwargs\u001b[0m\u001b[0;34m)\u001b[0m\u001b[0;34m\u001b[0m\u001b[0;34m\u001b[0m\u001b[0m\n\u001b[0m\u001b[1;32m     66\u001b[0m         \u001b[0;32mexcept\u001b[0m \u001b[0mException\u001b[0m \u001b[0;32mas\u001b[0m \u001b[0me\u001b[0m\u001b[0;34m:\u001b[0m\u001b[0;34m\u001b[0m\u001b[0;34m\u001b[0m\u001b[0m\n\u001b[1;32m     67\u001b[0m             \u001b[0mfiltered_tb\u001b[0m \u001b[0;34m=\u001b[0m \u001b[0m_process_traceback_frames\u001b[0m\u001b[0;34m(\u001b[0m\u001b[0me\u001b[0m\u001b[0;34m.\u001b[0m\u001b[0m__traceback__\u001b[0m\u001b[0;34m)\u001b[0m\u001b[0;34m\u001b[0m\u001b[0;34m\u001b[0m\u001b[0m\n",
            "\u001b[0;32m/usr/local/lib/python3.10/dist-packages/keras/src/engine/training.py\u001b[0m in \u001b[0;36mfit\u001b[0;34m(self, x, y, batch_size, epochs, verbose, callbacks, validation_split, validation_data, shuffle, class_weight, sample_weight, initial_epoch, steps_per_epoch, validation_steps, validation_batch_size, validation_freq, max_queue_size, workers, use_multiprocessing)\u001b[0m\n\u001b[1;32m   1787\u001b[0m                             \u001b[0mlogs\u001b[0m \u001b[0;34m=\u001b[0m \u001b[0mtmp_logs\u001b[0m\u001b[0;34m\u001b[0m\u001b[0;34m\u001b[0m\u001b[0m\n\u001b[1;32m   1788\u001b[0m                             \u001b[0mend_step\u001b[0m \u001b[0;34m=\u001b[0m \u001b[0mstep\u001b[0m \u001b[0;34m+\u001b[0m \u001b[0mdata_handler\u001b[0m\u001b[0;34m.\u001b[0m\u001b[0mstep_increment\u001b[0m\u001b[0;34m\u001b[0m\u001b[0;34m\u001b[0m\u001b[0m\n\u001b[0;32m-> 1789\u001b[0;31m                             \u001b[0mcallbacks\u001b[0m\u001b[0;34m.\u001b[0m\u001b[0mon_train_batch_end\u001b[0m\u001b[0;34m(\u001b[0m\u001b[0mend_step\u001b[0m\u001b[0;34m,\u001b[0m \u001b[0mlogs\u001b[0m\u001b[0;34m)\u001b[0m\u001b[0;34m\u001b[0m\u001b[0;34m\u001b[0m\u001b[0m\n\u001b[0m\u001b[1;32m   1790\u001b[0m                             \u001b[0;32mif\u001b[0m \u001b[0mself\u001b[0m\u001b[0;34m.\u001b[0m\u001b[0mstop_training\u001b[0m\u001b[0;34m:\u001b[0m\u001b[0;34m\u001b[0m\u001b[0;34m\u001b[0m\u001b[0m\n\u001b[1;32m   1791\u001b[0m                                 \u001b[0;32mbreak\u001b[0m\u001b[0;34m\u001b[0m\u001b[0;34m\u001b[0m\u001b[0m\n",
            "\u001b[0;32m/usr/local/lib/python3.10/dist-packages/keras/src/callbacks.py\u001b[0m in \u001b[0;36mon_train_batch_end\u001b[0;34m(self, batch, logs)\u001b[0m\n\u001b[1;32m    473\u001b[0m         \"\"\"\n\u001b[1;32m    474\u001b[0m         \u001b[0;32mif\u001b[0m \u001b[0mself\u001b[0m\u001b[0;34m.\u001b[0m\u001b[0m_should_call_train_batch_hooks\u001b[0m\u001b[0;34m:\u001b[0m\u001b[0;34m\u001b[0m\u001b[0;34m\u001b[0m\u001b[0m\n\u001b[0;32m--> 475\u001b[0;31m             \u001b[0mself\u001b[0m\u001b[0;34m.\u001b[0m\u001b[0m_call_batch_hook\u001b[0m\u001b[0;34m(\u001b[0m\u001b[0mModeKeys\u001b[0m\u001b[0;34m.\u001b[0m\u001b[0mTRAIN\u001b[0m\u001b[0;34m,\u001b[0m \u001b[0;34m\"end\"\u001b[0m\u001b[0;34m,\u001b[0m \u001b[0mbatch\u001b[0m\u001b[0;34m,\u001b[0m \u001b[0mlogs\u001b[0m\u001b[0;34m=\u001b[0m\u001b[0mlogs\u001b[0m\u001b[0;34m)\u001b[0m\u001b[0;34m\u001b[0m\u001b[0;34m\u001b[0m\u001b[0m\n\u001b[0m\u001b[1;32m    476\u001b[0m \u001b[0;34m\u001b[0m\u001b[0m\n\u001b[1;32m    477\u001b[0m     \u001b[0;32mdef\u001b[0m \u001b[0mon_test_batch_begin\u001b[0m\u001b[0;34m(\u001b[0m\u001b[0mself\u001b[0m\u001b[0;34m,\u001b[0m \u001b[0mbatch\u001b[0m\u001b[0;34m,\u001b[0m \u001b[0mlogs\u001b[0m\u001b[0;34m=\u001b[0m\u001b[0;32mNone\u001b[0m\u001b[0;34m)\u001b[0m\u001b[0;34m:\u001b[0m\u001b[0;34m\u001b[0m\u001b[0;34m\u001b[0m\u001b[0m\n",
            "\u001b[0;32m/usr/local/lib/python3.10/dist-packages/keras/src/callbacks.py\u001b[0m in \u001b[0;36m_call_batch_hook\u001b[0;34m(self, mode, hook, batch, logs)\u001b[0m\n\u001b[1;32m    320\u001b[0m             \u001b[0mself\u001b[0m\u001b[0;34m.\u001b[0m\u001b[0m_call_batch_begin_hook\u001b[0m\u001b[0;34m(\u001b[0m\u001b[0mmode\u001b[0m\u001b[0;34m,\u001b[0m \u001b[0mbatch\u001b[0m\u001b[0;34m,\u001b[0m \u001b[0mlogs\u001b[0m\u001b[0;34m)\u001b[0m\u001b[0;34m\u001b[0m\u001b[0;34m\u001b[0m\u001b[0m\n\u001b[1;32m    321\u001b[0m         \u001b[0;32melif\u001b[0m \u001b[0mhook\u001b[0m \u001b[0;34m==\u001b[0m \u001b[0;34m\"end\"\u001b[0m\u001b[0;34m:\u001b[0m\u001b[0;34m\u001b[0m\u001b[0;34m\u001b[0m\u001b[0m\n\u001b[0;32m--> 322\u001b[0;31m             \u001b[0mself\u001b[0m\u001b[0;34m.\u001b[0m\u001b[0m_call_batch_end_hook\u001b[0m\u001b[0;34m(\u001b[0m\u001b[0mmode\u001b[0m\u001b[0;34m,\u001b[0m \u001b[0mbatch\u001b[0m\u001b[0;34m,\u001b[0m \u001b[0mlogs\u001b[0m\u001b[0;34m)\u001b[0m\u001b[0;34m\u001b[0m\u001b[0;34m\u001b[0m\u001b[0m\n\u001b[0m\u001b[1;32m    323\u001b[0m         \u001b[0;32melse\u001b[0m\u001b[0;34m:\u001b[0m\u001b[0;34m\u001b[0m\u001b[0;34m\u001b[0m\u001b[0m\n\u001b[1;32m    324\u001b[0m             raise ValueError(\n",
            "\u001b[0;32m/usr/local/lib/python3.10/dist-packages/keras/src/callbacks.py\u001b[0m in \u001b[0;36m_call_batch_end_hook\u001b[0;34m(self, mode, batch, logs)\u001b[0m\n\u001b[1;32m    343\u001b[0m             \u001b[0mself\u001b[0m\u001b[0;34m.\u001b[0m\u001b[0m_batch_times\u001b[0m\u001b[0;34m.\u001b[0m\u001b[0mappend\u001b[0m\u001b[0;34m(\u001b[0m\u001b[0mbatch_time\u001b[0m\u001b[0;34m)\u001b[0m\u001b[0;34m\u001b[0m\u001b[0;34m\u001b[0m\u001b[0m\n\u001b[1;32m    344\u001b[0m \u001b[0;34m\u001b[0m\u001b[0m\n\u001b[0;32m--> 345\u001b[0;31m         \u001b[0mself\u001b[0m\u001b[0;34m.\u001b[0m\u001b[0m_call_batch_hook_helper\u001b[0m\u001b[0;34m(\u001b[0m\u001b[0mhook_name\u001b[0m\u001b[0;34m,\u001b[0m \u001b[0mbatch\u001b[0m\u001b[0;34m,\u001b[0m \u001b[0mlogs\u001b[0m\u001b[0;34m)\u001b[0m\u001b[0;34m\u001b[0m\u001b[0;34m\u001b[0m\u001b[0m\n\u001b[0m\u001b[1;32m    346\u001b[0m \u001b[0;34m\u001b[0m\u001b[0m\n\u001b[1;32m    347\u001b[0m         \u001b[0;32mif\u001b[0m \u001b[0mlen\u001b[0m\u001b[0;34m(\u001b[0m\u001b[0mself\u001b[0m\u001b[0;34m.\u001b[0m\u001b[0m_batch_times\u001b[0m\u001b[0;34m)\u001b[0m \u001b[0;34m>=\u001b[0m \u001b[0mself\u001b[0m\u001b[0;34m.\u001b[0m\u001b[0m_num_batches_for_timing_check\u001b[0m\u001b[0;34m:\u001b[0m\u001b[0;34m\u001b[0m\u001b[0;34m\u001b[0m\u001b[0m\n",
            "\u001b[0;32m/usr/local/lib/python3.10/dist-packages/keras/src/callbacks.py\u001b[0m in \u001b[0;36m_call_batch_hook_helper\u001b[0;34m(self, hook_name, batch, logs)\u001b[0m\n\u001b[1;32m    391\u001b[0m         \u001b[0;32mfor\u001b[0m \u001b[0mcallback\u001b[0m \u001b[0;32min\u001b[0m \u001b[0mself\u001b[0m\u001b[0;34m.\u001b[0m\u001b[0mcallbacks\u001b[0m\u001b[0;34m:\u001b[0m\u001b[0;34m\u001b[0m\u001b[0;34m\u001b[0m\u001b[0m\n\u001b[1;32m    392\u001b[0m             \u001b[0mhook\u001b[0m \u001b[0;34m=\u001b[0m \u001b[0mgetattr\u001b[0m\u001b[0;34m(\u001b[0m\u001b[0mcallback\u001b[0m\u001b[0;34m,\u001b[0m \u001b[0mhook_name\u001b[0m\u001b[0;34m)\u001b[0m\u001b[0;34m\u001b[0m\u001b[0;34m\u001b[0m\u001b[0m\n\u001b[0;32m--> 393\u001b[0;31m             \u001b[0mhook\u001b[0m\u001b[0;34m(\u001b[0m\u001b[0mbatch\u001b[0m\u001b[0;34m,\u001b[0m \u001b[0mlogs\u001b[0m\u001b[0;34m)\u001b[0m\u001b[0;34m\u001b[0m\u001b[0;34m\u001b[0m\u001b[0m\n\u001b[0m\u001b[1;32m    394\u001b[0m \u001b[0;34m\u001b[0m\u001b[0m\n\u001b[1;32m    395\u001b[0m         \u001b[0;32mif\u001b[0m \u001b[0mself\u001b[0m\u001b[0;34m.\u001b[0m\u001b[0m_check_timing\u001b[0m\u001b[0;34m:\u001b[0m\u001b[0;34m\u001b[0m\u001b[0;34m\u001b[0m\u001b[0m\n",
            "\u001b[0;32m/usr/local/lib/python3.10/dist-packages/keras/src/callbacks.py\u001b[0m in \u001b[0;36mon_train_batch_end\u001b[0;34m(self, batch, logs)\u001b[0m\n\u001b[1;32m   1091\u001b[0m \u001b[0;34m\u001b[0m\u001b[0m\n\u001b[1;32m   1092\u001b[0m     \u001b[0;32mdef\u001b[0m \u001b[0mon_train_batch_end\u001b[0m\u001b[0;34m(\u001b[0m\u001b[0mself\u001b[0m\u001b[0;34m,\u001b[0m \u001b[0mbatch\u001b[0m\u001b[0;34m,\u001b[0m \u001b[0mlogs\u001b[0m\u001b[0;34m=\u001b[0m\u001b[0;32mNone\u001b[0m\u001b[0;34m)\u001b[0m\u001b[0;34m:\u001b[0m\u001b[0;34m\u001b[0m\u001b[0;34m\u001b[0m\u001b[0m\n\u001b[0;32m-> 1093\u001b[0;31m         \u001b[0mself\u001b[0m\u001b[0;34m.\u001b[0m\u001b[0m_batch_update_progbar\u001b[0m\u001b[0;34m(\u001b[0m\u001b[0mbatch\u001b[0m\u001b[0;34m,\u001b[0m \u001b[0mlogs\u001b[0m\u001b[0;34m)\u001b[0m\u001b[0;34m\u001b[0m\u001b[0;34m\u001b[0m\u001b[0m\n\u001b[0m\u001b[1;32m   1094\u001b[0m \u001b[0;34m\u001b[0m\u001b[0m\n\u001b[1;32m   1095\u001b[0m     \u001b[0;32mdef\u001b[0m \u001b[0mon_test_batch_end\u001b[0m\u001b[0;34m(\u001b[0m\u001b[0mself\u001b[0m\u001b[0;34m,\u001b[0m \u001b[0mbatch\u001b[0m\u001b[0;34m,\u001b[0m \u001b[0mlogs\u001b[0m\u001b[0;34m=\u001b[0m\u001b[0;32mNone\u001b[0m\u001b[0;34m)\u001b[0m\u001b[0;34m:\u001b[0m\u001b[0;34m\u001b[0m\u001b[0;34m\u001b[0m\u001b[0m\n",
            "\u001b[0;32m/usr/local/lib/python3.10/dist-packages/keras/src/callbacks.py\u001b[0m in \u001b[0;36m_batch_update_progbar\u001b[0;34m(self, batch, logs)\u001b[0m\n\u001b[1;32m   1167\u001b[0m         \u001b[0;32mif\u001b[0m \u001b[0mself\u001b[0m\u001b[0;34m.\u001b[0m\u001b[0mverbose\u001b[0m \u001b[0;34m==\u001b[0m \u001b[0;36m1\u001b[0m\u001b[0;34m:\u001b[0m\u001b[0;34m\u001b[0m\u001b[0;34m\u001b[0m\u001b[0m\n\u001b[1;32m   1168\u001b[0m             \u001b[0;31m# Only block async when verbose = 1.\u001b[0m\u001b[0;34m\u001b[0m\u001b[0;34m\u001b[0m\u001b[0m\n\u001b[0;32m-> 1169\u001b[0;31m             \u001b[0mlogs\u001b[0m \u001b[0;34m=\u001b[0m \u001b[0mtf_utils\u001b[0m\u001b[0;34m.\u001b[0m\u001b[0msync_to_numpy_or_python_type\u001b[0m\u001b[0;34m(\u001b[0m\u001b[0mlogs\u001b[0m\u001b[0;34m)\u001b[0m\u001b[0;34m\u001b[0m\u001b[0;34m\u001b[0m\u001b[0m\n\u001b[0m\u001b[1;32m   1170\u001b[0m             \u001b[0mself\u001b[0m\u001b[0;34m.\u001b[0m\u001b[0mprogbar\u001b[0m\u001b[0;34m.\u001b[0m\u001b[0mupdate\u001b[0m\u001b[0;34m(\u001b[0m\u001b[0mself\u001b[0m\u001b[0;34m.\u001b[0m\u001b[0mseen\u001b[0m\u001b[0;34m,\u001b[0m \u001b[0mlist\u001b[0m\u001b[0;34m(\u001b[0m\u001b[0mlogs\u001b[0m\u001b[0;34m.\u001b[0m\u001b[0mitems\u001b[0m\u001b[0;34m(\u001b[0m\u001b[0;34m)\u001b[0m\u001b[0;34m)\u001b[0m\u001b[0;34m,\u001b[0m \u001b[0mfinalize\u001b[0m\u001b[0;34m=\u001b[0m\u001b[0;32mFalse\u001b[0m\u001b[0;34m)\u001b[0m\u001b[0;34m\u001b[0m\u001b[0;34m\u001b[0m\u001b[0m\n\u001b[1;32m   1171\u001b[0m \u001b[0;34m\u001b[0m\u001b[0m\n",
            "\u001b[0;32m/usr/local/lib/python3.10/dist-packages/keras/src/utils/tf_utils.py\u001b[0m in \u001b[0;36msync_to_numpy_or_python_type\u001b[0;34m(tensors)\u001b[0m\n\u001b[1;32m    692\u001b[0m         \u001b[0;32mreturn\u001b[0m \u001b[0mt\u001b[0m\u001b[0;34m.\u001b[0m\u001b[0mitem\u001b[0m\u001b[0;34m(\u001b[0m\u001b[0;34m)\u001b[0m \u001b[0;32mif\u001b[0m \u001b[0mnp\u001b[0m\u001b[0;34m.\u001b[0m\u001b[0mndim\u001b[0m\u001b[0;34m(\u001b[0m\u001b[0mt\u001b[0m\u001b[0;34m)\u001b[0m \u001b[0;34m==\u001b[0m \u001b[0;36m0\u001b[0m \u001b[0;32melse\u001b[0m \u001b[0mt\u001b[0m\u001b[0;34m\u001b[0m\u001b[0;34m\u001b[0m\u001b[0m\n\u001b[1;32m    693\u001b[0m \u001b[0;34m\u001b[0m\u001b[0m\n\u001b[0;32m--> 694\u001b[0;31m     \u001b[0;32mreturn\u001b[0m \u001b[0mtf\u001b[0m\u001b[0;34m.\u001b[0m\u001b[0mnest\u001b[0m\u001b[0;34m.\u001b[0m\u001b[0mmap_structure\u001b[0m\u001b[0;34m(\u001b[0m\u001b[0m_to_single_numpy_or_python_type\u001b[0m\u001b[0;34m,\u001b[0m \u001b[0mtensors\u001b[0m\u001b[0;34m)\u001b[0m\u001b[0;34m\u001b[0m\u001b[0;34m\u001b[0m\u001b[0m\n\u001b[0m\u001b[1;32m    695\u001b[0m \u001b[0;34m\u001b[0m\u001b[0m\n\u001b[1;32m    696\u001b[0m \u001b[0;34m\u001b[0m\u001b[0m\n",
            "\u001b[0;32m/usr/local/lib/python3.10/dist-packages/tensorflow/python/util/nest.py\u001b[0m in \u001b[0;36mmap_structure\u001b[0;34m(func, *structure, **kwargs)\u001b[0m\n\u001b[1;32m    627\u001b[0m     \u001b[0mValueError\u001b[0m\u001b[0;34m:\u001b[0m \u001b[0mIf\u001b[0m \u001b[0mwrong\u001b[0m \u001b[0mkeyword\u001b[0m \u001b[0marguments\u001b[0m \u001b[0mare\u001b[0m \u001b[0mprovided\u001b[0m\u001b[0;34m.\u001b[0m\u001b[0;34m\u001b[0m\u001b[0;34m\u001b[0m\u001b[0m\n\u001b[1;32m    628\u001b[0m   \"\"\"\n\u001b[0;32m--> 629\u001b[0;31m   return nest_util.map_structure(\n\u001b[0m\u001b[1;32m    630\u001b[0m       \u001b[0mnest_util\u001b[0m\u001b[0;34m.\u001b[0m\u001b[0mModality\u001b[0m\u001b[0;34m.\u001b[0m\u001b[0mCORE\u001b[0m\u001b[0;34m,\u001b[0m \u001b[0mfunc\u001b[0m\u001b[0;34m,\u001b[0m \u001b[0;34m*\u001b[0m\u001b[0mstructure\u001b[0m\u001b[0;34m,\u001b[0m \u001b[0;34m**\u001b[0m\u001b[0mkwargs\u001b[0m\u001b[0;34m\u001b[0m\u001b[0;34m\u001b[0m\u001b[0m\n\u001b[1;32m    631\u001b[0m   )\n",
            "\u001b[0;32m/usr/local/lib/python3.10/dist-packages/tensorflow/python/util/nest_util.py\u001b[0m in \u001b[0;36mmap_structure\u001b[0;34m(modality, func, *structure, **kwargs)\u001b[0m\n\u001b[1;32m   1166\u001b[0m   \"\"\"\n\u001b[1;32m   1167\u001b[0m   \u001b[0;32mif\u001b[0m \u001b[0mmodality\u001b[0m \u001b[0;34m==\u001b[0m \u001b[0mModality\u001b[0m\u001b[0;34m.\u001b[0m\u001b[0mCORE\u001b[0m\u001b[0;34m:\u001b[0m\u001b[0;34m\u001b[0m\u001b[0;34m\u001b[0m\u001b[0m\n\u001b[0;32m-> 1168\u001b[0;31m     \u001b[0;32mreturn\u001b[0m \u001b[0m_tf_core_map_structure\u001b[0m\u001b[0;34m(\u001b[0m\u001b[0mfunc\u001b[0m\u001b[0;34m,\u001b[0m \u001b[0;34m*\u001b[0m\u001b[0mstructure\u001b[0m\u001b[0;34m,\u001b[0m \u001b[0;34m**\u001b[0m\u001b[0mkwargs\u001b[0m\u001b[0;34m)\u001b[0m\u001b[0;34m\u001b[0m\u001b[0;34m\u001b[0m\u001b[0m\n\u001b[0m\u001b[1;32m   1169\u001b[0m   \u001b[0;32melif\u001b[0m \u001b[0mmodality\u001b[0m \u001b[0;34m==\u001b[0m \u001b[0mModality\u001b[0m\u001b[0;34m.\u001b[0m\u001b[0mDATA\u001b[0m\u001b[0;34m:\u001b[0m\u001b[0;34m\u001b[0m\u001b[0;34m\u001b[0m\u001b[0m\n\u001b[1;32m   1170\u001b[0m     \u001b[0;32mreturn\u001b[0m \u001b[0m_tf_data_map_structure\u001b[0m\u001b[0;34m(\u001b[0m\u001b[0mfunc\u001b[0m\u001b[0;34m,\u001b[0m \u001b[0;34m*\u001b[0m\u001b[0mstructure\u001b[0m\u001b[0;34m,\u001b[0m \u001b[0;34m**\u001b[0m\u001b[0mkwargs\u001b[0m\u001b[0;34m)\u001b[0m\u001b[0;34m\u001b[0m\u001b[0;34m\u001b[0m\u001b[0m\n",
            "\u001b[0;32m/usr/local/lib/python3.10/dist-packages/tensorflow/python/util/nest_util.py\u001b[0m in \u001b[0;36m_tf_core_map_structure\u001b[0;34m(func, *structure, **kwargs)\u001b[0m\n\u001b[1;32m   1206\u001b[0m   return _tf_core_pack_sequence_as(\n\u001b[1;32m   1207\u001b[0m       \u001b[0mstructure\u001b[0m\u001b[0;34m[\u001b[0m\u001b[0;36m0\u001b[0m\u001b[0;34m]\u001b[0m\u001b[0;34m,\u001b[0m\u001b[0;34m\u001b[0m\u001b[0;34m\u001b[0m\u001b[0m\n\u001b[0;32m-> 1208\u001b[0;31m       \u001b[0;34m[\u001b[0m\u001b[0mfunc\u001b[0m\u001b[0;34m(\u001b[0m\u001b[0;34m*\u001b[0m\u001b[0mx\u001b[0m\u001b[0;34m)\u001b[0m \u001b[0;32mfor\u001b[0m \u001b[0mx\u001b[0m \u001b[0;32min\u001b[0m \u001b[0mentries\u001b[0m\u001b[0;34m]\u001b[0m\u001b[0;34m,\u001b[0m\u001b[0;34m\u001b[0m\u001b[0;34m\u001b[0m\u001b[0m\n\u001b[0m\u001b[1;32m   1209\u001b[0m       \u001b[0mexpand_composites\u001b[0m\u001b[0;34m=\u001b[0m\u001b[0mexpand_composites\u001b[0m\u001b[0;34m,\u001b[0m\u001b[0;34m\u001b[0m\u001b[0;34m\u001b[0m\u001b[0m\n\u001b[1;32m   1210\u001b[0m   )\n",
            "\u001b[0;32m/usr/local/lib/python3.10/dist-packages/tensorflow/python/util/nest_util.py\u001b[0m in \u001b[0;36m<listcomp>\u001b[0;34m(.0)\u001b[0m\n\u001b[1;32m   1206\u001b[0m   return _tf_core_pack_sequence_as(\n\u001b[1;32m   1207\u001b[0m       \u001b[0mstructure\u001b[0m\u001b[0;34m[\u001b[0m\u001b[0;36m0\u001b[0m\u001b[0;34m]\u001b[0m\u001b[0;34m,\u001b[0m\u001b[0;34m\u001b[0m\u001b[0;34m\u001b[0m\u001b[0m\n\u001b[0;32m-> 1208\u001b[0;31m       \u001b[0;34m[\u001b[0m\u001b[0mfunc\u001b[0m\u001b[0;34m(\u001b[0m\u001b[0;34m*\u001b[0m\u001b[0mx\u001b[0m\u001b[0;34m)\u001b[0m \u001b[0;32mfor\u001b[0m \u001b[0mx\u001b[0m \u001b[0;32min\u001b[0m \u001b[0mentries\u001b[0m\u001b[0;34m]\u001b[0m\u001b[0;34m,\u001b[0m\u001b[0;34m\u001b[0m\u001b[0;34m\u001b[0m\u001b[0m\n\u001b[0m\u001b[1;32m   1209\u001b[0m       \u001b[0mexpand_composites\u001b[0m\u001b[0;34m=\u001b[0m\u001b[0mexpand_composites\u001b[0m\u001b[0;34m,\u001b[0m\u001b[0;34m\u001b[0m\u001b[0;34m\u001b[0m\u001b[0m\n\u001b[1;32m   1210\u001b[0m   )\n",
            "\u001b[0;32m/usr/local/lib/python3.10/dist-packages/keras/src/utils/tf_utils.py\u001b[0m in \u001b[0;36m_to_single_numpy_or_python_type\u001b[0;34m(t)\u001b[0m\n\u001b[1;32m    685\u001b[0m         \u001b[0;31m# Don't turn ragged or sparse tensors to NumPy.\u001b[0m\u001b[0;34m\u001b[0m\u001b[0;34m\u001b[0m\u001b[0m\n\u001b[1;32m    686\u001b[0m         \u001b[0;32mif\u001b[0m \u001b[0misinstance\u001b[0m\u001b[0;34m(\u001b[0m\u001b[0mt\u001b[0m\u001b[0;34m,\u001b[0m \u001b[0mtf\u001b[0m\u001b[0;34m.\u001b[0m\u001b[0mTensor\u001b[0m\u001b[0;34m)\u001b[0m\u001b[0;34m:\u001b[0m\u001b[0;34m\u001b[0m\u001b[0;34m\u001b[0m\u001b[0m\n\u001b[0;32m--> 687\u001b[0;31m             \u001b[0mt\u001b[0m \u001b[0;34m=\u001b[0m \u001b[0mt\u001b[0m\u001b[0;34m.\u001b[0m\u001b[0mnumpy\u001b[0m\u001b[0;34m(\u001b[0m\u001b[0;34m)\u001b[0m\u001b[0;34m\u001b[0m\u001b[0;34m\u001b[0m\u001b[0m\n\u001b[0m\u001b[1;32m    688\u001b[0m         \u001b[0;31m# Strings, ragged and sparse tensors don't have .item(). Return them\u001b[0m\u001b[0;34m\u001b[0m\u001b[0;34m\u001b[0m\u001b[0m\n\u001b[1;32m    689\u001b[0m         \u001b[0;31m# as-is.\u001b[0m\u001b[0;34m\u001b[0m\u001b[0;34m\u001b[0m\u001b[0m\n",
            "\u001b[0;32m/usr/local/lib/python3.10/dist-packages/tensorflow/python/framework/ops.py\u001b[0m in \u001b[0;36mnumpy\u001b[0;34m(self)\u001b[0m\n\u001b[1;32m    394\u001b[0m     \"\"\"\n\u001b[1;32m    395\u001b[0m     \u001b[0;31m# TODO(slebedev): Consider avoiding a copy for non-CPU or remote tensors.\u001b[0m\u001b[0;34m\u001b[0m\u001b[0;34m\u001b[0m\u001b[0m\n\u001b[0;32m--> 396\u001b[0;31m     \u001b[0mmaybe_arr\u001b[0m \u001b[0;34m=\u001b[0m \u001b[0mself\u001b[0m\u001b[0;34m.\u001b[0m\u001b[0m_numpy\u001b[0m\u001b[0;34m(\u001b[0m\u001b[0;34m)\u001b[0m  \u001b[0;31m# pylint: disable=protected-access\u001b[0m\u001b[0;34m\u001b[0m\u001b[0;34m\u001b[0m\u001b[0m\n\u001b[0m\u001b[1;32m    397\u001b[0m     \u001b[0;32mreturn\u001b[0m \u001b[0mmaybe_arr\u001b[0m\u001b[0;34m.\u001b[0m\u001b[0mcopy\u001b[0m\u001b[0;34m(\u001b[0m\u001b[0;34m)\u001b[0m \u001b[0;32mif\u001b[0m \u001b[0misinstance\u001b[0m\u001b[0;34m(\u001b[0m\u001b[0mmaybe_arr\u001b[0m\u001b[0;34m,\u001b[0m \u001b[0mnp\u001b[0m\u001b[0;34m.\u001b[0m\u001b[0mndarray\u001b[0m\u001b[0;34m)\u001b[0m \u001b[0;32melse\u001b[0m \u001b[0mmaybe_arr\u001b[0m\u001b[0;34m\u001b[0m\u001b[0;34m\u001b[0m\u001b[0m\n\u001b[1;32m    398\u001b[0m \u001b[0;34m\u001b[0m\u001b[0m\n",
            "\u001b[0;32m/usr/local/lib/python3.10/dist-packages/tensorflow/python/framework/ops.py\u001b[0m in \u001b[0;36m_numpy\u001b[0;34m(self)\u001b[0m\n\u001b[1;32m    360\u001b[0m   \u001b[0;32mdef\u001b[0m \u001b[0m_numpy\u001b[0m\u001b[0;34m(\u001b[0m\u001b[0mself\u001b[0m\u001b[0;34m)\u001b[0m\u001b[0;34m:\u001b[0m\u001b[0;34m\u001b[0m\u001b[0;34m\u001b[0m\u001b[0m\n\u001b[1;32m    361\u001b[0m     \u001b[0;32mtry\u001b[0m\u001b[0;34m:\u001b[0m\u001b[0;34m\u001b[0m\u001b[0;34m\u001b[0m\u001b[0m\n\u001b[0;32m--> 362\u001b[0;31m       \u001b[0;32mreturn\u001b[0m \u001b[0mself\u001b[0m\u001b[0;34m.\u001b[0m\u001b[0m_numpy_internal\u001b[0m\u001b[0;34m(\u001b[0m\u001b[0;34m)\u001b[0m\u001b[0;34m\u001b[0m\u001b[0;34m\u001b[0m\u001b[0m\n\u001b[0m\u001b[1;32m    363\u001b[0m     \u001b[0;32mexcept\u001b[0m \u001b[0mcore\u001b[0m\u001b[0;34m.\u001b[0m\u001b[0m_NotOkStatusException\u001b[0m \u001b[0;32mas\u001b[0m \u001b[0me\u001b[0m\u001b[0;34m:\u001b[0m  \u001b[0;31m# pylint: disable=protected-access\u001b[0m\u001b[0;34m\u001b[0m\u001b[0;34m\u001b[0m\u001b[0m\n\u001b[1;32m    364\u001b[0m       \u001b[0;32mraise\u001b[0m \u001b[0mcore\u001b[0m\u001b[0;34m.\u001b[0m\u001b[0m_status_to_exception\u001b[0m\u001b[0;34m(\u001b[0m\u001b[0me\u001b[0m\u001b[0;34m)\u001b[0m \u001b[0;32mfrom\u001b[0m \u001b[0;32mNone\u001b[0m  \u001b[0;31m# pylint: disable=protected-access\u001b[0m\u001b[0;34m\u001b[0m\u001b[0;34m\u001b[0m\u001b[0m\n",
            "\u001b[0;31mKeyboardInterrupt\u001b[0m: "
          ]
        }
      ],
      "source": [
        "# Define the model\n",
        "bert_model = TFDistilBertModel.from_pretrained('distilbert-base-multilingual-cased')\n",
        "\n",
        "def build_model():\n",
        "    input_ids = tf.keras.layers.Input(shape=(max_length,), dtype=tf.int32, name='input_ids')\n",
        "    attention_mask = tf.keras.layers.Input(shape=(max_length,), dtype=tf.int32, name='attention_mask')\n",
        "\n",
        "    bert_output = bert_model([input_ids, attention_mask])\n",
        "    cls_token_output = bert_output.last_hidden_state[:, 0, :]\n",
        "    output = tf.keras.layers.Dense(1)(cls_token_output)\n",
        "\n",
        "    model = tf.keras.Model(inputs=[input_ids, attention_mask], outputs=output)\n",
        "    model.compile(optimizer=tf.keras.optimizers.Adam(learning_rate=5e-5, epsilon=1e-8),\n",
        "                  loss=tf.keras.losses.MeanSquaredError(),\n",
        "                  metrics=[tf.keras.metrics.MeanAbsoluteError()])\n",
        "    return model\n",
        "\n",
        "model = build_model()\n",
        "\n",
        "epochs=5\n",
        "\n",
        "history = model.fit(\n",
        "    train_dataset,\n",
        "    validation_data=test_dataset,\n",
        "    epochs=epochs\n",
        ")\n",
        "model.save_weights(f'trained_bert_{epochs}.h5')\n",
        "# Loading model\n"
      ]
    },
    {
      "cell_type": "code",
      "execution_count": null,
      "metadata": {
        "colab": {
          "background_save": true
        },
        "id": "fe95ebQT7XUC"
      },
      "outputs": [],
      "source": [
        "model.save_weights(f'trained_bert_2ymedia.h5')\n"
      ]
    },
    {
      "cell_type": "code",
      "execution_count": null,
      "metadata": {
        "id": "mx26hARHh5is"
      },
      "outputs": [],
      "source": [
        "model.load_weights('/content/drive/MyDrive/Colab Notebooks/Datasets/trained_bert.h5')\n"
      ]
    },
    {
      "cell_type": "code",
      "execution_count": null,
      "metadata": {
        "colab": {
          "background_save": true
        },
        "id": "fuffeXqDLId3"
      },
      "outputs": [],
      "source": [
        "import pandas as pd\n",
        "import numpy as np\n",
        "import tensorflow as tf\n",
        "# Assuming 'basic_cleaning' and 'batch_encode' functions are already defined\n",
        "\n",
        "# Load the test data\n",
        "file_path2 = './obligatorio_DL/private_data_to_predict.csv'\n",
        "kaggle_test = cudf.read_csv(file_path2)\n",
        "\n",
        "# Apply basic cleaning\n",
        "\n",
        "\n",
        "# Apply cleaning to each important text column\n",
        "for col in important_text_cols:\n",
        "    kaggle_test = process_in_batches(kaggle_test, col)\n",
        "\n",
        "\n"
      ]
    },
    {
      "cell_type": "code",
      "execution_count": null,
      "metadata": {
        "colab": {
          "background_save": true
        },
        "id": "cxAL2l0BihAw"
      },
      "outputs": [],
      "source": [
        "# kaggle_test = data_for_kaggle.applymap(basic_cleaning)\n",
        "kaggle_test['combined_text'] = ''\n",
        "\n",
        "for col in important_text_cols:\n",
        "    kaggle_test[col] = kaggle_test[col].astype('str')\n",
        "    kaggle_test['combined_text'] = kaggle_test['combined_text'] + kaggle_test[col] + ' '\n",
        "    kaggle_test['combined_text'] = kaggle_test['combined_text'].str.strip()\n",
        "\n",
        "kaggle_input_ids, kaggle_attention_masks = batch_encode(kaggle_test['combined_text'])\n",
        "\n",
        "# Make predictions\n"
      ]
    },
    {
      "cell_type": "code",
      "execution_count": null,
      "metadata": {
        "id": "CQIEQnpJillm"
      },
      "outputs": [],
      "source": [
        "predictions = model.predict(x=[kaggle_input_ids, kaggle_attention_masks])\n",
        "\n",
        "# Rescale predictions\n",
        "y_pred = price_scaler.inverse_transform(predictions)\n",
        "\n"
      ]
    },
    {
      "cell_type": "code",
      "execution_count": null,
      "metadata": {
        "id": "vPp7bt27ozID"
      },
      "outputs": [],
      "source": [
        "# Prepare output\n",
        "test_ids = kaggle_test['id']\n",
        "output = np.hstack((test_ids.to_numpy().reshape(-1, 1), y_pred))\n",
        "df = pd.DataFrame(output, columns=['id', 'expected'])\n",
        "\n",
        "# Handle any NaNs\n",
        "df['expected'] = df['expected'].fillna(0)\n",
        "\n",
        "# Save to CSV\n",
        "df.to_csv(\"output_to_submit.csv\", index=False)"
      ]
    },
    {
      "cell_type": "markdown",
      "metadata": {
        "id": "RBhLVZc3SdzV"
      },
      "source": [
        "# Basura"
      ]
    },
    {
      "cell_type": "code",
      "execution_count": null,
      "metadata": {
        "colab": {
          "base_uri": "https://localhost:8080/",
          "height": 280
        },
        "id": "ONTKzVb88iCH",
        "outputId": "72b957ec-1a94-47b8-fa32-cba87821dc87"
      },
      "outputs": [
        {
          "ename": "NameError",
          "evalue": "ignored",
          "output_type": "error",
          "traceback": [
            "\u001b[0;31m---------------------------------------------------------------------------\u001b[0m",
            "\u001b[0;31mNameError\u001b[0m                                 Traceback (most recent call last)",
            "\u001b[0;32m<ipython-input-38-44bb2ae73395>\u001b[0m in \u001b[0;36m<cell line: 24>\u001b[0;34m()\u001b[0m\n\u001b[1;32m     22\u001b[0m \u001b[0;31m# Assuming categorical_data_train and categorical_data_test are lists of categorical columns\u001b[0m\u001b[0;34m\u001b[0m\u001b[0;34m\u001b[0m\u001b[0m\n\u001b[1;32m     23\u001b[0m \u001b[0;31m# For each categorical column, convert to a TensorFlow tensor\u001b[0m\u001b[0;34m\u001b[0m\u001b[0;34m\u001b[0m\u001b[0m\n\u001b[0;32m---> 24\u001b[0;31m \u001b[0mcategorical_data_train\u001b[0m \u001b[0;34m=\u001b[0m \u001b[0;34m[\u001b[0m\u001b[0mtf\u001b[0m\u001b[0;34m.\u001b[0m\u001b[0mconvert_to_tensor\u001b[0m\u001b[0;34m(\u001b[0m\u001b[0mcategorical_data_train\u001b[0m\u001b[0;34m[\u001b[0m\u001b[0mi\u001b[0m\u001b[0;34m]\u001b[0m\u001b[0;34m,\u001b[0m \u001b[0mdtype\u001b[0m\u001b[0;34m=\u001b[0m\u001b[0mtf\u001b[0m\u001b[0;34m.\u001b[0m\u001b[0mint32\u001b[0m\u001b[0;34m)\u001b[0m \u001b[0;32mfor\u001b[0m \u001b[0mi\u001b[0m \u001b[0;32min\u001b[0m \u001b[0mrange\u001b[0m\u001b[0;34m(\u001b[0m\u001b[0mnum_categorical_cols\u001b[0m\u001b[0;34m)\u001b[0m\u001b[0;34m]\u001b[0m\u001b[0;34m\u001b[0m\u001b[0;34m\u001b[0m\u001b[0m\n\u001b[0m\u001b[1;32m     25\u001b[0m \u001b[0mcategorical_data_test\u001b[0m \u001b[0;34m=\u001b[0m \u001b[0;34m[\u001b[0m\u001b[0mtf\u001b[0m\u001b[0;34m.\u001b[0m\u001b[0mconvert_to_tensor\u001b[0m\u001b[0;34m(\u001b[0m\u001b[0mcategorical_data_test\u001b[0m\u001b[0;34m[\u001b[0m\u001b[0mi\u001b[0m\u001b[0;34m]\u001b[0m\u001b[0;34m,\u001b[0m \u001b[0mdtype\u001b[0m\u001b[0;34m=\u001b[0m\u001b[0mtf\u001b[0m\u001b[0;34m.\u001b[0m\u001b[0mint32\u001b[0m\u001b[0;34m)\u001b[0m \u001b[0;32mfor\u001b[0m \u001b[0mi\u001b[0m \u001b[0;32min\u001b[0m \u001b[0mrange\u001b[0m\u001b[0;34m(\u001b[0m\u001b[0mnum_categorical_cols\u001b[0m\u001b[0;34m)\u001b[0m\u001b[0;34m]\u001b[0m\u001b[0;34m\u001b[0m\u001b[0;34m\u001b[0m\u001b[0m\n\u001b[1;32m     26\u001b[0m \u001b[0;34m\u001b[0m\u001b[0m\n",
            "\u001b[0;31mNameError\u001b[0m: name 'num_categorical_cols' is not defined"
          ]
        }
      ],
      "source": [
        "def create_dataset(input_ids, attention_masks, numerical_data, categorical_data, labels, batch_size=32):\n",
        "    # Ensure categorical data is a list of tensors, one for each categorical column\n",
        "    if not isinstance(categorical_data, list):\n",
        "        categorical_data = [categorical_data]\n",
        "\n",
        "    # Create a dictionary for all inputs\n",
        "    input_dict = {\n",
        "        'input_ids': input_ids,\n",
        "        'attention_mask': attention_masks,\n",
        "        'numerical_data': numerical_data\n",
        "    }\n",
        "\n",
        "    # Add each categorical feature to the input dictionary\n",
        "    for i, cat_data in enumerate(categorical_data):\n",
        "        input_dict[f'cat_input_{i}'] = cat_data\n",
        "\n",
        "    # Create the TensorFlow dataset\n",
        "    dataset = tf.data.Dataset.from_tensor_slices((input_dict, labels))\n",
        "    dataset = dataset.shuffle(len(labels)).batch(batch_size).prefetch(tf.data.AUTOTUNE)\n",
        "\n",
        "    return dataset\n",
        "# Assuming categorical_data_train and categorical_data_test are lists of categorical columns\n",
        "# For each categorical column, convert to a TensorFlow tensor\n",
        "categorical_data_train = [tf.convert_to_tensor(categorical_data_train[i], dtype=tf.int32) for i in range([num_categorical_cols])]\n",
        "categorical_data_test = [tf.convert_to_tensor(categorical_data_test[i], dtype=tf.int32) for i in range(num_categorical_cols)]\n",
        "\n",
        "# Convert numerical data to TensorFlow tensors\n",
        "numerical_data_train = tf.convert_to_tensor(numerical_data_train, dtype=tf.float32)\n",
        "numerical_data_test = tf.convert_to_tensor(numerical_data_test, dtype=tf.float32)\n",
        "\n",
        "# Create the datasets\n",
        "train_dataset = create_dataset(train_input_ids, train_attention_masks, numerical_data_train, categorical_data_train, train_labels)\n",
        "test_dataset = create_dataset(test_input_ids, test_attention_masks, numerical_data_test, categorical_data_test, test_labels)\n"
      ]
    },
    {
      "cell_type": "code",
      "execution_count": null,
      "metadata": {
        "colab": {
          "base_uri": "https://localhost:8080/",
          "height": 512
        },
        "id": "ZNW_2UKa6xn7",
        "outputId": "08e21a31-8627-47c4-bdae-556e87f0a17f"
      },
      "outputs": [
        {
          "ename": "TypeError",
          "evalue": "ignored",
          "output_type": "error",
          "traceback": [
            "\u001b[0;31m---------------------------------------------------------------------------\u001b[0m",
            "\u001b[0;31mTypeError\u001b[0m                                 Traceback (most recent call last)",
            "\u001b[0;32m<ipython-input-37-8158594b8372>\u001b[0m in \u001b[0;36m<cell line: 8>\u001b[0;34m()\u001b[0m\n\u001b[1;32m      6\u001b[0m \u001b[0minput_ids\u001b[0m \u001b[0;34m=\u001b[0m \u001b[0mInput\u001b[0m\u001b[0;34m(\u001b[0m\u001b[0mshape\u001b[0m\u001b[0;34m=\u001b[0m\u001b[0;34m(\u001b[0m\u001b[0mmax_length\u001b[0m\u001b[0;34m,\u001b[0m\u001b[0;34m)\u001b[0m\u001b[0;34m,\u001b[0m \u001b[0mdtype\u001b[0m\u001b[0;34m=\u001b[0m\u001b[0mtf\u001b[0m\u001b[0;34m.\u001b[0m\u001b[0mint32\u001b[0m\u001b[0;34m,\u001b[0m \u001b[0mname\u001b[0m\u001b[0;34m=\u001b[0m\u001b[0;34m'input_ids'\u001b[0m\u001b[0;34m)\u001b[0m\u001b[0;34m\u001b[0m\u001b[0;34m\u001b[0m\u001b[0m\n\u001b[1;32m      7\u001b[0m \u001b[0mattention_mask\u001b[0m \u001b[0;34m=\u001b[0m \u001b[0mInput\u001b[0m\u001b[0;34m(\u001b[0m\u001b[0mshape\u001b[0m\u001b[0;34m=\u001b[0m\u001b[0;34m(\u001b[0m\u001b[0mmax_length\u001b[0m\u001b[0;34m,\u001b[0m\u001b[0;34m)\u001b[0m\u001b[0;34m,\u001b[0m \u001b[0mdtype\u001b[0m\u001b[0;34m=\u001b[0m\u001b[0mtf\u001b[0m\u001b[0;34m.\u001b[0m\u001b[0mint32\u001b[0m\u001b[0;34m,\u001b[0m \u001b[0mname\u001b[0m\u001b[0;34m=\u001b[0m\u001b[0;34m'attention_mask'\u001b[0m\u001b[0;34m)\u001b[0m\u001b[0;34m\u001b[0m\u001b[0;34m\u001b[0m\u001b[0m\n\u001b[0;32m----> 8\u001b[0;31m \u001b[0mnumerical_input\u001b[0m \u001b[0;34m=\u001b[0m \u001b[0mInput\u001b[0m\u001b[0;34m(\u001b[0m\u001b[0mshape\u001b[0m\u001b[0;34m=\u001b[0m\u001b[0;34m(\u001b[0m\u001b[0mnumerical_cols\u001b[0m\u001b[0;34m,\u001b[0m\u001b[0;34m)\u001b[0m\u001b[0;34m,\u001b[0m \u001b[0mname\u001b[0m\u001b[0;34m=\u001b[0m\u001b[0;34m'numerical_data'\u001b[0m\u001b[0;34m)\u001b[0m\u001b[0;34m\u001b[0m\u001b[0;34m\u001b[0m\u001b[0m\n\u001b[0m\u001b[1;32m      9\u001b[0m \u001b[0mcategorical_inputs\u001b[0m \u001b[0;34m=\u001b[0m \u001b[0;34m[\u001b[0m\u001b[0mInput\u001b[0m\u001b[0;34m(\u001b[0m\u001b[0mshape\u001b[0m\u001b[0;34m=\u001b[0m\u001b[0;34m(\u001b[0m\u001b[0;36m1\u001b[0m\u001b[0;34m,\u001b[0m\u001b[0;34m)\u001b[0m\u001b[0;34m,\u001b[0m \u001b[0mname\u001b[0m\u001b[0;34m=\u001b[0m\u001b[0;34mf'cat_input_{i}'\u001b[0m\u001b[0;34m)\u001b[0m \u001b[0;32mfor\u001b[0m \u001b[0mi\u001b[0m \u001b[0;32min\u001b[0m \u001b[0mrange\u001b[0m\u001b[0;34m(\u001b[0m\u001b[0mcategorical_cols\u001b[0m\u001b[0;34m)\u001b[0m\u001b[0;34m]\u001b[0m\u001b[0;34m\u001b[0m\u001b[0;34m\u001b[0m\u001b[0m\n\u001b[1;32m     10\u001b[0m \u001b[0;34m\u001b[0m\u001b[0m\n",
            "\u001b[0;32m/usr/local/lib/python3.10/dist-packages/keras/src/utils/traceback_utils.py\u001b[0m in \u001b[0;36merror_handler\u001b[0;34m(*args, **kwargs)\u001b[0m\n\u001b[1;32m     68\u001b[0m             \u001b[0;31m# To get the full stack trace, call:\u001b[0m\u001b[0;34m\u001b[0m\u001b[0;34m\u001b[0m\u001b[0m\n\u001b[1;32m     69\u001b[0m             \u001b[0;31m# `tf.debugging.disable_traceback_filtering()`\u001b[0m\u001b[0;34m\u001b[0m\u001b[0;34m\u001b[0m\u001b[0m\n\u001b[0;32m---> 70\u001b[0;31m             \u001b[0;32mraise\u001b[0m \u001b[0me\u001b[0m\u001b[0;34m.\u001b[0m\u001b[0mwith_traceback\u001b[0m\u001b[0;34m(\u001b[0m\u001b[0mfiltered_tb\u001b[0m\u001b[0;34m)\u001b[0m \u001b[0;32mfrom\u001b[0m \u001b[0;32mNone\u001b[0m\u001b[0;34m\u001b[0m\u001b[0;34m\u001b[0m\u001b[0m\n\u001b[0m\u001b[1;32m     71\u001b[0m         \u001b[0;32mfinally\u001b[0m\u001b[0;34m:\u001b[0m\u001b[0;34m\u001b[0m\u001b[0;34m\u001b[0m\u001b[0m\n\u001b[1;32m     72\u001b[0m             \u001b[0;32mdel\u001b[0m \u001b[0mfiltered_tb\u001b[0m\u001b[0;34m\u001b[0m\u001b[0;34m\u001b[0m\u001b[0m\n",
            "\u001b[0;32m/usr/local/lib/python3.10/dist-packages/tensorflow/python/framework/tensor_shape.py\u001b[0m in \u001b[0;36m__init__\u001b[0;34m(self, value)\u001b[0m\n\u001b[1;32m    215\u001b[0m         \u001b[0mself\u001b[0m\u001b[0;34m.\u001b[0m\u001b[0m_value\u001b[0m \u001b[0;34m=\u001b[0m \u001b[0mint\u001b[0m\u001b[0;34m(\u001b[0m\u001b[0mvalue\u001b[0m\u001b[0;34m.\u001b[0m\u001b[0m__index__\u001b[0m\u001b[0;34m(\u001b[0m\u001b[0;34m)\u001b[0m\u001b[0;34m)\u001b[0m\u001b[0;34m\u001b[0m\u001b[0;34m\u001b[0m\u001b[0m\n\u001b[1;32m    216\u001b[0m       \u001b[0;32mexcept\u001b[0m \u001b[0mAttributeError\u001b[0m\u001b[0;34m:\u001b[0m\u001b[0;34m\u001b[0m\u001b[0;34m\u001b[0m\u001b[0m\n\u001b[0;32m--> 217\u001b[0;31m         raise TypeError(\n\u001b[0m\u001b[1;32m    218\u001b[0m             \u001b[0;34m\"Dimension value must be integer or None or have \"\u001b[0m\u001b[0;34m\u001b[0m\u001b[0;34m\u001b[0m\u001b[0m\n\u001b[1;32m    219\u001b[0m             \"an __index__ method, got value '{0!r}' with type '{1!r}'\".format(\n",
            "\u001b[0;31mTypeError\u001b[0m: Dimension value must be integer or None or have an __index__ method, got value '['id', 'Host ID', 'Host Response Rate', 'Host Listings Count', 'Host Total Listings Count', 'Latitude', 'Longitude', 'Accommodates', 'Bathrooms', 'Bedrooms', 'Beds', 'Square Feet', 'Security Deposit', 'Cleaning Fee', 'Guests Included', 'Extra People', 'Minimum Nights', 'Maximum Nights', 'Availability 30', 'Availability 60', 'Availability 90', 'Availability 365', 'Number of Reviews', 'Review Scores Rating', 'Review Scores Accuracy', 'Review Scores Cleanliness', 'Review Scores Checkin', 'Review Scores Communication', 'Review Scores Location', 'Review Scores Value', 'Calculated host listings count', 'Reviews per Month', 'Price']' with type '<class 'list'>'"
          ]
        }
      ],
      "source": [
        "import tensorflow as tf\n",
        "from tensorflow.keras.layers import Input, Dense, Embedding, Concatenate, Normalization\n",
        "from tensorflow.keras.models import Model\n",
        "\n",
        "# Define input layers\n",
        "input_ids = Input(shape=(max_length,), dtype=tf.int32, name='input_ids')\n",
        "attention_mask = Input(shape=(max_length,), dtype=tf.int32, name='attention_mask')\n",
        "numerical_input = Input(shape=(numerical_cols,), name='numerical_data')\n",
        "categorical_inputs = [Input(shape=(1,), name=f'cat_input_{i}') for i in range(categorical_cols)]\n",
        "\n",
        "# BERT model for text\n",
        "bert_output = bert_model([input_ids, attention_mask]).last_hidden_state[:, 0, :]\n",
        "\n",
        "# Numerical data processing\n",
        "numerical_layer = Normalization()(numerical_input)\n",
        "numerical_output = Dense(64, activation='relu')(numerical_layer)\n",
        "\n",
        "# Categorical data processing\n",
        "embedding_layers = [Embedding(input_dim=cat_col_vocab_size, output_dim=embedding_dim)(cat_input) for cat_input, embedding_dim in zip(categorical_inputs, embedding_dims)]\n",
        "flattened_embeddings = [tf.keras.layers.Flatten()(embedding) for embedding in embedding_layers]\n",
        "\n",
        "# Concatenate all outputs\n",
        "concatenated = Concatenate()([bert_output, numerical_output] + flattened_embeddings)\n",
        "dense_layer = Dense(128, activation='relu')(concatenated)\n",
        "output = Dense(1)(dense_layer)\n",
        "\n",
        "# Build and compile the model\n",
        "model = Model(inputs=[input_ids, attention_mask, numerical_input] + categorical_inputs, outputs=output)\n",
        "model.compile(optimizer='adam', loss='mean_squared_error', metrics=['mean_absolute_error'])\n",
        "\n",
        "# Train the model\n",
        "model.fit(train_dataset, validation_data=test_dataset, epochs=5)\n"
      ]
    },
    {
      "cell_type": "code",
      "execution_count": null,
      "metadata": {
        "id": "LLfLjdWpFuNK"
      },
      "outputs": [],
      "source": [
        "from cudf.core.subword_tokenizer import SubwordTokenizer\n",
        "from cudf.utils.hash_vocab_utils import hash_vocab\n",
        "\n",
        "vocab_file = '/content/drive/MyDrive/Colab Notebooks/Datasets/obligatorio_DL/bert-multilingual-cased/multi_cased_L-12_H-768_A-12/vocab.txt'\n",
        "# Assuming you have the BERT multilingual vocabulary file\n",
        "# vocab_file = 'bert-base-multilingual-uncased-vocab.txt'\n",
        "hash_vocab(vocab_file, 'voc_hash.txt')\n"
      ]
    },
    {
      "cell_type": "code",
      "execution_count": null,
      "metadata": {
        "id": "5RmcunXmB0lg"
      },
      "outputs": [],
      "source": [
        "\n",
        "# Initialize tokenizer\n",
        "tokenizer = SubwordTokenizer('voc_hash.txt', do_lower_case=True)\n",
        "\n",
        "# Tokenize function\n",
        "def tokenize_text_column(df, col_name, max_length=128):\n",
        "    tokenized_output = tokenizer(\n",
        "        df[col_name],\n",
        "        max_length=max_length,\n",
        "        padding='max_length',\n",
        "        truncation=True,\n",
        "        return_tensors='pt'\n",
        "    )\n",
        "    return tokenized_output['input_ids']\n",
        "\n",
        "# Apply tokenization\n",
        "for col in text_cols:\n",
        "    df[col] = tokenize_text_column(df, col)\n"
      ]
    },
    {
      "cell_type": "code",
      "execution_count": null,
      "metadata": {
        "id": "_sB4Qr58JiHD"
      },
      "outputs": [],
      "source": []
    }
  ],
  "metadata": {
    "accelerator": "GPU",
    "colab": {
      "machine_shape": "hm",
      "provenance": [],
      "toc_visible": true,
      "gpuType": "A100",
      "authorship_tag": "ABX9TyNfzPfl/BpVvwyFUus3Rm1u",
      "include_colab_link": true
    },
    "kernelspec": {
      "display_name": "Python 3",
      "name": "python3"
    },
    "language_info": {
      "name": "python"
    },
    "widgets": {
      "application/vnd.jupyter.widget-state+json": {
        "82fca33b40f74ab98b75a1ad2543fcf1": {
          "model_module": "@jupyter-widgets/controls",
          "model_name": "VBoxModel",
          "model_module_version": "1.5.0",
          "state": {
            "_dom_classes": [],
            "_model_module": "@jupyter-widgets/controls",
            "_model_module_version": "1.5.0",
            "_model_name": "VBoxModel",
            "_view_count": null,
            "_view_module": "@jupyter-widgets/controls",
            "_view_module_version": "1.5.0",
            "_view_name": "VBoxView",
            "box_style": "",
            "children": [
              "IPY_MODEL_c7547f6c26f7413890c07a005084f374",
              "IPY_MODEL_446fd634c7654c6b8a6ad8ee6d818f06"
            ],
            "layout": "IPY_MODEL_81f974046c934dfda9bc2754b70eceef"
          }
        },
        "c7547f6c26f7413890c07a005084f374": {
          "model_module": "@jupyter-widgets/controls",
          "model_name": "LabelModel",
          "model_module_version": "1.5.0",
          "state": {
            "_dom_classes": [],
            "_model_module": "@jupyter-widgets/controls",
            "_model_module_version": "1.5.0",
            "_model_name": "LabelModel",
            "_view_count": null,
            "_view_module": "@jupyter-widgets/controls",
            "_view_module_version": "1.5.0",
            "_view_name": "LabelView",
            "description": "",
            "description_tooltip": null,
            "layout": "IPY_MODEL_b1886f5f6242487bbdfba78386cc69d0",
            "placeholder": "​",
            "style": "IPY_MODEL_e94a7d72ae9243f38b00e26dd7c0ab19",
            "value": "3091.065 MB of 3091.065 MB uploaded\r"
          }
        },
        "446fd634c7654c6b8a6ad8ee6d818f06": {
          "model_module": "@jupyter-widgets/controls",
          "model_name": "FloatProgressModel",
          "model_module_version": "1.5.0",
          "state": {
            "_dom_classes": [],
            "_model_module": "@jupyter-widgets/controls",
            "_model_module_version": "1.5.0",
            "_model_name": "FloatProgressModel",
            "_view_count": null,
            "_view_module": "@jupyter-widgets/controls",
            "_view_module_version": "1.5.0",
            "_view_name": "ProgressView",
            "bar_style": "",
            "description": "",
            "description_tooltip": null,
            "layout": "IPY_MODEL_0b0e78e7344a418093abcc8fc878c808",
            "max": 1,
            "min": 0,
            "orientation": "horizontal",
            "style": "IPY_MODEL_89f481f92bfb4ef2a5e03eca10a854a7",
            "value": 1
          }
        },
        "81f974046c934dfda9bc2754b70eceef": {
          "model_module": "@jupyter-widgets/base",
          "model_name": "LayoutModel",
          "model_module_version": "1.2.0",
          "state": {
            "_model_module": "@jupyter-widgets/base",
            "_model_module_version": "1.2.0",
            "_model_name": "LayoutModel",
            "_view_count": null,
            "_view_module": "@jupyter-widgets/base",
            "_view_module_version": "1.2.0",
            "_view_name": "LayoutView",
            "align_content": null,
            "align_items": null,
            "align_self": null,
            "border": null,
            "bottom": null,
            "display": null,
            "flex": null,
            "flex_flow": null,
            "grid_area": null,
            "grid_auto_columns": null,
            "grid_auto_flow": null,
            "grid_auto_rows": null,
            "grid_column": null,
            "grid_gap": null,
            "grid_row": null,
            "grid_template_areas": null,
            "grid_template_columns": null,
            "grid_template_rows": null,
            "height": null,
            "justify_content": null,
            "justify_items": null,
            "left": null,
            "margin": null,
            "max_height": null,
            "max_width": null,
            "min_height": null,
            "min_width": null,
            "object_fit": null,
            "object_position": null,
            "order": null,
            "overflow": null,
            "overflow_x": null,
            "overflow_y": null,
            "padding": null,
            "right": null,
            "top": null,
            "visibility": null,
            "width": null
          }
        },
        "b1886f5f6242487bbdfba78386cc69d0": {
          "model_module": "@jupyter-widgets/base",
          "model_name": "LayoutModel",
          "model_module_version": "1.2.0",
          "state": {
            "_model_module": "@jupyter-widgets/base",
            "_model_module_version": "1.2.0",
            "_model_name": "LayoutModel",
            "_view_count": null,
            "_view_module": "@jupyter-widgets/base",
            "_view_module_version": "1.2.0",
            "_view_name": "LayoutView",
            "align_content": null,
            "align_items": null,
            "align_self": null,
            "border": null,
            "bottom": null,
            "display": null,
            "flex": null,
            "flex_flow": null,
            "grid_area": null,
            "grid_auto_columns": null,
            "grid_auto_flow": null,
            "grid_auto_rows": null,
            "grid_column": null,
            "grid_gap": null,
            "grid_row": null,
            "grid_template_areas": null,
            "grid_template_columns": null,
            "grid_template_rows": null,
            "height": null,
            "justify_content": null,
            "justify_items": null,
            "left": null,
            "margin": null,
            "max_height": null,
            "max_width": null,
            "min_height": null,
            "min_width": null,
            "object_fit": null,
            "object_position": null,
            "order": null,
            "overflow": null,
            "overflow_x": null,
            "overflow_y": null,
            "padding": null,
            "right": null,
            "top": null,
            "visibility": null,
            "width": null
          }
        },
        "e94a7d72ae9243f38b00e26dd7c0ab19": {
          "model_module": "@jupyter-widgets/controls",
          "model_name": "DescriptionStyleModel",
          "model_module_version": "1.5.0",
          "state": {
            "_model_module": "@jupyter-widgets/controls",
            "_model_module_version": "1.5.0",
            "_model_name": "DescriptionStyleModel",
            "_view_count": null,
            "_view_module": "@jupyter-widgets/base",
            "_view_module_version": "1.2.0",
            "_view_name": "StyleView",
            "description_width": ""
          }
        },
        "0b0e78e7344a418093abcc8fc878c808": {
          "model_module": "@jupyter-widgets/base",
          "model_name": "LayoutModel",
          "model_module_version": "1.2.0",
          "state": {
            "_model_module": "@jupyter-widgets/base",
            "_model_module_version": "1.2.0",
            "_model_name": "LayoutModel",
            "_view_count": null,
            "_view_module": "@jupyter-widgets/base",
            "_view_module_version": "1.2.0",
            "_view_name": "LayoutView",
            "align_content": null,
            "align_items": null,
            "align_self": null,
            "border": null,
            "bottom": null,
            "display": null,
            "flex": null,
            "flex_flow": null,
            "grid_area": null,
            "grid_auto_columns": null,
            "grid_auto_flow": null,
            "grid_auto_rows": null,
            "grid_column": null,
            "grid_gap": null,
            "grid_row": null,
            "grid_template_areas": null,
            "grid_template_columns": null,
            "grid_template_rows": null,
            "height": null,
            "justify_content": null,
            "justify_items": null,
            "left": null,
            "margin": null,
            "max_height": null,
            "max_width": null,
            "min_height": null,
            "min_width": null,
            "object_fit": null,
            "object_position": null,
            "order": null,
            "overflow": null,
            "overflow_x": null,
            "overflow_y": null,
            "padding": null,
            "right": null,
            "top": null,
            "visibility": null,
            "width": null
          }
        },
        "89f481f92bfb4ef2a5e03eca10a854a7": {
          "model_module": "@jupyter-widgets/controls",
          "model_name": "ProgressStyleModel",
          "model_module_version": "1.5.0",
          "state": {
            "_model_module": "@jupyter-widgets/controls",
            "_model_module_version": "1.5.0",
            "_model_name": "ProgressStyleModel",
            "_view_count": null,
            "_view_module": "@jupyter-widgets/base",
            "_view_module_version": "1.2.0",
            "_view_name": "StyleView",
            "bar_color": null,
            "description_width": ""
          }
        },
        "701eddb2aa8146908a75a55262a8b200": {
          "model_module": "@jupyter-widgets/controls",
          "model_name": "VBoxModel",
          "model_module_version": "1.5.0",
          "state": {
            "_dom_classes": [],
            "_model_module": "@jupyter-widgets/controls",
            "_model_module_version": "1.5.0",
            "_model_name": "VBoxModel",
            "_view_count": null,
            "_view_module": "@jupyter-widgets/controls",
            "_view_module_version": "1.5.0",
            "_view_name": "VBoxView",
            "box_style": "",
            "children": [
              "IPY_MODEL_76271b20c7e54d8c8b440fee62c0dca5",
              "IPY_MODEL_f5a9a4f10883407ca01257158b432798"
            ],
            "layout": "IPY_MODEL_6dff5e81088f43e3af81111a535f8c0d"
          }
        },
        "76271b20c7e54d8c8b440fee62c0dca5": {
          "model_module": "@jupyter-widgets/controls",
          "model_name": "LabelModel",
          "model_module_version": "1.5.0",
          "state": {
            "_dom_classes": [],
            "_model_module": "@jupyter-widgets/controls",
            "_model_module_version": "1.5.0",
            "_model_name": "LabelModel",
            "_view_count": null,
            "_view_module": "@jupyter-widgets/controls",
            "_view_module_version": "1.5.0",
            "_view_name": "LabelView",
            "description": "",
            "description_tooltip": null,
            "layout": "IPY_MODEL_27621d2f825848bd9b60e7ddb5d193c3",
            "placeholder": "​",
            "style": "IPY_MODEL_9161e5e2f633426a87558bfa420047b3",
            "value": "0.815 MB of 0.815 MB uploaded (0.050 MB deduped)\r"
          }
        },
        "f5a9a4f10883407ca01257158b432798": {
          "model_module": "@jupyter-widgets/controls",
          "model_name": "FloatProgressModel",
          "model_module_version": "1.5.0",
          "state": {
            "_dom_classes": [],
            "_model_module": "@jupyter-widgets/controls",
            "_model_module_version": "1.5.0",
            "_model_name": "FloatProgressModel",
            "_view_count": null,
            "_view_module": "@jupyter-widgets/controls",
            "_view_module_version": "1.5.0",
            "_view_name": "ProgressView",
            "bar_style": "",
            "description": "",
            "description_tooltip": null,
            "layout": "IPY_MODEL_d0656d742b284960b4a8e6598dbe61ac",
            "max": 1,
            "min": 0,
            "orientation": "horizontal",
            "style": "IPY_MODEL_111e177fe2cc409db48b96e82d8e1f13",
            "value": 1
          }
        },
        "6dff5e81088f43e3af81111a535f8c0d": {
          "model_module": "@jupyter-widgets/base",
          "model_name": "LayoutModel",
          "model_module_version": "1.2.0",
          "state": {
            "_model_module": "@jupyter-widgets/base",
            "_model_module_version": "1.2.0",
            "_model_name": "LayoutModel",
            "_view_count": null,
            "_view_module": "@jupyter-widgets/base",
            "_view_module_version": "1.2.0",
            "_view_name": "LayoutView",
            "align_content": null,
            "align_items": null,
            "align_self": null,
            "border": null,
            "bottom": null,
            "display": null,
            "flex": null,
            "flex_flow": null,
            "grid_area": null,
            "grid_auto_columns": null,
            "grid_auto_flow": null,
            "grid_auto_rows": null,
            "grid_column": null,
            "grid_gap": null,
            "grid_row": null,
            "grid_template_areas": null,
            "grid_template_columns": null,
            "grid_template_rows": null,
            "height": null,
            "justify_content": null,
            "justify_items": null,
            "left": null,
            "margin": null,
            "max_height": null,
            "max_width": null,
            "min_height": null,
            "min_width": null,
            "object_fit": null,
            "object_position": null,
            "order": null,
            "overflow": null,
            "overflow_x": null,
            "overflow_y": null,
            "padding": null,
            "right": null,
            "top": null,
            "visibility": null,
            "width": null
          }
        },
        "27621d2f825848bd9b60e7ddb5d193c3": {
          "model_module": "@jupyter-widgets/base",
          "model_name": "LayoutModel",
          "model_module_version": "1.2.0",
          "state": {
            "_model_module": "@jupyter-widgets/base",
            "_model_module_version": "1.2.0",
            "_model_name": "LayoutModel",
            "_view_count": null,
            "_view_module": "@jupyter-widgets/base",
            "_view_module_version": "1.2.0",
            "_view_name": "LayoutView",
            "align_content": null,
            "align_items": null,
            "align_self": null,
            "border": null,
            "bottom": null,
            "display": null,
            "flex": null,
            "flex_flow": null,
            "grid_area": null,
            "grid_auto_columns": null,
            "grid_auto_flow": null,
            "grid_auto_rows": null,
            "grid_column": null,
            "grid_gap": null,
            "grid_row": null,
            "grid_template_areas": null,
            "grid_template_columns": null,
            "grid_template_rows": null,
            "height": null,
            "justify_content": null,
            "justify_items": null,
            "left": null,
            "margin": null,
            "max_height": null,
            "max_width": null,
            "min_height": null,
            "min_width": null,
            "object_fit": null,
            "object_position": null,
            "order": null,
            "overflow": null,
            "overflow_x": null,
            "overflow_y": null,
            "padding": null,
            "right": null,
            "top": null,
            "visibility": null,
            "width": null
          }
        },
        "9161e5e2f633426a87558bfa420047b3": {
          "model_module": "@jupyter-widgets/controls",
          "model_name": "DescriptionStyleModel",
          "model_module_version": "1.5.0",
          "state": {
            "_model_module": "@jupyter-widgets/controls",
            "_model_module_version": "1.5.0",
            "_model_name": "DescriptionStyleModel",
            "_view_count": null,
            "_view_module": "@jupyter-widgets/base",
            "_view_module_version": "1.2.0",
            "_view_name": "StyleView",
            "description_width": ""
          }
        },
        "d0656d742b284960b4a8e6598dbe61ac": {
          "model_module": "@jupyter-widgets/base",
          "model_name": "LayoutModel",
          "model_module_version": "1.2.0",
          "state": {
            "_model_module": "@jupyter-widgets/base",
            "_model_module_version": "1.2.0",
            "_model_name": "LayoutModel",
            "_view_count": null,
            "_view_module": "@jupyter-widgets/base",
            "_view_module_version": "1.2.0",
            "_view_name": "LayoutView",
            "align_content": null,
            "align_items": null,
            "align_self": null,
            "border": null,
            "bottom": null,
            "display": null,
            "flex": null,
            "flex_flow": null,
            "grid_area": null,
            "grid_auto_columns": null,
            "grid_auto_flow": null,
            "grid_auto_rows": null,
            "grid_column": null,
            "grid_gap": null,
            "grid_row": null,
            "grid_template_areas": null,
            "grid_template_columns": null,
            "grid_template_rows": null,
            "height": null,
            "justify_content": null,
            "justify_items": null,
            "left": null,
            "margin": null,
            "max_height": null,
            "max_width": null,
            "min_height": null,
            "min_width": null,
            "object_fit": null,
            "object_position": null,
            "order": null,
            "overflow": null,
            "overflow_x": null,
            "overflow_y": null,
            "padding": null,
            "right": null,
            "top": null,
            "visibility": null,
            "width": null
          }
        },
        "111e177fe2cc409db48b96e82d8e1f13": {
          "model_module": "@jupyter-widgets/controls",
          "model_name": "ProgressStyleModel",
          "model_module_version": "1.5.0",
          "state": {
            "_model_module": "@jupyter-widgets/controls",
            "_model_module_version": "1.5.0",
            "_model_name": "ProgressStyleModel",
            "_view_count": null,
            "_view_module": "@jupyter-widgets/base",
            "_view_module_version": "1.2.0",
            "_view_name": "StyleView",
            "bar_color": null,
            "description_width": ""
          }
        },
        "5a1f3b5952ac457390070ea6f011ba79": {
          "model_module": "@jupyter-widgets/controls",
          "model_name": "VBoxModel",
          "model_module_version": "1.5.0",
          "state": {
            "_dom_classes": [],
            "_model_module": "@jupyter-widgets/controls",
            "_model_module_version": "1.5.0",
            "_model_name": "VBoxModel",
            "_view_count": null,
            "_view_module": "@jupyter-widgets/controls",
            "_view_module_version": "1.5.0",
            "_view_name": "VBoxView",
            "box_style": "",
            "children": [
              "IPY_MODEL_4218339457a14cbb90f30849f339bc5d",
              "IPY_MODEL_1d8161ad504740819ba1a9c7158197cb"
            ],
            "layout": "IPY_MODEL_75d5b7e24e5a42f0bfc9658dc7ed5462"
          }
        },
        "4218339457a14cbb90f30849f339bc5d": {
          "model_module": "@jupyter-widgets/controls",
          "model_name": "LabelModel",
          "model_module_version": "1.5.0",
          "state": {
            "_dom_classes": [],
            "_model_module": "@jupyter-widgets/controls",
            "_model_module_version": "1.5.0",
            "_model_name": "LabelModel",
            "_view_count": null,
            "_view_module": "@jupyter-widgets/controls",
            "_view_module_version": "1.5.0",
            "_view_name": "LabelView",
            "description": "",
            "description_tooltip": null,
            "layout": "IPY_MODEL_20cf8cb0983446f09b82339531441b09",
            "placeholder": "​",
            "style": "IPY_MODEL_8ed606231e374ab898aa38e0b1f27a05",
            "value": "12380.118 MB of 12380.118 MB uploaded (0.594 MB deduped)\r"
          }
        },
        "1d8161ad504740819ba1a9c7158197cb": {
          "model_module": "@jupyter-widgets/controls",
          "model_name": "FloatProgressModel",
          "model_module_version": "1.5.0",
          "state": {
            "_dom_classes": [],
            "_model_module": "@jupyter-widgets/controls",
            "_model_module_version": "1.5.0",
            "_model_name": "FloatProgressModel",
            "_view_count": null,
            "_view_module": "@jupyter-widgets/controls",
            "_view_module_version": "1.5.0",
            "_view_name": "ProgressView",
            "bar_style": "",
            "description": "",
            "description_tooltip": null,
            "layout": "IPY_MODEL_a99c3b7f5a3d438baae148c707bdb6ff",
            "max": 1,
            "min": 0,
            "orientation": "horizontal",
            "style": "IPY_MODEL_649fde8fdee247fb9fc7c1edd8a22aad",
            "value": 1
          }
        },
        "75d5b7e24e5a42f0bfc9658dc7ed5462": {
          "model_module": "@jupyter-widgets/base",
          "model_name": "LayoutModel",
          "model_module_version": "1.2.0",
          "state": {
            "_model_module": "@jupyter-widgets/base",
            "_model_module_version": "1.2.0",
            "_model_name": "LayoutModel",
            "_view_count": null,
            "_view_module": "@jupyter-widgets/base",
            "_view_module_version": "1.2.0",
            "_view_name": "LayoutView",
            "align_content": null,
            "align_items": null,
            "align_self": null,
            "border": null,
            "bottom": null,
            "display": null,
            "flex": null,
            "flex_flow": null,
            "grid_area": null,
            "grid_auto_columns": null,
            "grid_auto_flow": null,
            "grid_auto_rows": null,
            "grid_column": null,
            "grid_gap": null,
            "grid_row": null,
            "grid_template_areas": null,
            "grid_template_columns": null,
            "grid_template_rows": null,
            "height": null,
            "justify_content": null,
            "justify_items": null,
            "left": null,
            "margin": null,
            "max_height": null,
            "max_width": null,
            "min_height": null,
            "min_width": null,
            "object_fit": null,
            "object_position": null,
            "order": null,
            "overflow": null,
            "overflow_x": null,
            "overflow_y": null,
            "padding": null,
            "right": null,
            "top": null,
            "visibility": null,
            "width": null
          }
        },
        "20cf8cb0983446f09b82339531441b09": {
          "model_module": "@jupyter-widgets/base",
          "model_name": "LayoutModel",
          "model_module_version": "1.2.0",
          "state": {
            "_model_module": "@jupyter-widgets/base",
            "_model_module_version": "1.2.0",
            "_model_name": "LayoutModel",
            "_view_count": null,
            "_view_module": "@jupyter-widgets/base",
            "_view_module_version": "1.2.0",
            "_view_name": "LayoutView",
            "align_content": null,
            "align_items": null,
            "align_self": null,
            "border": null,
            "bottom": null,
            "display": null,
            "flex": null,
            "flex_flow": null,
            "grid_area": null,
            "grid_auto_columns": null,
            "grid_auto_flow": null,
            "grid_auto_rows": null,
            "grid_column": null,
            "grid_gap": null,
            "grid_row": null,
            "grid_template_areas": null,
            "grid_template_columns": null,
            "grid_template_rows": null,
            "height": null,
            "justify_content": null,
            "justify_items": null,
            "left": null,
            "margin": null,
            "max_height": null,
            "max_width": null,
            "min_height": null,
            "min_width": null,
            "object_fit": null,
            "object_position": null,
            "order": null,
            "overflow": null,
            "overflow_x": null,
            "overflow_y": null,
            "padding": null,
            "right": null,
            "top": null,
            "visibility": null,
            "width": null
          }
        },
        "8ed606231e374ab898aa38e0b1f27a05": {
          "model_module": "@jupyter-widgets/controls",
          "model_name": "DescriptionStyleModel",
          "model_module_version": "1.5.0",
          "state": {
            "_model_module": "@jupyter-widgets/controls",
            "_model_module_version": "1.5.0",
            "_model_name": "DescriptionStyleModel",
            "_view_count": null,
            "_view_module": "@jupyter-widgets/base",
            "_view_module_version": "1.2.0",
            "_view_name": "StyleView",
            "description_width": ""
          }
        },
        "a99c3b7f5a3d438baae148c707bdb6ff": {
          "model_module": "@jupyter-widgets/base",
          "model_name": "LayoutModel",
          "model_module_version": "1.2.0",
          "state": {
            "_model_module": "@jupyter-widgets/base",
            "_model_module_version": "1.2.0",
            "_model_name": "LayoutModel",
            "_view_count": null,
            "_view_module": "@jupyter-widgets/base",
            "_view_module_version": "1.2.0",
            "_view_name": "LayoutView",
            "align_content": null,
            "align_items": null,
            "align_self": null,
            "border": null,
            "bottom": null,
            "display": null,
            "flex": null,
            "flex_flow": null,
            "grid_area": null,
            "grid_auto_columns": null,
            "grid_auto_flow": null,
            "grid_auto_rows": null,
            "grid_column": null,
            "grid_gap": null,
            "grid_row": null,
            "grid_template_areas": null,
            "grid_template_columns": null,
            "grid_template_rows": null,
            "height": null,
            "justify_content": null,
            "justify_items": null,
            "left": null,
            "margin": null,
            "max_height": null,
            "max_width": null,
            "min_height": null,
            "min_width": null,
            "object_fit": null,
            "object_position": null,
            "order": null,
            "overflow": null,
            "overflow_x": null,
            "overflow_y": null,
            "padding": null,
            "right": null,
            "top": null,
            "visibility": null,
            "width": null
          }
        },
        "649fde8fdee247fb9fc7c1edd8a22aad": {
          "model_module": "@jupyter-widgets/controls",
          "model_name": "ProgressStyleModel",
          "model_module_version": "1.5.0",
          "state": {
            "_model_module": "@jupyter-widgets/controls",
            "_model_module_version": "1.5.0",
            "_model_name": "ProgressStyleModel",
            "_view_count": null,
            "_view_module": "@jupyter-widgets/base",
            "_view_module_version": "1.2.0",
            "_view_name": "StyleView",
            "bar_color": null,
            "description_width": ""
          }
        },
        "fbd4024ecc77402399fd55c3738dc173": {
          "model_module": "@jupyter-widgets/controls",
          "model_name": "VBoxModel",
          "model_module_version": "1.5.0",
          "state": {
            "_dom_classes": [],
            "_model_module": "@jupyter-widgets/controls",
            "_model_module_version": "1.5.0",
            "_model_name": "VBoxModel",
            "_view_count": null,
            "_view_module": "@jupyter-widgets/controls",
            "_view_module_version": "1.5.0",
            "_view_name": "VBoxView",
            "box_style": "",
            "children": [
              "IPY_MODEL_23795b540a3a437d83d22ab14d167b7f",
              "IPY_MODEL_79057a0b9b1c4e9fbc30eb7fb22578f9"
            ],
            "layout": "IPY_MODEL_a67c10cc02d14ebb8999ad52d57c753e"
          }
        },
        "23795b540a3a437d83d22ab14d167b7f": {
          "model_module": "@jupyter-widgets/controls",
          "model_name": "LabelModel",
          "model_module_version": "1.5.0",
          "state": {
            "_dom_classes": [],
            "_model_module": "@jupyter-widgets/controls",
            "_model_module_version": "1.5.0",
            "_model_name": "LabelModel",
            "_view_count": null,
            "_view_module": "@jupyter-widgets/controls",
            "_view_module_version": "1.5.0",
            "_view_name": "LabelView",
            "description": "",
            "description_tooltip": null,
            "layout": "IPY_MODEL_aca1ea12824d47489393dfeb822e5bb2",
            "placeholder": "​",
            "style": "IPY_MODEL_b6a1d1ee0ff345a0b9e0ed0c80cbcb65",
            "value": "1.386 MB of 1.386 MB uploaded (0.091 MB deduped)\r"
          }
        },
        "79057a0b9b1c4e9fbc30eb7fb22578f9": {
          "model_module": "@jupyter-widgets/controls",
          "model_name": "FloatProgressModel",
          "model_module_version": "1.5.0",
          "state": {
            "_dom_classes": [],
            "_model_module": "@jupyter-widgets/controls",
            "_model_module_version": "1.5.0",
            "_model_name": "FloatProgressModel",
            "_view_count": null,
            "_view_module": "@jupyter-widgets/controls",
            "_view_module_version": "1.5.0",
            "_view_name": "ProgressView",
            "bar_style": "",
            "description": "",
            "description_tooltip": null,
            "layout": "IPY_MODEL_826328d41d414d16aeda4a3ce2bee3ca",
            "max": 1,
            "min": 0,
            "orientation": "horizontal",
            "style": "IPY_MODEL_cfa84b740af34e9a9d078783777f5aab",
            "value": 1
          }
        },
        "a67c10cc02d14ebb8999ad52d57c753e": {
          "model_module": "@jupyter-widgets/base",
          "model_name": "LayoutModel",
          "model_module_version": "1.2.0",
          "state": {
            "_model_module": "@jupyter-widgets/base",
            "_model_module_version": "1.2.0",
            "_model_name": "LayoutModel",
            "_view_count": null,
            "_view_module": "@jupyter-widgets/base",
            "_view_module_version": "1.2.0",
            "_view_name": "LayoutView",
            "align_content": null,
            "align_items": null,
            "align_self": null,
            "border": null,
            "bottom": null,
            "display": null,
            "flex": null,
            "flex_flow": null,
            "grid_area": null,
            "grid_auto_columns": null,
            "grid_auto_flow": null,
            "grid_auto_rows": null,
            "grid_column": null,
            "grid_gap": null,
            "grid_row": null,
            "grid_template_areas": null,
            "grid_template_columns": null,
            "grid_template_rows": null,
            "height": null,
            "justify_content": null,
            "justify_items": null,
            "left": null,
            "margin": null,
            "max_height": null,
            "max_width": null,
            "min_height": null,
            "min_width": null,
            "object_fit": null,
            "object_position": null,
            "order": null,
            "overflow": null,
            "overflow_x": null,
            "overflow_y": null,
            "padding": null,
            "right": null,
            "top": null,
            "visibility": null,
            "width": null
          }
        },
        "aca1ea12824d47489393dfeb822e5bb2": {
          "model_module": "@jupyter-widgets/base",
          "model_name": "LayoutModel",
          "model_module_version": "1.2.0",
          "state": {
            "_model_module": "@jupyter-widgets/base",
            "_model_module_version": "1.2.0",
            "_model_name": "LayoutModel",
            "_view_count": null,
            "_view_module": "@jupyter-widgets/base",
            "_view_module_version": "1.2.0",
            "_view_name": "LayoutView",
            "align_content": null,
            "align_items": null,
            "align_self": null,
            "border": null,
            "bottom": null,
            "display": null,
            "flex": null,
            "flex_flow": null,
            "grid_area": null,
            "grid_auto_columns": null,
            "grid_auto_flow": null,
            "grid_auto_rows": null,
            "grid_column": null,
            "grid_gap": null,
            "grid_row": null,
            "grid_template_areas": null,
            "grid_template_columns": null,
            "grid_template_rows": null,
            "height": null,
            "justify_content": null,
            "justify_items": null,
            "left": null,
            "margin": null,
            "max_height": null,
            "max_width": null,
            "min_height": null,
            "min_width": null,
            "object_fit": null,
            "object_position": null,
            "order": null,
            "overflow": null,
            "overflow_x": null,
            "overflow_y": null,
            "padding": null,
            "right": null,
            "top": null,
            "visibility": null,
            "width": null
          }
        },
        "b6a1d1ee0ff345a0b9e0ed0c80cbcb65": {
          "model_module": "@jupyter-widgets/controls",
          "model_name": "DescriptionStyleModel",
          "model_module_version": "1.5.0",
          "state": {
            "_model_module": "@jupyter-widgets/controls",
            "_model_module_version": "1.5.0",
            "_model_name": "DescriptionStyleModel",
            "_view_count": null,
            "_view_module": "@jupyter-widgets/base",
            "_view_module_version": "1.2.0",
            "_view_name": "StyleView",
            "description_width": ""
          }
        },
        "826328d41d414d16aeda4a3ce2bee3ca": {
          "model_module": "@jupyter-widgets/base",
          "model_name": "LayoutModel",
          "model_module_version": "1.2.0",
          "state": {
            "_model_module": "@jupyter-widgets/base",
            "_model_module_version": "1.2.0",
            "_model_name": "LayoutModel",
            "_view_count": null,
            "_view_module": "@jupyter-widgets/base",
            "_view_module_version": "1.2.0",
            "_view_name": "LayoutView",
            "align_content": null,
            "align_items": null,
            "align_self": null,
            "border": null,
            "bottom": null,
            "display": null,
            "flex": null,
            "flex_flow": null,
            "grid_area": null,
            "grid_auto_columns": null,
            "grid_auto_flow": null,
            "grid_auto_rows": null,
            "grid_column": null,
            "grid_gap": null,
            "grid_row": null,
            "grid_template_areas": null,
            "grid_template_columns": null,
            "grid_template_rows": null,
            "height": null,
            "justify_content": null,
            "justify_items": null,
            "left": null,
            "margin": null,
            "max_height": null,
            "max_width": null,
            "min_height": null,
            "min_width": null,
            "object_fit": null,
            "object_position": null,
            "order": null,
            "overflow": null,
            "overflow_x": null,
            "overflow_y": null,
            "padding": null,
            "right": null,
            "top": null,
            "visibility": null,
            "width": null
          }
        },
        "cfa84b740af34e9a9d078783777f5aab": {
          "model_module": "@jupyter-widgets/controls",
          "model_name": "ProgressStyleModel",
          "model_module_version": "1.5.0",
          "state": {
            "_model_module": "@jupyter-widgets/controls",
            "_model_module_version": "1.5.0",
            "_model_name": "ProgressStyleModel",
            "_view_count": null,
            "_view_module": "@jupyter-widgets/base",
            "_view_module_version": "1.2.0",
            "_view_name": "StyleView",
            "bar_color": null,
            "description_width": ""
          }
        },
        "bb0eaa2df7e4443e9e91e1deff8e7259": {
          "model_module": "@jupyter-widgets/controls",
          "model_name": "VBoxModel",
          "model_module_version": "1.5.0",
          "state": {
            "_dom_classes": [],
            "_model_module": "@jupyter-widgets/controls",
            "_model_module_version": "1.5.0",
            "_model_name": "VBoxModel",
            "_view_count": null,
            "_view_module": "@jupyter-widgets/controls",
            "_view_module_version": "1.5.0",
            "_view_name": "VBoxView",
            "box_style": "",
            "children": [
              "IPY_MODEL_a2354343d5364f34a82f6bc61f818bcd",
              "IPY_MODEL_33578c7bf6954aac9fa66c0b7fa4750a"
            ],
            "layout": "IPY_MODEL_3fd0c73386424fe3903f9d24d64fd5d6"
          }
        },
        "a2354343d5364f34a82f6bc61f818bcd": {
          "model_module": "@jupyter-widgets/controls",
          "model_name": "LabelModel",
          "model_module_version": "1.5.0",
          "state": {
            "_dom_classes": [],
            "_model_module": "@jupyter-widgets/controls",
            "_model_module_version": "1.5.0",
            "_model_name": "LabelModel",
            "_view_count": null,
            "_view_module": "@jupyter-widgets/controls",
            "_view_module_version": "1.5.0",
            "_view_name": "LabelView",
            "description": "",
            "description_tooltip": null,
            "layout": "IPY_MODEL_93978453e998404aafa2a166e5dae905",
            "placeholder": "​",
            "style": "IPY_MODEL_3f56b77ba66048a8bac957b1fcf10557",
            "value": "13928.308 MB of 13928.308 MB uploaded (0.693 MB deduped)\r"
          }
        },
        "33578c7bf6954aac9fa66c0b7fa4750a": {
          "model_module": "@jupyter-widgets/controls",
          "model_name": "FloatProgressModel",
          "model_module_version": "1.5.0",
          "state": {
            "_dom_classes": [],
            "_model_module": "@jupyter-widgets/controls",
            "_model_module_version": "1.5.0",
            "_model_name": "FloatProgressModel",
            "_view_count": null,
            "_view_module": "@jupyter-widgets/controls",
            "_view_module_version": "1.5.0",
            "_view_name": "ProgressView",
            "bar_style": "",
            "description": "",
            "description_tooltip": null,
            "layout": "IPY_MODEL_eac3459da960438786f016c5eec44827",
            "max": 1,
            "min": 0,
            "orientation": "horizontal",
            "style": "IPY_MODEL_fd6f5947ee34492a81e70cb556134a8e",
            "value": 1
          }
        },
        "3fd0c73386424fe3903f9d24d64fd5d6": {
          "model_module": "@jupyter-widgets/base",
          "model_name": "LayoutModel",
          "model_module_version": "1.2.0",
          "state": {
            "_model_module": "@jupyter-widgets/base",
            "_model_module_version": "1.2.0",
            "_model_name": "LayoutModel",
            "_view_count": null,
            "_view_module": "@jupyter-widgets/base",
            "_view_module_version": "1.2.0",
            "_view_name": "LayoutView",
            "align_content": null,
            "align_items": null,
            "align_self": null,
            "border": null,
            "bottom": null,
            "display": null,
            "flex": null,
            "flex_flow": null,
            "grid_area": null,
            "grid_auto_columns": null,
            "grid_auto_flow": null,
            "grid_auto_rows": null,
            "grid_column": null,
            "grid_gap": null,
            "grid_row": null,
            "grid_template_areas": null,
            "grid_template_columns": null,
            "grid_template_rows": null,
            "height": null,
            "justify_content": null,
            "justify_items": null,
            "left": null,
            "margin": null,
            "max_height": null,
            "max_width": null,
            "min_height": null,
            "min_width": null,
            "object_fit": null,
            "object_position": null,
            "order": null,
            "overflow": null,
            "overflow_x": null,
            "overflow_y": null,
            "padding": null,
            "right": null,
            "top": null,
            "visibility": null,
            "width": null
          }
        },
        "93978453e998404aafa2a166e5dae905": {
          "model_module": "@jupyter-widgets/base",
          "model_name": "LayoutModel",
          "model_module_version": "1.2.0",
          "state": {
            "_model_module": "@jupyter-widgets/base",
            "_model_module_version": "1.2.0",
            "_model_name": "LayoutModel",
            "_view_count": null,
            "_view_module": "@jupyter-widgets/base",
            "_view_module_version": "1.2.0",
            "_view_name": "LayoutView",
            "align_content": null,
            "align_items": null,
            "align_self": null,
            "border": null,
            "bottom": null,
            "display": null,
            "flex": null,
            "flex_flow": null,
            "grid_area": null,
            "grid_auto_columns": null,
            "grid_auto_flow": null,
            "grid_auto_rows": null,
            "grid_column": null,
            "grid_gap": null,
            "grid_row": null,
            "grid_template_areas": null,
            "grid_template_columns": null,
            "grid_template_rows": null,
            "height": null,
            "justify_content": null,
            "justify_items": null,
            "left": null,
            "margin": null,
            "max_height": null,
            "max_width": null,
            "min_height": null,
            "min_width": null,
            "object_fit": null,
            "object_position": null,
            "order": null,
            "overflow": null,
            "overflow_x": null,
            "overflow_y": null,
            "padding": null,
            "right": null,
            "top": null,
            "visibility": null,
            "width": null
          }
        },
        "3f56b77ba66048a8bac957b1fcf10557": {
          "model_module": "@jupyter-widgets/controls",
          "model_name": "DescriptionStyleModel",
          "model_module_version": "1.5.0",
          "state": {
            "_model_module": "@jupyter-widgets/controls",
            "_model_module_version": "1.5.0",
            "_model_name": "DescriptionStyleModel",
            "_view_count": null,
            "_view_module": "@jupyter-widgets/base",
            "_view_module_version": "1.2.0",
            "_view_name": "StyleView",
            "description_width": ""
          }
        },
        "eac3459da960438786f016c5eec44827": {
          "model_module": "@jupyter-widgets/base",
          "model_name": "LayoutModel",
          "model_module_version": "1.2.0",
          "state": {
            "_model_module": "@jupyter-widgets/base",
            "_model_module_version": "1.2.0",
            "_model_name": "LayoutModel",
            "_view_count": null,
            "_view_module": "@jupyter-widgets/base",
            "_view_module_version": "1.2.0",
            "_view_name": "LayoutView",
            "align_content": null,
            "align_items": null,
            "align_self": null,
            "border": null,
            "bottom": null,
            "display": null,
            "flex": null,
            "flex_flow": null,
            "grid_area": null,
            "grid_auto_columns": null,
            "grid_auto_flow": null,
            "grid_auto_rows": null,
            "grid_column": null,
            "grid_gap": null,
            "grid_row": null,
            "grid_template_areas": null,
            "grid_template_columns": null,
            "grid_template_rows": null,
            "height": null,
            "justify_content": null,
            "justify_items": null,
            "left": null,
            "margin": null,
            "max_height": null,
            "max_width": null,
            "min_height": null,
            "min_width": null,
            "object_fit": null,
            "object_position": null,
            "order": null,
            "overflow": null,
            "overflow_x": null,
            "overflow_y": null,
            "padding": null,
            "right": null,
            "top": null,
            "visibility": null,
            "width": null
          }
        },
        "fd6f5947ee34492a81e70cb556134a8e": {
          "model_module": "@jupyter-widgets/controls",
          "model_name": "ProgressStyleModel",
          "model_module_version": "1.5.0",
          "state": {
            "_model_module": "@jupyter-widgets/controls",
            "_model_module_version": "1.5.0",
            "_model_name": "ProgressStyleModel",
            "_view_count": null,
            "_view_module": "@jupyter-widgets/base",
            "_view_module_version": "1.2.0",
            "_view_name": "StyleView",
            "bar_color": null,
            "description_width": ""
          }
        },
        "3607e086da2f4172bdb7abab9beaf2a2": {
          "model_module": "@jupyter-widgets/controls",
          "model_name": "VBoxModel",
          "model_module_version": "1.5.0",
          "state": {
            "_dom_classes": [],
            "_model_module": "@jupyter-widgets/controls",
            "_model_module_version": "1.5.0",
            "_model_name": "VBoxModel",
            "_view_count": null,
            "_view_module": "@jupyter-widgets/controls",
            "_view_module_version": "1.5.0",
            "_view_name": "VBoxView",
            "box_style": "",
            "children": [
              "IPY_MODEL_64dbe60611cc48118544c704a0a5a39e",
              "IPY_MODEL_071bd9babf7f4435a0d3c6df565ec03e"
            ],
            "layout": "IPY_MODEL_37c7fb17202e4a5b8a497ece41b2b1c9"
          }
        },
        "64dbe60611cc48118544c704a0a5a39e": {
          "model_module": "@jupyter-widgets/controls",
          "model_name": "LabelModel",
          "model_module_version": "1.5.0",
          "state": {
            "_dom_classes": [],
            "_model_module": "@jupyter-widgets/controls",
            "_model_module_version": "1.5.0",
            "_model_name": "LabelModel",
            "_view_count": null,
            "_view_module": "@jupyter-widgets/controls",
            "_view_module_version": "1.5.0",
            "_view_name": "LabelView",
            "description": "",
            "description_tooltip": null,
            "layout": "IPY_MODEL_82fda911f7ea439c8ceadd9e06d83a81",
            "placeholder": "​",
            "style": "IPY_MODEL_f1d3f83a85f04eaab9428ed68623e2a2",
            "value": "0.815 MB of 0.815 MB uploaded (0.050 MB deduped)\r"
          }
        },
        "071bd9babf7f4435a0d3c6df565ec03e": {
          "model_module": "@jupyter-widgets/controls",
          "model_name": "FloatProgressModel",
          "model_module_version": "1.5.0",
          "state": {
            "_dom_classes": [],
            "_model_module": "@jupyter-widgets/controls",
            "_model_module_version": "1.5.0",
            "_model_name": "FloatProgressModel",
            "_view_count": null,
            "_view_module": "@jupyter-widgets/controls",
            "_view_module_version": "1.5.0",
            "_view_name": "ProgressView",
            "bar_style": "",
            "description": "",
            "description_tooltip": null,
            "layout": "IPY_MODEL_7216dc5eebe9427f97df4ebb9519a506",
            "max": 1,
            "min": 0,
            "orientation": "horizontal",
            "style": "IPY_MODEL_2e0127b6b8134d6c8448f4323cd48442",
            "value": 1
          }
        },
        "37c7fb17202e4a5b8a497ece41b2b1c9": {
          "model_module": "@jupyter-widgets/base",
          "model_name": "LayoutModel",
          "model_module_version": "1.2.0",
          "state": {
            "_model_module": "@jupyter-widgets/base",
            "_model_module_version": "1.2.0",
            "_model_name": "LayoutModel",
            "_view_count": null,
            "_view_module": "@jupyter-widgets/base",
            "_view_module_version": "1.2.0",
            "_view_name": "LayoutView",
            "align_content": null,
            "align_items": null,
            "align_self": null,
            "border": null,
            "bottom": null,
            "display": null,
            "flex": null,
            "flex_flow": null,
            "grid_area": null,
            "grid_auto_columns": null,
            "grid_auto_flow": null,
            "grid_auto_rows": null,
            "grid_column": null,
            "grid_gap": null,
            "grid_row": null,
            "grid_template_areas": null,
            "grid_template_columns": null,
            "grid_template_rows": null,
            "height": null,
            "justify_content": null,
            "justify_items": null,
            "left": null,
            "margin": null,
            "max_height": null,
            "max_width": null,
            "min_height": null,
            "min_width": null,
            "object_fit": null,
            "object_position": null,
            "order": null,
            "overflow": null,
            "overflow_x": null,
            "overflow_y": null,
            "padding": null,
            "right": null,
            "top": null,
            "visibility": null,
            "width": null
          }
        },
        "82fda911f7ea439c8ceadd9e06d83a81": {
          "model_module": "@jupyter-widgets/base",
          "model_name": "LayoutModel",
          "model_module_version": "1.2.0",
          "state": {
            "_model_module": "@jupyter-widgets/base",
            "_model_module_version": "1.2.0",
            "_model_name": "LayoutModel",
            "_view_count": null,
            "_view_module": "@jupyter-widgets/base",
            "_view_module_version": "1.2.0",
            "_view_name": "LayoutView",
            "align_content": null,
            "align_items": null,
            "align_self": null,
            "border": null,
            "bottom": null,
            "display": null,
            "flex": null,
            "flex_flow": null,
            "grid_area": null,
            "grid_auto_columns": null,
            "grid_auto_flow": null,
            "grid_auto_rows": null,
            "grid_column": null,
            "grid_gap": null,
            "grid_row": null,
            "grid_template_areas": null,
            "grid_template_columns": null,
            "grid_template_rows": null,
            "height": null,
            "justify_content": null,
            "justify_items": null,
            "left": null,
            "margin": null,
            "max_height": null,
            "max_width": null,
            "min_height": null,
            "min_width": null,
            "object_fit": null,
            "object_position": null,
            "order": null,
            "overflow": null,
            "overflow_x": null,
            "overflow_y": null,
            "padding": null,
            "right": null,
            "top": null,
            "visibility": null,
            "width": null
          }
        },
        "f1d3f83a85f04eaab9428ed68623e2a2": {
          "model_module": "@jupyter-widgets/controls",
          "model_name": "DescriptionStyleModel",
          "model_module_version": "1.5.0",
          "state": {
            "_model_module": "@jupyter-widgets/controls",
            "_model_module_version": "1.5.0",
            "_model_name": "DescriptionStyleModel",
            "_view_count": null,
            "_view_module": "@jupyter-widgets/base",
            "_view_module_version": "1.2.0",
            "_view_name": "StyleView",
            "description_width": ""
          }
        },
        "7216dc5eebe9427f97df4ebb9519a506": {
          "model_module": "@jupyter-widgets/base",
          "model_name": "LayoutModel",
          "model_module_version": "1.2.0",
          "state": {
            "_model_module": "@jupyter-widgets/base",
            "_model_module_version": "1.2.0",
            "_model_name": "LayoutModel",
            "_view_count": null,
            "_view_module": "@jupyter-widgets/base",
            "_view_module_version": "1.2.0",
            "_view_name": "LayoutView",
            "align_content": null,
            "align_items": null,
            "align_self": null,
            "border": null,
            "bottom": null,
            "display": null,
            "flex": null,
            "flex_flow": null,
            "grid_area": null,
            "grid_auto_columns": null,
            "grid_auto_flow": null,
            "grid_auto_rows": null,
            "grid_column": null,
            "grid_gap": null,
            "grid_row": null,
            "grid_template_areas": null,
            "grid_template_columns": null,
            "grid_template_rows": null,
            "height": null,
            "justify_content": null,
            "justify_items": null,
            "left": null,
            "margin": null,
            "max_height": null,
            "max_width": null,
            "min_height": null,
            "min_width": null,
            "object_fit": null,
            "object_position": null,
            "order": null,
            "overflow": null,
            "overflow_x": null,
            "overflow_y": null,
            "padding": null,
            "right": null,
            "top": null,
            "visibility": null,
            "width": null
          }
        },
        "2e0127b6b8134d6c8448f4323cd48442": {
          "model_module": "@jupyter-widgets/controls",
          "model_name": "ProgressStyleModel",
          "model_module_version": "1.5.0",
          "state": {
            "_model_module": "@jupyter-widgets/controls",
            "_model_module_version": "1.5.0",
            "_model_name": "ProgressStyleModel",
            "_view_count": null,
            "_view_module": "@jupyter-widgets/base",
            "_view_module_version": "1.2.0",
            "_view_name": "StyleView",
            "bar_color": null,
            "description_width": ""
          }
        },
        "9b24104ba75c4a7f87a0b3e770335122": {
          "model_module": "@jupyter-widgets/controls",
          "model_name": "VBoxModel",
          "model_module_version": "1.5.0",
          "state": {
            "_dom_classes": [],
            "_model_module": "@jupyter-widgets/controls",
            "_model_module_version": "1.5.0",
            "_model_name": "VBoxModel",
            "_view_count": null,
            "_view_module": "@jupyter-widgets/controls",
            "_view_module_version": "1.5.0",
            "_view_name": "VBoxView",
            "box_style": "",
            "children": [
              "IPY_MODEL_9c8dda4da5074995a3daf409b1ead093",
              "IPY_MODEL_eeec7e8df4a44ddda6d0b05f04c2acc4"
            ],
            "layout": "IPY_MODEL_88735dd1e57f4ec69cceb9ae5aaa1584"
          }
        },
        "9c8dda4da5074995a3daf409b1ead093": {
          "model_module": "@jupyter-widgets/controls",
          "model_name": "LabelModel",
          "model_module_version": "1.5.0",
          "state": {
            "_dom_classes": [],
            "_model_module": "@jupyter-widgets/controls",
            "_model_module_version": "1.5.0",
            "_model_name": "LabelModel",
            "_view_count": null,
            "_view_module": "@jupyter-widgets/controls",
            "_view_module_version": "1.5.0",
            "_view_name": "LabelView",
            "description": "",
            "description_tooltip": null,
            "layout": "IPY_MODEL_6aff6bccb2044ffcbd8ccb1992171e41",
            "placeholder": "​",
            "style": "IPY_MODEL_b10332ea6f114a658996d0157d435d11",
            "value": "1.059 MB of 1.059 MB uploaded (0.065 MB deduped)\r"
          }
        },
        "eeec7e8df4a44ddda6d0b05f04c2acc4": {
          "model_module": "@jupyter-widgets/controls",
          "model_name": "FloatProgressModel",
          "model_module_version": "1.5.0",
          "state": {
            "_dom_classes": [],
            "_model_module": "@jupyter-widgets/controls",
            "_model_module_version": "1.5.0",
            "_model_name": "FloatProgressModel",
            "_view_count": null,
            "_view_module": "@jupyter-widgets/controls",
            "_view_module_version": "1.5.0",
            "_view_name": "ProgressView",
            "bar_style": "",
            "description": "",
            "description_tooltip": null,
            "layout": "IPY_MODEL_f8e23f38360a4d8aaeecf6cbf960ed87",
            "max": 1,
            "min": 0,
            "orientation": "horizontal",
            "style": "IPY_MODEL_e6f3f1508c0e4dd49b92a6047ce77a9e",
            "value": 1
          }
        },
        "88735dd1e57f4ec69cceb9ae5aaa1584": {
          "model_module": "@jupyter-widgets/base",
          "model_name": "LayoutModel",
          "model_module_version": "1.2.0",
          "state": {
            "_model_module": "@jupyter-widgets/base",
            "_model_module_version": "1.2.0",
            "_model_name": "LayoutModel",
            "_view_count": null,
            "_view_module": "@jupyter-widgets/base",
            "_view_module_version": "1.2.0",
            "_view_name": "LayoutView",
            "align_content": null,
            "align_items": null,
            "align_self": null,
            "border": null,
            "bottom": null,
            "display": null,
            "flex": null,
            "flex_flow": null,
            "grid_area": null,
            "grid_auto_columns": null,
            "grid_auto_flow": null,
            "grid_auto_rows": null,
            "grid_column": null,
            "grid_gap": null,
            "grid_row": null,
            "grid_template_areas": null,
            "grid_template_columns": null,
            "grid_template_rows": null,
            "height": null,
            "justify_content": null,
            "justify_items": null,
            "left": null,
            "margin": null,
            "max_height": null,
            "max_width": null,
            "min_height": null,
            "min_width": null,
            "object_fit": null,
            "object_position": null,
            "order": null,
            "overflow": null,
            "overflow_x": null,
            "overflow_y": null,
            "padding": null,
            "right": null,
            "top": null,
            "visibility": null,
            "width": null
          }
        },
        "6aff6bccb2044ffcbd8ccb1992171e41": {
          "model_module": "@jupyter-widgets/base",
          "model_name": "LayoutModel",
          "model_module_version": "1.2.0",
          "state": {
            "_model_module": "@jupyter-widgets/base",
            "_model_module_version": "1.2.0",
            "_model_name": "LayoutModel",
            "_view_count": null,
            "_view_module": "@jupyter-widgets/base",
            "_view_module_version": "1.2.0",
            "_view_name": "LayoutView",
            "align_content": null,
            "align_items": null,
            "align_self": null,
            "border": null,
            "bottom": null,
            "display": null,
            "flex": null,
            "flex_flow": null,
            "grid_area": null,
            "grid_auto_columns": null,
            "grid_auto_flow": null,
            "grid_auto_rows": null,
            "grid_column": null,
            "grid_gap": null,
            "grid_row": null,
            "grid_template_areas": null,
            "grid_template_columns": null,
            "grid_template_rows": null,
            "height": null,
            "justify_content": null,
            "justify_items": null,
            "left": null,
            "margin": null,
            "max_height": null,
            "max_width": null,
            "min_height": null,
            "min_width": null,
            "object_fit": null,
            "object_position": null,
            "order": null,
            "overflow": null,
            "overflow_x": null,
            "overflow_y": null,
            "padding": null,
            "right": null,
            "top": null,
            "visibility": null,
            "width": null
          }
        },
        "b10332ea6f114a658996d0157d435d11": {
          "model_module": "@jupyter-widgets/controls",
          "model_name": "DescriptionStyleModel",
          "model_module_version": "1.5.0",
          "state": {
            "_model_module": "@jupyter-widgets/controls",
            "_model_module_version": "1.5.0",
            "_model_name": "DescriptionStyleModel",
            "_view_count": null,
            "_view_module": "@jupyter-widgets/base",
            "_view_module_version": "1.2.0",
            "_view_name": "StyleView",
            "description_width": ""
          }
        },
        "f8e23f38360a4d8aaeecf6cbf960ed87": {
          "model_module": "@jupyter-widgets/base",
          "model_name": "LayoutModel",
          "model_module_version": "1.2.0",
          "state": {
            "_model_module": "@jupyter-widgets/base",
            "_model_module_version": "1.2.0",
            "_model_name": "LayoutModel",
            "_view_count": null,
            "_view_module": "@jupyter-widgets/base",
            "_view_module_version": "1.2.0",
            "_view_name": "LayoutView",
            "align_content": null,
            "align_items": null,
            "align_self": null,
            "border": null,
            "bottom": null,
            "display": null,
            "flex": null,
            "flex_flow": null,
            "grid_area": null,
            "grid_auto_columns": null,
            "grid_auto_flow": null,
            "grid_auto_rows": null,
            "grid_column": null,
            "grid_gap": null,
            "grid_row": null,
            "grid_template_areas": null,
            "grid_template_columns": null,
            "grid_template_rows": null,
            "height": null,
            "justify_content": null,
            "justify_items": null,
            "left": null,
            "margin": null,
            "max_height": null,
            "max_width": null,
            "min_height": null,
            "min_width": null,
            "object_fit": null,
            "object_position": null,
            "order": null,
            "overflow": null,
            "overflow_x": null,
            "overflow_y": null,
            "padding": null,
            "right": null,
            "top": null,
            "visibility": null,
            "width": null
          }
        },
        "e6f3f1508c0e4dd49b92a6047ce77a9e": {
          "model_module": "@jupyter-widgets/controls",
          "model_name": "ProgressStyleModel",
          "model_module_version": "1.5.0",
          "state": {
            "_model_module": "@jupyter-widgets/controls",
            "_model_module_version": "1.5.0",
            "_model_name": "ProgressStyleModel",
            "_view_count": null,
            "_view_module": "@jupyter-widgets/base",
            "_view_module_version": "1.2.0",
            "_view_name": "StyleView",
            "bar_color": null,
            "description_width": ""
          }
        },
        "3c39fc25ec8644cf888e22bcd9a87139": {
          "model_module": "@jupyter-widgets/controls",
          "model_name": "VBoxModel",
          "model_module_version": "1.5.0",
          "state": {
            "_dom_classes": [],
            "_model_module": "@jupyter-widgets/controls",
            "_model_module_version": "1.5.0",
            "_model_name": "VBoxModel",
            "_view_count": null,
            "_view_module": "@jupyter-widgets/controls",
            "_view_module_version": "1.5.0",
            "_view_name": "VBoxView",
            "box_style": "",
            "children": [
              "IPY_MODEL_5303e149e92c4693b7c811f19fbf55b3",
              "IPY_MODEL_83254402c7e24ceda1ee40d12c598c71"
            ],
            "layout": "IPY_MODEL_1a3891f061f14e238310abaaa6d7d495"
          }
        },
        "5303e149e92c4693b7c811f19fbf55b3": {
          "model_module": "@jupyter-widgets/controls",
          "model_name": "LabelModel",
          "model_module_version": "1.5.0",
          "state": {
            "_dom_classes": [],
            "_model_module": "@jupyter-widgets/controls",
            "_model_module_version": "1.5.0",
            "_model_name": "LabelModel",
            "_view_count": null,
            "_view_module": "@jupyter-widgets/controls",
            "_view_module_version": "1.5.0",
            "_view_name": "LabelView",
            "description": "",
            "description_tooltip": null,
            "layout": "IPY_MODEL_b229dfab9a9448b8a7241164f9871f94",
            "placeholder": "​",
            "style": "IPY_MODEL_70df1eea80934da6a8dde5a90135ff8e",
            "value": "0.925 MB of 0.925 MB uploaded (0.058 MB deduped)\r"
          }
        },
        "83254402c7e24ceda1ee40d12c598c71": {
          "model_module": "@jupyter-widgets/controls",
          "model_name": "FloatProgressModel",
          "model_module_version": "1.5.0",
          "state": {
            "_dom_classes": [],
            "_model_module": "@jupyter-widgets/controls",
            "_model_module_version": "1.5.0",
            "_model_name": "FloatProgressModel",
            "_view_count": null,
            "_view_module": "@jupyter-widgets/controls",
            "_view_module_version": "1.5.0",
            "_view_name": "ProgressView",
            "bar_style": "",
            "description": "",
            "description_tooltip": null,
            "layout": "IPY_MODEL_2f8cb3abef2c477fab1e39e6589d9f86",
            "max": 1,
            "min": 0,
            "orientation": "horizontal",
            "style": "IPY_MODEL_2d472a8d591c4d5d96b71689e6b417b8",
            "value": 1
          }
        },
        "1a3891f061f14e238310abaaa6d7d495": {
          "model_module": "@jupyter-widgets/base",
          "model_name": "LayoutModel",
          "model_module_version": "1.2.0",
          "state": {
            "_model_module": "@jupyter-widgets/base",
            "_model_module_version": "1.2.0",
            "_model_name": "LayoutModel",
            "_view_count": null,
            "_view_module": "@jupyter-widgets/base",
            "_view_module_version": "1.2.0",
            "_view_name": "LayoutView",
            "align_content": null,
            "align_items": null,
            "align_self": null,
            "border": null,
            "bottom": null,
            "display": null,
            "flex": null,
            "flex_flow": null,
            "grid_area": null,
            "grid_auto_columns": null,
            "grid_auto_flow": null,
            "grid_auto_rows": null,
            "grid_column": null,
            "grid_gap": null,
            "grid_row": null,
            "grid_template_areas": null,
            "grid_template_columns": null,
            "grid_template_rows": null,
            "height": null,
            "justify_content": null,
            "justify_items": null,
            "left": null,
            "margin": null,
            "max_height": null,
            "max_width": null,
            "min_height": null,
            "min_width": null,
            "object_fit": null,
            "object_position": null,
            "order": null,
            "overflow": null,
            "overflow_x": null,
            "overflow_y": null,
            "padding": null,
            "right": null,
            "top": null,
            "visibility": null,
            "width": null
          }
        },
        "b229dfab9a9448b8a7241164f9871f94": {
          "model_module": "@jupyter-widgets/base",
          "model_name": "LayoutModel",
          "model_module_version": "1.2.0",
          "state": {
            "_model_module": "@jupyter-widgets/base",
            "_model_module_version": "1.2.0",
            "_model_name": "LayoutModel",
            "_view_count": null,
            "_view_module": "@jupyter-widgets/base",
            "_view_module_version": "1.2.0",
            "_view_name": "LayoutView",
            "align_content": null,
            "align_items": null,
            "align_self": null,
            "border": null,
            "bottom": null,
            "display": null,
            "flex": null,
            "flex_flow": null,
            "grid_area": null,
            "grid_auto_columns": null,
            "grid_auto_flow": null,
            "grid_auto_rows": null,
            "grid_column": null,
            "grid_gap": null,
            "grid_row": null,
            "grid_template_areas": null,
            "grid_template_columns": null,
            "grid_template_rows": null,
            "height": null,
            "justify_content": null,
            "justify_items": null,
            "left": null,
            "margin": null,
            "max_height": null,
            "max_width": null,
            "min_height": null,
            "min_width": null,
            "object_fit": null,
            "object_position": null,
            "order": null,
            "overflow": null,
            "overflow_x": null,
            "overflow_y": null,
            "padding": null,
            "right": null,
            "top": null,
            "visibility": null,
            "width": null
          }
        },
        "70df1eea80934da6a8dde5a90135ff8e": {
          "model_module": "@jupyter-widgets/controls",
          "model_name": "DescriptionStyleModel",
          "model_module_version": "1.5.0",
          "state": {
            "_model_module": "@jupyter-widgets/controls",
            "_model_module_version": "1.5.0",
            "_model_name": "DescriptionStyleModel",
            "_view_count": null,
            "_view_module": "@jupyter-widgets/base",
            "_view_module_version": "1.2.0",
            "_view_name": "StyleView",
            "description_width": ""
          }
        },
        "2f8cb3abef2c477fab1e39e6589d9f86": {
          "model_module": "@jupyter-widgets/base",
          "model_name": "LayoutModel",
          "model_module_version": "1.2.0",
          "state": {
            "_model_module": "@jupyter-widgets/base",
            "_model_module_version": "1.2.0",
            "_model_name": "LayoutModel",
            "_view_count": null,
            "_view_module": "@jupyter-widgets/base",
            "_view_module_version": "1.2.0",
            "_view_name": "LayoutView",
            "align_content": null,
            "align_items": null,
            "align_self": null,
            "border": null,
            "bottom": null,
            "display": null,
            "flex": null,
            "flex_flow": null,
            "grid_area": null,
            "grid_auto_columns": null,
            "grid_auto_flow": null,
            "grid_auto_rows": null,
            "grid_column": null,
            "grid_gap": null,
            "grid_row": null,
            "grid_template_areas": null,
            "grid_template_columns": null,
            "grid_template_rows": null,
            "height": null,
            "justify_content": null,
            "justify_items": null,
            "left": null,
            "margin": null,
            "max_height": null,
            "max_width": null,
            "min_height": null,
            "min_width": null,
            "object_fit": null,
            "object_position": null,
            "order": null,
            "overflow": null,
            "overflow_x": null,
            "overflow_y": null,
            "padding": null,
            "right": null,
            "top": null,
            "visibility": null,
            "width": null
          }
        },
        "2d472a8d591c4d5d96b71689e6b417b8": {
          "model_module": "@jupyter-widgets/controls",
          "model_name": "ProgressStyleModel",
          "model_module_version": "1.5.0",
          "state": {
            "_model_module": "@jupyter-widgets/controls",
            "_model_module_version": "1.5.0",
            "_model_name": "ProgressStyleModel",
            "_view_count": null,
            "_view_module": "@jupyter-widgets/base",
            "_view_module_version": "1.2.0",
            "_view_name": "StyleView",
            "bar_color": null,
            "description_width": ""
          }
        },
        "78d3d30028f74c3390f400045dbe9690": {
          "model_module": "@jupyter-widgets/controls",
          "model_name": "VBoxModel",
          "model_module_version": "1.5.0",
          "state": {
            "_dom_classes": [],
            "_model_module": "@jupyter-widgets/controls",
            "_model_module_version": "1.5.0",
            "_model_name": "VBoxModel",
            "_view_count": null,
            "_view_module": "@jupyter-widgets/controls",
            "_view_module_version": "1.5.0",
            "_view_name": "VBoxView",
            "box_style": "",
            "children": [
              "IPY_MODEL_de9582f0b1d842f2859e1654c37db795",
              "IPY_MODEL_a965d62732f3442dbc1813eb592d1021"
            ],
            "layout": "IPY_MODEL_0e1716b1d32a4aa29e575f4f28f331fe"
          }
        },
        "de9582f0b1d842f2859e1654c37db795": {
          "model_module": "@jupyter-widgets/controls",
          "model_name": "LabelModel",
          "model_module_version": "1.5.0",
          "state": {
            "_dom_classes": [],
            "_model_module": "@jupyter-widgets/controls",
            "_model_module_version": "1.5.0",
            "_model_name": "LabelModel",
            "_view_count": null,
            "_view_module": "@jupyter-widgets/controls",
            "_view_module_version": "1.5.0",
            "_view_name": "LabelView",
            "description": "",
            "description_tooltip": null,
            "layout": "IPY_MODEL_2917d1cb23eb471daedc05d5c532c6dc",
            "placeholder": "​",
            "style": "IPY_MODEL_91f55a0ab9c448d6802ac3b56a04fec9",
            "value": "1.034 MB of 1.034 MB uploaded (0.066 MB deduped)\r"
          }
        },
        "a965d62732f3442dbc1813eb592d1021": {
          "model_module": "@jupyter-widgets/controls",
          "model_name": "FloatProgressModel",
          "model_module_version": "1.5.0",
          "state": {
            "_dom_classes": [],
            "_model_module": "@jupyter-widgets/controls",
            "_model_module_version": "1.5.0",
            "_model_name": "FloatProgressModel",
            "_view_count": null,
            "_view_module": "@jupyter-widgets/controls",
            "_view_module_version": "1.5.0",
            "_view_name": "ProgressView",
            "bar_style": "",
            "description": "",
            "description_tooltip": null,
            "layout": "IPY_MODEL_b0a66ccb81814d18b262294e3d4d0157",
            "max": 1,
            "min": 0,
            "orientation": "horizontal",
            "style": "IPY_MODEL_c522688e83924bf087c8472b048b12e8",
            "value": 1
          }
        },
        "0e1716b1d32a4aa29e575f4f28f331fe": {
          "model_module": "@jupyter-widgets/base",
          "model_name": "LayoutModel",
          "model_module_version": "1.2.0",
          "state": {
            "_model_module": "@jupyter-widgets/base",
            "_model_module_version": "1.2.0",
            "_model_name": "LayoutModel",
            "_view_count": null,
            "_view_module": "@jupyter-widgets/base",
            "_view_module_version": "1.2.0",
            "_view_name": "LayoutView",
            "align_content": null,
            "align_items": null,
            "align_self": null,
            "border": null,
            "bottom": null,
            "display": null,
            "flex": null,
            "flex_flow": null,
            "grid_area": null,
            "grid_auto_columns": null,
            "grid_auto_flow": null,
            "grid_auto_rows": null,
            "grid_column": null,
            "grid_gap": null,
            "grid_row": null,
            "grid_template_areas": null,
            "grid_template_columns": null,
            "grid_template_rows": null,
            "height": null,
            "justify_content": null,
            "justify_items": null,
            "left": null,
            "margin": null,
            "max_height": null,
            "max_width": null,
            "min_height": null,
            "min_width": null,
            "object_fit": null,
            "object_position": null,
            "order": null,
            "overflow": null,
            "overflow_x": null,
            "overflow_y": null,
            "padding": null,
            "right": null,
            "top": null,
            "visibility": null,
            "width": null
          }
        },
        "2917d1cb23eb471daedc05d5c532c6dc": {
          "model_module": "@jupyter-widgets/base",
          "model_name": "LayoutModel",
          "model_module_version": "1.2.0",
          "state": {
            "_model_module": "@jupyter-widgets/base",
            "_model_module_version": "1.2.0",
            "_model_name": "LayoutModel",
            "_view_count": null,
            "_view_module": "@jupyter-widgets/base",
            "_view_module_version": "1.2.0",
            "_view_name": "LayoutView",
            "align_content": null,
            "align_items": null,
            "align_self": null,
            "border": null,
            "bottom": null,
            "display": null,
            "flex": null,
            "flex_flow": null,
            "grid_area": null,
            "grid_auto_columns": null,
            "grid_auto_flow": null,
            "grid_auto_rows": null,
            "grid_column": null,
            "grid_gap": null,
            "grid_row": null,
            "grid_template_areas": null,
            "grid_template_columns": null,
            "grid_template_rows": null,
            "height": null,
            "justify_content": null,
            "justify_items": null,
            "left": null,
            "margin": null,
            "max_height": null,
            "max_width": null,
            "min_height": null,
            "min_width": null,
            "object_fit": null,
            "object_position": null,
            "order": null,
            "overflow": null,
            "overflow_x": null,
            "overflow_y": null,
            "padding": null,
            "right": null,
            "top": null,
            "visibility": null,
            "width": null
          }
        },
        "91f55a0ab9c448d6802ac3b56a04fec9": {
          "model_module": "@jupyter-widgets/controls",
          "model_name": "DescriptionStyleModel",
          "model_module_version": "1.5.0",
          "state": {
            "_model_module": "@jupyter-widgets/controls",
            "_model_module_version": "1.5.0",
            "_model_name": "DescriptionStyleModel",
            "_view_count": null,
            "_view_module": "@jupyter-widgets/base",
            "_view_module_version": "1.2.0",
            "_view_name": "StyleView",
            "description_width": ""
          }
        },
        "b0a66ccb81814d18b262294e3d4d0157": {
          "model_module": "@jupyter-widgets/base",
          "model_name": "LayoutModel",
          "model_module_version": "1.2.0",
          "state": {
            "_model_module": "@jupyter-widgets/base",
            "_model_module_version": "1.2.0",
            "_model_name": "LayoutModel",
            "_view_count": null,
            "_view_module": "@jupyter-widgets/base",
            "_view_module_version": "1.2.0",
            "_view_name": "LayoutView",
            "align_content": null,
            "align_items": null,
            "align_self": null,
            "border": null,
            "bottom": null,
            "display": null,
            "flex": null,
            "flex_flow": null,
            "grid_area": null,
            "grid_auto_columns": null,
            "grid_auto_flow": null,
            "grid_auto_rows": null,
            "grid_column": null,
            "grid_gap": null,
            "grid_row": null,
            "grid_template_areas": null,
            "grid_template_columns": null,
            "grid_template_rows": null,
            "height": null,
            "justify_content": null,
            "justify_items": null,
            "left": null,
            "margin": null,
            "max_height": null,
            "max_width": null,
            "min_height": null,
            "min_width": null,
            "object_fit": null,
            "object_position": null,
            "order": null,
            "overflow": null,
            "overflow_x": null,
            "overflow_y": null,
            "padding": null,
            "right": null,
            "top": null,
            "visibility": null,
            "width": null
          }
        },
        "c522688e83924bf087c8472b048b12e8": {
          "model_module": "@jupyter-widgets/controls",
          "model_name": "ProgressStyleModel",
          "model_module_version": "1.5.0",
          "state": {
            "_model_module": "@jupyter-widgets/controls",
            "_model_module_version": "1.5.0",
            "_model_name": "ProgressStyleModel",
            "_view_count": null,
            "_view_module": "@jupyter-widgets/base",
            "_view_module_version": "1.2.0",
            "_view_name": "StyleView",
            "bar_color": null,
            "description_width": ""
          }
        },
        "79da092d723d4a70ad05fae365a4eca6": {
          "model_module": "@jupyter-widgets/controls",
          "model_name": "VBoxModel",
          "model_module_version": "1.5.0",
          "state": {
            "_dom_classes": [],
            "_model_module": "@jupyter-widgets/controls",
            "_model_module_version": "1.5.0",
            "_model_name": "VBoxModel",
            "_view_count": null,
            "_view_module": "@jupyter-widgets/controls",
            "_view_module_version": "1.5.0",
            "_view_name": "VBoxView",
            "box_style": "",
            "children": [
              "IPY_MODEL_e99d0c8025424171aa7d82c0dddf1921",
              "IPY_MODEL_f31ae9f3f8bb4e12a1b024925abacb30"
            ],
            "layout": "IPY_MODEL_96630d6c7e734812ae29e8b87fb12281"
          }
        },
        "e99d0c8025424171aa7d82c0dddf1921": {
          "model_module": "@jupyter-widgets/controls",
          "model_name": "LabelModel",
          "model_module_version": "1.5.0",
          "state": {
            "_dom_classes": [],
            "_model_module": "@jupyter-widgets/controls",
            "_model_module_version": "1.5.0",
            "_model_name": "LabelModel",
            "_view_count": null,
            "_view_module": "@jupyter-widgets/controls",
            "_view_module_version": "1.5.0",
            "_view_name": "LabelView",
            "description": "",
            "description_tooltip": null,
            "layout": "IPY_MODEL_c489174f26834bcaa1dbcb22d204db89",
            "placeholder": "​",
            "style": "IPY_MODEL_340042c4bef542859e5045ef4613f9fe",
            "value": "0.707 MB of 0.707 MB uploaded (0.042 MB deduped)\r"
          }
        },
        "f31ae9f3f8bb4e12a1b024925abacb30": {
          "model_module": "@jupyter-widgets/controls",
          "model_name": "FloatProgressModel",
          "model_module_version": "1.5.0",
          "state": {
            "_dom_classes": [],
            "_model_module": "@jupyter-widgets/controls",
            "_model_module_version": "1.5.0",
            "_model_name": "FloatProgressModel",
            "_view_count": null,
            "_view_module": "@jupyter-widgets/controls",
            "_view_module_version": "1.5.0",
            "_view_name": "ProgressView",
            "bar_style": "",
            "description": "",
            "description_tooltip": null,
            "layout": "IPY_MODEL_b7bb8d91ef6e4124859f829c9264c898",
            "max": 1,
            "min": 0,
            "orientation": "horizontal",
            "style": "IPY_MODEL_40f3e6d7c58343329c86d58e56383c68",
            "value": 1
          }
        },
        "96630d6c7e734812ae29e8b87fb12281": {
          "model_module": "@jupyter-widgets/base",
          "model_name": "LayoutModel",
          "model_module_version": "1.2.0",
          "state": {
            "_model_module": "@jupyter-widgets/base",
            "_model_module_version": "1.2.0",
            "_model_name": "LayoutModel",
            "_view_count": null,
            "_view_module": "@jupyter-widgets/base",
            "_view_module_version": "1.2.0",
            "_view_name": "LayoutView",
            "align_content": null,
            "align_items": null,
            "align_self": null,
            "border": null,
            "bottom": null,
            "display": null,
            "flex": null,
            "flex_flow": null,
            "grid_area": null,
            "grid_auto_columns": null,
            "grid_auto_flow": null,
            "grid_auto_rows": null,
            "grid_column": null,
            "grid_gap": null,
            "grid_row": null,
            "grid_template_areas": null,
            "grid_template_columns": null,
            "grid_template_rows": null,
            "height": null,
            "justify_content": null,
            "justify_items": null,
            "left": null,
            "margin": null,
            "max_height": null,
            "max_width": null,
            "min_height": null,
            "min_width": null,
            "object_fit": null,
            "object_position": null,
            "order": null,
            "overflow": null,
            "overflow_x": null,
            "overflow_y": null,
            "padding": null,
            "right": null,
            "top": null,
            "visibility": null,
            "width": null
          }
        },
        "c489174f26834bcaa1dbcb22d204db89": {
          "model_module": "@jupyter-widgets/base",
          "model_name": "LayoutModel",
          "model_module_version": "1.2.0",
          "state": {
            "_model_module": "@jupyter-widgets/base",
            "_model_module_version": "1.2.0",
            "_model_name": "LayoutModel",
            "_view_count": null,
            "_view_module": "@jupyter-widgets/base",
            "_view_module_version": "1.2.0",
            "_view_name": "LayoutView",
            "align_content": null,
            "align_items": null,
            "align_self": null,
            "border": null,
            "bottom": null,
            "display": null,
            "flex": null,
            "flex_flow": null,
            "grid_area": null,
            "grid_auto_columns": null,
            "grid_auto_flow": null,
            "grid_auto_rows": null,
            "grid_column": null,
            "grid_gap": null,
            "grid_row": null,
            "grid_template_areas": null,
            "grid_template_columns": null,
            "grid_template_rows": null,
            "height": null,
            "justify_content": null,
            "justify_items": null,
            "left": null,
            "margin": null,
            "max_height": null,
            "max_width": null,
            "min_height": null,
            "min_width": null,
            "object_fit": null,
            "object_position": null,
            "order": null,
            "overflow": null,
            "overflow_x": null,
            "overflow_y": null,
            "padding": null,
            "right": null,
            "top": null,
            "visibility": null,
            "width": null
          }
        },
        "340042c4bef542859e5045ef4613f9fe": {
          "model_module": "@jupyter-widgets/controls",
          "model_name": "DescriptionStyleModel",
          "model_module_version": "1.5.0",
          "state": {
            "_model_module": "@jupyter-widgets/controls",
            "_model_module_version": "1.5.0",
            "_model_name": "DescriptionStyleModel",
            "_view_count": null,
            "_view_module": "@jupyter-widgets/base",
            "_view_module_version": "1.2.0",
            "_view_name": "StyleView",
            "description_width": ""
          }
        },
        "b7bb8d91ef6e4124859f829c9264c898": {
          "model_module": "@jupyter-widgets/base",
          "model_name": "LayoutModel",
          "model_module_version": "1.2.0",
          "state": {
            "_model_module": "@jupyter-widgets/base",
            "_model_module_version": "1.2.0",
            "_model_name": "LayoutModel",
            "_view_count": null,
            "_view_module": "@jupyter-widgets/base",
            "_view_module_version": "1.2.0",
            "_view_name": "LayoutView",
            "align_content": null,
            "align_items": null,
            "align_self": null,
            "border": null,
            "bottom": null,
            "display": null,
            "flex": null,
            "flex_flow": null,
            "grid_area": null,
            "grid_auto_columns": null,
            "grid_auto_flow": null,
            "grid_auto_rows": null,
            "grid_column": null,
            "grid_gap": null,
            "grid_row": null,
            "grid_template_areas": null,
            "grid_template_columns": null,
            "grid_template_rows": null,
            "height": null,
            "justify_content": null,
            "justify_items": null,
            "left": null,
            "margin": null,
            "max_height": null,
            "max_width": null,
            "min_height": null,
            "min_width": null,
            "object_fit": null,
            "object_position": null,
            "order": null,
            "overflow": null,
            "overflow_x": null,
            "overflow_y": null,
            "padding": null,
            "right": null,
            "top": null,
            "visibility": null,
            "width": null
          }
        },
        "40f3e6d7c58343329c86d58e56383c68": {
          "model_module": "@jupyter-widgets/controls",
          "model_name": "ProgressStyleModel",
          "model_module_version": "1.5.0",
          "state": {
            "_model_module": "@jupyter-widgets/controls",
            "_model_module_version": "1.5.0",
            "_model_name": "ProgressStyleModel",
            "_view_count": null,
            "_view_module": "@jupyter-widgets/base",
            "_view_module_version": "1.2.0",
            "_view_name": "StyleView",
            "bar_color": null,
            "description_width": ""
          }
        }
      }
    }
  },
  "nbformat": 4,
  "nbformat_minor": 0
}