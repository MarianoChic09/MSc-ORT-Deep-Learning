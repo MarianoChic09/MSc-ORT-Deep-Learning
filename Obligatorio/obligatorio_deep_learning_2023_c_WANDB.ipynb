{
  "cells": [
    {
      "cell_type": "markdown",
      "metadata": {
        "id": "A-IKUpIRO7_N"
      },
      "source": [
        "![AIRBNB](https://www.stevenridercpa.au/wp-content/uploads/2022/09/airbnb-tax.jpeg)"
      ]
    },
    {
      "cell_type": "markdown",
      "metadata": {
        "id": "wvWFGvW6O7_P"
      },
      "source": [
        "# Obligatorio de Deep Learning\n",
        "## Semestre 2 - 2023\n",
        "-------"
      ]
    },
    {
      "cell_type": "markdown",
      "metadata": {
        "id": "Y230kyNjO7_P"
      },
      "source": [
        "## Problema\n",
        "\n",
        "Se presenta un dataset que contiene información de alojamientos publicados en AirBnB con sus respectivos precios. El tamaño del dataset de train es de 1.5 Gb aproximadamente, y 0.5 Gb el de test. Este cuenta con 84 variables predictoras que se podrán utilizar como consideren adecuado.\n",
        "\n",
        "El objetivo es asignar el precio correcto a los alojamientos listados.\n",
        "\n",
        "Además del dataset se les provee esta notebook conteniendo el script de carga de datos y un modelo baseline que corresponde a una arquitectura feed forward.\n",
        "\n",
        "------"
      ]
    },
    {
      "cell_type": "markdown",
      "metadata": {
        "id": "O0wbKLG_O7_Q"
      },
      "source": [
        "## Consigna\n",
        "\n",
        "### A) <u>Participación en Competencia Kaggle</u>:\n",
        "El objetivo de este punto es participar en la competencia de Kaggle y obtener como mínimo un Mean Absolute Error inferior a 70 puntos. [->Link a la competencia<-](https://www.kaggle.com/t/69c648e3aa214d1f812bf2314c8d4ffa).\n",
        "\n",
        "### B) <u>Utilización de Grid Search (o equivalente)</u>:\n",
        "Para cumplir con la busqueda de modelos óptimos se debe realizar un grid search lo más abarcativo y metódico posible. Recomendamos enfáticamente [Weights and Biases](https://wandb.ai/site)\n",
        "\n",
        "### C) <u>Se debe a su vez investigar e implementar las siguientes técnicas</u>:\n",
        "#### 1. [Batch Normalization](https://machinelearningmastery.com/how-to-accelerate-learning-of-deep-neural-networks-with-batch-normalization/)\n",
        "#### 2. [Gradient Normalization y/o Gradient Clipping](https://machinelearningmastery.com/how-to-avoid-exploding-gradients-in-neural-networks-with-gradient-clipping/)\n",
        "\n",
        "\n",
        "Además como en todas las tareas se evaluará la prolijidad de la entrega, el preprocesamiento de datos, visualizaciones y exploración de técnicas alternativas."
      ]
    },
    {
      "cell_type": "markdown",
      "metadata": {
        "id": "9iaoqOjjO7_Q"
      },
      "source": [
        "-------"
      ]
    },
    {
      "cell_type": "code",
      "source": [
        "from google.colab import drive\n",
        "drive.mount('/content/drive')"
      ],
      "metadata": {
        "id": "TeJvT8iRPC4l",
        "outputId": "033f5922-a694-44da-f9cb-c8352bbe3b2d",
        "colab": {
          "base_uri": "https://localhost:8080/"
        }
      },
      "execution_count": 92,
      "outputs": [
        {
          "output_type": "stream",
          "name": "stdout",
          "text": [
            "Drive already mounted at /content/drive; to attempt to forcibly remount, call drive.mount(\"/content/drive\", force_remount=True).\n"
          ]
        }
      ]
    },
    {
      "cell_type": "markdown",
      "metadata": {
        "id": "wKSvbcSjO7_Q"
      },
      "source": [
        "## 1. Setup\n",
        "### 1.1 Imports"
      ]
    },
    {
      "cell_type": "code",
      "source": [
        "%cd /content/drive/MyDrive/Colab Notebooks/Datasets"
      ],
      "metadata": {
        "id": "Ntv1OfCFPON4",
        "outputId": "bb4ed3d4-9c43-4c6a-d517-b1ac57908954",
        "colab": {
          "base_uri": "https://localhost:8080/"
        }
      },
      "execution_count": 93,
      "outputs": [
        {
          "output_type": "stream",
          "name": "stdout",
          "text": [
            "/content/drive/MyDrive/Colab Notebooks/Datasets\n"
          ]
        }
      ]
    },
    {
      "cell_type": "code",
      "execution_count": 94,
      "metadata": {
        "id": "Whcv1sryO7_T"
      },
      "outputs": [],
      "source": [
        "import pandas as pd\n",
        "import numpy as np\n",
        "import tensorflow as tf\n",
        "import matplotlib.pyplot as plt\n",
        "import seaborn as sns\n",
        "from sklearn.model_selection import train_test_split"
      ]
    },
    {
      "cell_type": "markdown",
      "metadata": {
        "id": "r9pbFD39O7_U"
      },
      "source": [
        "### 1.2 Seteo de seeds"
      ]
    },
    {
      "cell_type": "code",
      "execution_count": 95,
      "metadata": {
        "id": "bxFQLSNzO7_U"
      },
      "outputs": [],
      "source": [
        "np.random.seed(117)\n",
        "tf.random.set_seed(117)"
      ]
    },
    {
      "cell_type": "markdown",
      "metadata": {
        "id": "N-GHRJXAO7_U"
      },
      "source": [
        "## 2. Carga de datos"
      ]
    },
    {
      "cell_type": "code",
      "execution_count": 168,
      "metadata": {
        "id": "bqdM3sv4O7_U"
      },
      "outputs": [],
      "source": [
        "file_path = './obligatorio_DL/public_train_data.csv'\n",
        "df = pd.read_csv(file_path)"
      ]
    },
    {
      "cell_type": "markdown",
      "metadata": {
        "id": "VhKvdfZOO7_U"
      },
      "source": [
        "##  3. Análisis exploratorio de datos\n",
        "### 3.1 Dimensiones"
      ]
    },
    {
      "cell_type": "code",
      "execution_count": 169,
      "metadata": {
        "id": "XmmIb2VmO7_V",
        "outputId": "34f52eb3-f0be-4ff9-d0c7-c2c5c8ed394b",
        "colab": {
          "base_uri": "https://localhost:8080/"
        }
      },
      "outputs": [
        {
          "output_type": "execute_result",
          "data": {
            "text/plain": [
              "(326287, 85)"
            ]
          },
          "metadata": {},
          "execution_count": 169
        }
      ],
      "source": [
        "df.shape"
      ]
    },
    {
      "cell_type": "markdown",
      "metadata": {
        "id": "R60VKhrQO7_V"
      },
      "source": [
        "### 3.2 Obtener información sobre las columnas y tipos de datos"
      ]
    },
    {
      "cell_type": "code",
      "execution_count": 170,
      "metadata": {
        "id": "2Lp-JkqZO7_V",
        "outputId": "0c44859a-6a02-48b2-c643-f6957ec9c15a",
        "colab": {
          "base_uri": "https://localhost:8080/"
        }
      },
      "outputs": [
        {
          "output_type": "stream",
          "name": "stdout",
          "text": [
            "<class 'pandas.core.frame.DataFrame'>\n",
            "RangeIndex: 326287 entries, 0 to 326286\n",
            "Data columns (total 85 columns):\n",
            " #   Column                          Non-Null Count   Dtype  \n",
            "---  ------                          --------------   -----  \n",
            " 0   id                              326287 non-null  int64  \n",
            " 1   Last Scraped                    326286 non-null  object \n",
            " 2   Name                            326018 non-null  object \n",
            " 3   Summary                         315651 non-null  object \n",
            " 4   Space                           228792 non-null  object \n",
            " 5   Description                     326188 non-null  object \n",
            " 6   Experiences Offered             326287 non-null  object \n",
            " 7   Neighborhood Overview           192513 non-null  object \n",
            " 8   Notes                           130729 non-null  object \n",
            " 9   Transit                         200649 non-null  object \n",
            " 10  Access                          177108 non-null  object \n",
            " 11  Interaction                     169193 non-null  object \n",
            " 12  House Rules                     195763 non-null  object \n",
            " 13  Thumbnail Url                   264638 non-null  object \n",
            " 14  Medium Url                      264637 non-null  object \n",
            " 15  Picture Url                     325786 non-null  object \n",
            " 16  XL Picture Url                  264638 non-null  object \n",
            " 17  Host ID                         326287 non-null  int64  \n",
            " 18  Host URL                        326287 non-null  object \n",
            " 19  Host Name                       325970 non-null  object \n",
            " 20  Host Since                      325970 non-null  object \n",
            " 21  Host Location                   324801 non-null  object \n",
            " 22  Host About                      195571 non-null  object \n",
            " 23  Host Response Time              250846 non-null  object \n",
            " 24  Host Response Rate              250845 non-null  float64\n",
            " 25  Host Acceptance Rate            27630 non-null   object \n",
            " 26  Host Thumbnail Url              325971 non-null  object \n",
            " 27  Host Picture Url                325971 non-null  object \n",
            " 28  Host Neighbourhood              244207 non-null  object \n",
            " 29  Host Listings Count             325971 non-null  float64\n",
            " 30  Host Total Listings Count       325970 non-null  float64\n",
            " 31  Host Verifications              325751 non-null  object \n",
            " 32  Street                          326287 non-null  object \n",
            " 33  Neighbourhood                   227447 non-null  object \n",
            " 34  Neighbourhood Cleansed          326287 non-null  object \n",
            " 35  Neighbourhood Group Cleansed    68297 non-null   object \n",
            " 36  City                            326004 non-null  object \n",
            " 37  State                           294992 non-null  object \n",
            " 38  Zipcode                         313815 non-null  object \n",
            " 39  Market                          322672 non-null  object \n",
            " 40  Smart Location                  326286 non-null  object \n",
            " 41  Country Code                    326286 non-null  object \n",
            " 42  Country                         326286 non-null  object \n",
            " 43  Latitude                        326287 non-null  float64\n",
            " 44  Longitude                       326287 non-null  float64\n",
            " 45  Property Type                   326280 non-null  object \n",
            " 46  Room Type                       326287 non-null  object \n",
            " 47  Accommodates                    326244 non-null  float64\n",
            " 48  Bathrooms                       325300 non-null  float64\n",
            " 49  Bedrooms                        325873 non-null  float64\n",
            " 50  Beds                            325693 non-null  float64\n",
            " 51  Bed Type                        326287 non-null  object \n",
            " 52  Amenities                       323399 non-null  object \n",
            " 53  Square Feet                     7993 non-null    float64\n",
            " 54  Security Deposit                136142 non-null  float64\n",
            " 55  Cleaning Fee                    208181 non-null  float64\n",
            " 56  Guests Included                 326286 non-null  float64\n",
            " 57  Extra People                    326274 non-null  float64\n",
            " 58  Minimum Nights                  326286 non-null  float64\n",
            " 59  Maximum Nights                  326286 non-null  float64\n",
            " 60  Calendar Updated                326287 non-null  object \n",
            " 61  Has Availability                6249 non-null    object \n",
            " 62  Availability 30                 326286 non-null  float64\n",
            " 63  Availability 60                 326286 non-null  float64\n",
            " 64  Availability 90                 326286 non-null  float64\n",
            " 65  Availability 365                326286 non-null  float64\n",
            " 66  Calendar last Scraped           326286 non-null  object \n",
            " 67  Number of Reviews               326286 non-null  float64\n",
            " 68  First Review                    246983 non-null  object \n",
            " 69  Last Review                     247046 non-null  object \n",
            " 70  Review Scores Rating            243160 non-null  float64\n",
            " 71  Review Scores Accuracy          242584 non-null  float64\n",
            " 72  Review Scores Cleanliness       242732 non-null  float64\n",
            " 73  Review Scores Checkin           242378 non-null  float64\n",
            " 74  Review Scores Communication     242710 non-null  float64\n",
            " 75  Review Scores Location          242423 non-null  float64\n",
            " 76  Review Scores Value             242347 non-null  float64\n",
            " 77  License                         9804 non-null    object \n",
            " 78  Jurisdiction Names              89415 non-null   object \n",
            " 79  Cancellation Policy             326286 non-null  object \n",
            " 80  Calculated host listings count  325689 non-null  float64\n",
            " 81  Reviews per Month               246983 non-null  float64\n",
            " 82  Geolocation                     326287 non-null  object \n",
            " 83  Features                        326092 non-null  object \n",
            " 84  Price                           326287 non-null  float64\n",
            "dtypes: float64(31), int64(2), object(52)\n",
            "memory usage: 211.6+ MB\n"
          ]
        }
      ],
      "source": [
        "df.info()"
      ]
    },
    {
      "cell_type": "markdown",
      "metadata": {
        "id": "YAdII-pqO7_V"
      },
      "source": [
        "### 3.3 Visualizar las primeras filas del dataset"
      ]
    },
    {
      "cell_type": "code",
      "execution_count": 171,
      "metadata": {
        "id": "KtBuUl1TO7_V",
        "outputId": "01754946-5f41-4605-ba08-18800d232d5e",
        "colab": {
          "base_uri": "https://localhost:8080/",
          "height": 557
        }
      },
      "outputs": [
        {
          "output_type": "execute_result",
          "data": {
            "text/plain": [
              "   id Last Scraped                                         Name  \\\n",
              "0   0   2017-05-12  Grand Loft in the heart of historic Antwerp   \n",
              "1   1   2017-05-03             CHARMING, CLEAN & COZY BUNGALOW!   \n",
              "2   2   2017-05-09                          la casa di maurizio   \n",
              "\n",
              "                                             Summary  \\\n",
              "0  Best location for visiting Antwerp!! Beautiful...   \n",
              "1  Very centrally located and less than 15 min fr...   \n",
              "2  nice apartment with view to via veneto , very ...   \n",
              "\n",
              "                                               Space  \\\n",
              "0  Welcome in Antwerp!! The loft is situated on t...   \n",
              "1       Well lit, private entrance with small patio.   \n",
              "2                                                NaN   \n",
              "\n",
              "                                         Description Experiences Offered  \\\n",
              "0  Best location for visiting Antwerp!! Beautiful...                none   \n",
              "1  Very centrally located and less than 15 min fr...                none   \n",
              "2  nice apartment with view to via veneto , very ...                none   \n",
              "\n",
              "                          Neighborhood Overview  \\\n",
              "0                                           NaN   \n",
              "1  Quiet. Pretty tree lined streets, safe area.   \n",
              "2                                           NaN   \n",
              "\n",
              "                                        Notes  \\\n",
              "0                                         NaN   \n",
              "1  Has dining table and high back desk chair.   \n",
              "2                                         NaN   \n",
              "\n",
              "                                             Transit  ...  \\\n",
              "0                                                NaN  ...   \n",
              "1  Uber, bus line and metro link is less than 5 m...  ...   \n",
              "2                                                NaN  ...   \n",
              "\n",
              "  Review Scores Location Review Scores Value License       Jurisdiction Names  \\\n",
              "0                   10.0                 9.0     NaN                      NaN   \n",
              "1                    NaN                 NaN     NaN  City of Los Angeles, CA   \n",
              "2                    NaN                 NaN     NaN                      NaN   \n",
              "\n",
              "  Cancellation Policy Calculated host listings count Reviews per Month  \\\n",
              "0              strict                            2.0               2.6   \n",
              "1            flexible                            1.0               NaN   \n",
              "2        flexible_new                            1.0               NaN   \n",
              "\n",
              "                             Geolocation  \\\n",
              "0  51.21938762207894, 4.4034442505151885   \n",
              "1  34.1892692286356, -118.41993491931177   \n",
              "2  41.90859623057272, 12.493518028459327   \n",
              "\n",
              "                                 Features  Price  \n",
              "0   Host Has Profile Pic,Instant Bookable  159.0  \n",
              "1  Host Has Profile Pic,Is Location Exact   49.0  \n",
              "2  Host Has Profile Pic,Is Location Exact   75.0  \n",
              "\n",
              "[3 rows x 85 columns]"
            ],
            "text/html": [
              "\n",
              "  <div id=\"df-6c1a81fe-1165-4ba8-a2e4-d81b1bea0d34\" class=\"colab-df-container\">\n",
              "    <div>\n",
              "<style scoped>\n",
              "    .dataframe tbody tr th:only-of-type {\n",
              "        vertical-align: middle;\n",
              "    }\n",
              "\n",
              "    .dataframe tbody tr th {\n",
              "        vertical-align: top;\n",
              "    }\n",
              "\n",
              "    .dataframe thead th {\n",
              "        text-align: right;\n",
              "    }\n",
              "</style>\n",
              "<table border=\"1\" class=\"dataframe\">\n",
              "  <thead>\n",
              "    <tr style=\"text-align: right;\">\n",
              "      <th></th>\n",
              "      <th>id</th>\n",
              "      <th>Last Scraped</th>\n",
              "      <th>Name</th>\n",
              "      <th>Summary</th>\n",
              "      <th>Space</th>\n",
              "      <th>Description</th>\n",
              "      <th>Experiences Offered</th>\n",
              "      <th>Neighborhood Overview</th>\n",
              "      <th>Notes</th>\n",
              "      <th>Transit</th>\n",
              "      <th>...</th>\n",
              "      <th>Review Scores Location</th>\n",
              "      <th>Review Scores Value</th>\n",
              "      <th>License</th>\n",
              "      <th>Jurisdiction Names</th>\n",
              "      <th>Cancellation Policy</th>\n",
              "      <th>Calculated host listings count</th>\n",
              "      <th>Reviews per Month</th>\n",
              "      <th>Geolocation</th>\n",
              "      <th>Features</th>\n",
              "      <th>Price</th>\n",
              "    </tr>\n",
              "  </thead>\n",
              "  <tbody>\n",
              "    <tr>\n",
              "      <th>0</th>\n",
              "      <td>0</td>\n",
              "      <td>2017-05-12</td>\n",
              "      <td>Grand Loft in the heart of historic Antwerp</td>\n",
              "      <td>Best location for visiting Antwerp!! Beautiful...</td>\n",
              "      <td>Welcome in Antwerp!! The loft is situated on t...</td>\n",
              "      <td>Best location for visiting Antwerp!! Beautiful...</td>\n",
              "      <td>none</td>\n",
              "      <td>NaN</td>\n",
              "      <td>NaN</td>\n",
              "      <td>NaN</td>\n",
              "      <td>...</td>\n",
              "      <td>10.0</td>\n",
              "      <td>9.0</td>\n",
              "      <td>NaN</td>\n",
              "      <td>NaN</td>\n",
              "      <td>strict</td>\n",
              "      <td>2.0</td>\n",
              "      <td>2.6</td>\n",
              "      <td>51.21938762207894, 4.4034442505151885</td>\n",
              "      <td>Host Has Profile Pic,Instant Bookable</td>\n",
              "      <td>159.0</td>\n",
              "    </tr>\n",
              "    <tr>\n",
              "      <th>1</th>\n",
              "      <td>1</td>\n",
              "      <td>2017-05-03</td>\n",
              "      <td>CHARMING, CLEAN &amp; COZY BUNGALOW!</td>\n",
              "      <td>Very centrally located and less than 15 min fr...</td>\n",
              "      <td>Well lit, private entrance with small patio.</td>\n",
              "      <td>Very centrally located and less than 15 min fr...</td>\n",
              "      <td>none</td>\n",
              "      <td>Quiet. Pretty tree lined streets, safe area.</td>\n",
              "      <td>Has dining table and high back desk chair.</td>\n",
              "      <td>Uber, bus line and metro link is less than 5 m...</td>\n",
              "      <td>...</td>\n",
              "      <td>NaN</td>\n",
              "      <td>NaN</td>\n",
              "      <td>NaN</td>\n",
              "      <td>City of Los Angeles, CA</td>\n",
              "      <td>flexible</td>\n",
              "      <td>1.0</td>\n",
              "      <td>NaN</td>\n",
              "      <td>34.1892692286356, -118.41993491931177</td>\n",
              "      <td>Host Has Profile Pic,Is Location Exact</td>\n",
              "      <td>49.0</td>\n",
              "    </tr>\n",
              "    <tr>\n",
              "      <th>2</th>\n",
              "      <td>2</td>\n",
              "      <td>2017-05-09</td>\n",
              "      <td>la casa di maurizio</td>\n",
              "      <td>nice apartment with view to via veneto , very ...</td>\n",
              "      <td>NaN</td>\n",
              "      <td>nice apartment with view to via veneto , very ...</td>\n",
              "      <td>none</td>\n",
              "      <td>NaN</td>\n",
              "      <td>NaN</td>\n",
              "      <td>NaN</td>\n",
              "      <td>...</td>\n",
              "      <td>NaN</td>\n",
              "      <td>NaN</td>\n",
              "      <td>NaN</td>\n",
              "      <td>NaN</td>\n",
              "      <td>flexible_new</td>\n",
              "      <td>1.0</td>\n",
              "      <td>NaN</td>\n",
              "      <td>41.90859623057272, 12.493518028459327</td>\n",
              "      <td>Host Has Profile Pic,Is Location Exact</td>\n",
              "      <td>75.0</td>\n",
              "    </tr>\n",
              "  </tbody>\n",
              "</table>\n",
              "<p>3 rows × 85 columns</p>\n",
              "</div>\n",
              "    <div class=\"colab-df-buttons\">\n",
              "\n",
              "  <div class=\"colab-df-container\">\n",
              "    <button class=\"colab-df-convert\" onclick=\"convertToInteractive('df-6c1a81fe-1165-4ba8-a2e4-d81b1bea0d34')\"\n",
              "            title=\"Convert this dataframe to an interactive table.\"\n",
              "            style=\"display:none;\">\n",
              "\n",
              "  <svg xmlns=\"http://www.w3.org/2000/svg\" height=\"24px\" viewBox=\"0 -960 960 960\">\n",
              "    <path d=\"M120-120v-720h720v720H120Zm60-500h600v-160H180v160Zm220 220h160v-160H400v160Zm0 220h160v-160H400v160ZM180-400h160v-160H180v160Zm440 0h160v-160H620v160ZM180-180h160v-160H180v160Zm440 0h160v-160H620v160Z\"/>\n",
              "  </svg>\n",
              "    </button>\n",
              "\n",
              "  <style>\n",
              "    .colab-df-container {\n",
              "      display:flex;\n",
              "      gap: 12px;\n",
              "    }\n",
              "\n",
              "    .colab-df-convert {\n",
              "      background-color: #E8F0FE;\n",
              "      border: none;\n",
              "      border-radius: 50%;\n",
              "      cursor: pointer;\n",
              "      display: none;\n",
              "      fill: #1967D2;\n",
              "      height: 32px;\n",
              "      padding: 0 0 0 0;\n",
              "      width: 32px;\n",
              "    }\n",
              "\n",
              "    .colab-df-convert:hover {\n",
              "      background-color: #E2EBFA;\n",
              "      box-shadow: 0px 1px 2px rgba(60, 64, 67, 0.3), 0px 1px 3px 1px rgba(60, 64, 67, 0.15);\n",
              "      fill: #174EA6;\n",
              "    }\n",
              "\n",
              "    .colab-df-buttons div {\n",
              "      margin-bottom: 4px;\n",
              "    }\n",
              "\n",
              "    [theme=dark] .colab-df-convert {\n",
              "      background-color: #3B4455;\n",
              "      fill: #D2E3FC;\n",
              "    }\n",
              "\n",
              "    [theme=dark] .colab-df-convert:hover {\n",
              "      background-color: #434B5C;\n",
              "      box-shadow: 0px 1px 3px 1px rgba(0, 0, 0, 0.15);\n",
              "      filter: drop-shadow(0px 1px 2px rgba(0, 0, 0, 0.3));\n",
              "      fill: #FFFFFF;\n",
              "    }\n",
              "  </style>\n",
              "\n",
              "    <script>\n",
              "      const buttonEl =\n",
              "        document.querySelector('#df-6c1a81fe-1165-4ba8-a2e4-d81b1bea0d34 button.colab-df-convert');\n",
              "      buttonEl.style.display =\n",
              "        google.colab.kernel.accessAllowed ? 'block' : 'none';\n",
              "\n",
              "      async function convertToInteractive(key) {\n",
              "        const element = document.querySelector('#df-6c1a81fe-1165-4ba8-a2e4-d81b1bea0d34');\n",
              "        const dataTable =\n",
              "          await google.colab.kernel.invokeFunction('convertToInteractive',\n",
              "                                                    [key], {});\n",
              "        if (!dataTable) return;\n",
              "\n",
              "        const docLinkHtml = 'Like what you see? Visit the ' +\n",
              "          '<a target=\"_blank\" href=https://colab.research.google.com/notebooks/data_table.ipynb>data table notebook</a>'\n",
              "          + ' to learn more about interactive tables.';\n",
              "        element.innerHTML = '';\n",
              "        dataTable['output_type'] = 'display_data';\n",
              "        await google.colab.output.renderOutput(dataTable, element);\n",
              "        const docLink = document.createElement('div');\n",
              "        docLink.innerHTML = docLinkHtml;\n",
              "        element.appendChild(docLink);\n",
              "      }\n",
              "    </script>\n",
              "  </div>\n",
              "\n",
              "\n",
              "<div id=\"df-134270d7-2edc-4995-b82a-b6ffa5f52375\">\n",
              "  <button class=\"colab-df-quickchart\" onclick=\"quickchart('df-134270d7-2edc-4995-b82a-b6ffa5f52375')\"\n",
              "            title=\"Suggest charts.\"\n",
              "            style=\"display:none;\">\n",
              "\n",
              "<svg xmlns=\"http://www.w3.org/2000/svg\" height=\"24px\"viewBox=\"0 0 24 24\"\n",
              "     width=\"24px\">\n",
              "    <g>\n",
              "        <path d=\"M19 3H5c-1.1 0-2 .9-2 2v14c0 1.1.9 2 2 2h14c1.1 0 2-.9 2-2V5c0-1.1-.9-2-2-2zM9 17H7v-7h2v7zm4 0h-2V7h2v10zm4 0h-2v-4h2v4z\"/>\n",
              "    </g>\n",
              "</svg>\n",
              "  </button>\n",
              "\n",
              "<style>\n",
              "  .colab-df-quickchart {\n",
              "      --bg-color: #E8F0FE;\n",
              "      --fill-color: #1967D2;\n",
              "      --hover-bg-color: #E2EBFA;\n",
              "      --hover-fill-color: #174EA6;\n",
              "      --disabled-fill-color: #AAA;\n",
              "      --disabled-bg-color: #DDD;\n",
              "  }\n",
              "\n",
              "  [theme=dark] .colab-df-quickchart {\n",
              "      --bg-color: #3B4455;\n",
              "      --fill-color: #D2E3FC;\n",
              "      --hover-bg-color: #434B5C;\n",
              "      --hover-fill-color: #FFFFFF;\n",
              "      --disabled-bg-color: #3B4455;\n",
              "      --disabled-fill-color: #666;\n",
              "  }\n",
              "\n",
              "  .colab-df-quickchart {\n",
              "    background-color: var(--bg-color);\n",
              "    border: none;\n",
              "    border-radius: 50%;\n",
              "    cursor: pointer;\n",
              "    display: none;\n",
              "    fill: var(--fill-color);\n",
              "    height: 32px;\n",
              "    padding: 0;\n",
              "    width: 32px;\n",
              "  }\n",
              "\n",
              "  .colab-df-quickchart:hover {\n",
              "    background-color: var(--hover-bg-color);\n",
              "    box-shadow: 0 1px 2px rgba(60, 64, 67, 0.3), 0 1px 3px 1px rgba(60, 64, 67, 0.15);\n",
              "    fill: var(--button-hover-fill-color);\n",
              "  }\n",
              "\n",
              "  .colab-df-quickchart-complete:disabled,\n",
              "  .colab-df-quickchart-complete:disabled:hover {\n",
              "    background-color: var(--disabled-bg-color);\n",
              "    fill: var(--disabled-fill-color);\n",
              "    box-shadow: none;\n",
              "  }\n",
              "\n",
              "  .colab-df-spinner {\n",
              "    border: 2px solid var(--fill-color);\n",
              "    border-color: transparent;\n",
              "    border-bottom-color: var(--fill-color);\n",
              "    animation:\n",
              "      spin 1s steps(1) infinite;\n",
              "  }\n",
              "\n",
              "  @keyframes spin {\n",
              "    0% {\n",
              "      border-color: transparent;\n",
              "      border-bottom-color: var(--fill-color);\n",
              "      border-left-color: var(--fill-color);\n",
              "    }\n",
              "    20% {\n",
              "      border-color: transparent;\n",
              "      border-left-color: var(--fill-color);\n",
              "      border-top-color: var(--fill-color);\n",
              "    }\n",
              "    30% {\n",
              "      border-color: transparent;\n",
              "      border-left-color: var(--fill-color);\n",
              "      border-top-color: var(--fill-color);\n",
              "      border-right-color: var(--fill-color);\n",
              "    }\n",
              "    40% {\n",
              "      border-color: transparent;\n",
              "      border-right-color: var(--fill-color);\n",
              "      border-top-color: var(--fill-color);\n",
              "    }\n",
              "    60% {\n",
              "      border-color: transparent;\n",
              "      border-right-color: var(--fill-color);\n",
              "    }\n",
              "    80% {\n",
              "      border-color: transparent;\n",
              "      border-right-color: var(--fill-color);\n",
              "      border-bottom-color: var(--fill-color);\n",
              "    }\n",
              "    90% {\n",
              "      border-color: transparent;\n",
              "      border-bottom-color: var(--fill-color);\n",
              "    }\n",
              "  }\n",
              "</style>\n",
              "\n",
              "  <script>\n",
              "    async function quickchart(key) {\n",
              "      const quickchartButtonEl =\n",
              "        document.querySelector('#' + key + ' button');\n",
              "      quickchartButtonEl.disabled = true;  // To prevent multiple clicks.\n",
              "      quickchartButtonEl.classList.add('colab-df-spinner');\n",
              "      try {\n",
              "        const charts = await google.colab.kernel.invokeFunction(\n",
              "            'suggestCharts', [key], {});\n",
              "      } catch (error) {\n",
              "        console.error('Error during call to suggestCharts:', error);\n",
              "      }\n",
              "      quickchartButtonEl.classList.remove('colab-df-spinner');\n",
              "      quickchartButtonEl.classList.add('colab-df-quickchart-complete');\n",
              "    }\n",
              "    (() => {\n",
              "      let quickchartButtonEl =\n",
              "        document.querySelector('#df-134270d7-2edc-4995-b82a-b6ffa5f52375 button');\n",
              "      quickchartButtonEl.style.display =\n",
              "        google.colab.kernel.accessAllowed ? 'block' : 'none';\n",
              "    })();\n",
              "  </script>\n",
              "</div>\n",
              "    </div>\n",
              "  </div>\n"
            ]
          },
          "metadata": {},
          "execution_count": 171
        }
      ],
      "source": [
        "df.head(3)"
      ]
    },
    {
      "cell_type": "markdown",
      "metadata": {
        "id": "fBWWhtzoO7_V"
      },
      "source": [
        "### 3.4 Estadísticas descriptivas"
      ]
    },
    {
      "cell_type": "code",
      "execution_count": 172,
      "metadata": {
        "id": "0qEeGOEMO7_V",
        "outputId": "970ef49b-f851-450f-d141-90ddd8d7acc4",
        "colab": {
          "base_uri": "https://localhost:8080/",
          "height": 401
        }
      },
      "outputs": [
        {
          "output_type": "execute_result",
          "data": {
            "text/plain": [
              "                  id       Host ID  Host Response Rate  Host Listings Count  \\\n",
              "count  326287.000000  3.262870e+05       250845.000000        325971.000000   \n",
              "mean   163143.000000  3.236757e+07           93.408264             9.586000   \n",
              "std     94191.087979  3.174572e+07           17.536835            57.399711   \n",
              "min         0.000000  1.900000e+01            0.000000             0.000000   \n",
              "25%     81571.500000  6.869780e+06           98.000000             1.000000   \n",
              "50%    163143.000000  2.186737e+07          100.000000             1.000000   \n",
              "75%    244714.500000  4.799166e+07          100.000000             3.000000   \n",
              "max    326286.000000  1.350885e+08          100.000000          1114.000000   \n",
              "\n",
              "       Host Total Listings Count       Latitude      Longitude   Accommodates  \\\n",
              "count              325970.000000  326287.000000  326287.000000  326244.000000   \n",
              "mean                    9.586026      38.042816     -15.323924       3.270764   \n",
              "std                    57.399797      22.910029      70.101677       2.037446   \n",
              "min                     0.000000     -38.224427    -123.218712       1.000000   \n",
              "25%                     1.000000      38.923154     -73.968081       2.000000   \n",
              "50%                     1.000000      42.304549       0.090277       2.000000   \n",
              "75%                     3.000000      50.863658      12.342749       4.000000   \n",
              "max                  1114.000000      55.994889     153.637837      18.000000   \n",
              "\n",
              "           Bathrooms       Bedrooms  ...  Review Scores Rating  \\\n",
              "count  325300.000000  325873.000000  ...         243160.000000   \n",
              "mean        1.239482       1.358072  ...             92.880063   \n",
              "std         0.574784       0.921763  ...              8.569521   \n",
              "min         0.000000       0.000000  ...             20.000000   \n",
              "25%         1.000000       1.000000  ...             90.000000   \n",
              "50%         1.000000       1.000000  ...             95.000000   \n",
              "75%         1.000000       2.000000  ...            100.000000   \n",
              "max         8.000000      96.000000  ...            100.000000   \n",
              "\n",
              "       Review Scores Accuracy  Review Scores Cleanliness  \\\n",
              "count           242584.000000              242732.000000   \n",
              "mean                 9.524713                   9.326067   \n",
              "std                  0.855361                   1.038858   \n",
              "min                  2.000000                   2.000000   \n",
              "25%                  9.000000                   9.000000   \n",
              "50%                 10.000000                  10.000000   \n",
              "75%                 10.000000                  10.000000   \n",
              "max                 10.000000                  10.000000   \n",
              "\n",
              "       Review Scores Checkin  Review Scores Communication  \\\n",
              "count          242378.000000                242710.000000   \n",
              "mean                9.691416                     9.708253   \n",
              "std                 0.731702                     0.723143   \n",
              "min                 2.000000                     2.000000   \n",
              "25%                10.000000                    10.000000   \n",
              "50%                10.000000                    10.000000   \n",
              "75%                10.000000                    10.000000   \n",
              "max                10.000000                    10.000000   \n",
              "\n",
              "       Review Scores Location  Review Scores Value  \\\n",
              "count           242423.000000        242347.000000   \n",
              "mean                 9.468215             9.321031   \n",
              "std                  0.805116             0.906478   \n",
              "min                  2.000000             2.000000   \n",
              "25%                  9.000000             9.000000   \n",
              "50%                 10.000000            10.000000   \n",
              "75%                 10.000000            10.000000   \n",
              "max                 10.000000            10.000000   \n",
              "\n",
              "       Calculated host listings count  Reviews per Month          Price  \n",
              "count                   325689.000000      246983.000000  326287.000000  \n",
              "mean                         6.881531           1.486211     138.229041  \n",
              "std                         42.025986           1.752082     149.790527  \n",
              "min                          1.000000           0.010000       0.000000  \n",
              "25%                          1.000000           0.320000      55.000000  \n",
              "50%                          1.000000           0.890000      90.000000  \n",
              "75%                          2.000000           2.040000     150.000000  \n",
              "max                        752.000000         223.000000     999.000000  \n",
              "\n",
              "[8 rows x 33 columns]"
            ],
            "text/html": [
              "\n",
              "  <div id=\"df-aef15167-ebfb-47eb-819a-895ed0e22299\" class=\"colab-df-container\">\n",
              "    <div>\n",
              "<style scoped>\n",
              "    .dataframe tbody tr th:only-of-type {\n",
              "        vertical-align: middle;\n",
              "    }\n",
              "\n",
              "    .dataframe tbody tr th {\n",
              "        vertical-align: top;\n",
              "    }\n",
              "\n",
              "    .dataframe thead th {\n",
              "        text-align: right;\n",
              "    }\n",
              "</style>\n",
              "<table border=\"1\" class=\"dataframe\">\n",
              "  <thead>\n",
              "    <tr style=\"text-align: right;\">\n",
              "      <th></th>\n",
              "      <th>id</th>\n",
              "      <th>Host ID</th>\n",
              "      <th>Host Response Rate</th>\n",
              "      <th>Host Listings Count</th>\n",
              "      <th>Host Total Listings Count</th>\n",
              "      <th>Latitude</th>\n",
              "      <th>Longitude</th>\n",
              "      <th>Accommodates</th>\n",
              "      <th>Bathrooms</th>\n",
              "      <th>Bedrooms</th>\n",
              "      <th>...</th>\n",
              "      <th>Review Scores Rating</th>\n",
              "      <th>Review Scores Accuracy</th>\n",
              "      <th>Review Scores Cleanliness</th>\n",
              "      <th>Review Scores Checkin</th>\n",
              "      <th>Review Scores Communication</th>\n",
              "      <th>Review Scores Location</th>\n",
              "      <th>Review Scores Value</th>\n",
              "      <th>Calculated host listings count</th>\n",
              "      <th>Reviews per Month</th>\n",
              "      <th>Price</th>\n",
              "    </tr>\n",
              "  </thead>\n",
              "  <tbody>\n",
              "    <tr>\n",
              "      <th>count</th>\n",
              "      <td>326287.000000</td>\n",
              "      <td>3.262870e+05</td>\n",
              "      <td>250845.000000</td>\n",
              "      <td>325971.000000</td>\n",
              "      <td>325970.000000</td>\n",
              "      <td>326287.000000</td>\n",
              "      <td>326287.000000</td>\n",
              "      <td>326244.000000</td>\n",
              "      <td>325300.000000</td>\n",
              "      <td>325873.000000</td>\n",
              "      <td>...</td>\n",
              "      <td>243160.000000</td>\n",
              "      <td>242584.000000</td>\n",
              "      <td>242732.000000</td>\n",
              "      <td>242378.000000</td>\n",
              "      <td>242710.000000</td>\n",
              "      <td>242423.000000</td>\n",
              "      <td>242347.000000</td>\n",
              "      <td>325689.000000</td>\n",
              "      <td>246983.000000</td>\n",
              "      <td>326287.000000</td>\n",
              "    </tr>\n",
              "    <tr>\n",
              "      <th>mean</th>\n",
              "      <td>163143.000000</td>\n",
              "      <td>3.236757e+07</td>\n",
              "      <td>93.408264</td>\n",
              "      <td>9.586000</td>\n",
              "      <td>9.586026</td>\n",
              "      <td>38.042816</td>\n",
              "      <td>-15.323924</td>\n",
              "      <td>3.270764</td>\n",
              "      <td>1.239482</td>\n",
              "      <td>1.358072</td>\n",
              "      <td>...</td>\n",
              "      <td>92.880063</td>\n",
              "      <td>9.524713</td>\n",
              "      <td>9.326067</td>\n",
              "      <td>9.691416</td>\n",
              "      <td>9.708253</td>\n",
              "      <td>9.468215</td>\n",
              "      <td>9.321031</td>\n",
              "      <td>6.881531</td>\n",
              "      <td>1.486211</td>\n",
              "      <td>138.229041</td>\n",
              "    </tr>\n",
              "    <tr>\n",
              "      <th>std</th>\n",
              "      <td>94191.087979</td>\n",
              "      <td>3.174572e+07</td>\n",
              "      <td>17.536835</td>\n",
              "      <td>57.399711</td>\n",
              "      <td>57.399797</td>\n",
              "      <td>22.910029</td>\n",
              "      <td>70.101677</td>\n",
              "      <td>2.037446</td>\n",
              "      <td>0.574784</td>\n",
              "      <td>0.921763</td>\n",
              "      <td>...</td>\n",
              "      <td>8.569521</td>\n",
              "      <td>0.855361</td>\n",
              "      <td>1.038858</td>\n",
              "      <td>0.731702</td>\n",
              "      <td>0.723143</td>\n",
              "      <td>0.805116</td>\n",
              "      <td>0.906478</td>\n",
              "      <td>42.025986</td>\n",
              "      <td>1.752082</td>\n",
              "      <td>149.790527</td>\n",
              "    </tr>\n",
              "    <tr>\n",
              "      <th>min</th>\n",
              "      <td>0.000000</td>\n",
              "      <td>1.900000e+01</td>\n",
              "      <td>0.000000</td>\n",
              "      <td>0.000000</td>\n",
              "      <td>0.000000</td>\n",
              "      <td>-38.224427</td>\n",
              "      <td>-123.218712</td>\n",
              "      <td>1.000000</td>\n",
              "      <td>0.000000</td>\n",
              "      <td>0.000000</td>\n",
              "      <td>...</td>\n",
              "      <td>20.000000</td>\n",
              "      <td>2.000000</td>\n",
              "      <td>2.000000</td>\n",
              "      <td>2.000000</td>\n",
              "      <td>2.000000</td>\n",
              "      <td>2.000000</td>\n",
              "      <td>2.000000</td>\n",
              "      <td>1.000000</td>\n",
              "      <td>0.010000</td>\n",
              "      <td>0.000000</td>\n",
              "    </tr>\n",
              "    <tr>\n",
              "      <th>25%</th>\n",
              "      <td>81571.500000</td>\n",
              "      <td>6.869780e+06</td>\n",
              "      <td>98.000000</td>\n",
              "      <td>1.000000</td>\n",
              "      <td>1.000000</td>\n",
              "      <td>38.923154</td>\n",
              "      <td>-73.968081</td>\n",
              "      <td>2.000000</td>\n",
              "      <td>1.000000</td>\n",
              "      <td>1.000000</td>\n",
              "      <td>...</td>\n",
              "      <td>90.000000</td>\n",
              "      <td>9.000000</td>\n",
              "      <td>9.000000</td>\n",
              "      <td>10.000000</td>\n",
              "      <td>10.000000</td>\n",
              "      <td>9.000000</td>\n",
              "      <td>9.000000</td>\n",
              "      <td>1.000000</td>\n",
              "      <td>0.320000</td>\n",
              "      <td>55.000000</td>\n",
              "    </tr>\n",
              "    <tr>\n",
              "      <th>50%</th>\n",
              "      <td>163143.000000</td>\n",
              "      <td>2.186737e+07</td>\n",
              "      <td>100.000000</td>\n",
              "      <td>1.000000</td>\n",
              "      <td>1.000000</td>\n",
              "      <td>42.304549</td>\n",
              "      <td>0.090277</td>\n",
              "      <td>2.000000</td>\n",
              "      <td>1.000000</td>\n",
              "      <td>1.000000</td>\n",
              "      <td>...</td>\n",
              "      <td>95.000000</td>\n",
              "      <td>10.000000</td>\n",
              "      <td>10.000000</td>\n",
              "      <td>10.000000</td>\n",
              "      <td>10.000000</td>\n",
              "      <td>10.000000</td>\n",
              "      <td>10.000000</td>\n",
              "      <td>1.000000</td>\n",
              "      <td>0.890000</td>\n",
              "      <td>90.000000</td>\n",
              "    </tr>\n",
              "    <tr>\n",
              "      <th>75%</th>\n",
              "      <td>244714.500000</td>\n",
              "      <td>4.799166e+07</td>\n",
              "      <td>100.000000</td>\n",
              "      <td>3.000000</td>\n",
              "      <td>3.000000</td>\n",
              "      <td>50.863658</td>\n",
              "      <td>12.342749</td>\n",
              "      <td>4.000000</td>\n",
              "      <td>1.000000</td>\n",
              "      <td>2.000000</td>\n",
              "      <td>...</td>\n",
              "      <td>100.000000</td>\n",
              "      <td>10.000000</td>\n",
              "      <td>10.000000</td>\n",
              "      <td>10.000000</td>\n",
              "      <td>10.000000</td>\n",
              "      <td>10.000000</td>\n",
              "      <td>10.000000</td>\n",
              "      <td>2.000000</td>\n",
              "      <td>2.040000</td>\n",
              "      <td>150.000000</td>\n",
              "    </tr>\n",
              "    <tr>\n",
              "      <th>max</th>\n",
              "      <td>326286.000000</td>\n",
              "      <td>1.350885e+08</td>\n",
              "      <td>100.000000</td>\n",
              "      <td>1114.000000</td>\n",
              "      <td>1114.000000</td>\n",
              "      <td>55.994889</td>\n",
              "      <td>153.637837</td>\n",
              "      <td>18.000000</td>\n",
              "      <td>8.000000</td>\n",
              "      <td>96.000000</td>\n",
              "      <td>...</td>\n",
              "      <td>100.000000</td>\n",
              "      <td>10.000000</td>\n",
              "      <td>10.000000</td>\n",
              "      <td>10.000000</td>\n",
              "      <td>10.000000</td>\n",
              "      <td>10.000000</td>\n",
              "      <td>10.000000</td>\n",
              "      <td>752.000000</td>\n",
              "      <td>223.000000</td>\n",
              "      <td>999.000000</td>\n",
              "    </tr>\n",
              "  </tbody>\n",
              "</table>\n",
              "<p>8 rows × 33 columns</p>\n",
              "</div>\n",
              "    <div class=\"colab-df-buttons\">\n",
              "\n",
              "  <div class=\"colab-df-container\">\n",
              "    <button class=\"colab-df-convert\" onclick=\"convertToInteractive('df-aef15167-ebfb-47eb-819a-895ed0e22299')\"\n",
              "            title=\"Convert this dataframe to an interactive table.\"\n",
              "            style=\"display:none;\">\n",
              "\n",
              "  <svg xmlns=\"http://www.w3.org/2000/svg\" height=\"24px\" viewBox=\"0 -960 960 960\">\n",
              "    <path d=\"M120-120v-720h720v720H120Zm60-500h600v-160H180v160Zm220 220h160v-160H400v160Zm0 220h160v-160H400v160ZM180-400h160v-160H180v160Zm440 0h160v-160H620v160ZM180-180h160v-160H180v160Zm440 0h160v-160H620v160Z\"/>\n",
              "  </svg>\n",
              "    </button>\n",
              "\n",
              "  <style>\n",
              "    .colab-df-container {\n",
              "      display:flex;\n",
              "      gap: 12px;\n",
              "    }\n",
              "\n",
              "    .colab-df-convert {\n",
              "      background-color: #E8F0FE;\n",
              "      border: none;\n",
              "      border-radius: 50%;\n",
              "      cursor: pointer;\n",
              "      display: none;\n",
              "      fill: #1967D2;\n",
              "      height: 32px;\n",
              "      padding: 0 0 0 0;\n",
              "      width: 32px;\n",
              "    }\n",
              "\n",
              "    .colab-df-convert:hover {\n",
              "      background-color: #E2EBFA;\n",
              "      box-shadow: 0px 1px 2px rgba(60, 64, 67, 0.3), 0px 1px 3px 1px rgba(60, 64, 67, 0.15);\n",
              "      fill: #174EA6;\n",
              "    }\n",
              "\n",
              "    .colab-df-buttons div {\n",
              "      margin-bottom: 4px;\n",
              "    }\n",
              "\n",
              "    [theme=dark] .colab-df-convert {\n",
              "      background-color: #3B4455;\n",
              "      fill: #D2E3FC;\n",
              "    }\n",
              "\n",
              "    [theme=dark] .colab-df-convert:hover {\n",
              "      background-color: #434B5C;\n",
              "      box-shadow: 0px 1px 3px 1px rgba(0, 0, 0, 0.15);\n",
              "      filter: drop-shadow(0px 1px 2px rgba(0, 0, 0, 0.3));\n",
              "      fill: #FFFFFF;\n",
              "    }\n",
              "  </style>\n",
              "\n",
              "    <script>\n",
              "      const buttonEl =\n",
              "        document.querySelector('#df-aef15167-ebfb-47eb-819a-895ed0e22299 button.colab-df-convert');\n",
              "      buttonEl.style.display =\n",
              "        google.colab.kernel.accessAllowed ? 'block' : 'none';\n",
              "\n",
              "      async function convertToInteractive(key) {\n",
              "        const element = document.querySelector('#df-aef15167-ebfb-47eb-819a-895ed0e22299');\n",
              "        const dataTable =\n",
              "          await google.colab.kernel.invokeFunction('convertToInteractive',\n",
              "                                                    [key], {});\n",
              "        if (!dataTable) return;\n",
              "\n",
              "        const docLinkHtml = 'Like what you see? Visit the ' +\n",
              "          '<a target=\"_blank\" href=https://colab.research.google.com/notebooks/data_table.ipynb>data table notebook</a>'\n",
              "          + ' to learn more about interactive tables.';\n",
              "        element.innerHTML = '';\n",
              "        dataTable['output_type'] = 'display_data';\n",
              "        await google.colab.output.renderOutput(dataTable, element);\n",
              "        const docLink = document.createElement('div');\n",
              "        docLink.innerHTML = docLinkHtml;\n",
              "        element.appendChild(docLink);\n",
              "      }\n",
              "    </script>\n",
              "  </div>\n",
              "\n",
              "\n",
              "<div id=\"df-16f45fff-3e57-44b6-b2c3-766126144156\">\n",
              "  <button class=\"colab-df-quickchart\" onclick=\"quickchart('df-16f45fff-3e57-44b6-b2c3-766126144156')\"\n",
              "            title=\"Suggest charts.\"\n",
              "            style=\"display:none;\">\n",
              "\n",
              "<svg xmlns=\"http://www.w3.org/2000/svg\" height=\"24px\"viewBox=\"0 0 24 24\"\n",
              "     width=\"24px\">\n",
              "    <g>\n",
              "        <path d=\"M19 3H5c-1.1 0-2 .9-2 2v14c0 1.1.9 2 2 2h14c1.1 0 2-.9 2-2V5c0-1.1-.9-2-2-2zM9 17H7v-7h2v7zm4 0h-2V7h2v10zm4 0h-2v-4h2v4z\"/>\n",
              "    </g>\n",
              "</svg>\n",
              "  </button>\n",
              "\n",
              "<style>\n",
              "  .colab-df-quickchart {\n",
              "      --bg-color: #E8F0FE;\n",
              "      --fill-color: #1967D2;\n",
              "      --hover-bg-color: #E2EBFA;\n",
              "      --hover-fill-color: #174EA6;\n",
              "      --disabled-fill-color: #AAA;\n",
              "      --disabled-bg-color: #DDD;\n",
              "  }\n",
              "\n",
              "  [theme=dark] .colab-df-quickchart {\n",
              "      --bg-color: #3B4455;\n",
              "      --fill-color: #D2E3FC;\n",
              "      --hover-bg-color: #434B5C;\n",
              "      --hover-fill-color: #FFFFFF;\n",
              "      --disabled-bg-color: #3B4455;\n",
              "      --disabled-fill-color: #666;\n",
              "  }\n",
              "\n",
              "  .colab-df-quickchart {\n",
              "    background-color: var(--bg-color);\n",
              "    border: none;\n",
              "    border-radius: 50%;\n",
              "    cursor: pointer;\n",
              "    display: none;\n",
              "    fill: var(--fill-color);\n",
              "    height: 32px;\n",
              "    padding: 0;\n",
              "    width: 32px;\n",
              "  }\n",
              "\n",
              "  .colab-df-quickchart:hover {\n",
              "    background-color: var(--hover-bg-color);\n",
              "    box-shadow: 0 1px 2px rgba(60, 64, 67, 0.3), 0 1px 3px 1px rgba(60, 64, 67, 0.15);\n",
              "    fill: var(--button-hover-fill-color);\n",
              "  }\n",
              "\n",
              "  .colab-df-quickchart-complete:disabled,\n",
              "  .colab-df-quickchart-complete:disabled:hover {\n",
              "    background-color: var(--disabled-bg-color);\n",
              "    fill: var(--disabled-fill-color);\n",
              "    box-shadow: none;\n",
              "  }\n",
              "\n",
              "  .colab-df-spinner {\n",
              "    border: 2px solid var(--fill-color);\n",
              "    border-color: transparent;\n",
              "    border-bottom-color: var(--fill-color);\n",
              "    animation:\n",
              "      spin 1s steps(1) infinite;\n",
              "  }\n",
              "\n",
              "  @keyframes spin {\n",
              "    0% {\n",
              "      border-color: transparent;\n",
              "      border-bottom-color: var(--fill-color);\n",
              "      border-left-color: var(--fill-color);\n",
              "    }\n",
              "    20% {\n",
              "      border-color: transparent;\n",
              "      border-left-color: var(--fill-color);\n",
              "      border-top-color: var(--fill-color);\n",
              "    }\n",
              "    30% {\n",
              "      border-color: transparent;\n",
              "      border-left-color: var(--fill-color);\n",
              "      border-top-color: var(--fill-color);\n",
              "      border-right-color: var(--fill-color);\n",
              "    }\n",
              "    40% {\n",
              "      border-color: transparent;\n",
              "      border-right-color: var(--fill-color);\n",
              "      border-top-color: var(--fill-color);\n",
              "    }\n",
              "    60% {\n",
              "      border-color: transparent;\n",
              "      border-right-color: var(--fill-color);\n",
              "    }\n",
              "    80% {\n",
              "      border-color: transparent;\n",
              "      border-right-color: var(--fill-color);\n",
              "      border-bottom-color: var(--fill-color);\n",
              "    }\n",
              "    90% {\n",
              "      border-color: transparent;\n",
              "      border-bottom-color: var(--fill-color);\n",
              "    }\n",
              "  }\n",
              "</style>\n",
              "\n",
              "  <script>\n",
              "    async function quickchart(key) {\n",
              "      const quickchartButtonEl =\n",
              "        document.querySelector('#' + key + ' button');\n",
              "      quickchartButtonEl.disabled = true;  // To prevent multiple clicks.\n",
              "      quickchartButtonEl.classList.add('colab-df-spinner');\n",
              "      try {\n",
              "        const charts = await google.colab.kernel.invokeFunction(\n",
              "            'suggestCharts', [key], {});\n",
              "      } catch (error) {\n",
              "        console.error('Error during call to suggestCharts:', error);\n",
              "      }\n",
              "      quickchartButtonEl.classList.remove('colab-df-spinner');\n",
              "      quickchartButtonEl.classList.add('colab-df-quickchart-complete');\n",
              "    }\n",
              "    (() => {\n",
              "      let quickchartButtonEl =\n",
              "        document.querySelector('#df-16f45fff-3e57-44b6-b2c3-766126144156 button');\n",
              "      quickchartButtonEl.style.display =\n",
              "        google.colab.kernel.accessAllowed ? 'block' : 'none';\n",
              "    })();\n",
              "  </script>\n",
              "</div>\n",
              "    </div>\n",
              "  </div>\n"
            ]
          },
          "metadata": {},
          "execution_count": 172
        }
      ],
      "source": [
        "df.describe()"
      ]
    },
    {
      "cell_type": "code",
      "execution_count": 173,
      "metadata": {
        "id": "LkP5LYdtO7_W",
        "outputId": "efd9af4c-ab29-40b3-eaea-111c4ab92e74",
        "colab": {
          "base_uri": "https://localhost:8080/"
        }
      },
      "outputs": [
        {
          "output_type": "execute_result",
          "data": {
            "text/plain": [
              "Index(['id', 'Last Scraped', 'Name', 'Summary', 'Space', 'Description',\n",
              "       'Experiences Offered', 'Neighborhood Overview', 'Notes', 'Transit',\n",
              "       'Access', 'Interaction', 'House Rules', 'Thumbnail Url', 'Medium Url',\n",
              "       'Picture Url', 'XL Picture Url', 'Host ID', 'Host URL', 'Host Name',\n",
              "       'Host Since', 'Host Location', 'Host About', 'Host Response Time',\n",
              "       'Host Response Rate', 'Host Acceptance Rate', 'Host Thumbnail Url',\n",
              "       'Host Picture Url', 'Host Neighbourhood', 'Host Listings Count',\n",
              "       'Host Total Listings Count', 'Host Verifications', 'Street',\n",
              "       'Neighbourhood', 'Neighbourhood Cleansed',\n",
              "       'Neighbourhood Group Cleansed', 'City', 'State', 'Zipcode', 'Market',\n",
              "       'Smart Location', 'Country Code', 'Country', 'Latitude', 'Longitude',\n",
              "       'Property Type', 'Room Type', 'Accommodates', 'Bathrooms', 'Bedrooms',\n",
              "       'Beds', 'Bed Type', 'Amenities', 'Square Feet', 'Security Deposit',\n",
              "       'Cleaning Fee', 'Guests Included', 'Extra People', 'Minimum Nights',\n",
              "       'Maximum Nights', 'Calendar Updated', 'Has Availability',\n",
              "       'Availability 30', 'Availability 60', 'Availability 90',\n",
              "       'Availability 365', 'Calendar last Scraped', 'Number of Reviews',\n",
              "       'First Review', 'Last Review', 'Review Scores Rating',\n",
              "       'Review Scores Accuracy', 'Review Scores Cleanliness',\n",
              "       'Review Scores Checkin', 'Review Scores Communication',\n",
              "       'Review Scores Location', 'Review Scores Value', 'License',\n",
              "       'Jurisdiction Names', 'Cancellation Policy',\n",
              "       'Calculated host listings count', 'Reviews per Month', 'Geolocation',\n",
              "       'Features', 'Price'],\n",
              "      dtype='object')"
            ]
          },
          "metadata": {},
          "execution_count": 173
        }
      ],
      "source": [
        "df.columns"
      ]
    },
    {
      "cell_type": "code",
      "source": [
        "df.shape"
      ],
      "metadata": {
        "id": "Wedud4uTQtiZ",
        "outputId": "8ede9891-0c40-4980-cc73-7c23ed0a369c",
        "colab": {
          "base_uri": "https://localhost:8080/"
        }
      },
      "execution_count": 174,
      "outputs": [
        {
          "output_type": "execute_result",
          "data": {
            "text/plain": [
              "(326287, 85)"
            ]
          },
          "metadata": {},
          "execution_count": 174
        }
      ]
    },
    {
      "cell_type": "code",
      "source": [
        "columnas_con_NaNs_mayores_a_50_porciento = df.columns[df.isnull().sum() > 0.5*df.shape[0]]\n",
        "columnas_con_NaNs_mayores_a_50_porciento"
      ],
      "metadata": {
        "id": "39pwwdfNQnY-",
        "outputId": "f43b6fa4-9a58-457a-fb6b-f965e6d0bc28",
        "colab": {
          "base_uri": "https://localhost:8080/"
        }
      },
      "execution_count": 175,
      "outputs": [
        {
          "output_type": "execute_result",
          "data": {
            "text/plain": [
              "Index(['Notes', 'Host Acceptance Rate', 'Neighbourhood Group Cleansed',\n",
              "       'Square Feet', 'Security Deposit', 'Has Availability', 'License',\n",
              "       'Jurisdiction Names'],\n",
              "      dtype='object')"
            ]
          },
          "metadata": {},
          "execution_count": 175
        }
      ]
    },
    {
      "cell_type": "markdown",
      "metadata": {
        "id": "zodYOpYRO7_W"
      },
      "source": [
        "## 4. Modelo Baseline"
      ]
    },
    {
      "cell_type": "markdown",
      "metadata": {
        "id": "Lq-FmVUKO7_W"
      },
      "source": [
        "### 4.1 Seleccionar características relevantes"
      ]
    },
    {
      "cell_type": "code",
      "source": [
        "drop_columns = list(columnas_con_NaNs_mayores_a_50_porciento)\n",
        "drop_columns.extend(['Host ID','Host URL','Price']) # Dropeo algunas columnas que no tienen sentido como el ID y el URL del host\n",
        "drop_columns"
      ],
      "metadata": {
        "id": "C0mY3hNkRw1y",
        "outputId": "14bfa712-8b3c-4ffe-c35a-2254d5767c4e",
        "colab": {
          "base_uri": "https://localhost:8080/"
        }
      },
      "execution_count": 176,
      "outputs": [
        {
          "output_type": "execute_result",
          "data": {
            "text/plain": [
              "['Notes',\n",
              " 'Host Acceptance Rate',\n",
              " 'Neighbourhood Group Cleansed',\n",
              " 'Square Feet',\n",
              " 'Security Deposit',\n",
              " 'Has Availability',\n",
              " 'License',\n",
              " 'Jurisdiction Names',\n",
              " 'Host ID',\n",
              " 'Host URL',\n",
              " 'Price']"
            ]
          },
          "metadata": {},
          "execution_count": 176
        }
      ]
    },
    {
      "cell_type": "code",
      "execution_count": 177,
      "metadata": {
        "id": "hM5ha5jvO7_W"
      },
      "outputs": [],
      "source": [
        "# features = ['Bathrooms', 'Bedrooms']  # Reemplaza con las características relevantes\n",
        "features = df.columns.drop(drop_columns)\n",
        "target = 'Price'\n",
        "df = df[[*features, target]]\n",
        "# df.dropna(inplace=True)"
      ]
    },
    {
      "cell_type": "code",
      "source": [
        "from sklearn.preprocessing import StandardScaler, OneHotEncoder\n",
        "from sklearn.compose import ColumnTransformer\n",
        "from sklearn.pipeline import Pipeline\n",
        "from sklearn.impute import SimpleImputer\n",
        "\n",
        "# Seleccion columnas numericas y categoricas\n",
        "# categorical_cols = df.select_dtypes(include=['object']).columns.tolist()\n",
        "numerical_cols = df.select_dtypes(include=['float64', 'int64']).columns.tolist()\n",
        "\n",
        "unique_counts = df.drop(numerical_cols,axis=1).nunique()\n",
        "\n",
        "# Filtro columnas que tienen un cantidad de valores unicos menores a 10\n",
        "categorical_cols = unique_counts[unique_counts < 10].index.tolist()\n",
        "\n",
        "# Calculo las filas que tienen una\n",
        "mean_string_length = df.apply(lambda col: col.dropna().astype(str).apply(len).mean())\n",
        "\n",
        "# Define los límites\n",
        "unique_value_limit = 20  # Por ejemplo, considera una columna categórica si tiene menos de 10 valores únicos\n",
        "string_length_limit = 20  # Por ejemplo, considera una columna de texto si la longitud media de la cadena es mayor que 20\n",
        "\n",
        "# Identifica las columnas categóricas y de texto\n",
        "categorical_cols = unique_counts[(unique_counts < unique_value_limit) & (mean_string_length < string_length_limit)].index.tolist()\n",
        "text_cols = unique_counts[(unique_counts >= unique_value_limit) | (mean_string_length >= string_length_limit)].index.tolist()\n",
        "\n",
        "\n",
        "# Defino pipeline de preprocesamiento numerico\n",
        "numeric_transformer = Pipeline(steps=[\n",
        "    ('imputer', SimpleImputer(strategy='mean')),\n",
        "    ('scaler', StandardScaler())])\n",
        "\n",
        "# Defino pipeline de preprocesamiento categorico\n",
        "categorical_transformer = Pipeline(steps=[\n",
        "    ('imputer', SimpleImputer(strategy='constant', fill_value='missing')),\n",
        "    ('onehot', OneHotEncoder(handle_unknown='error'))])\n",
        "\n",
        "# Create a column transformer\n",
        "preprocessor = ColumnTransformer(\n",
        "    transformers=[\n",
        "        ('num', numeric_transformer, numerical_cols),\n",
        "        ('cat', categorical_transformer, categorical_cols)])\n",
        "\n",
        "# Create a pipeline\n",
        "df_preprocessed = preprocessor.fit_transform(df)\n",
        "\n",
        "\n",
        "# Split data into training and test sets\n",
        "X = df_preprocessed\n",
        "y = df['Price']  # Ensure 'Price' is not included in the columns to be transformed\n",
        "X_train, X_test, y_train, y_test = train_test_split(X, y, test_size=0.2, random_state=0)"
      ],
      "metadata": {
        "id": "G56Z9oViXozk"
      },
      "execution_count": 190,
      "outputs": []
    },
    {
      "cell_type": "code",
      "source": [
        "text_cols"
      ],
      "metadata": {
        "id": "oxVxY7zsP64w",
        "outputId": "7ba0db2e-0854-4d9e-bd79-2e1165a3e955",
        "colab": {
          "base_uri": "https://localhost:8080/"
        }
      },
      "execution_count": 196,
      "outputs": [
        {
          "output_type": "execute_result",
          "data": {
            "text/plain": [
              "['Last Scraped',\n",
              " 'Name',\n",
              " 'Summary',\n",
              " 'Space',\n",
              " 'Description',\n",
              " 'Neighborhood Overview',\n",
              " 'Transit',\n",
              " 'Access',\n",
              " 'Interaction',\n",
              " 'House Rules',\n",
              " 'Thumbnail Url',\n",
              " 'Medium Url',\n",
              " 'Picture Url',\n",
              " 'XL Picture Url',\n",
              " 'Host Name',\n",
              " 'Host Since',\n",
              " 'Host Location',\n",
              " 'Host About',\n",
              " 'Host Thumbnail Url',\n",
              " 'Host Picture Url',\n",
              " 'Host Neighbourhood',\n",
              " 'Host Verifications',\n",
              " 'Street',\n",
              " 'Neighbourhood',\n",
              " 'Neighbourhood Cleansed',\n",
              " 'City',\n",
              " 'State',\n",
              " 'Zipcode',\n",
              " 'Market',\n",
              " 'Smart Location',\n",
              " 'Country Code',\n",
              " 'Country',\n",
              " 'Property Type',\n",
              " 'Amenities',\n",
              " 'Calendar Updated',\n",
              " 'Calendar last Scraped',\n",
              " 'First Review',\n",
              " 'Last Review',\n",
              " 'Geolocation',\n",
              " 'Features']"
            ]
          },
          "metadata": {},
          "execution_count": 196
        }
      ]
    },
    {
      "cell_type": "markdown",
      "metadata": {
        "id": "yBPTKQutO7_W"
      },
      "source": [
        "### 4.2 Dividir los datos en conjuntos de entrenamiento y prueba"
      ]
    },
    {
      "cell_type": "code",
      "execution_count": 139,
      "metadata": {
        "id": "zrtlkdi5O7_X"
      },
      "outputs": [],
      "source": [
        "X_train, X_test, y_train, y_test = train_test_split(X, y, test_size=0.2, random_state=42)"
      ]
    },
    {
      "cell_type": "markdown",
      "metadata": {
        "id": "FSemNtYBO7_X"
      },
      "source": [
        "### 4.3 Definir el modelo"
      ]
    },
    {
      "cell_type": "code",
      "execution_count": 140,
      "metadata": {
        "id": "gptVNCiyO7_X"
      },
      "outputs": [],
      "source": [
        "from tensorflow.keras import Sequential\n",
        "from tensorflow.keras.layers import Dense\n",
        "\n",
        "\n",
        "model = Sequential([\n",
        "    Dense(32, activation='relu', input_shape=(X_train.shape[1],)),\n",
        "    Dense(1, activation='relu')  # Capa de salida para la predicción del precio\n",
        "])\n",
        "\n",
        "model.compile(optimizer='adam', loss='mean_squared_error', metrics=['mae'])"
      ]
    },
    {
      "cell_type": "markdown",
      "metadata": {
        "id": "z879IPx3O7_X"
      },
      "source": [
        "### 4.4 Entrenar"
      ]
    },
    {
      "cell_type": "code",
      "execution_count": 146,
      "metadata": {
        "id": "5fU3vaIpO7_X",
        "outputId": "036a23f9-6ddd-43f8-8f91-b0f0b48e77cc",
        "colab": {
          "base_uri": "https://localhost:8080/",
          "height": 442
        }
      },
      "outputs": [
        {
          "output_type": "error",
          "ename": "ValueError",
          "evalue": "ignored",
          "traceback": [
            "\u001b[0;31m---------------------------------------------------------------------------\u001b[0m",
            "\u001b[0;31mValueError\u001b[0m                                Traceback (most recent call last)",
            "\u001b[0;32m<ipython-input-146-2b38b13a5ea1>\u001b[0m in \u001b[0;36m<cell line: 1>\u001b[0;34m()\u001b[0m\n\u001b[0;32m----> 1\u001b[0;31m \u001b[0mhistory\u001b[0m \u001b[0;34m=\u001b[0m \u001b[0mmodel\u001b[0m\u001b[0;34m.\u001b[0m\u001b[0mfit\u001b[0m\u001b[0;34m(\u001b[0m\u001b[0mX_train\u001b[0m\u001b[0;34m,\u001b[0m \u001b[0my_train\u001b[0m\u001b[0;34m,\u001b[0m \u001b[0mepochs\u001b[0m\u001b[0;34m=\u001b[0m\u001b[0;36m5\u001b[0m\u001b[0;34m,\u001b[0m \u001b[0mbatch_size\u001b[0m\u001b[0;34m=\u001b[0m\u001b[0;36m128\u001b[0m\u001b[0;34m,\u001b[0m \u001b[0mvalidation_split\u001b[0m\u001b[0;34m=\u001b[0m\u001b[0;36m0.2\u001b[0m\u001b[0;34m)\u001b[0m\u001b[0;34m.\u001b[0m\u001b[0mto\u001b[0m\u001b[0;34m(\u001b[0m\u001b[0mdevice\u001b[0m\u001b[0;34m)\u001b[0m\u001b[0;34m\u001b[0m\u001b[0;34m\u001b[0m\u001b[0m\n\u001b[0m",
            "\u001b[0;32m/usr/local/lib/python3.10/dist-packages/keras/src/utils/traceback_utils.py\u001b[0m in \u001b[0;36merror_handler\u001b[0;34m(*args, **kwargs)\u001b[0m\n\u001b[1;32m     68\u001b[0m             \u001b[0;31m# To get the full stack trace, call:\u001b[0m\u001b[0;34m\u001b[0m\u001b[0;34m\u001b[0m\u001b[0m\n\u001b[1;32m     69\u001b[0m             \u001b[0;31m# `tf.debugging.disable_traceback_filtering()`\u001b[0m\u001b[0;34m\u001b[0m\u001b[0;34m\u001b[0m\u001b[0m\n\u001b[0;32m---> 70\u001b[0;31m             \u001b[0;32mraise\u001b[0m \u001b[0me\u001b[0m\u001b[0;34m.\u001b[0m\u001b[0mwith_traceback\u001b[0m\u001b[0;34m(\u001b[0m\u001b[0mfiltered_tb\u001b[0m\u001b[0;34m)\u001b[0m \u001b[0;32mfrom\u001b[0m \u001b[0;32mNone\u001b[0m\u001b[0;34m\u001b[0m\u001b[0;34m\u001b[0m\u001b[0m\n\u001b[0m\u001b[1;32m     71\u001b[0m         \u001b[0;32mfinally\u001b[0m\u001b[0;34m:\u001b[0m\u001b[0;34m\u001b[0m\u001b[0;34m\u001b[0m\u001b[0m\n\u001b[1;32m     72\u001b[0m             \u001b[0;32mdel\u001b[0m \u001b[0mfiltered_tb\u001b[0m\u001b[0;34m\u001b[0m\u001b[0;34m\u001b[0m\u001b[0m\n",
            "\u001b[0;32m/usr/local/lib/python3.10/dist-packages/tensorflow/python/framework/constant_op.py\u001b[0m in \u001b[0;36mconvert_to_eager_tensor\u001b[0;34m(value, ctx, dtype)\u001b[0m\n\u001b[1;32m    100\u001b[0m       \u001b[0mdtype\u001b[0m \u001b[0;34m=\u001b[0m \u001b[0mdtypes\u001b[0m\u001b[0;34m.\u001b[0m\u001b[0mas_dtype\u001b[0m\u001b[0;34m(\u001b[0m\u001b[0mdtype\u001b[0m\u001b[0;34m)\u001b[0m\u001b[0;34m.\u001b[0m\u001b[0mas_datatype_enum\u001b[0m\u001b[0;34m\u001b[0m\u001b[0;34m\u001b[0m\u001b[0m\n\u001b[1;32m    101\u001b[0m   \u001b[0mctx\u001b[0m\u001b[0;34m.\u001b[0m\u001b[0mensure_initialized\u001b[0m\u001b[0;34m(\u001b[0m\u001b[0;34m)\u001b[0m\u001b[0;34m\u001b[0m\u001b[0;34m\u001b[0m\u001b[0m\n\u001b[0;32m--> 102\u001b[0;31m   \u001b[0;32mreturn\u001b[0m \u001b[0mops\u001b[0m\u001b[0;34m.\u001b[0m\u001b[0mEagerTensor\u001b[0m\u001b[0;34m(\u001b[0m\u001b[0mvalue\u001b[0m\u001b[0;34m,\u001b[0m \u001b[0mctx\u001b[0m\u001b[0;34m.\u001b[0m\u001b[0mdevice_name\u001b[0m\u001b[0;34m,\u001b[0m \u001b[0mdtype\u001b[0m\u001b[0;34m)\u001b[0m\u001b[0;34m\u001b[0m\u001b[0;34m\u001b[0m\u001b[0m\n\u001b[0m\u001b[1;32m    103\u001b[0m \u001b[0;34m\u001b[0m\u001b[0m\n\u001b[1;32m    104\u001b[0m \u001b[0;34m\u001b[0m\u001b[0m\n",
            "\u001b[0;31mValueError\u001b[0m: Failed to convert a NumPy array to a Tensor (Unsupported object type int)."
          ]
        }
      ],
      "source": [
        "history = model.fit(X_train, y_train, epochs=5, batch_size=128, validation_split=0.2)"
      ]
    },
    {
      "cell_type": "markdown",
      "metadata": {
        "id": "w_UMDxP3O7_X"
      },
      "source": [
        "### 4.5 Evaluar en Test"
      ]
    },
    {
      "cell_type": "code",
      "execution_count": 142,
      "metadata": {
        "id": "-YsNjembO7_X",
        "outputId": "46c3255a-67b5-4495-e6e9-fc97c0174754",
        "colab": {
          "base_uri": "https://localhost:8080/",
          "height": 338
        }
      },
      "outputs": [
        {
          "output_type": "error",
          "ename": "ValueError",
          "evalue": "ignored",
          "traceback": [
            "\u001b[0;31m---------------------------------------------------------------------------\u001b[0m",
            "\u001b[0;31mValueError\u001b[0m                                Traceback (most recent call last)",
            "\u001b[0;32m<ipython-input-142-85e7daee24b6>\u001b[0m in \u001b[0;36m<cell line: 1>\u001b[0;34m()\u001b[0m\n\u001b[0;32m----> 1\u001b[0;31m \u001b[0mloss\u001b[0m\u001b[0;34m,\u001b[0m \u001b[0mmae\u001b[0m \u001b[0;34m=\u001b[0m \u001b[0mmodel\u001b[0m\u001b[0;34m.\u001b[0m\u001b[0mevaluate\u001b[0m\u001b[0;34m(\u001b[0m\u001b[0mX_test\u001b[0m\u001b[0;34m,\u001b[0m \u001b[0my_test\u001b[0m\u001b[0;34m)\u001b[0m\u001b[0;34m\u001b[0m\u001b[0;34m\u001b[0m\u001b[0m\n\u001b[0m\u001b[1;32m      2\u001b[0m \u001b[0mprint\u001b[0m\u001b[0;34m(\u001b[0m\u001b[0;34mf'Test Loss: {loss}, Test MAE: {mae}'\u001b[0m\u001b[0;34m)\u001b[0m\u001b[0;34m\u001b[0m\u001b[0;34m\u001b[0m\u001b[0m\n",
            "\u001b[0;32m/usr/local/lib/python3.10/dist-packages/keras/src/utils/traceback_utils.py\u001b[0m in \u001b[0;36merror_handler\u001b[0;34m(*args, **kwargs)\u001b[0m\n\u001b[1;32m     68\u001b[0m             \u001b[0;31m# To get the full stack trace, call:\u001b[0m\u001b[0;34m\u001b[0m\u001b[0;34m\u001b[0m\u001b[0m\n\u001b[1;32m     69\u001b[0m             \u001b[0;31m# `tf.debugging.disable_traceback_filtering()`\u001b[0m\u001b[0;34m\u001b[0m\u001b[0;34m\u001b[0m\u001b[0m\n\u001b[0;32m---> 70\u001b[0;31m             \u001b[0;32mraise\u001b[0m \u001b[0me\u001b[0m\u001b[0;34m.\u001b[0m\u001b[0mwith_traceback\u001b[0m\u001b[0;34m(\u001b[0m\u001b[0mfiltered_tb\u001b[0m\u001b[0;34m)\u001b[0m \u001b[0;32mfrom\u001b[0m \u001b[0;32mNone\u001b[0m\u001b[0;34m\u001b[0m\u001b[0;34m\u001b[0m\u001b[0m\n\u001b[0m\u001b[1;32m     71\u001b[0m         \u001b[0;32mfinally\u001b[0m\u001b[0;34m:\u001b[0m\u001b[0;34m\u001b[0m\u001b[0;34m\u001b[0m\u001b[0m\n\u001b[1;32m     72\u001b[0m             \u001b[0;32mdel\u001b[0m \u001b[0mfiltered_tb\u001b[0m\u001b[0;34m\u001b[0m\u001b[0;34m\u001b[0m\u001b[0m\n",
            "\u001b[0;32m/usr/local/lib/python3.10/dist-packages/tensorflow/python/framework/constant_op.py\u001b[0m in \u001b[0;36mconvert_to_eager_tensor\u001b[0;34m(value, ctx, dtype)\u001b[0m\n\u001b[1;32m    100\u001b[0m       \u001b[0mdtype\u001b[0m \u001b[0;34m=\u001b[0m \u001b[0mdtypes\u001b[0m\u001b[0;34m.\u001b[0m\u001b[0mas_dtype\u001b[0m\u001b[0;34m(\u001b[0m\u001b[0mdtype\u001b[0m\u001b[0;34m)\u001b[0m\u001b[0;34m.\u001b[0m\u001b[0mas_datatype_enum\u001b[0m\u001b[0;34m\u001b[0m\u001b[0;34m\u001b[0m\u001b[0m\n\u001b[1;32m    101\u001b[0m   \u001b[0mctx\u001b[0m\u001b[0;34m.\u001b[0m\u001b[0mensure_initialized\u001b[0m\u001b[0;34m(\u001b[0m\u001b[0;34m)\u001b[0m\u001b[0;34m\u001b[0m\u001b[0;34m\u001b[0m\u001b[0m\n\u001b[0;32m--> 102\u001b[0;31m   \u001b[0;32mreturn\u001b[0m \u001b[0mops\u001b[0m\u001b[0;34m.\u001b[0m\u001b[0mEagerTensor\u001b[0m\u001b[0;34m(\u001b[0m\u001b[0mvalue\u001b[0m\u001b[0;34m,\u001b[0m \u001b[0mctx\u001b[0m\u001b[0;34m.\u001b[0m\u001b[0mdevice_name\u001b[0m\u001b[0;34m,\u001b[0m \u001b[0mdtype\u001b[0m\u001b[0;34m)\u001b[0m\u001b[0;34m\u001b[0m\u001b[0;34m\u001b[0m\u001b[0m\n\u001b[0m\u001b[1;32m    103\u001b[0m \u001b[0;34m\u001b[0m\u001b[0m\n\u001b[1;32m    104\u001b[0m \u001b[0;34m\u001b[0m\u001b[0m\n",
            "\u001b[0;31mValueError\u001b[0m: Failed to convert a NumPy array to a Tensor (Unsupported object type int)."
          ]
        }
      ],
      "source": [
        "loss, mae = model.evaluate(X_test, y_test)\n",
        "print(f'Test Loss: {loss}, Test MAE: {mae}')"
      ]
    },
    {
      "cell_type": "markdown",
      "metadata": {
        "id": "8P1lt_pIO7_Y"
      },
      "source": [
        "## 5 Generación de salida para competencia en Kaggle"
      ]
    },
    {
      "cell_type": "code",
      "execution_count": 143,
      "metadata": {
        "id": "zhCrQhrpO7_Y"
      },
      "outputs": [],
      "source": [
        "file_path2 = './obligatorio_DL/private_data_to_predict.csv'\n",
        "data_for_kaggle = pd.read_csv(file_path2)"
      ]
    },
    {
      "cell_type": "code",
      "execution_count": 144,
      "metadata": {
        "id": "r5-uWLrYO7_Y",
        "outputId": "dbf91d0a-c86e-4961-fcb5-ab0fdf2e448d",
        "colab": {
          "base_uri": "https://localhost:8080/",
          "height": 390
        }
      },
      "outputs": [
        {
          "output_type": "error",
          "ename": "ValueError",
          "evalue": "ignored",
          "traceback": [
            "\u001b[0;31m---------------------------------------------------------------------------\u001b[0m",
            "\u001b[0;31mValueError\u001b[0m                                Traceback (most recent call last)",
            "\u001b[0;32m<ipython-input-144-9bfd6def8bb6>\u001b[0m in \u001b[0;36m<cell line: 1>\u001b[0;34m()\u001b[0m\n\u001b[0;32m----> 1\u001b[0;31m \u001b[0mkaggle_results\u001b[0m \u001b[0;34m=\u001b[0m \u001b[0mmodel\u001b[0m\u001b[0;34m.\u001b[0m\u001b[0mpredict\u001b[0m\u001b[0;34m(\u001b[0m\u001b[0mdata_for_kaggle\u001b[0m\u001b[0;34m[\u001b[0m\u001b[0mfeatures\u001b[0m\u001b[0;34m]\u001b[0m\u001b[0;34m)\u001b[0m\u001b[0;34m\u001b[0m\u001b[0;34m\u001b[0m\u001b[0m\n\u001b[0m\u001b[1;32m      2\u001b[0m \u001b[0mtest_ids\u001b[0m \u001b[0;34m=\u001b[0m \u001b[0mdata_for_kaggle\u001b[0m\u001b[0;34m[\u001b[0m\u001b[0;34m'id'\u001b[0m\u001b[0;34m]\u001b[0m\u001b[0;34m\u001b[0m\u001b[0;34m\u001b[0m\u001b[0m\n\u001b[1;32m      3\u001b[0m \u001b[0mtest_ids\u001b[0m \u001b[0;34m=\u001b[0m \u001b[0mnp\u001b[0m\u001b[0;34m.\u001b[0m\u001b[0marray\u001b[0m\u001b[0;34m(\u001b[0m\u001b[0mtest_ids\u001b[0m\u001b[0;34m)\u001b[0m\u001b[0;34m.\u001b[0m\u001b[0mreshape\u001b[0m\u001b[0;34m(\u001b[0m\u001b[0;34m-\u001b[0m\u001b[0;36m1\u001b[0m\u001b[0;34m,\u001b[0m\u001b[0;36m1\u001b[0m\u001b[0;34m)\u001b[0m\u001b[0;34m\u001b[0m\u001b[0;34m\u001b[0m\u001b[0m\n\u001b[1;32m      4\u001b[0m \u001b[0moutput\u001b[0m \u001b[0;34m=\u001b[0m \u001b[0mnp\u001b[0m\u001b[0;34m.\u001b[0m\u001b[0mstack\u001b[0m\u001b[0;34m(\u001b[0m\u001b[0;34m(\u001b[0m\u001b[0mtest_ids\u001b[0m\u001b[0;34m,\u001b[0m \u001b[0mkaggle_results\u001b[0m\u001b[0;34m)\u001b[0m\u001b[0;34m,\u001b[0m \u001b[0maxis\u001b[0m\u001b[0;34m=\u001b[0m\u001b[0;34m-\u001b[0m\u001b[0;36m1\u001b[0m\u001b[0;34m)\u001b[0m\u001b[0;34m\u001b[0m\u001b[0;34m\u001b[0m\u001b[0m\n\u001b[1;32m      5\u001b[0m \u001b[0moutput\u001b[0m \u001b[0;34m=\u001b[0m \u001b[0moutput\u001b[0m\u001b[0;34m.\u001b[0m\u001b[0mreshape\u001b[0m\u001b[0;34m(\u001b[0m\u001b[0;34m[\u001b[0m\u001b[0;34m-\u001b[0m\u001b[0;36m1\u001b[0m\u001b[0;34m,\u001b[0m \u001b[0;36m2\u001b[0m\u001b[0;34m]\u001b[0m\u001b[0;34m)\u001b[0m\u001b[0;34m\u001b[0m\u001b[0;34m\u001b[0m\u001b[0m\n",
            "\u001b[0;32m/usr/local/lib/python3.10/dist-packages/keras/src/utils/traceback_utils.py\u001b[0m in \u001b[0;36merror_handler\u001b[0;34m(*args, **kwargs)\u001b[0m\n\u001b[1;32m     68\u001b[0m             \u001b[0;31m# To get the full stack trace, call:\u001b[0m\u001b[0;34m\u001b[0m\u001b[0;34m\u001b[0m\u001b[0m\n\u001b[1;32m     69\u001b[0m             \u001b[0;31m# `tf.debugging.disable_traceback_filtering()`\u001b[0m\u001b[0;34m\u001b[0m\u001b[0;34m\u001b[0m\u001b[0m\n\u001b[0;32m---> 70\u001b[0;31m             \u001b[0;32mraise\u001b[0m \u001b[0me\u001b[0m\u001b[0;34m.\u001b[0m\u001b[0mwith_traceback\u001b[0m\u001b[0;34m(\u001b[0m\u001b[0mfiltered_tb\u001b[0m\u001b[0;34m)\u001b[0m \u001b[0;32mfrom\u001b[0m \u001b[0;32mNone\u001b[0m\u001b[0;34m\u001b[0m\u001b[0;34m\u001b[0m\u001b[0m\n\u001b[0m\u001b[1;32m     71\u001b[0m         \u001b[0;32mfinally\u001b[0m\u001b[0;34m:\u001b[0m\u001b[0;34m\u001b[0m\u001b[0;34m\u001b[0m\u001b[0m\n\u001b[1;32m     72\u001b[0m             \u001b[0;32mdel\u001b[0m \u001b[0mfiltered_tb\u001b[0m\u001b[0;34m\u001b[0m\u001b[0;34m\u001b[0m\u001b[0m\n",
            "\u001b[0;32m/usr/local/lib/python3.10/dist-packages/tensorflow/python/framework/constant_op.py\u001b[0m in \u001b[0;36mconvert_to_eager_tensor\u001b[0;34m(value, ctx, dtype)\u001b[0m\n\u001b[1;32m    100\u001b[0m       \u001b[0mdtype\u001b[0m \u001b[0;34m=\u001b[0m \u001b[0mdtypes\u001b[0m\u001b[0;34m.\u001b[0m\u001b[0mas_dtype\u001b[0m\u001b[0;34m(\u001b[0m\u001b[0mdtype\u001b[0m\u001b[0;34m)\u001b[0m\u001b[0;34m.\u001b[0m\u001b[0mas_datatype_enum\u001b[0m\u001b[0;34m\u001b[0m\u001b[0;34m\u001b[0m\u001b[0m\n\u001b[1;32m    101\u001b[0m   \u001b[0mctx\u001b[0m\u001b[0;34m.\u001b[0m\u001b[0mensure_initialized\u001b[0m\u001b[0;34m(\u001b[0m\u001b[0;34m)\u001b[0m\u001b[0;34m\u001b[0m\u001b[0;34m\u001b[0m\u001b[0m\n\u001b[0;32m--> 102\u001b[0;31m   \u001b[0;32mreturn\u001b[0m \u001b[0mops\u001b[0m\u001b[0;34m.\u001b[0m\u001b[0mEagerTensor\u001b[0m\u001b[0;34m(\u001b[0m\u001b[0mvalue\u001b[0m\u001b[0;34m,\u001b[0m \u001b[0mctx\u001b[0m\u001b[0;34m.\u001b[0m\u001b[0mdevice_name\u001b[0m\u001b[0;34m,\u001b[0m \u001b[0mdtype\u001b[0m\u001b[0;34m)\u001b[0m\u001b[0;34m\u001b[0m\u001b[0;34m\u001b[0m\u001b[0m\n\u001b[0m\u001b[1;32m    103\u001b[0m \u001b[0;34m\u001b[0m\u001b[0m\n\u001b[1;32m    104\u001b[0m \u001b[0;34m\u001b[0m\u001b[0m\n",
            "\u001b[0;31mValueError\u001b[0m: Failed to convert a NumPy array to a Tensor (Unsupported object type int)."
          ]
        }
      ],
      "source": [
        "kaggle_results = model.predict(data_for_kaggle[features])\n",
        "test_ids = data_for_kaggle['id']\n",
        "test_ids = np.array(test_ids).reshape(-1,1)\n",
        "output = np.stack((test_ids, kaggle_results), axis=-1)\n",
        "output = output.reshape([-1, 2])\n",
        "df = pd.DataFrame(output)\n",
        "df.columns = ['id','expected']\n",
        "df['expected'] = df['expected'].fillna(0)\n",
        "df.to_csv(\"output_to_submit.csv\", index = False, index_label = False)\n"
      ]
    },
    {
      "cell_type": "markdown",
      "metadata": {
        "id": "8aSZZi55O7_Y"
      },
      "source": [
        "## 6 Ejemplo de uso de Weights and Biases"
      ]
    },
    {
      "cell_type": "code",
      "execution_count": null,
      "metadata": {
        "id": "Vg-HvLbPO7_Y"
      },
      "outputs": [],
      "source": [
        "from tensorflow.keras.layers import Dropout\n",
        "\n",
        "def get_model(neurons, optimizer, dropout):\n",
        "    layers = []\n",
        "    input_shape = (X_train.shape[1],)\n",
        "    for n in neurons:\n",
        "        layers.append(Dense(n, activation = \"relu\", input_shape = input_shape))\n",
        "        layers.append(Dropout(dropout))\n",
        "        input_shape = (n,)\n",
        "\n",
        "    model = Sequential(layers)\n",
        "    model.compile(optimizer = optimizer, loss='mean_squared_error', metrics=['mae'])\n",
        "    return model"
      ]
    },
    {
      "cell_type": "code",
      "execution_count": null,
      "metadata": {
        "id": "fsjBdUzFO7_Y"
      },
      "outputs": [],
      "source": [
        "# Import the W&B Python Library and log into W&B\n",
        "import wandb\n",
        "\n",
        "wandb.login()\n",
        "\n",
        "#Creamos un proyecto en WandB a través de su interfaz\n",
        "project = \"obligatorio_dl\"\n",
        "entity = \"franzmayr\""
      ]
    },
    {
      "cell_type": "code",
      "execution_count": null,
      "metadata": {
        "id": "IfRtDZM4O7_Y"
      },
      "outputs": [],
      "source": [
        "import traceback\n",
        "\n",
        "def run_train():\n",
        "    try:\n",
        "        with wandb.init(config = None, project = project, entity=entity):\n",
        "            # initialize model\n",
        "            config = wandb.config\n",
        "            print(config)\n",
        "            model= get_model(config.neurons, config.optimizer, config.dropout)\n",
        "            tf.keras.backend.clear_session()\n",
        "            wandb_callback = wandb.keras.WandbCallback()\n",
        "            model.fit(X_train, y_train, epochs=5, batch_size=128, validation_split=0.2, callbacks=[wandb_callback], max_queue_size=3, workers=2)\n",
        "\n",
        "    except Exception as e:\n",
        "        # exit gracefully, so wandb logs the problem\n",
        "        print(traceback.print_exc(), file=sys.stderr)\n",
        "        exit(1)"
      ]
    },
    {
      "cell_type": "code",
      "execution_count": null,
      "metadata": {
        "id": "_jHge6FaO7_i"
      },
      "outputs": [],
      "source": [
        "import pprint\n",
        "\n",
        "sweep_config = {\n",
        "'name': 'sweep_example',\n",
        "'method': 'grid',\n",
        "'metric': {\n",
        "    'name': 'val_loss',\n",
        "    'goal': 'minimize'\n",
        "},\n",
        "'parameters': {\n",
        "    'dropout':{'value': 0.1},\n",
        "    'neurons':{\n",
        "        'values': [[32,2],[64,32,2]]\n",
        "        },\n",
        "    'optimizer': {\n",
        "        'values': ['adam', 'sgd']\n",
        "        }\n",
        "}\n",
        "}\n",
        "\n",
        "pprint.pprint(sweep_config)"
      ]
    },
    {
      "cell_type": "code",
      "execution_count": null,
      "metadata": {
        "id": "cL_iJv3NO7_i"
      },
      "outputs": [],
      "source": [
        "sweep_id = wandb.sweep(sweep_config, project = project, entity = entity)"
      ]
    },
    {
      "cell_type": "code",
      "execution_count": null,
      "metadata": {
        "id": "v-8ZuAY3O7_i"
      },
      "outputs": [],
      "source": [
        "wandb.agent(sweep_id, function = run_train, count=10, project = project, entity = entity)"
      ]
    },
    {
      "cell_type": "code",
      "execution_count": null,
      "metadata": {
        "id": "ESfVkiLHO7_i"
      },
      "outputs": [],
      "source": []
    }
  ],
  "metadata": {
    "kernelspec": {
      "display_name": "taller_ai",
      "language": "python",
      "name": "python3"
    },
    "language_info": {
      "codemirror_mode": {
        "name": "ipython",
        "version": 3
      },
      "file_extension": ".py",
      "mimetype": "text/x-python",
      "name": "python",
      "nbconvert_exporter": "python",
      "pygments_lexer": "ipython3",
      "version": "3.9.16"
    },
    "orig_nbformat": 4,
    "colab": {
      "provenance": []
    }
  },
  "nbformat": 4,
  "nbformat_minor": 0
}