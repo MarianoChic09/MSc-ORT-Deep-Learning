{
 "cells": [
  {
   "cell_type": "markdown",
   "metadata": {},
   "source": [
    "![AIRBNB](https://www.stevenridercpa.au/wp-content/uploads/2022/09/airbnb-tax.jpeg)"
   ]
  },
  {
   "cell_type": "markdown",
   "metadata": {},
   "source": [
    "# Obligatorio de Deep Learning \n",
    "## Semestre 2 - 2023\n",
    "-------"
   ]
  },
  {
   "cell_type": "markdown",
   "metadata": {},
   "source": [
    "## Problema\n",
    "\n",
    "Se presenta un dataset que contiene información de alojamientos publicados en AirBnB con sus respectivos precios. El tamaño del dataset de train es de 1.5 Gb aproximadamente, y 0.5 Gb el de test. Este cuenta con 84 variables predictoras que se podrán utilizar como consideren adecuado.\n",
    "\n",
    "El objetivo es asignar el precio correcto a los alojamientos listados. \n",
    "\n",
    "Además del dataset se les provee esta notebook conteniendo el script de carga de datos y un modelo baseline que corresponde a una arquitectura feed forward.\n",
    "\n",
    "------"
   ]
  },
  {
   "cell_type": "markdown",
   "metadata": {},
   "source": [
    "## Consigna\n",
    "\n",
    "### A) <u>Participación en Competencia Kaggle</u>:\n",
    "El objetivo de este punto es participar en la competencia de Kaggle y obtener como mínimo un Mean Absolute Error inferior a 70 puntos. [->Link a la competencia<-](https://www.kaggle.com/t/69c648e3aa214d1f812bf2314c8d4ffa).\n",
    "\n",
    "### B) <u>Utilización de Grid Search (o equivalente)</u>:\n",
    "Para cumplir con la busqueda de modelos óptimos se debe realizar un grid search lo más abarcativo y metódico posible. Recomendamos enfáticamente [Weights and Biases](https://wandb.ai/site)\n",
    "\n",
    "### C) <u>Se debe a su vez investigar e implementar las siguientes técnicas</u>:\n",
    "#### 1. [Batch Normalization](https://machinelearningmastery.com/how-to-accelerate-learning-of-deep-neural-networks-with-batch-normalization/)\n",
    "#### 2. [Gradient Normalization y/o Gradient Clipping](https://machinelearningmastery.com/how-to-avoid-exploding-gradients-in-neural-networks-with-gradient-clipping/)\n",
    "\n",
    "\n",
    "Además como en todas las tareas se evaluará la prolijidad de la entrega, el preprocesamiento de datos, visualizaciones y exploración de técnicas alternativas. "
   ]
  },
  {
   "cell_type": "markdown",
   "metadata": {},
   "source": [
    "-------"
   ]
  },
  {
   "cell_type": "markdown",
   "metadata": {},
   "source": [
    "## 1. Setup\n",
    "### 1.1 Imports"
   ]
  },
  {
   "cell_type": "code",
   "execution_count": 1,
   "metadata": {},
   "outputs": [],
   "source": [
    "import pandas as pd\n",
    "import numpy as np\n",
    "import tensorflow as tf\n",
    "import matplotlib.pyplot as plt\n",
    "import seaborn as sns\n",
    "from sklearn.model_selection import train_test_split"
   ]
  },
  {
   "cell_type": "markdown",
   "metadata": {},
   "source": [
    "### 1.2 Seteo de seeds"
   ]
  },
  {
   "cell_type": "code",
   "execution_count": 2,
   "metadata": {},
   "outputs": [],
   "source": [
    "np.random.seed(117)\n",
    "tf.random.set_seed(117)"
   ]
  },
  {
   "cell_type": "markdown",
   "metadata": {},
   "source": [
    "## 2. Carga de datos"
   ]
  },
  {
   "cell_type": "code",
   "execution_count": 3,
   "metadata": {},
   "outputs": [],
   "source": [
    "file_path = './airbnb_data/public_train_data.csv'\n",
    "df = pd.read_csv(file_path)"
   ]
  },
  {
   "cell_type": "markdown",
   "metadata": {},
   "source": [
    "##  3. Análisis exploratorio de datos\n",
    "### 3.1 Dimensiones"
   ]
  },
  {
   "cell_type": "code",
   "execution_count": 4,
   "metadata": {},
   "outputs": [
    {
     "data": {
      "text/plain": [
       "(326287, 85)"
      ]
     },
     "execution_count": 4,
     "metadata": {},
     "output_type": "execute_result"
    }
   ],
   "source": [
    "df.shape"
   ]
  },
  {
   "cell_type": "markdown",
   "metadata": {},
   "source": [
    "### 3.2 Obtener información sobre las columnas y tipos de datos"
   ]
  },
  {
   "cell_type": "code",
   "execution_count": 5,
   "metadata": {},
   "outputs": [
    {
     "name": "stdout",
     "output_type": "stream",
     "text": [
      "<class 'pandas.core.frame.DataFrame'>\n",
      "RangeIndex: 326287 entries, 0 to 326286\n",
      "Data columns (total 85 columns):\n",
      " #   Column                          Non-Null Count   Dtype  \n",
      "---  ------                          --------------   -----  \n",
      " 0   id                              326287 non-null  int64  \n",
      " 1   Last Scraped                    326286 non-null  object \n",
      " 2   Name                            326018 non-null  object \n",
      " 3   Summary                         315651 non-null  object \n",
      " 4   Space                           228792 non-null  object \n",
      " 5   Description                     326188 non-null  object \n",
      " 6   Experiences Offered             326287 non-null  object \n",
      " 7   Neighborhood Overview           192513 non-null  object \n",
      " 8   Notes                           130729 non-null  object \n",
      " 9   Transit                         200649 non-null  object \n",
      " 10  Access                          177108 non-null  object \n",
      " 11  Interaction                     169193 non-null  object \n",
      " 12  House Rules                     195763 non-null  object \n",
      " 13  Thumbnail Url                   264638 non-null  object \n",
      " 14  Medium Url                      264637 non-null  object \n",
      " 15  Picture Url                     325786 non-null  object \n",
      " 16  XL Picture Url                  264638 non-null  object \n",
      " 17  Host ID                         326287 non-null  int64  \n",
      " 18  Host URL                        326287 non-null  object \n",
      " 19  Host Name                       325970 non-null  object \n",
      " 20  Host Since                      325970 non-null  object \n",
      " 21  Host Location                   324801 non-null  object \n",
      " 22  Host About                      195571 non-null  object \n",
      " 23  Host Response Time              250846 non-null  object \n",
      " 24  Host Response Rate              250845 non-null  float64\n",
      " 25  Host Acceptance Rate            27630 non-null   object \n",
      " 26  Host Thumbnail Url              325971 non-null  object \n",
      " 27  Host Picture Url                325971 non-null  object \n",
      " 28  Host Neighbourhood              244207 non-null  object \n",
      " 29  Host Listings Count             325971 non-null  float64\n",
      " 30  Host Total Listings Count       325970 non-null  float64\n",
      " 31  Host Verifications              325751 non-null  object \n",
      " 32  Street                          326287 non-null  object \n",
      " 33  Neighbourhood                   227447 non-null  object \n",
      " 34  Neighbourhood Cleansed          326287 non-null  object \n",
      " 35  Neighbourhood Group Cleansed    68297 non-null   object \n",
      " 36  City                            326004 non-null  object \n",
      " 37  State                           294992 non-null  object \n",
      " 38  Zipcode                         313815 non-null  object \n",
      " 39  Market                          322672 non-null  object \n",
      " 40  Smart Location                  326286 non-null  object \n",
      " 41  Country Code                    326286 non-null  object \n",
      " 42  Country                         326286 non-null  object \n",
      " 43  Latitude                        326287 non-null  float64\n",
      " 44  Longitude                       326287 non-null  float64\n",
      " 45  Property Type                   326280 non-null  object \n",
      " 46  Room Type                       326287 non-null  object \n",
      " 47  Accommodates                    326244 non-null  float64\n",
      " 48  Bathrooms                       325300 non-null  float64\n",
      " 49  Bedrooms                        325873 non-null  float64\n",
      " 50  Beds                            325693 non-null  float64\n",
      " 51  Bed Type                        326287 non-null  object \n",
      " 52  Amenities                       323399 non-null  object \n",
      " 53  Square Feet                     7993 non-null    float64\n",
      " 54  Security Deposit                136142 non-null  float64\n",
      " 55  Cleaning Fee                    208181 non-null  float64\n",
      " 56  Guests Included                 326286 non-null  float64\n",
      " 57  Extra People                    326274 non-null  float64\n",
      " 58  Minimum Nights                  326286 non-null  float64\n",
      " 59  Maximum Nights                  326286 non-null  float64\n",
      " 60  Calendar Updated                326287 non-null  object \n",
      " 61  Has Availability                6249 non-null    object \n",
      " 62  Availability 30                 326286 non-null  float64\n",
      " 63  Availability 60                 326286 non-null  float64\n",
      " 64  Availability 90                 326286 non-null  float64\n",
      " 65  Availability 365                326286 non-null  float64\n",
      " 66  Calendar last Scraped           326286 non-null  object \n",
      " 67  Number of Reviews               326286 non-null  float64\n",
      " 68  First Review                    246983 non-null  object \n",
      " 69  Last Review                     247046 non-null  object \n",
      " 70  Review Scores Rating            243160 non-null  float64\n",
      " 71  Review Scores Accuracy          242584 non-null  float64\n",
      " 72  Review Scores Cleanliness       242732 non-null  float64\n",
      " 73  Review Scores Checkin           242378 non-null  float64\n",
      " 74  Review Scores Communication     242710 non-null  float64\n",
      " 75  Review Scores Location          242423 non-null  float64\n",
      " 76  Review Scores Value             242347 non-null  float64\n",
      " 77  License                         9804 non-null    object \n",
      " 78  Jurisdiction Names              89415 non-null   object \n",
      " 79  Cancellation Policy             326286 non-null  object \n",
      " 80  Calculated host listings count  325689 non-null  float64\n",
      " 81  Reviews per Month               246983 non-null  float64\n",
      " 82  Geolocation                     326287 non-null  object \n",
      " 83  Features                        326092 non-null  object \n",
      " 84  Price                           326287 non-null  float64\n",
      "dtypes: float64(31), int64(2), object(52)\n",
      "memory usage: 211.6+ MB\n"
     ]
    }
   ],
   "source": [
    "df.info()"
   ]
  },
  {
   "cell_type": "markdown",
   "metadata": {},
   "source": [
    "### 3.3 Visualizar las primeras filas del dataset"
   ]
  },
  {
   "cell_type": "code",
   "execution_count": 6,
   "metadata": {},
   "outputs": [
    {
     "data": {
      "text/html": [
       "<div>\n",
       "<style scoped>\n",
       "    .dataframe tbody tr th:only-of-type {\n",
       "        vertical-align: middle;\n",
       "    }\n",
       "\n",
       "    .dataframe tbody tr th {\n",
       "        vertical-align: top;\n",
       "    }\n",
       "\n",
       "    .dataframe thead th {\n",
       "        text-align: right;\n",
       "    }\n",
       "</style>\n",
       "<table border=\"1\" class=\"dataframe\">\n",
       "  <thead>\n",
       "    <tr style=\"text-align: right;\">\n",
       "      <th></th>\n",
       "      <th>id</th>\n",
       "      <th>Last Scraped</th>\n",
       "      <th>Name</th>\n",
       "      <th>Summary</th>\n",
       "      <th>Space</th>\n",
       "      <th>Description</th>\n",
       "      <th>Experiences Offered</th>\n",
       "      <th>Neighborhood Overview</th>\n",
       "      <th>Notes</th>\n",
       "      <th>Transit</th>\n",
       "      <th>...</th>\n",
       "      <th>Review Scores Location</th>\n",
       "      <th>Review Scores Value</th>\n",
       "      <th>License</th>\n",
       "      <th>Jurisdiction Names</th>\n",
       "      <th>Cancellation Policy</th>\n",
       "      <th>Calculated host listings count</th>\n",
       "      <th>Reviews per Month</th>\n",
       "      <th>Geolocation</th>\n",
       "      <th>Features</th>\n",
       "      <th>Price</th>\n",
       "    </tr>\n",
       "  </thead>\n",
       "  <tbody>\n",
       "    <tr>\n",
       "      <th>0</th>\n",
       "      <td>0</td>\n",
       "      <td>2017-05-12</td>\n",
       "      <td>Grand Loft in the heart of historic Antwerp</td>\n",
       "      <td>Best location for visiting Antwerp!! Beautiful...</td>\n",
       "      <td>Welcome in Antwerp!! The loft is situated on t...</td>\n",
       "      <td>Best location for visiting Antwerp!! Beautiful...</td>\n",
       "      <td>none</td>\n",
       "      <td>NaN</td>\n",
       "      <td>NaN</td>\n",
       "      <td>NaN</td>\n",
       "      <td>...</td>\n",
       "      <td>10.0</td>\n",
       "      <td>9.0</td>\n",
       "      <td>NaN</td>\n",
       "      <td>NaN</td>\n",
       "      <td>strict</td>\n",
       "      <td>2.0</td>\n",
       "      <td>2.6</td>\n",
       "      <td>51.21938762207894, 4.4034442505151885</td>\n",
       "      <td>Host Has Profile Pic,Instant Bookable</td>\n",
       "      <td>159.0</td>\n",
       "    </tr>\n",
       "    <tr>\n",
       "      <th>1</th>\n",
       "      <td>1</td>\n",
       "      <td>2017-05-03</td>\n",
       "      <td>CHARMING, CLEAN &amp; COZY BUNGALOW!</td>\n",
       "      <td>Very centrally located and less than 15 min fr...</td>\n",
       "      <td>Well lit, private entrance with small patio.</td>\n",
       "      <td>Very centrally located and less than 15 min fr...</td>\n",
       "      <td>none</td>\n",
       "      <td>Quiet. Pretty tree lined streets, safe area.</td>\n",
       "      <td>Has dining table and high back desk chair.</td>\n",
       "      <td>Uber, bus line and metro link is less than 5 m...</td>\n",
       "      <td>...</td>\n",
       "      <td>NaN</td>\n",
       "      <td>NaN</td>\n",
       "      <td>NaN</td>\n",
       "      <td>City of Los Angeles, CA</td>\n",
       "      <td>flexible</td>\n",
       "      <td>1.0</td>\n",
       "      <td>NaN</td>\n",
       "      <td>34.1892692286356, -118.41993491931177</td>\n",
       "      <td>Host Has Profile Pic,Is Location Exact</td>\n",
       "      <td>49.0</td>\n",
       "    </tr>\n",
       "    <tr>\n",
       "      <th>2</th>\n",
       "      <td>2</td>\n",
       "      <td>2017-05-09</td>\n",
       "      <td>la casa di maurizio</td>\n",
       "      <td>nice apartment with view to via veneto , very ...</td>\n",
       "      <td>NaN</td>\n",
       "      <td>nice apartment with view to via veneto , very ...</td>\n",
       "      <td>none</td>\n",
       "      <td>NaN</td>\n",
       "      <td>NaN</td>\n",
       "      <td>NaN</td>\n",
       "      <td>...</td>\n",
       "      <td>NaN</td>\n",
       "      <td>NaN</td>\n",
       "      <td>NaN</td>\n",
       "      <td>NaN</td>\n",
       "      <td>flexible_new</td>\n",
       "      <td>1.0</td>\n",
       "      <td>NaN</td>\n",
       "      <td>41.90859623057272, 12.493518028459327</td>\n",
       "      <td>Host Has Profile Pic,Is Location Exact</td>\n",
       "      <td>75.0</td>\n",
       "    </tr>\n",
       "  </tbody>\n",
       "</table>\n",
       "<p>3 rows × 85 columns</p>\n",
       "</div>"
      ],
      "text/plain": [
       "   id Last Scraped                                         Name  \\\n",
       "0   0   2017-05-12  Grand Loft in the heart of historic Antwerp   \n",
       "1   1   2017-05-03             CHARMING, CLEAN & COZY BUNGALOW!   \n",
       "2   2   2017-05-09                          la casa di maurizio   \n",
       "\n",
       "                                             Summary  \\\n",
       "0  Best location for visiting Antwerp!! Beautiful...   \n",
       "1  Very centrally located and less than 15 min fr...   \n",
       "2  nice apartment with view to via veneto , very ...   \n",
       "\n",
       "                                               Space  \\\n",
       "0  Welcome in Antwerp!! The loft is situated on t...   \n",
       "1       Well lit, private entrance with small patio.   \n",
       "2                                                NaN   \n",
       "\n",
       "                                         Description Experiences Offered  \\\n",
       "0  Best location for visiting Antwerp!! Beautiful...                none   \n",
       "1  Very centrally located and less than 15 min fr...                none   \n",
       "2  nice apartment with view to via veneto , very ...                none   \n",
       "\n",
       "                          Neighborhood Overview  \\\n",
       "0                                           NaN   \n",
       "1  Quiet. Pretty tree lined streets, safe area.   \n",
       "2                                           NaN   \n",
       "\n",
       "                                        Notes  \\\n",
       "0                                         NaN   \n",
       "1  Has dining table and high back desk chair.   \n",
       "2                                         NaN   \n",
       "\n",
       "                                             Transit  ...  \\\n",
       "0                                                NaN  ...   \n",
       "1  Uber, bus line and metro link is less than 5 m...  ...   \n",
       "2                                                NaN  ...   \n",
       "\n",
       "  Review Scores Location Review Scores Value License       Jurisdiction Names  \\\n",
       "0                   10.0                 9.0     NaN                      NaN   \n",
       "1                    NaN                 NaN     NaN  City of Los Angeles, CA   \n",
       "2                    NaN                 NaN     NaN                      NaN   \n",
       "\n",
       "  Cancellation Policy Calculated host listings count Reviews per Month  \\\n",
       "0              strict                            2.0               2.6   \n",
       "1            flexible                            1.0               NaN   \n",
       "2        flexible_new                            1.0               NaN   \n",
       "\n",
       "                             Geolocation  \\\n",
       "0  51.21938762207894, 4.4034442505151885   \n",
       "1  34.1892692286356, -118.41993491931177   \n",
       "2  41.90859623057272, 12.493518028459327   \n",
       "\n",
       "                                 Features  Price  \n",
       "0   Host Has Profile Pic,Instant Bookable  159.0  \n",
       "1  Host Has Profile Pic,Is Location Exact   49.0  \n",
       "2  Host Has Profile Pic,Is Location Exact   75.0  \n",
       "\n",
       "[3 rows x 85 columns]"
      ]
     },
     "execution_count": 6,
     "metadata": {},
     "output_type": "execute_result"
    }
   ],
   "source": [
    "df.head(3)"
   ]
  },
  {
   "cell_type": "markdown",
   "metadata": {},
   "source": [
    "### 3.4 Estadísticas descriptivas"
   ]
  },
  {
   "cell_type": "code",
   "execution_count": 7,
   "metadata": {},
   "outputs": [
    {
     "data": {
      "text/html": [
       "<div>\n",
       "<style scoped>\n",
       "    .dataframe tbody tr th:only-of-type {\n",
       "        vertical-align: middle;\n",
       "    }\n",
       "\n",
       "    .dataframe tbody tr th {\n",
       "        vertical-align: top;\n",
       "    }\n",
       "\n",
       "    .dataframe thead th {\n",
       "        text-align: right;\n",
       "    }\n",
       "</style>\n",
       "<table border=\"1\" class=\"dataframe\">\n",
       "  <thead>\n",
       "    <tr style=\"text-align: right;\">\n",
       "      <th></th>\n",
       "      <th>id</th>\n",
       "      <th>Host ID</th>\n",
       "      <th>Host Response Rate</th>\n",
       "      <th>Host Listings Count</th>\n",
       "      <th>Host Total Listings Count</th>\n",
       "      <th>Latitude</th>\n",
       "      <th>Longitude</th>\n",
       "      <th>Accommodates</th>\n",
       "      <th>Bathrooms</th>\n",
       "      <th>Bedrooms</th>\n",
       "      <th>...</th>\n",
       "      <th>Review Scores Rating</th>\n",
       "      <th>Review Scores Accuracy</th>\n",
       "      <th>Review Scores Cleanliness</th>\n",
       "      <th>Review Scores Checkin</th>\n",
       "      <th>Review Scores Communication</th>\n",
       "      <th>Review Scores Location</th>\n",
       "      <th>Review Scores Value</th>\n",
       "      <th>Calculated host listings count</th>\n",
       "      <th>Reviews per Month</th>\n",
       "      <th>Price</th>\n",
       "    </tr>\n",
       "  </thead>\n",
       "  <tbody>\n",
       "    <tr>\n",
       "      <th>count</th>\n",
       "      <td>326287.000000</td>\n",
       "      <td>3.262870e+05</td>\n",
       "      <td>250845.000000</td>\n",
       "      <td>325971.000000</td>\n",
       "      <td>325970.000000</td>\n",
       "      <td>326287.000000</td>\n",
       "      <td>326287.000000</td>\n",
       "      <td>326244.000000</td>\n",
       "      <td>325300.000000</td>\n",
       "      <td>325873.000000</td>\n",
       "      <td>...</td>\n",
       "      <td>243160.000000</td>\n",
       "      <td>242584.000000</td>\n",
       "      <td>242732.000000</td>\n",
       "      <td>242378.000000</td>\n",
       "      <td>242710.000000</td>\n",
       "      <td>242423.000000</td>\n",
       "      <td>242347.000000</td>\n",
       "      <td>325689.000000</td>\n",
       "      <td>246983.000000</td>\n",
       "      <td>326287.000000</td>\n",
       "    </tr>\n",
       "    <tr>\n",
       "      <th>mean</th>\n",
       "      <td>163143.000000</td>\n",
       "      <td>3.236757e+07</td>\n",
       "      <td>93.408264</td>\n",
       "      <td>9.586000</td>\n",
       "      <td>9.586026</td>\n",
       "      <td>38.042816</td>\n",
       "      <td>-15.323924</td>\n",
       "      <td>3.270764</td>\n",
       "      <td>1.239482</td>\n",
       "      <td>1.358072</td>\n",
       "      <td>...</td>\n",
       "      <td>92.880063</td>\n",
       "      <td>9.524713</td>\n",
       "      <td>9.326067</td>\n",
       "      <td>9.691416</td>\n",
       "      <td>9.708253</td>\n",
       "      <td>9.468215</td>\n",
       "      <td>9.321031</td>\n",
       "      <td>6.881531</td>\n",
       "      <td>1.486211</td>\n",
       "      <td>138.229041</td>\n",
       "    </tr>\n",
       "    <tr>\n",
       "      <th>std</th>\n",
       "      <td>94191.087979</td>\n",
       "      <td>3.174572e+07</td>\n",
       "      <td>17.536835</td>\n",
       "      <td>57.399711</td>\n",
       "      <td>57.399797</td>\n",
       "      <td>22.910029</td>\n",
       "      <td>70.101677</td>\n",
       "      <td>2.037446</td>\n",
       "      <td>0.574784</td>\n",
       "      <td>0.921763</td>\n",
       "      <td>...</td>\n",
       "      <td>8.569521</td>\n",
       "      <td>0.855361</td>\n",
       "      <td>1.038858</td>\n",
       "      <td>0.731702</td>\n",
       "      <td>0.723143</td>\n",
       "      <td>0.805116</td>\n",
       "      <td>0.906478</td>\n",
       "      <td>42.025986</td>\n",
       "      <td>1.752082</td>\n",
       "      <td>149.790527</td>\n",
       "    </tr>\n",
       "    <tr>\n",
       "      <th>min</th>\n",
       "      <td>0.000000</td>\n",
       "      <td>1.900000e+01</td>\n",
       "      <td>0.000000</td>\n",
       "      <td>0.000000</td>\n",
       "      <td>0.000000</td>\n",
       "      <td>-38.224427</td>\n",
       "      <td>-123.218712</td>\n",
       "      <td>1.000000</td>\n",
       "      <td>0.000000</td>\n",
       "      <td>0.000000</td>\n",
       "      <td>...</td>\n",
       "      <td>20.000000</td>\n",
       "      <td>2.000000</td>\n",
       "      <td>2.000000</td>\n",
       "      <td>2.000000</td>\n",
       "      <td>2.000000</td>\n",
       "      <td>2.000000</td>\n",
       "      <td>2.000000</td>\n",
       "      <td>1.000000</td>\n",
       "      <td>0.010000</td>\n",
       "      <td>0.000000</td>\n",
       "    </tr>\n",
       "    <tr>\n",
       "      <th>25%</th>\n",
       "      <td>81571.500000</td>\n",
       "      <td>6.869780e+06</td>\n",
       "      <td>98.000000</td>\n",
       "      <td>1.000000</td>\n",
       "      <td>1.000000</td>\n",
       "      <td>38.923154</td>\n",
       "      <td>-73.968081</td>\n",
       "      <td>2.000000</td>\n",
       "      <td>1.000000</td>\n",
       "      <td>1.000000</td>\n",
       "      <td>...</td>\n",
       "      <td>90.000000</td>\n",
       "      <td>9.000000</td>\n",
       "      <td>9.000000</td>\n",
       "      <td>10.000000</td>\n",
       "      <td>10.000000</td>\n",
       "      <td>9.000000</td>\n",
       "      <td>9.000000</td>\n",
       "      <td>1.000000</td>\n",
       "      <td>0.320000</td>\n",
       "      <td>55.000000</td>\n",
       "    </tr>\n",
       "    <tr>\n",
       "      <th>50%</th>\n",
       "      <td>163143.000000</td>\n",
       "      <td>2.186737e+07</td>\n",
       "      <td>100.000000</td>\n",
       "      <td>1.000000</td>\n",
       "      <td>1.000000</td>\n",
       "      <td>42.304549</td>\n",
       "      <td>0.090277</td>\n",
       "      <td>2.000000</td>\n",
       "      <td>1.000000</td>\n",
       "      <td>1.000000</td>\n",
       "      <td>...</td>\n",
       "      <td>95.000000</td>\n",
       "      <td>10.000000</td>\n",
       "      <td>10.000000</td>\n",
       "      <td>10.000000</td>\n",
       "      <td>10.000000</td>\n",
       "      <td>10.000000</td>\n",
       "      <td>10.000000</td>\n",
       "      <td>1.000000</td>\n",
       "      <td>0.890000</td>\n",
       "      <td>90.000000</td>\n",
       "    </tr>\n",
       "    <tr>\n",
       "      <th>75%</th>\n",
       "      <td>244714.500000</td>\n",
       "      <td>4.799166e+07</td>\n",
       "      <td>100.000000</td>\n",
       "      <td>3.000000</td>\n",
       "      <td>3.000000</td>\n",
       "      <td>50.863658</td>\n",
       "      <td>12.342749</td>\n",
       "      <td>4.000000</td>\n",
       "      <td>1.000000</td>\n",
       "      <td>2.000000</td>\n",
       "      <td>...</td>\n",
       "      <td>100.000000</td>\n",
       "      <td>10.000000</td>\n",
       "      <td>10.000000</td>\n",
       "      <td>10.000000</td>\n",
       "      <td>10.000000</td>\n",
       "      <td>10.000000</td>\n",
       "      <td>10.000000</td>\n",
       "      <td>2.000000</td>\n",
       "      <td>2.040000</td>\n",
       "      <td>150.000000</td>\n",
       "    </tr>\n",
       "    <tr>\n",
       "      <th>max</th>\n",
       "      <td>326286.000000</td>\n",
       "      <td>1.350885e+08</td>\n",
       "      <td>100.000000</td>\n",
       "      <td>1114.000000</td>\n",
       "      <td>1114.000000</td>\n",
       "      <td>55.994889</td>\n",
       "      <td>153.637837</td>\n",
       "      <td>18.000000</td>\n",
       "      <td>8.000000</td>\n",
       "      <td>96.000000</td>\n",
       "      <td>...</td>\n",
       "      <td>100.000000</td>\n",
       "      <td>10.000000</td>\n",
       "      <td>10.000000</td>\n",
       "      <td>10.000000</td>\n",
       "      <td>10.000000</td>\n",
       "      <td>10.000000</td>\n",
       "      <td>10.000000</td>\n",
       "      <td>752.000000</td>\n",
       "      <td>223.000000</td>\n",
       "      <td>999.000000</td>\n",
       "    </tr>\n",
       "  </tbody>\n",
       "</table>\n",
       "<p>8 rows × 33 columns</p>\n",
       "</div>"
      ],
      "text/plain": [
       "                  id       Host ID  Host Response Rate  Host Listings Count  \\\n",
       "count  326287.000000  3.262870e+05       250845.000000        325971.000000   \n",
       "mean   163143.000000  3.236757e+07           93.408264             9.586000   \n",
       "std     94191.087979  3.174572e+07           17.536835            57.399711   \n",
       "min         0.000000  1.900000e+01            0.000000             0.000000   \n",
       "25%     81571.500000  6.869780e+06           98.000000             1.000000   \n",
       "50%    163143.000000  2.186737e+07          100.000000             1.000000   \n",
       "75%    244714.500000  4.799166e+07          100.000000             3.000000   \n",
       "max    326286.000000  1.350885e+08          100.000000          1114.000000   \n",
       "\n",
       "       Host Total Listings Count       Latitude      Longitude   Accommodates  \\\n",
       "count              325970.000000  326287.000000  326287.000000  326244.000000   \n",
       "mean                    9.586026      38.042816     -15.323924       3.270764   \n",
       "std                    57.399797      22.910029      70.101677       2.037446   \n",
       "min                     0.000000     -38.224427    -123.218712       1.000000   \n",
       "25%                     1.000000      38.923154     -73.968081       2.000000   \n",
       "50%                     1.000000      42.304549       0.090277       2.000000   \n",
       "75%                     3.000000      50.863658      12.342749       4.000000   \n",
       "max                  1114.000000      55.994889     153.637837      18.000000   \n",
       "\n",
       "           Bathrooms       Bedrooms  ...  Review Scores Rating  \\\n",
       "count  325300.000000  325873.000000  ...         243160.000000   \n",
       "mean        1.239482       1.358072  ...             92.880063   \n",
       "std         0.574784       0.921763  ...              8.569521   \n",
       "min         0.000000       0.000000  ...             20.000000   \n",
       "25%         1.000000       1.000000  ...             90.000000   \n",
       "50%         1.000000       1.000000  ...             95.000000   \n",
       "75%         1.000000       2.000000  ...            100.000000   \n",
       "max         8.000000      96.000000  ...            100.000000   \n",
       "\n",
       "       Review Scores Accuracy  Review Scores Cleanliness  \\\n",
       "count           242584.000000              242732.000000   \n",
       "mean                 9.524713                   9.326067   \n",
       "std                  0.855361                   1.038858   \n",
       "min                  2.000000                   2.000000   \n",
       "25%                  9.000000                   9.000000   \n",
       "50%                 10.000000                  10.000000   \n",
       "75%                 10.000000                  10.000000   \n",
       "max                 10.000000                  10.000000   \n",
       "\n",
       "       Review Scores Checkin  Review Scores Communication  \\\n",
       "count          242378.000000                242710.000000   \n",
       "mean                9.691416                     9.708253   \n",
       "std                 0.731702                     0.723143   \n",
       "min                 2.000000                     2.000000   \n",
       "25%                10.000000                    10.000000   \n",
       "50%                10.000000                    10.000000   \n",
       "75%                10.000000                    10.000000   \n",
       "max                10.000000                    10.000000   \n",
       "\n",
       "       Review Scores Location  Review Scores Value  \\\n",
       "count           242423.000000        242347.000000   \n",
       "mean                 9.468215             9.321031   \n",
       "std                  0.805116             0.906478   \n",
       "min                  2.000000             2.000000   \n",
       "25%                  9.000000             9.000000   \n",
       "50%                 10.000000            10.000000   \n",
       "75%                 10.000000            10.000000   \n",
       "max                 10.000000            10.000000   \n",
       "\n",
       "       Calculated host listings count  Reviews per Month          Price  \n",
       "count                   325689.000000      246983.000000  326287.000000  \n",
       "mean                         6.881531           1.486211     138.229041  \n",
       "std                         42.025986           1.752082     149.790527  \n",
       "min                          1.000000           0.010000       0.000000  \n",
       "25%                          1.000000           0.320000      55.000000  \n",
       "50%                          1.000000           0.890000      90.000000  \n",
       "75%                          2.000000           2.040000     150.000000  \n",
       "max                        752.000000         223.000000     999.000000  \n",
       "\n",
       "[8 rows x 33 columns]"
      ]
     },
     "execution_count": 7,
     "metadata": {},
     "output_type": "execute_result"
    }
   ],
   "source": [
    "df.describe()"
   ]
  },
  {
   "cell_type": "code",
   "execution_count": 8,
   "metadata": {},
   "outputs": [
    {
     "data": {
      "text/plain": [
       "Index(['id', 'Last Scraped', 'Name', 'Summary', 'Space', 'Description',\n",
       "       'Experiences Offered', 'Neighborhood Overview', 'Notes', 'Transit',\n",
       "       'Access', 'Interaction', 'House Rules', 'Thumbnail Url', 'Medium Url',\n",
       "       'Picture Url', 'XL Picture Url', 'Host ID', 'Host URL', 'Host Name',\n",
       "       'Host Since', 'Host Location', 'Host About', 'Host Response Time',\n",
       "       'Host Response Rate', 'Host Acceptance Rate', 'Host Thumbnail Url',\n",
       "       'Host Picture Url', 'Host Neighbourhood', 'Host Listings Count',\n",
       "       'Host Total Listings Count', 'Host Verifications', 'Street',\n",
       "       'Neighbourhood', 'Neighbourhood Cleansed',\n",
       "       'Neighbourhood Group Cleansed', 'City', 'State', 'Zipcode', 'Market',\n",
       "       'Smart Location', 'Country Code', 'Country', 'Latitude', 'Longitude',\n",
       "       'Property Type', 'Room Type', 'Accommodates', 'Bathrooms', 'Bedrooms',\n",
       "       'Beds', 'Bed Type', 'Amenities', 'Square Feet', 'Security Deposit',\n",
       "       'Cleaning Fee', 'Guests Included', 'Extra People', 'Minimum Nights',\n",
       "       'Maximum Nights', 'Calendar Updated', 'Has Availability',\n",
       "       'Availability 30', 'Availability 60', 'Availability 90',\n",
       "       'Availability 365', 'Calendar last Scraped', 'Number of Reviews',\n",
       "       'First Review', 'Last Review', 'Review Scores Rating',\n",
       "       'Review Scores Accuracy', 'Review Scores Cleanliness',\n",
       "       'Review Scores Checkin', 'Review Scores Communication',\n",
       "       'Review Scores Location', 'Review Scores Value', 'License',\n",
       "       'Jurisdiction Names', 'Cancellation Policy',\n",
       "       'Calculated host listings count', 'Reviews per Month', 'Geolocation',\n",
       "       'Features', 'Price'],\n",
       "      dtype='object')"
      ]
     },
     "execution_count": 8,
     "metadata": {},
     "output_type": "execute_result"
    }
   ],
   "source": [
    "df.columns"
   ]
  },
  {
   "cell_type": "markdown",
   "metadata": {},
   "source": [
    "## 4. Modelo Baseline"
   ]
  },
  {
   "cell_type": "markdown",
   "metadata": {},
   "source": [
    "### 4.1 Seleccionar características relevantes"
   ]
  },
  {
   "cell_type": "code",
   "execution_count": 24,
   "metadata": {},
   "outputs": [],
   "source": [
    "features = ['Bathrooms', 'Bedrooms']  # Reemplaza con las características relevantes\n",
    "target = 'Price' \n",
    "df = df[[*features, target]]\n",
    "df.dropna(inplace=True)"
   ]
  },
  {
   "cell_type": "code",
   "execution_count": 25,
   "metadata": {},
   "outputs": [],
   "source": [
    "X = df[features]\n",
    "y = df[target]"
   ]
  },
  {
   "cell_type": "markdown",
   "metadata": {},
   "source": [
    "### 4.2 Dividir los datos en conjuntos de entrenamiento y prueba"
   ]
  },
  {
   "cell_type": "code",
   "execution_count": 26,
   "metadata": {},
   "outputs": [],
   "source": [
    "X_train, X_test, y_train, y_test = train_test_split(X, y, test_size=0.2, random_state=42)"
   ]
  },
  {
   "cell_type": "markdown",
   "metadata": {},
   "source": [
    "### 4.3 Definir el modelo"
   ]
  },
  {
   "cell_type": "code",
   "execution_count": 28,
   "metadata": {},
   "outputs": [],
   "source": [
    "from tensorflow.keras import Sequential\n",
    "from tensorflow.keras.layers import Dense\n",
    "\n",
    "\n",
    "model = Sequential([\n",
    "    Dense(32, activation='relu', input_shape=(X_train.shape[1],)),\n",
    "    Dense(1, activation='relu')  # Capa de salida para la predicción del precio\n",
    "])\n",
    "\n",
    "model.compile(optimizer='adam', loss='mean_squared_error', metrics=['mae'])"
   ]
  },
  {
   "cell_type": "markdown",
   "metadata": {},
   "source": [
    "### 4.4 Entrenar"
   ]
  },
  {
   "cell_type": "code",
   "execution_count": 29,
   "metadata": {},
   "outputs": [
    {
     "name": "stdout",
     "output_type": "stream",
     "text": [
      "Epoch 1/5\n",
      "1625/1625 [==============================] - 15s 9ms/step - loss: 41578.1602 - mae: 138.2743 - val_loss: 41713.6055 - val_mae: 138.6367\n",
      "Epoch 2/5\n",
      "1625/1625 [==============================] - 12s 7ms/step - loss: 41578.1016 - mae: 138.2742 - val_loss: 41713.6055 - val_mae: 138.6367\n",
      "Epoch 3/5\n",
      "1625/1625 [==============================] - 10s 6ms/step - loss: 41578.1250 - mae: 138.2743 - val_loss: 41713.6055 - val_mae: 138.6367\n",
      "Epoch 4/5\n",
      "1625/1625 [==============================] - 10s 6ms/step - loss: 41578.1328 - mae: 138.2744 - val_loss: 41713.6055 - val_mae: 138.6367\n",
      "Epoch 5/5\n",
      "1625/1625 [==============================] - 11s 7ms/step - loss: 41578.1523 - mae: 138.2743 - val_loss: 41713.6055 - val_mae: 138.6367\n"
     ]
    }
   ],
   "source": [
    "history = model.fit(X_train, y_train, epochs=5, batch_size=128, validation_split=0.2)"
   ]
  },
  {
   "cell_type": "markdown",
   "metadata": {},
   "source": [
    "### 4.5 Evaluar en Test"
   ]
  },
  {
   "cell_type": "code",
   "execution_count": 30,
   "metadata": {},
   "outputs": [
    {
     "name": "stdout",
     "output_type": "stream",
     "text": [
      "2031/2031 [==============================] - 9s 4ms/step - loss: 41625.0781 - mae: 138.3116\n",
      "Test Loss: 41625.078125, Test MAE: 138.3116455078125\n"
     ]
    }
   ],
   "source": [
    "loss, mae = model.evaluate(X_test, y_test)\n",
    "print(f'Test Loss: {loss}, Test MAE: {mae}')"
   ]
  },
  {
   "cell_type": "markdown",
   "metadata": {},
   "source": [
    "## 5 Generación de salida para competencia en Kaggle"
   ]
  },
  {
   "cell_type": "code",
   "execution_count": 31,
   "metadata": {},
   "outputs": [],
   "source": [
    "file_path2 = './airbnb_data/private_data_to_predict.csv'\n",
    "data_for_kaggle = pd.read_csv(file_path2)"
   ]
  },
  {
   "cell_type": "code",
   "execution_count": 38,
   "metadata": {},
   "outputs": [
    {
     "name": "stdout",
     "output_type": "stream",
     "text": [
      "5023/5023 [==============================] - 12s 2ms/step\n"
     ]
    }
   ],
   "source": [
    "kaggle_results = model.predict(data_for_kaggle[features])\n",
    "test_ids = data_for_kaggle['id']\n",
    "test_ids = np.array(test_ids).reshape(-1,1)\n",
    "output = np.stack((test_ids, kaggle_results), axis=-1)\n",
    "output = output.reshape([-1, 2])\n",
    "df = pd.DataFrame(output)\n",
    "df.columns = ['id','expected']  \n",
    "df['expected'] = df['expected'].fillna(0)   \n",
    "df.to_csv(\"output_to_submit.csv\", index = False, index_label = False)\n"
   ]
  },
  {
   "cell_type": "code",
   "execution_count": null,
   "metadata": {},
   "outputs": [],
   "source": []
  }
 ],
 "metadata": {
  "kernelspec": {
   "display_name": "taller_ai",
   "language": "python",
   "name": "python3"
  },
  "language_info": {
   "codemirror_mode": {
    "name": "ipython",
    "version": 3
   },
   "file_extension": ".py",
   "mimetype": "text/x-python",
   "name": "python",
   "nbconvert_exporter": "python",
   "pygments_lexer": "ipython3",
   "version": "3.9.16"
  },
  "orig_nbformat": 4
 },
 "nbformat": 4,
 "nbformat_minor": 2
}
